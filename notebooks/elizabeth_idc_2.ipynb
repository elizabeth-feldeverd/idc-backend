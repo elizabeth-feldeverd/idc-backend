{
  "cells": [
    {
      "cell_type": "markdown",
      "metadata": {
        "id": "pqgvHbpcGOEu"
      },
      "source": [
        "# Invasive Ductal Cancer"
      ]
    },
    {
      "cell_type": "code",
      "execution_count": 1,
      "metadata": {
        "colab": {
          "base_uri": "https://localhost:8080/"
        },
        "id": "WubWNvJFGcaP",
        "outputId": "5c4d1484-29b6-4238-c773-1b44913cb965"
      },
      "outputs": [
        {
          "name": "stdout",
          "output_type": "stream",
          "text": [
            "Drive already mounted at /content/drive; to attempt to forcibly remount, call drive.mount(\"/content/drive\", force_remount=True).\n"
          ]
        }
      ],
      "source": [
        "from google.colab import drive\n",
        "drive.mount('/content/drive')\n",
        "# Resolve changes"
      ]
    },
    {
      "cell_type": "code",
      "execution_count": 2,
      "metadata": {
        "id": "oWpgoha_GOEw"
      },
      "outputs": [],
      "source": [
        "import numpy as np\n",
        "import pandas as pd\n",
        "import matplotlib.pyplot as plt\n",
        "from PIL import Image\n",
        "from tensorflow.keras.optimizers import Adam\n",
        "from tensorflow.keras import models\n",
        "from tensorflow.keras import Sequential, layers\n",
        "from tensorflow.keras.metrics import Recall, Precision\n",
        "from tensorflow.keras.callbacks import EarlyStopping\n",
        "from sklearn.model_selection import train_test_split\n",
        "from sklearn.metrics import precision_recall_curve\n",
        "from sklearn.metrics import recall_score, precision_score, f1_score\n",
        "from keras.wrappers.scikit_learn import KerasClassifier\n",
        "from sklearn.model_selection import GridSearchCV\n",
        "from keras.models import load_model"
      ]
    },
    {
      "cell_type": "code",
      "execution_count": null,
      "metadata": {
        "id": "V-xfZxl9GOEx"
      },
      "outputs": [],
      "source": [
        "# Running locally\n",
        "X = np.load('../idc/data/X.npy')\n",
        "y = np.load('../idc/data/Y.npy')"
      ]
    },
    {
      "cell_type": "code",
      "execution_count": 3,
      "metadata": {
        "id": "H4EsAsPhHkSk"
      },
      "outputs": [],
      "source": [
        "# Running in Colab\n",
        "X = np.load('/content/drive/MyDrive/Colab Notebooks/data/X.npy')\n",
        "y = np.load('/content/drive/MyDrive/Colab Notebooks/data/Y.npy')"
      ]
    },
    {
      "cell_type": "code",
      "execution_count": 4,
      "metadata": {
        "colab": {
          "base_uri": "https://localhost:8080/"
        },
        "id": "DJQvisqoGOEx",
        "outputId": "95a652de-6d9e-41a9-82ce-edd272f60056"
      },
      "outputs": [
        {
          "data": {
            "text/plain": [
              "(5547, 50, 50, 3)"
            ]
          },
          "execution_count": 4,
          "metadata": {},
          "output_type": "execute_result"
        }
      ],
      "source": [
        "X.shape"
      ]
    },
    {
      "cell_type": "code",
      "execution_count": 5,
      "metadata": {
        "colab": {
          "base_uri": "https://localhost:8080/"
        },
        "id": "BNtE-PI-GOEy",
        "outputId": "32ae6e50-b4f6-429c-95d0-20a3ea1fe0e7"
      },
      "outputs": [
        {
          "data": {
            "text/plain": [
              "(5547,)"
            ]
          },
          "execution_count": 5,
          "metadata": {},
          "output_type": "execute_result"
        }
      ],
      "source": [
        "y.shape"
      ]
    },
    {
      "cell_type": "markdown",
      "metadata": {
        "id": "XI7WSW3oGOEz"
      },
      "source": [
        "## CNN Model Evaluation"
      ]
    },
    {
      "cell_type": "code",
      "execution_count": 6,
      "metadata": {
        "id": "PjTg6SglGOEz"
      },
      "outputs": [],
      "source": [
        "X_scaled = X/255"
      ]
    },
    {
      "cell_type": "code",
      "execution_count": 7,
      "metadata": {
        "id": "HpqV-UsXGOE0"
      },
      "outputs": [],
      "source": [
        "X_train, X_test, y_train, y_test = train_test_split(X_scaled, y, test_size=0.2, random_state=1)"
      ]
    },
    {
      "cell_type": "code",
      "execution_count": 33,
      "metadata": {
        "id": "QeQaCFFYbhee"
      },
      "outputs": [],
      "source": [
        "def init_model(learning_rate=0.001, kernel_size=(2,2)):\n",
        "  model = models.Sequential()\n",
        "  model.add(layers.Conv2D(64, kernel_size=kernel_size, input_shape=(50, 50, 3), padding='same', activation=\"relu\"))\n",
        "  model.add(layers.Conv2D(32, kernel_size=kernel_size, padding='same', activation=\"relu\"))\n",
        "  model.add(layers.Conv2D(16, kernel_size=kernel_size, padding='same', activation=\"relu\"))\n",
        "  model.add(layers.Flatten())\n",
        "  model.add(layers.Dense(1, activation='sigmoid'))\n",
        "  optimizer = Adam(learning_rate=learning_rate)\n",
        "  model.compile(loss='binary_crossentropy',\n",
        "              optimizer=optimizer,\n",
        "              metrics=['accuracy', Recall(thresholds=0.35), Precision(thresholds=0.35)])\n",
        " \n",
        "  return model"
      ]
    },
    {
      "cell_type": "code",
      "execution_count": 34,
      "metadata": {
        "colab": {
          "base_uri": "https://localhost:8080/"
        },
        "id": "KJDxqKFqbhU9",
        "outputId": "6c3b8889-04b2-44d3-ef91-38ffe84ce8a1"
      },
      "outputs": [
        {
          "name": "stderr",
          "output_type": "stream",
          "text": [
            "/usr/local/lib/python3.7/dist-packages/ipykernel_launcher.py:1: DeprecationWarning: KerasClassifier is deprecated, use Sci-Keras (https://github.com/adriangb/scikeras) instead.\n",
            "  \"\"\"Entry point for launching an IPython kernel.\n",
            "/usr/local/lib/python3.7/dist-packages/joblib/externals/loky/process_executor.py:705: UserWarning: A worker stopped while some jobs were given to the executor. This can be caused by a too short worker timeout or by a memory leak.\n",
            "  \"timeout or by a memory leak.\", UserWarning\n"
          ]
        },
        {
          "name": "stdout",
          "output_type": "stream",
          "text": [
            "139/139 [==============================] - 4s 20ms/step - loss: 0.5956 - accuracy: 0.6851 - recall_4: 0.8648 - precision_4: 0.6132\n"
          ]
        }
      ],
      "source": [
        "model = KerasClassifier(build_fn=init_model)\n",
        "\n",
        "batch_size = [32, 64, 128]\n",
        "learning_rate = [0.0001, 0.001, 0.01]\n",
        "kernel_size = [(2,2), (3,3), (4,4), (5,5)]\n",
        "param_grid = dict(learning_rate=learning_rate, batch_size=batch_size, kernel_size=kernel_size)\n",
        "\n",
        "grid = GridSearchCV(estimator=model, param_grid=param_grid, n_jobs=-1, cv=5)\n",
        "grid_result = grid.fit(X_train, y_train)"
      ]
    },
    {
      "cell_type": "code",
      "execution_count": 35,
      "metadata": {
        "colab": {
          "base_uri": "https://localhost:8080/"
        },
        "id": "sHv1wJmSyCsK",
        "outputId": "41c45fa5-e8e5-480d-fad2-974e0e1b211a"
      },
      "outputs": [
        {
          "name": "stdout",
          "output_type": "stream",
          "text": [
            "Best: 0.697763 using {'batch_size': 32, 'kernel_size': (2, 2), 'learning_rate': 0.001}\n",
            "0.673649 (0.016804) with: {'batch_size': 32, 'kernel_size': (2, 2), 'learning_rate': 0.0001}\n",
            "0.697763 (0.034585) with: {'batch_size': 32, 'kernel_size': (2, 2), 'learning_rate': 0.001}\n",
            "0.558962 (0.064853) with: {'batch_size': 32, 'kernel_size': (2, 2), 'learning_rate': 0.01}\n",
            "0.687403 (0.019345) with: {'batch_size': 32, 'kernel_size': (3, 3), 'learning_rate': 0.0001}\n",
            "0.606912 (0.077411) with: {'batch_size': 32, 'kernel_size': (3, 3), 'learning_rate': 0.001}\n",
            "0.499436 (0.011656) with: {'batch_size': 32, 'kernel_size': (3, 3), 'learning_rate': 0.01}\n",
            "0.652930 (0.044857) with: {'batch_size': 32, 'kernel_size': (4, 4), 'learning_rate': 0.0001}\n",
            "0.618439 (0.090037) with: {'batch_size': 32, 'kernel_size': (4, 4), 'learning_rate': 0.001}\n",
            "0.499436 (0.011656) with: {'batch_size': 32, 'kernel_size': (4, 4), 'learning_rate': 0.01}\n",
            "0.696873 (0.020059) with: {'batch_size': 32, 'kernel_size': (5, 5), 'learning_rate': 0.0001}\n",
            "0.544740 (0.029242) with: {'batch_size': 32, 'kernel_size': (5, 5), 'learning_rate': 0.001}\n",
            "0.499436 (0.011656) with: {'batch_size': 32, 'kernel_size': (5, 5), 'learning_rate': 0.01}\n",
            "0.627899 (0.058563) with: {'batch_size': 64, 'kernel_size': (2, 2), 'learning_rate': 0.0001}\n",
            "0.648193 (0.029155) with: {'batch_size': 64, 'kernel_size': (2, 2), 'learning_rate': 0.001}\n",
            "0.576775 (0.089351) with: {'batch_size': 64, 'kernel_size': (2, 2), 'learning_rate': 0.01}\n",
            "0.681769 (0.014967) with: {'batch_size': 64, 'kernel_size': (3, 3), 'learning_rate': 0.0001}\n",
            "0.571124 (0.065609) with: {'batch_size': 64, 'kernel_size': (3, 3), 'learning_rate': 0.001}\n",
            "0.541371 (0.059311) with: {'batch_size': 64, 'kernel_size': (3, 3), 'learning_rate': 0.01}\n",
            "0.669813 (0.043810) with: {'batch_size': 64, 'kernel_size': (4, 4), 'learning_rate': 0.0001}\n",
            "0.605358 (0.072663) with: {'batch_size': 64, 'kernel_size': (4, 4), 'learning_rate': 0.001}\n",
            "0.495828 (0.010899) with: {'batch_size': 64, 'kernel_size': (4, 4), 'learning_rate': 0.01}\n",
            "0.630829 (0.053554) with: {'batch_size': 64, 'kernel_size': (5, 5), 'learning_rate': 0.0001}\n",
            "0.553540 (0.077239) with: {'batch_size': 64, 'kernel_size': (5, 5), 'learning_rate': 0.001}\n",
            "0.499436 (0.011656) with: {'batch_size': 64, 'kernel_size': (5, 5), 'learning_rate': 0.01}\n",
            "0.578313 (0.044583) with: {'batch_size': 128, 'kernel_size': (2, 2), 'learning_rate': 0.0001}\n",
            "0.634427 (0.045976) with: {'batch_size': 128, 'kernel_size': (2, 2), 'learning_rate': 0.001}\n",
            "0.510479 (0.012274) with: {'batch_size': 128, 'kernel_size': (2, 2), 'learning_rate': 0.01}\n",
            "0.564578 (0.062068) with: {'batch_size': 128, 'kernel_size': (3, 3), 'learning_rate': 0.0001}\n",
            "0.569110 (0.081206) with: {'batch_size': 128, 'kernel_size': (3, 3), 'learning_rate': 0.001}\n",
            "0.510259 (0.007904) with: {'batch_size': 128, 'kernel_size': (3, 3), 'learning_rate': 0.01}\n",
            "0.646356 (0.084714) with: {'batch_size': 128, 'kernel_size': (4, 4), 'learning_rate': 0.0001}\n",
            "0.578562 (0.082452) with: {'batch_size': 128, 'kernel_size': (4, 4), 'learning_rate': 0.001}\n",
            "0.495828 (0.010899) with: {'batch_size': 128, 'kernel_size': (4, 4), 'learning_rate': 0.01}\n",
            "0.638514 (0.047630) with: {'batch_size': 128, 'kernel_size': (5, 5), 'learning_rate': 0.0001}\n",
            "0.559833 (0.057260) with: {'batch_size': 128, 'kernel_size': (5, 5), 'learning_rate': 0.001}\n",
            "0.500564 (0.011656) with: {'batch_size': 128, 'kernel_size': (5, 5), 'learning_rate': 0.01}\n"
          ]
        }
      ],
      "source": [
        "print(\"Best: %f using %s\" % (grid_result.best_score_, grid_result.best_params_))\n",
        "means = grid_result.cv_results_['mean_test_score']\n",
        "stds = grid_result.cv_results_['std_test_score']\n",
        "params = grid_result.cv_results_['params']\n",
        "for mean, stdev, param in zip(means, stds, params):\n",
        "    print(\"%f (%f) with: %r\" % (mean, stdev, param))"
      ]
    },
    {
      "cell_type": "code",
      "execution_count": 36,
      "metadata": {
        "colab": {
          "base_uri": "https://localhost:8080/"
        },
        "id": "OtwJBvz6japV",
        "outputId": "d56edeae-abf8-4356-d9a7-358fd23a0572"
      },
      "outputs": [
        {
          "name": "stdout",
          "output_type": "stream",
          "text": [
            "Epoch 1/100\n",
            "56/56 [==============================] - 4s 46ms/step - loss: 0.6744 - accuracy: 0.5810 - recall_5: 0.9244 - precision_5: 0.5304 - val_loss: 0.6716 - val_accuracy: 0.6261 - val_recall_5: 1.0000 - val_precision_5: 0.5191\n",
            "Epoch 2/100\n",
            "56/56 [==============================] - 2s 36ms/step - loss: 0.6017 - accuracy: 0.6912 - recall_5: 0.8933 - precision_5: 0.5927 - val_loss: 0.5413 - val_accuracy: 0.7173 - val_recall_5: 0.7570 - val_precision_5: 0.7950\n",
            "Epoch 3/100\n",
            "56/56 [==============================] - 2s 36ms/step - loss: 0.5618 - accuracy: 0.7301 - recall_5: 0.8589 - precision_5: 0.6643 - val_loss: 0.5002 - val_accuracy: 0.7793 - val_recall_5: 0.8915 - val_precision_5: 0.7211\n",
            "Epoch 4/100\n",
            "56/56 [==============================] - 2s 36ms/step - loss: 0.5298 - accuracy: 0.7588 - recall_5: 0.8634 - precision_5: 0.6964 - val_loss: 0.4983 - val_accuracy: 0.7939 - val_recall_5: 0.9523 - val_precision_5: 0.6542\n",
            "Epoch 5/100\n",
            "56/56 [==============================] - 2s 36ms/step - loss: 0.5206 - accuracy: 0.7577 - recall_5: 0.8663 - precision_5: 0.6958 - val_loss: 0.4827 - val_accuracy: 0.7838 - val_recall_5: 0.9328 - val_precision_5: 0.6815\n",
            "Epoch 6/100\n",
            "56/56 [==============================] - 2s 36ms/step - loss: 0.5166 - accuracy: 0.7526 - recall_5: 0.8572 - precision_5: 0.7062 - val_loss: 0.5170 - val_accuracy: 0.7545 - val_recall_5: 0.9761 - val_precision_5: 0.6139\n",
            "Epoch 7/100\n",
            "56/56 [==============================] - 2s 36ms/step - loss: 0.5069 - accuracy: 0.7597 - recall_5: 0.8567 - precision_5: 0.7103 - val_loss: 0.4836 - val_accuracy: 0.7815 - val_recall_5: 0.9328 - val_precision_5: 0.6836\n",
            "Epoch 8/100\n",
            "56/56 [==============================] - 2s 36ms/step - loss: 0.5098 - accuracy: 0.7537 - recall_5: 0.8567 - precision_5: 0.6992 - val_loss: 0.4871 - val_accuracy: 0.7849 - val_recall_5: 0.9349 - val_precision_5: 0.6787\n",
            "Epoch 9/100\n",
            "56/56 [==============================] - 2s 36ms/step - loss: 0.4829 - accuracy: 0.7766 - recall_5: 0.8702 - precision_5: 0.7196 - val_loss: 0.5483 - val_accuracy: 0.7173 - val_recall_5: 0.7180 - val_precision_5: 0.8254\n",
            "Epoch 10/100\n",
            "56/56 [==============================] - 2s 36ms/step - loss: 0.4851 - accuracy: 0.7704 - recall_5: 0.8679 - precision_5: 0.7187 - val_loss: 0.5028 - val_accuracy: 0.7827 - val_recall_5: 0.8829 - val_precision_5: 0.7153\n"
          ]
        }
      ],
      "source": [
        "model = init_model()\n",
        "history = model.fit(X_train, y_train,\n",
        "          validation_split=0.2,\n",
        "          epochs=100,\n",
        "          batch_size=64, \n",
        "          verbose=1,\n",
        "          callbacks=es)"
      ]
    },
    {
      "cell_type": "code",
      "execution_count": 37,
      "metadata": {
        "colab": {
          "base_uri": "https://localhost:8080/"
        },
        "id": "vUxOUA2NjeWe",
        "outputId": "1e8b464e-a881-4cd7-d2c9-c8eccbba00c1"
      },
      "outputs": [
        {
          "name": "stdout",
          "output_type": "stream",
          "text": [
            "35/35 [==============================] - 0s 11ms/step - loss: 0.5139 - accuracy: 0.7640 - recall_5: 0.9081 - precision_5: 0.6478\n"
          ]
        },
        {
          "data": {
            "text/plain": [
              "[0.5138555765151978, 0.7639639377593994, 0.908108115196228, 0.647814929485321]"
            ]
          },
          "execution_count": 37,
          "metadata": {},
          "output_type": "execute_result"
        }
      ],
      "source": [
        "y_pred = model.predict(X_test)\n",
        "model.evaluate(X_test, y_test)"
      ]
    },
    {
      "cell_type": "markdown",
      "metadata": {
        "id": "63HyZ98TJzzH"
      },
      "source": [
        "Precision Recall Curve"
      ]
    },
    {
      "cell_type": "code",
      "execution_count": 38,
      "metadata": {
        "colab": {
          "base_uri": "https://localhost:8080/"
        },
        "id": "tcptdSSHKWdU",
        "outputId": "93fd7d26-eeaa-4111-d46b-75451db4c3be"
      },
      "outputs": [
        {
          "name": "stdout",
          "output_type": "stream",
          "text": [
            "precision- [0.50090253 0.50045167 0.50090416 0.50135747 0.50181159]\n",
            "recall- [1.        0.9981982 0.9981982 0.9981982 0.9981982]\n",
            "threshold- [0.08198481 0.08257739 0.08590981 0.08616588 0.08714527]\n"
          ]
        }
      ],
      "source": [
        "precision, recall, threshold = precision_recall_curve(y_test, y_pred) \n",
        "\n",
        "print(f'precision- {precision[:5]}')\n",
        "print(f'recall- {recall[:5]}')\n",
        "print(f'threshold- {threshold[:5]}')"
      ]
    },
    {
      "cell_type": "code",
      "execution_count": 39,
      "metadata": {
        "colab": {
          "base_uri": "https://localhost:8080/",
          "height": 206
        },
        "id": "8ClkwKDVMvHN",
        "outputId": "5c68d0ef-a393-4bca-aac7-3e4979ca6a57"
      },
      "outputs": [
        {
          "data": {
            "text/html": [
              "<div>\n",
              "<style scoped>\n",
              "    .dataframe tbody tr th:only-of-type {\n",
              "        vertical-align: middle;\n",
              "    }\n",
              "\n",
              "    .dataframe tbody tr th {\n",
              "        vertical-align: top;\n",
              "    }\n",
              "\n",
              "    .dataframe thead th {\n",
              "        text-align: right;\n",
              "    }\n",
              "</style>\n",
              "<table border=\"1\" class=\"dataframe\">\n",
              "  <thead>\n",
              "    <tr style=\"text-align: right;\">\n",
              "      <th></th>\n",
              "      <th>threshold</th>\n",
              "      <th>precision</th>\n",
              "      <th>recall</th>\n",
              "    </tr>\n",
              "  </thead>\n",
              "  <tbody>\n",
              "    <tr>\n",
              "      <th>0</th>\n",
              "      <td>0.081985</td>\n",
              "      <td>0.500903</td>\n",
              "      <td>1.000000</td>\n",
              "    </tr>\n",
              "    <tr>\n",
              "      <th>1</th>\n",
              "      <td>0.082577</td>\n",
              "      <td>0.500452</td>\n",
              "      <td>0.998198</td>\n",
              "    </tr>\n",
              "    <tr>\n",
              "      <th>2</th>\n",
              "      <td>0.085910</td>\n",
              "      <td>0.500904</td>\n",
              "      <td>0.998198</td>\n",
              "    </tr>\n",
              "    <tr>\n",
              "      <th>3</th>\n",
              "      <td>0.086166</td>\n",
              "      <td>0.501357</td>\n",
              "      <td>0.998198</td>\n",
              "    </tr>\n",
              "    <tr>\n",
              "      <th>4</th>\n",
              "      <td>0.087145</td>\n",
              "      <td>0.501812</td>\n",
              "      <td>0.998198</td>\n",
              "    </tr>\n",
              "  </tbody>\n",
              "</table>\n",
              "</div>"
            ],
            "text/plain": [
              "   threshold  precision    recall\n",
              "0   0.081985   0.500903  1.000000\n",
              "1   0.082577   0.500452  0.998198\n",
              "2   0.085910   0.500904  0.998198\n",
              "3   0.086166   0.501357  0.998198\n",
              "4   0.087145   0.501812  0.998198"
            ]
          },
          "execution_count": 39,
          "metadata": {},
          "output_type": "execute_result"
        }
      ],
      "source": [
        "scores = pd.DataFrame({'threshold':threshold,\n",
        "                       'precision': precision[:-1],\n",
        "                       'recall':recall[:-1]})\n",
        "scores.head()"
      ]
    },
    {
      "cell_type": "code",
      "execution_count": 40,
      "metadata": {
        "colab": {
          "base_uri": "https://localhost:8080/",
          "height": 296
        },
        "id": "zaxkGtl9MyEd",
        "outputId": "2d591017-7b5f-4c51-8261-0bfdd847234a"
      },
      "outputs": [
        {
          "data": {
            "text/plain": [
              "Text(0.5, 0, 'recall')"
            ]
          },
          "execution_count": 40,
          "metadata": {},
          "output_type": "execute_result"
        },
        {
          "data": {
            "image/png": "[encoded data removed]",
            "text/plain": [
              "<Figure size 432x288 with 1 Axes>"
            ]
          },
          "metadata": {
            "needs_background": "light"
          },
          "output_type": "display_data"
        }
      ],
      "source": [
        "plt.plot(scores['recall'],scores['precision'])\n",
        "plt.ylabel('precision')\n",
        "plt.xlabel('recall')"
      ]
    },
    {
      "cell_type": "code",
      "execution_count": 52,
      "metadata": {
        "colab": {
          "base_uri": "https://localhost:8080/"
        },
        "id": "OOMT2oWfM5KQ",
        "outputId": "2e875bcc-e459-4731-a87c-f5221ce9dcde"
      },
      "outputs": [
        {
          "data": {
            "text/plain": [
              "0.45337414741516113"
            ]
          },
          "execution_count": 52,
          "metadata": {},
          "output_type": "execute_result"
        }
      ],
      "source": [
        "# Find threshold that guarantees 0.8 recall score\n",
        "threshold = scores[scores['recall'] >= 0.85].threshold.max()\n",
        "threshold"
      ]
    },
    {
      "cell_type": "markdown",
      "metadata": {
        "id": "Gh861cOQeZXD"
      },
      "source": [
        "Predict using test data"
      ]
    },
    {
      "cell_type": "code",
      "execution_count": 53,
      "metadata": {
        "colab": {
          "base_uri": "https://localhost:8080/"
        },
        "id": "y0SyoQi7prOe",
        "outputId": "37b70333-f37a-4d78-a9dd-f04c6ea8dbde"
      },
      "outputs": [
        {
          "name": "stdout",
          "output_type": "stream",
          "text": [
            "0.8486486486486486\n",
            "0.7061469265367316\n",
            "0.7708674304418985\n"
          ]
        }
      ],
      "source": [
        "def binary_predict(y_pred, custom_threshold=0.41):\n",
        "    return (y_pred > custom_threshold).astype(int)\n",
        "\n",
        "updated_preds = binary_predict(y_pred, custom_threshold=threshold)\n",
        "\n",
        "print(recall_score(y_test, updated_preds))\n",
        "print(precision_score(y_test, updated_preds))\n",
        "print(f1_score(y_test, updated_preds))"
      ]
    },
    {
      "cell_type": "markdown",
      "metadata": {
        "id": "EN3ylXBeqCln"
      },
      "source": [
        "Creating a report"
      ]
    },
    {
      "cell_type": "code",
      "execution_count": 44,
      "metadata": {
        "id": "Oiczj0coqH94"
      },
      "outputs": [],
      "source": [
        "def model_diagnosis(y_pred):\n",
        "    mean_prob = np.mean(y_pred)\n",
        "    if mean_prob >= 0.7:\n",
        "        return 'High IDC probability'\n",
        "    elif mean_prob >= 0.4:\n",
        "        return 'Medium IDC probability'\n",
        "    else:\n",
        "      return 'Low IDC probability'"
      ]
    },
    {
      "cell_type": "code",
      "execution_count": 45,
      "metadata": {
        "id": "X9EwxUGxxVaV"
      },
      "outputs": [],
      "source": [
        "def generate_report(X_scaled, y_pred):\n",
        "    # Remove the top 10% whitest images from predictions\n",
        "    white_threshold = max([image.mean() for image in X_scaled]) * 0.90\n",
        "    remove_white_mask = [image.mean() <= white_threshold for image in X_scaled]\n",
        "    X_non_white = X_scaled[remove_white_mask]\n",
        "    y_pred = y_pred[remove_white_mask]\n",
        "\n",
        "    # Generate report using non-white images\n",
        "    report = {}\n",
        "    y_binary = binary_predict(y_pred)\n",
        "    report['sum_positive'] = sum(y_binary)[0]\n",
        "    report['percent_positive'] = round((report['sum_positive']/y_pred.shape[0])*100, 2)\n",
        "    report['mean_probability'] = round(np.mean(y_pred)*100, 2)\n",
        "    report['model_diagnosis'] = model_diagnosis(y_pred)\n",
        "    return report"
      ]
    },
    {
      "cell_type": "code",
      "execution_count": 46,
      "metadata": {
        "colab": {
          "base_uri": "https://localhost:8080/"
        },
        "id": "CQ4FJsxC20mK",
        "outputId": "3d2d0e4e-799a-4b3d-c36b-07b3d211fda8"
      },
      "outputs": [
        {
          "data": {
            "text/plain": [
              "{'mean_probability': 65.09,\n",
              " 'model_diagnosis': 'Medium IDC probability',\n",
              " 'percent_positive': 80.12,\n",
              " 'sum_positive': 689}"
            ]
          },
          "execution_count": 46,
          "metadata": {},
          "output_type": "execute_result"
        }
      ],
      "source": [
        "a = generate_report(X_test, y_pred)\n",
        "a"
      ]
    },
    {
      "cell_type": "markdown",
      "metadata": {
        "id": "4OScIbSyJ6Ex"
      },
      "source": [
        "Save and load model"
      ]
    },
    {
      "cell_type": "code",
      "execution_count": 48,
      "metadata": {
        "id": "-MevFjEUGOE1"
      },
      "outputs": [],
      "source": [
        "###################################\n",
        "#   RENAME YOUR MODEL EVERY TIME  #\n",
        "#     AVOID OVERWRITING MODELS    #\n",
        "###################################\n",
        "\n",
        "# From Elizabeth's Colab Notebook\n",
        "model.save('/content/drive/MyDrive/Colab Notebooks/model5.h5')\n",
        "\n",
        "# Local save\n",
        "#model.save('../models/model2.h5')"
      ]
    },
    {
      "cell_type": "code",
      "execution_count": 49,
      "metadata": {
        "colab": {
          "base_uri": "https://localhost:8080/"
        },
        "id": "mjVMuGtI83Tu",
        "outputId": "516bc26d-0aeb-4556-8530-604be772a129"
      },
      "outputs": [
        {
          "name": "stdout",
          "output_type": "stream",
          "text": [
            "Model: \"sequential_5\"\n",
            "_________________________________________________________________\n",
            " Layer (type)                Output Shape              Param #   \n",
            "=================================================================\n",
            " conv2d_15 (Conv2D)          (None, 50, 50, 64)        832       \n",
            "                                                                 \n",
            " conv2d_16 (Conv2D)          (None, 50, 50, 32)        8224      \n",
            "                                                                 \n",
            " conv2d_17 (Conv2D)          (None, 50, 50, 16)        2064      \n",
            "                                                                 \n",
            " flatten_5 (Flatten)         (None, 40000)             0         \n",
            "                                                                 \n",
            " dense_4 (Dense)             (None, 1)                 40001     \n",
            "                                                                 \n",
            "=================================================================\n",
            "Total params: 51,121\n",
            "Trainable params: 51,121\n",
            "Non-trainable params: 0\n",
            "_________________________________________________________________\n"
          ]
        }
      ],
      "source": [
        "model.summary()"
      ]
    }
  ],
  "metadata": {
    "accelerator": "GPU",
    "colab": {
      "collapsed_sections": [],
      "name": "elizabeth_idc_2.ipynb",
      "provenance": []
    },
    "interpreter": {
      "hash": "1bcec20e031856e66832f97f5e73e129e97f9f232cab5408328b23f1e3c89823"
    },
    "kernelspec": {
      "display_name": "Python 3 (ipykernel)",
      "language": "python",
      "name": "python3"
    },
    "language_info": {
      "codemirror_mode": {
        "name": "ipython",
        "version": 3
      },
      "file_extension": ".py",
      "mimetype": "text/x-python",
      "name": "python",
      "nbconvert_exporter": "python",
      "pygments_lexer": "ipython3",
      "version": "3.8.12"
    },
    "toc": {
      "base_numbering": 1,
      "nav_menu": {},
      "number_sections": true,
      "sideBar": true,
      "skip_h1_title": false,
      "title_cell": "Table of Contents",
      "title_sidebar": "Contents",
      "toc_cell": false,
      "toc_position": {},
      "toc_section_display": true,
      "toc_window_display": false
    }
  },
  "nbformat": 4,
  "nbformat_minor": 0
}
