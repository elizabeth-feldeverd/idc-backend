{
  "nbformat": 4,
  "nbformat_minor": 0,
  "metadata": {
    "colab": {
      "name": "elizabeth_idc_2 (6).ipynb",
      "provenance": [],
      "collapsed_sections": []
    },
    "interpreter": {
      "hash": "1bcec20e031856e66832f97f5e73e129e97f9f232cab5408328b23f1e3c89823"
    },
    "kernelspec": {
      "display_name": "Python 3 (ipykernel)",
      "language": "python",
      "name": "python3"
    },
    "language_info": {
      "codemirror_mode": {
        "name": "ipython",
        "version": 3
      },
      "file_extension": ".py",
      "mimetype": "text/x-python",
      "name": "python",
      "nbconvert_exporter": "python",
      "pygments_lexer": "ipython3",
      "version": "3.8.12"
    },
    "toc": {
      "base_numbering": 1,
      "nav_menu": {},
      "number_sections": true,
      "sideBar": true,
      "skip_h1_title": false,
      "title_cell": "Table of Contents",
      "title_sidebar": "Contents",
      "toc_cell": false,
      "toc_position": {},
      "toc_section_display": true,
      "toc_window_display": false
    },
    "accelerator": "GPU"
  },
  "cells": [
    {
      "cell_type": "markdown",
      "metadata": {
        "id": "pqgvHbpcGOEu"
      },
      "source": [
        "# Invasive Ductal Cancer"
      ]
    },
    {
      "cell_type": "code",
      "metadata": {
        "colab": {
          "base_uri": "https://localhost:8080/"
        },
        "id": "WubWNvJFGcaP",
        "outputId": "4f5551f9-210b-4ddf-a289-9ca80bf038f5"
      },
      "source": [
        "from google.colab import drive\n",
        "drive.mount('/content/drive')"
      ],
      "execution_count": 1,
      "outputs": [
        {
          "output_type": "stream",
          "name": "stdout",
          "text": [
            "Mounted at /content/drive\n"
          ]
        }
      ]
    },
    {
      "cell_type": "code",
      "metadata": {
        "id": "oWpgoha_GOEw"
      },
      "source": [
        "import numpy as np\n",
        "import pandas as pd\n",
        "import matplotlib.pyplot as plt\n",
        "from PIL import Image\n",
        "from tensorflow.keras.optimizers import Adam, Adagrad\n",
        "from tensorflow.keras import models\n",
        "from tensorflow.keras import Sequential, layers\n",
        "from tensorflow.keras.metrics import Recall, Precision\n",
        "from tensorflow.keras.callbacks import EarlyStopping, ModelCheckpoint\n",
        "from sklearn.model_selection import train_test_split\n",
        "from sklearn.metrics import precision_recall_curve\n",
        "from sklearn.metrics import recall_score, precision_score, f1_score\n",
        "from keras.wrappers.scikit_learn import KerasClassifier\n",
        "from sklearn.model_selection import GridSearchCV\n",
        "from keras.models import load_model"
      ],
      "execution_count": 2,
      "outputs": []
    },
    {
      "cell_type": "code",
      "metadata": {
        "id": "V-xfZxl9GOEx"
      },
      "source": [
        "# Running locally\n",
        "X = np.load('../idc/data/X.npy')\n",
        "y = np.load('../idc/data/Y.npy')"
      ],
      "execution_count": null,
      "outputs": []
    },
    {
      "cell_type": "code",
      "metadata": {
        "id": "H4EsAsPhHkSk"
      },
      "source": [
        "# Running in Colab\n",
        "X = np.load('/content/drive/MyDrive/Colab Notebooks/data/X.npy')\n",
        "y = np.load('/content/drive/MyDrive/Colab Notebooks/data/Y.npy')"
      ],
      "execution_count": 3,
      "outputs": []
    },
    {
      "cell_type": "code",
      "metadata": {
        "colab": {
          "base_uri": "https://localhost:8080/"
        },
        "id": "DJQvisqoGOEx",
        "outputId": "f793a7ba-d886-4a98-fd46-6a96bc2b4f33"
      },
      "source": [
        "X.shape"
      ],
      "execution_count": 4,
      "outputs": [
        {
          "output_type": "execute_result",
          "data": {
            "text/plain": [
              "(5547, 50, 50, 3)"
            ]
          },
          "metadata": {},
          "execution_count": 4
        }
      ]
    },
    {
      "cell_type": "code",
      "metadata": {
        "colab": {
          "base_uri": "https://localhost:8080/"
        },
        "id": "BNtE-PI-GOEy",
        "outputId": "113ab38e-a07f-4785-b30a-18c6e52de4b6"
      },
      "source": [
        "y.shape"
      ],
      "execution_count": 5,
      "outputs": [
        {
          "output_type": "execute_result",
          "data": {
            "text/plain": [
              "(5547,)"
            ]
          },
          "metadata": {},
          "execution_count": 5
        }
      ]
    },
    {
      "cell_type": "markdown",
      "metadata": {
        "id": "phIRGpKj_q79"
      },
      "source": [
        "## Data augmentation"
      ]
    },
    {
      "cell_type": "code",
      "metadata": {
        "id": "Y7O3r9Jc_qdn"
      },
      "source": [
        "from keras.preprocessing.image import ImageDataGenerator\n",
        "\n",
        "X_scaled = X/255\n",
        "X_train, X_test, y_train, y_test = train_test_split(X_scaled, y, test_size=0.3, random_state=1)\n",
        "\n",
        "# Instantiate image data generator\n",
        "datagen = ImageDataGenerator(rotation_range=90, validation_split=0.3)\n",
        "\n",
        "# Creates iterators for training images\n",
        "val_images = datagen.flow(X_train, y_train, subset='validation', batch_size=32)\n",
        "images = datagen.flow(X_train, y_train, subset='training', batch_size=32)\n",
        "\n",
        "# Generates a fixed number of augmented images\n",
        "# images, labels = next(datagen.flow(X_train, y_train, batch_size=X_train.shape[0]))\n",
        "\n",
        "# # Merge original X_train with augmented images\n",
        "# X_train = np.row_stack((X_train, images))\n",
        "# X_train.shape\n",
        "# \n",
        "# # Merge original y_train with augmented image labels\n",
        "# y_train = np.hstack((y_train, labels))\n",
        "# y_train.shape"
      ],
      "execution_count": 6,
      "outputs": []
    },
    {
      "cell_type": "markdown",
      "metadata": {
        "id": "XI7WSW3oGOEz"
      },
      "source": [
        "## CNN Model Evaluation"
      ]
    },
    {
      "cell_type": "code",
      "metadata": {
        "id": "PjTg6SglGOEz"
      },
      "source": [
        "# Run only if you're not using data augmentation\n",
        "# X_scaled = X/255\n",
        "# X_train, X_test, y_train, y_test = train_test_split(X_scaled, y, test_size=0.3, random_state=1)"
      ],
      "execution_count": null,
      "outputs": []
    },
    {
      "cell_type": "code",
      "metadata": {
        "id": "fz9cQ3CTOV6Y"
      },
      "source": [
        "# Final Model 1 (Based on Janowczyk and Madabhushi 2016)\n",
        "# Recall:             0.849642\n",
        "# Precision:          0.713426\n",
        "# F1 score:           0.775599\n",
        "# Balanced Accuracy:  0.751906\n",
        "\n",
        "def init_model1(learning_rate=0.001):\n",
        "  model = models.Sequential()\n",
        "  model.add(layers.Conv2D(32, kernel_size=(2,2), input_shape=(50, 50, 3), activation=\"relu\"))\n",
        "  model.add(layers.MaxPooling2D(pool_size=(2,2)))\n",
        "  model.add(layers.Conv2D(32, kernel_size=(2,2), activation=\"relu\"))\n",
        "  model.add(layers.MaxPooling2D(pool_size=(2,2)))\n",
        "  model.add(layers.Conv2D(64, kernel_size=(2,2), activation=\"relu\"))\n",
        "  model.add(layers.MaxPooling2D(pool_size=(2,2)))\n",
        "  model.add(layers.Flatten())\n",
        "  model.add(layers.Dense(64))\n",
        "  model.add(layers.Dropout(0.4))\n",
        "  model.add(layers.Dense(16))\n",
        "  model.add(layers.Dropout(0.4))\n",
        "  model.add(layers.Dense(1, activation='sigmoid'))\n",
        "  optimizer = Adagrad(learning_rate=learning_rate)\n",
        "  model.compile(loss='binary_crossentropy',\n",
        "              optimizer=optimizer,\n",
        "              metrics=['accuracy', Recall(thresholds=0.35), Precision(thresholds=0.35)])\n",
        " \n",
        "  return model"
      ],
      "execution_count": null,
      "outputs": []
    },
    {
      "cell_type": "code",
      "metadata": {
        "id": "odo6c9uNSLXu"
      },
      "source": [
        "# Final Model 2 (Elizabeth's version)\n",
        "# Recall:             0.849642\n",
        "# Precision:          0.729508\n",
        "# F1 score:           0.785005\n",
        "# Balanced Accuracy:  0.765207\n",
        "\n",
        "def init_model2(learning_rate=0.001):\n",
        "  model = models.Sequential()\n",
        "  model.add(layers.Conv2D(100, kernel_size=(2,2), input_shape=(50, 50, 3), activation=\"relu\"))\n",
        "  model.add(layers.MaxPooling2D(pool_size=(2,2)))\n",
        "  model.add(layers.Conv2D(200, kernel_size=(2,2), activation=\"relu\"))\n",
        "  model.add(layers.MaxPooling2D(pool_size=(2,2)))\n",
        "  model.add(layers.Flatten())\n",
        "  model.add(layers.Dense(16))\n",
        "  model.add(layers.Dropout(0.4))\n",
        "  model.add(layers.Dense(1, activation='sigmoid'))\n",
        "  optimizer = Adagrad(learning_rate=learning_rate)\n",
        "  model.compile(loss='binary_crossentropy',\n",
        "              optimizer=optimizer,\n",
        "              metrics=['accuracy', Recall(thresholds=0.4), Precision(thresholds=0.4)])\n",
        " \n",
        "  return model"
      ],
      "execution_count": 33,
      "outputs": []
    },
    {
      "cell_type": "code",
      "metadata": {
        "colab": {
          "base_uri": "https://localhost:8080/"
        },
        "id": "SIPrXv4oHnIi",
        "outputId": "e8f35561-4c10-49c3-a47c-208a21bf3885"
      },
      "source": [
        "model = init_model2()\n",
        "model.summary()"
      ],
      "execution_count": 8,
      "outputs": [
        {
          "output_type": "stream",
          "name": "stdout",
          "text": [
            "Model: \"sequential\"\n",
            "_________________________________________________________________\n",
            " Layer (type)                Output Shape              Param #   \n",
            "=================================================================\n",
            " conv2d (Conv2D)             (None, 49, 49, 100)       1300      \n",
            "                                                                 \n",
            " max_pooling2d (MaxPooling2D  (None, 24, 24, 100)      0         \n",
            " )                                                               \n",
            "                                                                 \n",
            " conv2d_1 (Conv2D)           (None, 23, 23, 200)       80200     \n",
            "                                                                 \n",
            " max_pooling2d_1 (MaxPooling  (None, 11, 11, 200)      0         \n",
            " 2D)                                                             \n",
            "                                                                 \n",
            " flatten (Flatten)           (None, 24200)             0         \n",
            "                                                                 \n",
            " dense (Dense)               (None, 16)                387216    \n",
            "                                                                 \n",
            " dropout (Dropout)           (None, 16)                0         \n",
            "                                                                 \n",
            " dense_1 (Dense)             (None, 1)                 17        \n",
            "                                                                 \n",
            "=================================================================\n",
            "Total params: 468,733\n",
            "Trainable params: 468,733\n",
            "Non-trainable params: 0\n",
            "_________________________________________________________________\n"
          ]
        }
      ]
    },
    {
      "cell_type": "code",
      "metadata": {
        "colab": {
          "base_uri": "https://localhost:8080/"
        },
        "id": "OtwJBvz6japV",
        "outputId": "4fca551a-c427-45da-bdf6-560a2f80c178"
      },
      "source": [
        "model = init_model()\n",
        "mc = ModelCheckpoint(filepath='/content/drive/MyDrive/Colab Notebooks/model.{epoch:02d}-{val_loss:.2f}.h5', \n",
        "                     monitor='val_loss', mode='min', save_best_only=True)\n",
        "history = model.fit(images,\n",
        "          validation_data=val_images,\n",
        "          epochs=500,\n",
        "          batch_size=64, \n",
        "          verbose=1,\n",
        "          callbacks=mc)"
      ],
      "execution_count": 9,
      "outputs": [
        {
          "output_type": "stream",
          "name": "stdout",
          "text": [
            "Epoch 1/500\n",
            "85/85 [==============================] - 12s 43ms/step - loss: 0.6904 - accuracy: 0.5243 - recall_1: 0.9949 - precision_1: 0.5063 - val_loss: 0.6901 - val_accuracy: 0.4991 - val_recall_1: 1.0000 - val_precision_1: 0.4991\n",
            "Epoch 2/500\n",
            "85/85 [==============================] - 3s 36ms/step - loss: 0.6855 - accuracy: 0.5460 - recall_1: 0.9795 - precision_1: 0.5076 - val_loss: 0.6822 - val_accuracy: 0.5026 - val_recall_1: 0.9845 - val_precision_1: 0.5191\n",
            "Epoch 3/500\n",
            "85/85 [==============================] - 3s 37ms/step - loss: 0.6778 - accuracy: 0.5865 - recall_1: 0.9620 - precision_1: 0.5185 - val_loss: 0.6734 - val_accuracy: 0.6615 - val_recall_1: 1.0000 - val_precision_1: 0.4991\n",
            "Epoch 4/500\n",
            "85/85 [==============================] - 3s 37ms/step - loss: 0.6717 - accuracy: 0.5971 - recall_1: 0.9540 - precision_1: 0.5273 - val_loss: 0.6670 - val_accuracy: 0.6658 - val_recall_1: 1.0000 - val_precision_1: 0.4991\n",
            "Epoch 5/500\n",
            "85/85 [==============================] - 3s 37ms/step - loss: 0.6632 - accuracy: 0.6339 - recall_1: 0.9620 - precision_1: 0.5279 - val_loss: 0.6594 - val_accuracy: 0.6057 - val_recall_1: 0.8950 - val_precision_1: 0.5896\n",
            "Epoch 6/500\n",
            "85/85 [==============================] - 3s 37ms/step - loss: 0.6576 - accuracy: 0.6435 - recall_1: 0.9386 - precision_1: 0.5372 - val_loss: 0.6517 - val_accuracy: 0.6366 - val_recall_1: 0.8864 - val_precision_1: 0.5899\n",
            "Epoch 7/500\n",
            "85/85 [==============================] - 3s 37ms/step - loss: 0.6492 - accuracy: 0.6553 - recall_1: 0.9123 - precision_1: 0.5631 - val_loss: 0.6505 - val_accuracy: 0.6701 - val_recall_1: 0.9966 - val_precision_1: 0.5061\n",
            "Epoch 8/500\n",
            "85/85 [==============================] - 3s 37ms/step - loss: 0.6411 - accuracy: 0.6582 - recall_1: 0.9109 - precision_1: 0.5650 - val_loss: 0.6441 - val_accuracy: 0.6143 - val_recall_1: 0.7745 - val_precision_1: 0.6410\n",
            "Epoch 9/500\n",
            "85/85 [==============================] - 3s 37ms/step - loss: 0.6357 - accuracy: 0.6740 - recall_1: 0.8955 - precision_1: 0.5824 - val_loss: 0.6317 - val_accuracy: 0.6564 - val_recall_1: 0.8468 - val_precision_1: 0.6204\n",
            "Epoch 10/500\n",
            "85/85 [==============================] - 3s 37ms/step - loss: 0.6306 - accuracy: 0.6744 - recall_1: 0.8795 - precision_1: 0.5911 - val_loss: 0.6279 - val_accuracy: 0.6744 - val_recall_1: 0.9243 - val_precision_1: 0.5787\n",
            "Epoch 11/500\n",
            "85/85 [==============================] - 3s 37ms/step - loss: 0.6246 - accuracy: 0.6792 - recall_1: 0.8839 - precision_1: 0.5900 - val_loss: 0.6205 - val_accuracy: 0.6641 - val_recall_1: 0.8571 - val_precision_1: 0.6217\n",
            "Epoch 12/500\n",
            "85/85 [==============================] - 3s 36ms/step - loss: 0.6201 - accuracy: 0.6799 - recall_1: 0.8627 - precision_1: 0.6119 - val_loss: 0.6216 - val_accuracy: 0.6873 - val_recall_1: 0.9243 - val_precision_1: 0.5774\n",
            "Epoch 13/500\n",
            "85/85 [==============================] - 3s 38ms/step - loss: 0.6159 - accuracy: 0.6909 - recall_1: 0.8627 - precision_1: 0.6148 - val_loss: 0.6113 - val_accuracy: 0.6753 - val_recall_1: 0.8434 - val_precision_1: 0.6372\n",
            "Epoch 14/500\n",
            "85/85 [==============================] - 3s 37ms/step - loss: 0.6114 - accuracy: 0.6847 - recall_1: 0.8576 - precision_1: 0.6225 - val_loss: 0.6081 - val_accuracy: 0.6796 - val_recall_1: 0.8761 - val_precision_1: 0.6185\n",
            "Epoch 15/500\n",
            "85/85 [==============================] - 3s 37ms/step - loss: 0.6079 - accuracy: 0.6869 - recall_1: 0.8466 - precision_1: 0.6201 - val_loss: 0.6070 - val_accuracy: 0.6890 - val_recall_1: 0.8709 - val_precision_1: 0.6148\n",
            "Epoch 16/500\n",
            "85/85 [==============================] - 3s 38ms/step - loss: 0.6047 - accuracy: 0.6913 - recall_1: 0.8481 - precision_1: 0.6324 - val_loss: 0.6237 - val_accuracy: 0.6727 - val_recall_1: 0.9570 - val_precision_1: 0.5489\n",
            "Epoch 17/500\n",
            "85/85 [==============================] - 3s 39ms/step - loss: 0.5985 - accuracy: 0.7009 - recall_1: 0.8466 - precision_1: 0.6313 - val_loss: 0.5979 - val_accuracy: 0.6847 - val_recall_1: 0.8589 - val_precision_1: 0.6277\n",
            "Epoch 18/500\n",
            "85/85 [==============================] - 3s 38ms/step - loss: 0.5965 - accuracy: 0.6987 - recall_1: 0.8517 - precision_1: 0.6361 - val_loss: 0.5951 - val_accuracy: 0.6933 - val_recall_1: 0.8485 - val_precision_1: 0.6411\n",
            "Epoch 19/500\n",
            "85/85 [==============================] - 3s 38ms/step - loss: 0.5949 - accuracy: 0.6954 - recall_1: 0.8378 - precision_1: 0.6419 - val_loss: 0.6135 - val_accuracy: 0.6881 - val_recall_1: 0.9415 - val_precision_1: 0.5764\n",
            "Epoch 20/500\n",
            "85/85 [==============================] - 3s 38ms/step - loss: 0.5937 - accuracy: 0.7046 - recall_1: 0.8488 - precision_1: 0.6295 - val_loss: 0.5904 - val_accuracy: 0.6985 - val_recall_1: 0.8726 - val_precision_1: 0.6290\n",
            "Epoch 21/500\n",
            "85/85 [==============================] - 3s 38ms/step - loss: 0.5907 - accuracy: 0.6994 - recall_1: 0.8495 - precision_1: 0.6401 - val_loss: 0.5914 - val_accuracy: 0.7088 - val_recall_1: 0.8864 - val_precision_1: 0.6182\n",
            "Epoch 22/500\n",
            "85/85 [==============================] - 3s 37ms/step - loss: 0.5890 - accuracy: 0.7138 - recall_1: 0.8422 - precision_1: 0.6349 - val_loss: 0.5873 - val_accuracy: 0.7070 - val_recall_1: 0.8761 - val_precision_1: 0.6230\n",
            "Epoch 23/500\n",
            "85/85 [==============================] - 3s 38ms/step - loss: 0.5868 - accuracy: 0.7116 - recall_1: 0.8364 - precision_1: 0.6447 - val_loss: 0.5845 - val_accuracy: 0.6976 - val_recall_1: 0.7917 - val_precision_1: 0.6785\n",
            "Epoch 24/500\n",
            "85/85 [==============================] - 3s 37ms/step - loss: 0.5862 - accuracy: 0.7079 - recall_1: 0.8459 - precision_1: 0.6517 - val_loss: 0.5848 - val_accuracy: 0.7234 - val_recall_1: 0.8847 - val_precision_1: 0.6208\n",
            "Epoch 25/500\n",
            "85/85 [==============================] - 3s 37ms/step - loss: 0.5836 - accuracy: 0.7090 - recall_1: 0.8451 - precision_1: 0.6475 - val_loss: 0.5789 - val_accuracy: 0.7088 - val_recall_1: 0.8520 - val_precision_1: 0.6600\n",
            "Epoch 26/500\n",
            "85/85 [==============================] - 3s 38ms/step - loss: 0.5759 - accuracy: 0.7178 - recall_1: 0.8451 - precision_1: 0.6604 - val_loss: 0.5844 - val_accuracy: 0.7225 - val_recall_1: 0.8985 - val_precision_1: 0.6127\n",
            "Epoch 27/500\n",
            "85/85 [==============================] - 3s 37ms/step - loss: 0.5762 - accuracy: 0.7149 - recall_1: 0.8481 - precision_1: 0.6627 - val_loss: 0.5845 - val_accuracy: 0.7199 - val_recall_1: 0.9053 - val_precision_1: 0.6053\n",
            "Epoch 28/500\n",
            "85/85 [==============================] - 3s 38ms/step - loss: 0.5724 - accuracy: 0.7219 - recall_1: 0.8532 - precision_1: 0.6562 - val_loss: 0.5743 - val_accuracy: 0.7242 - val_recall_1: 0.8623 - val_precision_1: 0.6653\n",
            "Epoch 29/500\n",
            "85/85 [==============================] - 3s 37ms/step - loss: 0.5739 - accuracy: 0.7233 - recall_1: 0.8364 - precision_1: 0.6611 - val_loss: 0.5750 - val_accuracy: 0.7311 - val_recall_1: 0.8812 - val_precision_1: 0.6360\n",
            "Epoch 30/500\n",
            "85/85 [==============================] - 3s 37ms/step - loss: 0.5687 - accuracy: 0.7230 - recall_1: 0.8444 - precision_1: 0.6713 - val_loss: 0.5759 - val_accuracy: 0.7380 - val_recall_1: 0.8967 - val_precision_1: 0.6277\n",
            "Epoch 31/500\n",
            "85/85 [==============================] - 3s 38ms/step - loss: 0.5672 - accuracy: 0.7288 - recall_1: 0.8546 - precision_1: 0.6659 - val_loss: 0.5681 - val_accuracy: 0.7174 - val_recall_1: 0.8124 - val_precision_1: 0.7034\n",
            "Epoch 32/500\n",
            "85/85 [==============================] - 3s 37ms/step - loss: 0.5671 - accuracy: 0.7274 - recall_1: 0.8378 - precision_1: 0.6735 - val_loss: 0.5660 - val_accuracy: 0.7311 - val_recall_1: 0.8485 - val_precision_1: 0.6735\n",
            "Epoch 33/500\n",
            "85/85 [==============================] - 3s 37ms/step - loss: 0.5646 - accuracy: 0.7303 - recall_1: 0.8422 - precision_1: 0.6626 - val_loss: 0.5664 - val_accuracy: 0.7139 - val_recall_1: 0.7952 - val_precision_1: 0.7163\n",
            "Epoch 34/500\n",
            "85/85 [==============================] - 3s 39ms/step - loss: 0.5663 - accuracy: 0.7248 - recall_1: 0.8503 - precision_1: 0.6771 - val_loss: 0.5647 - val_accuracy: 0.7199 - val_recall_1: 0.8038 - val_precision_1: 0.7163\n",
            "Epoch 35/500\n",
            "85/85 [==============================] - 3s 37ms/step - loss: 0.5619 - accuracy: 0.7292 - recall_1: 0.8349 - precision_1: 0.6828 - val_loss: 0.5675 - val_accuracy: 0.7457 - val_recall_1: 0.8778 - val_precision_1: 0.6547\n",
            "Epoch 36/500\n",
            "85/85 [==============================] - 3s 37ms/step - loss: 0.5628 - accuracy: 0.7303 - recall_1: 0.8415 - precision_1: 0.6725 - val_loss: 0.5623 - val_accuracy: 0.7234 - val_recall_1: 0.8141 - val_precision_1: 0.7188\n",
            "Epoch 37/500\n",
            "85/85 [==============================] - 3s 37ms/step - loss: 0.5606 - accuracy: 0.7299 - recall_1: 0.8378 - precision_1: 0.6807 - val_loss: 0.5605 - val_accuracy: 0.7277 - val_recall_1: 0.8227 - val_precision_1: 0.7092\n",
            "Epoch 38/500\n",
            "85/85 [==============================] - 3s 38ms/step - loss: 0.5576 - accuracy: 0.7322 - recall_1: 0.8473 - precision_1: 0.6792 - val_loss: 0.5637 - val_accuracy: 0.7182 - val_recall_1: 0.7917 - val_precision_1: 0.7278\n",
            "Epoch 39/500\n",
            "85/85 [==============================] - 3s 37ms/step - loss: 0.5618 - accuracy: 0.7391 - recall_1: 0.8386 - precision_1: 0.6841 - val_loss: 0.5623 - val_accuracy: 0.7440 - val_recall_1: 0.8606 - val_precision_1: 0.6784\n",
            "Epoch 40/500\n",
            "85/85 [==============================] - 3s 37ms/step - loss: 0.5598 - accuracy: 0.7325 - recall_1: 0.8444 - precision_1: 0.6901 - val_loss: 0.5607 - val_accuracy: 0.7277 - val_recall_1: 0.7952 - val_precision_1: 0.7322\n",
            "Epoch 41/500\n",
            "85/85 [==============================] - 3s 38ms/step - loss: 0.5512 - accuracy: 0.7344 - recall_1: 0.8393 - precision_1: 0.6905 - val_loss: 0.5624 - val_accuracy: 0.7139 - val_recall_1: 0.7608 - val_precision_1: 0.7367\n",
            "Epoch 42/500\n",
            "85/85 [==============================] - 3s 37ms/step - loss: 0.5552 - accuracy: 0.7351 - recall_1: 0.8349 - precision_1: 0.6861 - val_loss: 0.5572 - val_accuracy: 0.7251 - val_recall_1: 0.8072 - val_precision_1: 0.7215\n",
            "Epoch 43/500\n",
            "85/85 [==============================] - 3s 37ms/step - loss: 0.5601 - accuracy: 0.7336 - recall_1: 0.8342 - precision_1: 0.6859 - val_loss: 0.5629 - val_accuracy: 0.7543 - val_recall_1: 0.8778 - val_precision_1: 0.6632\n",
            "Epoch 44/500\n",
            "85/85 [==============================] - 3s 40ms/step - loss: 0.5542 - accuracy: 0.7281 - recall_1: 0.8371 - precision_1: 0.6954 - val_loss: 0.5535 - val_accuracy: 0.7397 - val_recall_1: 0.8485 - val_precision_1: 0.6866\n",
            "Epoch 45/500\n",
            "85/85 [==============================] - 3s 38ms/step - loss: 0.5540 - accuracy: 0.7414 - recall_1: 0.8320 - precision_1: 0.6928 - val_loss: 0.5573 - val_accuracy: 0.7285 - val_recall_1: 0.8072 - val_precision_1: 0.7238\n",
            "Epoch 46/500\n",
            "85/85 [==============================] - 3s 36ms/step - loss: 0.5576 - accuracy: 0.7384 - recall_1: 0.8335 - precision_1: 0.6945 - val_loss: 0.5554 - val_accuracy: 0.7251 - val_recall_1: 0.7969 - val_precision_1: 0.7303\n",
            "Epoch 47/500\n",
            "85/85 [==============================] - 3s 37ms/step - loss: 0.5492 - accuracy: 0.7366 - recall_1: 0.8225 - precision_1: 0.7055 - val_loss: 0.5578 - val_accuracy: 0.7431 - val_recall_1: 0.8589 - val_precision_1: 0.6808\n",
            "Epoch 48/500\n",
            "85/85 [==============================] - 3s 37ms/step - loss: 0.5525 - accuracy: 0.7399 - recall_1: 0.8364 - precision_1: 0.7012 - val_loss: 0.5587 - val_accuracy: 0.7612 - val_recall_1: 0.8675 - val_precision_1: 0.6675\n",
            "Epoch 49/500\n",
            "85/85 [==============================] - 3s 37ms/step - loss: 0.5532 - accuracy: 0.7318 - recall_1: 0.8320 - precision_1: 0.6971 - val_loss: 0.5517 - val_accuracy: 0.7328 - val_recall_1: 0.8210 - val_precision_1: 0.7260\n",
            "Epoch 50/500\n",
            "85/85 [==============================] - 3s 37ms/step - loss: 0.5466 - accuracy: 0.7425 - recall_1: 0.8335 - precision_1: 0.7004 - val_loss: 0.5537 - val_accuracy: 0.7277 - val_recall_1: 0.7986 - val_precision_1: 0.7424\n",
            "Epoch 51/500\n",
            "85/85 [==============================] - 3s 37ms/step - loss: 0.5500 - accuracy: 0.7443 - recall_1: 0.8240 - precision_1: 0.7019 - val_loss: 0.5522 - val_accuracy: 0.7500 - val_recall_1: 0.8503 - val_precision_1: 0.7007\n",
            "Epoch 52/500\n",
            "85/85 [==============================] - 3s 36ms/step - loss: 0.5520 - accuracy: 0.7395 - recall_1: 0.8276 - precision_1: 0.7015 - val_loss: 0.5554 - val_accuracy: 0.7448 - val_recall_1: 0.8589 - val_precision_1: 0.6873\n",
            "Epoch 53/500\n",
            "85/85 [==============================] - 3s 37ms/step - loss: 0.5523 - accuracy: 0.7410 - recall_1: 0.8262 - precision_1: 0.6917 - val_loss: 0.5516 - val_accuracy: 0.7431 - val_recall_1: 0.8382 - val_precision_1: 0.7099\n",
            "Epoch 54/500\n",
            "85/85 [==============================] - 3s 36ms/step - loss: 0.5468 - accuracy: 0.7399 - recall_1: 0.8225 - precision_1: 0.7122 - val_loss: 0.5510 - val_accuracy: 0.7491 - val_recall_1: 0.8399 - val_precision_1: 0.7022\n",
            "Epoch 55/500\n",
            "85/85 [==============================] - 3s 37ms/step - loss: 0.5461 - accuracy: 0.7432 - recall_1: 0.8269 - precision_1: 0.7079 - val_loss: 0.5498 - val_accuracy: 0.7474 - val_recall_1: 0.8520 - val_precision_1: 0.7061\n",
            "Epoch 56/500\n",
            "85/85 [==============================] - 3s 36ms/step - loss: 0.5439 - accuracy: 0.7480 - recall_1: 0.8320 - precision_1: 0.7044 - val_loss: 0.5511 - val_accuracy: 0.7491 - val_recall_1: 0.8537 - val_precision_1: 0.6898\n",
            "Epoch 57/500\n",
            "85/85 [==============================] - 3s 38ms/step - loss: 0.5477 - accuracy: 0.7439 - recall_1: 0.8232 - precision_1: 0.7070 - val_loss: 0.5563 - val_accuracy: 0.7543 - val_recall_1: 0.8623 - val_precision_1: 0.6698\n",
            "Epoch 58/500\n",
            "85/85 [==============================] - 3s 37ms/step - loss: 0.5485 - accuracy: 0.7399 - recall_1: 0.8247 - precision_1: 0.7034 - val_loss: 0.5486 - val_accuracy: 0.7491 - val_recall_1: 0.8434 - val_precision_1: 0.7153\n",
            "Epoch 59/500\n",
            "85/85 [==============================] - 3s 36ms/step - loss: 0.5463 - accuracy: 0.7461 - recall_1: 0.8232 - precision_1: 0.7110 - val_loss: 0.5506 - val_accuracy: 0.7371 - val_recall_1: 0.8365 - val_precision_1: 0.7074\n",
            "Epoch 60/500\n",
            "85/85 [==============================] - 3s 38ms/step - loss: 0.5462 - accuracy: 0.7472 - recall_1: 0.8262 - precision_1: 0.7064 - val_loss: 0.5487 - val_accuracy: 0.7491 - val_recall_1: 0.8244 - val_precision_1: 0.7214\n",
            "Epoch 61/500\n",
            "85/85 [==============================] - 3s 37ms/step - loss: 0.5448 - accuracy: 0.7421 - recall_1: 0.8283 - precision_1: 0.7061 - val_loss: 0.5524 - val_accuracy: 0.7345 - val_recall_1: 0.7849 - val_precision_1: 0.7415\n",
            "Epoch 62/500\n",
            "85/85 [==============================] - 3s 37ms/step - loss: 0.5490 - accuracy: 0.7410 - recall_1: 0.8174 - precision_1: 0.7159 - val_loss: 0.5532 - val_accuracy: 0.7595 - val_recall_1: 0.8520 - val_precision_1: 0.6818\n",
            "Epoch 63/500\n",
            "85/85 [==============================] - 3s 37ms/step - loss: 0.5437 - accuracy: 0.7417 - recall_1: 0.8305 - precision_1: 0.7045 - val_loss: 0.5464 - val_accuracy: 0.7517 - val_recall_1: 0.8227 - val_precision_1: 0.7253\n",
            "Epoch 64/500\n",
            "85/85 [==============================] - 3s 37ms/step - loss: 0.5443 - accuracy: 0.7458 - recall_1: 0.8232 - precision_1: 0.7075 - val_loss: 0.5521 - val_accuracy: 0.7251 - val_recall_1: 0.7522 - val_precision_1: 0.7522\n",
            "Epoch 65/500\n",
            "85/85 [==============================] - 3s 37ms/step - loss: 0.5473 - accuracy: 0.7421 - recall_1: 0.8159 - precision_1: 0.7079 - val_loss: 0.5474 - val_accuracy: 0.7440 - val_recall_1: 0.8107 - val_precision_1: 0.7302\n",
            "Epoch 66/500\n",
            "85/85 [==============================] - 3s 36ms/step - loss: 0.5462 - accuracy: 0.7472 - recall_1: 0.8218 - precision_1: 0.7102 - val_loss: 0.5471 - val_accuracy: 0.7448 - val_recall_1: 0.8348 - val_precision_1: 0.7143\n",
            "Epoch 67/500\n",
            "85/85 [==============================] - 3s 37ms/step - loss: 0.5441 - accuracy: 0.7520 - recall_1: 0.8218 - precision_1: 0.7116 - val_loss: 0.5652 - val_accuracy: 0.7603 - val_recall_1: 0.9002 - val_precision_1: 0.6409\n",
            "Epoch 68/500\n",
            "85/85 [==============================] - 3s 36ms/step - loss: 0.5468 - accuracy: 0.7487 - recall_1: 0.8210 - precision_1: 0.7021 - val_loss: 0.5458 - val_accuracy: 0.7474 - val_recall_1: 0.8279 - val_precision_1: 0.7233\n",
            "Epoch 69/500\n",
            "85/85 [==============================] - 3s 36ms/step - loss: 0.5474 - accuracy: 0.7450 - recall_1: 0.8210 - precision_1: 0.7137 - val_loss: 0.5480 - val_accuracy: 0.7423 - val_recall_1: 0.8055 - val_precision_1: 0.7278\n",
            "Epoch 70/500\n",
            "85/85 [==============================] - 3s 36ms/step - loss: 0.5445 - accuracy: 0.7406 - recall_1: 0.8247 - precision_1: 0.7137 - val_loss: 0.5514 - val_accuracy: 0.7328 - val_recall_1: 0.7900 - val_precision_1: 0.7286\n",
            "Epoch 71/500\n",
            "85/85 [==============================] - 3s 37ms/step - loss: 0.5442 - accuracy: 0.7450 - recall_1: 0.8086 - precision_1: 0.7193 - val_loss: 0.5573 - val_accuracy: 0.7526 - val_recall_1: 0.8692 - val_precision_1: 0.6671\n",
            "Epoch 72/500\n",
            "85/85 [==============================] - 3s 36ms/step - loss: 0.5418 - accuracy: 0.7465 - recall_1: 0.8254 - precision_1: 0.7147 - val_loss: 0.5515 - val_accuracy: 0.7259 - val_recall_1: 0.7573 - val_precision_1: 0.7534\n",
            "Epoch 73/500\n",
            "85/85 [==============================] - 3s 36ms/step - loss: 0.5391 - accuracy: 0.7454 - recall_1: 0.8276 - precision_1: 0.7180 - val_loss: 0.5445 - val_accuracy: 0.7423 - val_recall_1: 0.8090 - val_precision_1: 0.7437\n",
            "Epoch 74/500\n",
            "85/85 [==============================] - 3s 37ms/step - loss: 0.5436 - accuracy: 0.7465 - recall_1: 0.8240 - precision_1: 0.7176 - val_loss: 0.5516 - val_accuracy: 0.7586 - val_recall_1: 0.8657 - val_precision_1: 0.6734\n",
            "Epoch 75/500\n",
            "85/85 [==============================] - 3s 37ms/step - loss: 0.5397 - accuracy: 0.7472 - recall_1: 0.8210 - precision_1: 0.7118 - val_loss: 0.5450 - val_accuracy: 0.7500 - val_recall_1: 0.8330 - val_precision_1: 0.7213\n",
            "Epoch 76/500\n",
            "85/85 [==============================] - 3s 36ms/step - loss: 0.5401 - accuracy: 0.7498 - recall_1: 0.8203 - precision_1: 0.7135 - val_loss: 0.5469 - val_accuracy: 0.7388 - val_recall_1: 0.8158 - val_precision_1: 0.7281\n",
            "Epoch 77/500\n",
            "85/85 [==============================] - 3s 37ms/step - loss: 0.5413 - accuracy: 0.7469 - recall_1: 0.8254 - precision_1: 0.7125 - val_loss: 0.5452 - val_accuracy: 0.7423 - val_recall_1: 0.7917 - val_precision_1: 0.7468\n",
            "Epoch 78/500\n",
            "85/85 [==============================] - 3s 36ms/step - loss: 0.5393 - accuracy: 0.7506 - recall_1: 0.8262 - precision_1: 0.7145 - val_loss: 0.5447 - val_accuracy: 0.7431 - val_recall_1: 0.8141 - val_precision_1: 0.7266\n",
            "Epoch 79/500\n",
            "85/85 [==============================] - 3s 36ms/step - loss: 0.5419 - accuracy: 0.7469 - recall_1: 0.8218 - precision_1: 0.7138 - val_loss: 0.5452 - val_accuracy: 0.7491 - val_recall_1: 0.8365 - val_precision_1: 0.7074\n",
            "Epoch 80/500\n",
            "85/85 [==============================] - 3s 36ms/step - loss: 0.5460 - accuracy: 0.7447 - recall_1: 0.8276 - precision_1: 0.7108 - val_loss: 0.5474 - val_accuracy: 0.7320 - val_recall_1: 0.7831 - val_precision_1: 0.7423\n",
            "Epoch 81/500\n",
            "85/85 [==============================] - 3s 37ms/step - loss: 0.5406 - accuracy: 0.7528 - recall_1: 0.8203 - precision_1: 0.7148 - val_loss: 0.5430 - val_accuracy: 0.7509 - val_recall_1: 0.8090 - val_precision_1: 0.7332\n",
            "Epoch 82/500\n",
            "85/85 [==============================] - 3s 36ms/step - loss: 0.5389 - accuracy: 0.7494 - recall_1: 0.8101 - precision_1: 0.7164 - val_loss: 0.5463 - val_accuracy: 0.7483 - val_recall_1: 0.8107 - val_precision_1: 0.7235\n",
            "Epoch 83/500\n",
            "85/85 [==============================] - 3s 37ms/step - loss: 0.5382 - accuracy: 0.7436 - recall_1: 0.8181 - precision_1: 0.7184 - val_loss: 0.5460 - val_accuracy: 0.7457 - val_recall_1: 0.8244 - val_precision_1: 0.7225\n",
            "Epoch 84/500\n",
            "85/85 [==============================] - 3s 37ms/step - loss: 0.5384 - accuracy: 0.7480 - recall_1: 0.8225 - precision_1: 0.7223 - val_loss: 0.5473 - val_accuracy: 0.7517 - val_recall_1: 0.8330 - val_precision_1: 0.7076\n",
            "Epoch 85/500\n",
            "85/85 [==============================] - 3s 37ms/step - loss: 0.5394 - accuracy: 0.7472 - recall_1: 0.8181 - precision_1: 0.7189 - val_loss: 0.5451 - val_accuracy: 0.7431 - val_recall_1: 0.7986 - val_precision_1: 0.7400\n",
            "Epoch 86/500\n",
            "85/85 [==============================] - 3s 36ms/step - loss: 0.5350 - accuracy: 0.7509 - recall_1: 0.8305 - precision_1: 0.7133 - val_loss: 0.5428 - val_accuracy: 0.7457 - val_recall_1: 0.8055 - val_precision_1: 0.7267\n",
            "Epoch 87/500\n",
            "85/85 [==============================] - 3s 36ms/step - loss: 0.5375 - accuracy: 0.7520 - recall_1: 0.8262 - precision_1: 0.7158 - val_loss: 0.5503 - val_accuracy: 0.7517 - val_recall_1: 0.8657 - val_precision_1: 0.6825\n",
            "Epoch 88/500\n",
            "85/85 [==============================] - 3s 36ms/step - loss: 0.5380 - accuracy: 0.7480 - recall_1: 0.8356 - precision_1: 0.7168 - val_loss: 0.5451 - val_accuracy: 0.7423 - val_recall_1: 0.7917 - val_precision_1: 0.7290\n",
            "Epoch 89/500\n",
            "85/85 [==============================] - 3s 36ms/step - loss: 0.5362 - accuracy: 0.7557 - recall_1: 0.8327 - precision_1: 0.7238 - val_loss: 0.5473 - val_accuracy: 0.7534 - val_recall_1: 0.8503 - val_precision_1: 0.6987\n",
            "Epoch 90/500\n",
            "85/85 [==============================] - 3s 37ms/step - loss: 0.5351 - accuracy: 0.7491 - recall_1: 0.8313 - precision_1: 0.7144 - val_loss: 0.5421 - val_accuracy: 0.7466 - val_recall_1: 0.8124 - val_precision_1: 0.7398\n",
            "Epoch 91/500\n",
            "85/85 [==============================] - 3s 36ms/step - loss: 0.5406 - accuracy: 0.7494 - recall_1: 0.8283 - precision_1: 0.7237 - val_loss: 0.5436 - val_accuracy: 0.7354 - val_recall_1: 0.7780 - val_precision_1: 0.7446\n",
            "Epoch 92/500\n",
            "85/85 [==============================] - 3s 36ms/step - loss: 0.5362 - accuracy: 0.7509 - recall_1: 0.8218 - precision_1: 0.7193 - val_loss: 0.5489 - val_accuracy: 0.7569 - val_recall_1: 0.8503 - val_precision_1: 0.6861\n",
            "Epoch 93/500\n",
            "85/85 [==============================] - 3s 37ms/step - loss: 0.5346 - accuracy: 0.7553 - recall_1: 0.8320 - precision_1: 0.7200 - val_loss: 0.5465 - val_accuracy: 0.7388 - val_recall_1: 0.7694 - val_precision_1: 0.7401\n",
            "Epoch 94/500\n",
            "85/85 [==============================] - 3s 38ms/step - loss: 0.5407 - accuracy: 0.7531 - recall_1: 0.8254 - precision_1: 0.7239 - val_loss: 0.5424 - val_accuracy: 0.7552 - val_recall_1: 0.8244 - val_precision_1: 0.7065\n",
            "Epoch 95/500\n",
            "85/85 [==============================] - 3s 37ms/step - loss: 0.5348 - accuracy: 0.7539 - recall_1: 0.8247 - precision_1: 0.7191 - val_loss: 0.5438 - val_accuracy: 0.7448 - val_recall_1: 0.7728 - val_precision_1: 0.7483\n",
            "Epoch 96/500\n",
            "85/85 [==============================] - 3s 36ms/step - loss: 0.5353 - accuracy: 0.7517 - recall_1: 0.8196 - precision_1: 0.7142 - val_loss: 0.5437 - val_accuracy: 0.7354 - val_recall_1: 0.7590 - val_precision_1: 0.7564\n",
            "Epoch 97/500\n",
            "85/85 [==============================] - 3s 36ms/step - loss: 0.5360 - accuracy: 0.7531 - recall_1: 0.8320 - precision_1: 0.7155 - val_loss: 0.5441 - val_accuracy: 0.7491 - val_recall_1: 0.8090 - val_precision_1: 0.7344\n",
            "Epoch 98/500\n",
            "85/85 [==============================] - 3s 36ms/step - loss: 0.5348 - accuracy: 0.7568 - recall_1: 0.8247 - precision_1: 0.7233 - val_loss: 0.5390 - val_accuracy: 0.7448 - val_recall_1: 0.8141 - val_precision_1: 0.7345\n",
            "Epoch 99/500\n",
            "85/85 [==============================] - 3s 36ms/step - loss: 0.5337 - accuracy: 0.7450 - recall_1: 0.8283 - precision_1: 0.7191 - val_loss: 0.5496 - val_accuracy: 0.7320 - val_recall_1: 0.7435 - val_precision_1: 0.7646\n",
            "Epoch 100/500\n",
            "85/85 [==============================] - 3s 36ms/step - loss: 0.5327 - accuracy: 0.7487 - recall_1: 0.8305 - precision_1: 0.7187 - val_loss: 0.5399 - val_accuracy: 0.7457 - val_recall_1: 0.8313 - val_precision_1: 0.7340\n",
            "Epoch 101/500\n",
            "85/85 [==============================] - 3s 36ms/step - loss: 0.5303 - accuracy: 0.7502 - recall_1: 0.8269 - precision_1: 0.7224 - val_loss: 0.5531 - val_accuracy: 0.7586 - val_recall_1: 0.8709 - val_precision_1: 0.6783\n",
            "Epoch 102/500\n",
            "85/85 [==============================] - 3s 37ms/step - loss: 0.5346 - accuracy: 0.7601 - recall_1: 0.8298 - precision_1: 0.7118 - val_loss: 0.5426 - val_accuracy: 0.7414 - val_recall_1: 0.8090 - val_precision_1: 0.7321\n",
            "Epoch 103/500\n",
            "85/85 [==============================] - 3s 36ms/step - loss: 0.5374 - accuracy: 0.7539 - recall_1: 0.8305 - precision_1: 0.7169 - val_loss: 0.5416 - val_accuracy: 0.7552 - val_recall_1: 0.8176 - val_precision_1: 0.7208\n",
            "Epoch 104/500\n",
            "85/85 [==============================] - 3s 35ms/step - loss: 0.5350 - accuracy: 0.7542 - recall_1: 0.8298 - precision_1: 0.7273 - val_loss: 0.5466 - val_accuracy: 0.7337 - val_recall_1: 0.7470 - val_precision_1: 0.7496\n",
            "Epoch 105/500\n",
            "85/85 [==============================] - 3s 36ms/step - loss: 0.5340 - accuracy: 0.7546 - recall_1: 0.8108 - precision_1: 0.7250 - val_loss: 0.5422 - val_accuracy: 0.7517 - val_recall_1: 0.8520 - val_precision_1: 0.7001\n",
            "Epoch 106/500\n",
            "85/85 [==============================] - 3s 37ms/step - loss: 0.5306 - accuracy: 0.7531 - recall_1: 0.8320 - precision_1: 0.7177 - val_loss: 0.5405 - val_accuracy: 0.7414 - val_recall_1: 0.8072 - val_precision_1: 0.7317\n",
            "Epoch 107/500\n",
            "85/85 [==============================] - 3s 36ms/step - loss: 0.5335 - accuracy: 0.7483 - recall_1: 0.8262 - precision_1: 0.7311 - val_loss: 0.5449 - val_accuracy: 0.7491 - val_recall_1: 0.8399 - val_precision_1: 0.7093\n",
            "Epoch 108/500\n",
            "85/85 [==============================] - 3s 36ms/step - loss: 0.5351 - accuracy: 0.7568 - recall_1: 0.8218 - precision_1: 0.7221 - val_loss: 0.5543 - val_accuracy: 0.7543 - val_recall_1: 0.8830 - val_precision_1: 0.6628\n",
            "Epoch 109/500\n",
            "85/85 [==============================] - 3s 37ms/step - loss: 0.5338 - accuracy: 0.7557 - recall_1: 0.8276 - precision_1: 0.7189 - val_loss: 0.5423 - val_accuracy: 0.7595 - val_recall_1: 0.8279 - val_precision_1: 0.7190\n",
            "Epoch 110/500\n",
            "85/85 [==============================] - 3s 37ms/step - loss: 0.5346 - accuracy: 0.7561 - recall_1: 0.8203 - precision_1: 0.7167 - val_loss: 0.5400 - val_accuracy: 0.7466 - val_recall_1: 0.8038 - val_precision_1: 0.7263\n",
            "Epoch 111/500\n",
            "85/85 [==============================] - 3s 37ms/step - loss: 0.5360 - accuracy: 0.7509 - recall_1: 0.8181 - precision_1: 0.7089 - val_loss: 0.5438 - val_accuracy: 0.7491 - val_recall_1: 0.8296 - val_precision_1: 0.7205\n",
            "Epoch 112/500\n",
            "85/85 [==============================] - 3s 37ms/step - loss: 0.5323 - accuracy: 0.7513 - recall_1: 0.8276 - precision_1: 0.7112 - val_loss: 0.5429 - val_accuracy: 0.7517 - val_recall_1: 0.8193 - val_precision_1: 0.7267\n",
            "Epoch 113/500\n",
            "85/85 [==============================] - 3s 38ms/step - loss: 0.5326 - accuracy: 0.7524 - recall_1: 0.8247 - precision_1: 0.7164 - val_loss: 0.5419 - val_accuracy: 0.7569 - val_recall_1: 0.8296 - val_precision_1: 0.7047\n",
            "Epoch 114/500\n",
            "85/85 [==============================] - 3s 36ms/step - loss: 0.5367 - accuracy: 0.7483 - recall_1: 0.8218 - precision_1: 0.7225 - val_loss: 0.5437 - val_accuracy: 0.7517 - val_recall_1: 0.8210 - val_precision_1: 0.7109\n",
            "Epoch 115/500\n",
            "85/85 [==============================] - 3s 36ms/step - loss: 0.5338 - accuracy: 0.7542 - recall_1: 0.8218 - precision_1: 0.7107 - val_loss: 0.5418 - val_accuracy: 0.7448 - val_recall_1: 0.7642 - val_precision_1: 0.7487\n",
            "Epoch 116/500\n",
            "85/85 [==============================] - 3s 37ms/step - loss: 0.5341 - accuracy: 0.7568 - recall_1: 0.8247 - precision_1: 0.7164 - val_loss: 0.5395 - val_accuracy: 0.7509 - val_recall_1: 0.8003 - val_precision_1: 0.7346\n",
            "Epoch 117/500\n",
            "85/85 [==============================] - 3s 36ms/step - loss: 0.5295 - accuracy: 0.7579 - recall_1: 0.8240 - precision_1: 0.7217 - val_loss: 0.5411 - val_accuracy: 0.7509 - val_recall_1: 0.8193 - val_precision_1: 0.7179\n",
            "Epoch 118/500\n",
            "85/85 [==============================] - 3s 37ms/step - loss: 0.5313 - accuracy: 0.7524 - recall_1: 0.8225 - precision_1: 0.7181 - val_loss: 0.5389 - val_accuracy: 0.7431 - val_recall_1: 0.7952 - val_precision_1: 0.7392\n",
            "Epoch 119/500\n",
            "85/85 [==============================] - 3s 36ms/step - loss: 0.5338 - accuracy: 0.7509 - recall_1: 0.8218 - precision_1: 0.7239 - val_loss: 0.5407 - val_accuracy: 0.7440 - val_recall_1: 0.7935 - val_precision_1: 0.7341\n",
            "Epoch 120/500\n",
            "85/85 [==============================] - 3s 38ms/step - loss: 0.5305 - accuracy: 0.7524 - recall_1: 0.8342 - precision_1: 0.7201 - val_loss: 0.5387 - val_accuracy: 0.7577 - val_recall_1: 0.8210 - val_precision_1: 0.7195\n",
            "Epoch 121/500\n",
            "85/85 [==============================] - 3s 37ms/step - loss: 0.5326 - accuracy: 0.7572 - recall_1: 0.8232 - precision_1: 0.7165 - val_loss: 0.5443 - val_accuracy: 0.7440 - val_recall_1: 0.7608 - val_precision_1: 0.7466\n",
            "Epoch 122/500\n",
            "85/85 [==============================] - 3s 37ms/step - loss: 0.5280 - accuracy: 0.7524 - recall_1: 0.8313 - precision_1: 0.7235 - val_loss: 0.5442 - val_accuracy: 0.7543 - val_recall_1: 0.8571 - val_precision_1: 0.6936\n",
            "Epoch 123/500\n",
            "85/85 [==============================] - 3s 36ms/step - loss: 0.5311 - accuracy: 0.7531 - recall_1: 0.8320 - precision_1: 0.7146 - val_loss: 0.5420 - val_accuracy: 0.7500 - val_recall_1: 0.8193 - val_precision_1: 0.7158\n",
            "Epoch 124/500\n",
            "85/85 [==============================] - 3s 38ms/step - loss: 0.5382 - accuracy: 0.7520 - recall_1: 0.8188 - precision_1: 0.7195 - val_loss: 0.5375 - val_accuracy: 0.7491 - val_recall_1: 0.8313 - val_precision_1: 0.7156\n",
            "Epoch 125/500\n",
            "85/85 [==============================] - 3s 36ms/step - loss: 0.5366 - accuracy: 0.7524 - recall_1: 0.8269 - precision_1: 0.7137 - val_loss: 0.5386 - val_accuracy: 0.7552 - val_recall_1: 0.8141 - val_precision_1: 0.7288\n",
            "Epoch 126/500\n",
            "85/85 [==============================] - 3s 36ms/step - loss: 0.5306 - accuracy: 0.7506 - recall_1: 0.8313 - precision_1: 0.7207 - val_loss: 0.5489 - val_accuracy: 0.7466 - val_recall_1: 0.8537 - val_precision_1: 0.6730\n",
            "Epoch 127/500\n",
            "85/85 [==============================] - 3s 37ms/step - loss: 0.5348 - accuracy: 0.7531 - recall_1: 0.8283 - precision_1: 0.7146 - val_loss: 0.5373 - val_accuracy: 0.7483 - val_recall_1: 0.8158 - val_precision_1: 0.7304\n",
            "Epoch 128/500\n",
            "85/85 [==============================] - 3s 38ms/step - loss: 0.5339 - accuracy: 0.7550 - recall_1: 0.8254 - precision_1: 0.7175 - val_loss: 0.5403 - val_accuracy: 0.7457 - val_recall_1: 0.8003 - val_precision_1: 0.7300\n",
            "Epoch 129/500\n",
            "85/85 [==============================] - 3s 37ms/step - loss: 0.5286 - accuracy: 0.7586 - recall_1: 0.8232 - precision_1: 0.7110 - val_loss: 0.5402 - val_accuracy: 0.7552 - val_recall_1: 0.8330 - val_precision_1: 0.7097\n",
            "Epoch 130/500\n",
            "85/85 [==============================] - 3s 37ms/step - loss: 0.5314 - accuracy: 0.7528 - recall_1: 0.8320 - precision_1: 0.7223 - val_loss: 0.5380 - val_accuracy: 0.7466 - val_recall_1: 0.8003 - val_precision_1: 0.7346\n",
            "Epoch 131/500\n",
            "85/85 [==============================] - 3s 37ms/step - loss: 0.5288 - accuracy: 0.7597 - recall_1: 0.8269 - precision_1: 0.7284 - val_loss: 0.5385 - val_accuracy: 0.7586 - val_recall_1: 0.8365 - val_precision_1: 0.7126\n",
            "Epoch 132/500\n",
            "85/85 [==============================] - 3s 38ms/step - loss: 0.5338 - accuracy: 0.7513 - recall_1: 0.8291 - precision_1: 0.7134 - val_loss: 0.5363 - val_accuracy: 0.7603 - val_recall_1: 0.8193 - val_precision_1: 0.7256\n",
            "Epoch 133/500\n",
            "85/85 [==============================] - 3s 37ms/step - loss: 0.5317 - accuracy: 0.7575 - recall_1: 0.8232 - precision_1: 0.7183 - val_loss: 0.5495 - val_accuracy: 0.7586 - val_recall_1: 0.8675 - val_precision_1: 0.6747\n",
            "Epoch 134/500\n",
            "85/85 [==============================] - 3s 37ms/step - loss: 0.5297 - accuracy: 0.7620 - recall_1: 0.8269 - precision_1: 0.7133 - val_loss: 0.5388 - val_accuracy: 0.7543 - val_recall_1: 0.8365 - val_precision_1: 0.7105\n",
            "Epoch 135/500\n",
            "85/85 [==============================] - 3s 36ms/step - loss: 0.5302 - accuracy: 0.7601 - recall_1: 0.8262 - precision_1: 0.7163 - val_loss: 0.5406 - val_accuracy: 0.7543 - val_recall_1: 0.8227 - val_precision_1: 0.7071\n",
            "Epoch 136/500\n",
            "85/85 [==============================] - 3s 37ms/step - loss: 0.5294 - accuracy: 0.7594 - recall_1: 0.8203 - precision_1: 0.7203 - val_loss: 0.5386 - val_accuracy: 0.7569 - val_recall_1: 0.8365 - val_precision_1: 0.7023\n",
            "Epoch 137/500\n",
            "85/85 [==============================] - 3s 37ms/step - loss: 0.5254 - accuracy: 0.7583 - recall_1: 0.8298 - precision_1: 0.7158 - val_loss: 0.5396 - val_accuracy: 0.7431 - val_recall_1: 0.8003 - val_precision_1: 0.7369\n",
            "Epoch 138/500\n",
            "85/85 [==============================] - 3s 38ms/step - loss: 0.5267 - accuracy: 0.7561 - recall_1: 0.8210 - precision_1: 0.7159 - val_loss: 0.5338 - val_accuracy: 0.7534 - val_recall_1: 0.7969 - val_precision_1: 0.7326\n",
            "Epoch 139/500\n",
            "85/85 [==============================] - 3s 37ms/step - loss: 0.5302 - accuracy: 0.7535 - recall_1: 0.8262 - precision_1: 0.7167 - val_loss: 0.5425 - val_accuracy: 0.7543 - val_recall_1: 0.8227 - val_precision_1: 0.7199\n",
            "Epoch 140/500\n",
            "85/85 [==============================] - 3s 37ms/step - loss: 0.5297 - accuracy: 0.7539 - recall_1: 0.8269 - precision_1: 0.7219 - val_loss: 0.5375 - val_accuracy: 0.7586 - val_recall_1: 0.8072 - val_precision_1: 0.7294\n",
            "Epoch 141/500\n",
            "85/85 [==============================] - 3s 38ms/step - loss: 0.5315 - accuracy: 0.7572 - recall_1: 0.8210 - precision_1: 0.7210 - val_loss: 0.5376 - val_accuracy: 0.7595 - val_recall_1: 0.8399 - val_precision_1: 0.7042\n",
            "Epoch 142/500\n",
            "85/85 [==============================] - 3s 37ms/step - loss: 0.5298 - accuracy: 0.7579 - recall_1: 0.8276 - precision_1: 0.7185 - val_loss: 0.5352 - val_accuracy: 0.7517 - val_recall_1: 0.8176 - val_precision_1: 0.7330\n",
            "Epoch 143/500\n",
            "85/85 [==============================] - 3s 37ms/step - loss: 0.5246 - accuracy: 0.7564 - recall_1: 0.8320 - precision_1: 0.7232 - val_loss: 0.5424 - val_accuracy: 0.7517 - val_recall_1: 0.8038 - val_precision_1: 0.7308\n",
            "Epoch 144/500\n",
            "85/85 [==============================] - 3s 37ms/step - loss: 0.5296 - accuracy: 0.7594 - recall_1: 0.8225 - precision_1: 0.7158 - val_loss: 0.5359 - val_accuracy: 0.7534 - val_recall_1: 0.7986 - val_precision_1: 0.7330\n",
            "Epoch 145/500\n",
            "85/85 [==============================] - 3s 37ms/step - loss: 0.5290 - accuracy: 0.7557 - recall_1: 0.8349 - precision_1: 0.7253 - val_loss: 0.5459 - val_accuracy: 0.7294 - val_recall_1: 0.7401 - val_precision_1: 0.7638\n",
            "Epoch 146/500\n",
            "85/85 [==============================] - 3s 38ms/step - loss: 0.5314 - accuracy: 0.7542 - recall_1: 0.8225 - precision_1: 0.7218 - val_loss: 0.5359 - val_accuracy: 0.7543 - val_recall_1: 0.8193 - val_precision_1: 0.7245\n",
            "Epoch 147/500\n",
            "85/85 [==============================] - 3s 38ms/step - loss: 0.5315 - accuracy: 0.7564 - recall_1: 0.8240 - precision_1: 0.7194 - val_loss: 0.5337 - val_accuracy: 0.7526 - val_recall_1: 0.8210 - val_precision_1: 0.7294\n",
            "Epoch 148/500\n",
            "85/85 [==============================] - 3s 38ms/step - loss: 0.5298 - accuracy: 0.7583 - recall_1: 0.8291 - precision_1: 0.7179 - val_loss: 0.5387 - val_accuracy: 0.7500 - val_recall_1: 0.8193 - val_precision_1: 0.7158\n",
            "Epoch 149/500\n",
            "85/85 [==============================] - 3s 37ms/step - loss: 0.5317 - accuracy: 0.7528 - recall_1: 0.8240 - precision_1: 0.7198 - val_loss: 0.5382 - val_accuracy: 0.7534 - val_recall_1: 0.8313 - val_precision_1: 0.7082\n",
            "Epoch 150/500\n",
            "85/85 [==============================] - 3s 37ms/step - loss: 0.5305 - accuracy: 0.7524 - recall_1: 0.8327 - precision_1: 0.7090 - val_loss: 0.5403 - val_accuracy: 0.7448 - val_recall_1: 0.7694 - val_precision_1: 0.7576\n",
            "Epoch 151/500\n",
            "85/85 [==============================] - 3s 38ms/step - loss: 0.5249 - accuracy: 0.7487 - recall_1: 0.8188 - precision_1: 0.7232 - val_loss: 0.5381 - val_accuracy: 0.7509 - val_recall_1: 0.8176 - val_precision_1: 0.7175\n",
            "Epoch 152/500\n",
            "85/85 [==============================] - 3s 38ms/step - loss: 0.5291 - accuracy: 0.7638 - recall_1: 0.8305 - precision_1: 0.7169 - val_loss: 0.5333 - val_accuracy: 0.7534 - val_recall_1: 0.8210 - val_precision_1: 0.7205\n",
            "Epoch 153/500\n",
            "85/85 [==============================] - 3s 38ms/step - loss: 0.5270 - accuracy: 0.7561 - recall_1: 0.8276 - precision_1: 0.7249 - val_loss: 0.5348 - val_accuracy: 0.7466 - val_recall_1: 0.8262 - val_precision_1: 0.7207\n",
            "Epoch 154/500\n",
            "85/85 [==============================] - 3s 38ms/step - loss: 0.5251 - accuracy: 0.7557 - recall_1: 0.8240 - precision_1: 0.7171 - val_loss: 0.5355 - val_accuracy: 0.7509 - val_recall_1: 0.8176 - val_precision_1: 0.7296\n",
            "Epoch 155/500\n",
            "85/85 [==============================] - 3s 38ms/step - loss: 0.5313 - accuracy: 0.7561 - recall_1: 0.8269 - precision_1: 0.7137 - val_loss: 0.5352 - val_accuracy: 0.7534 - val_recall_1: 0.8107 - val_precision_1: 0.7314\n",
            "Epoch 156/500\n",
            "85/85 [==============================] - 3s 38ms/step - loss: 0.5276 - accuracy: 0.7502 - recall_1: 0.8232 - precision_1: 0.7201 - val_loss: 0.5358 - val_accuracy: 0.7474 - val_recall_1: 0.8193 - val_precision_1: 0.7301\n",
            "Epoch 157/500\n",
            "85/85 [==============================] - 3s 39ms/step - loss: 0.5260 - accuracy: 0.7575 - recall_1: 0.8283 - precision_1: 0.7200 - val_loss: 0.5319 - val_accuracy: 0.7414 - val_recall_1: 0.7883 - val_precision_1: 0.7423\n",
            "Epoch 158/500\n",
            "85/85 [==============================] - 3s 38ms/step - loss: 0.5268 - accuracy: 0.7594 - recall_1: 0.8269 - precision_1: 0.7206 - val_loss: 0.5329 - val_accuracy: 0.7534 - val_recall_1: 0.8365 - val_precision_1: 0.7265\n",
            "Epoch 159/500\n",
            "85/85 [==============================] - 3s 36ms/step - loss: 0.5249 - accuracy: 0.7590 - recall_1: 0.8269 - precision_1: 0.7308 - val_loss: 0.5368 - val_accuracy: 0.7560 - val_recall_1: 0.8348 - val_precision_1: 0.7080\n",
            "Epoch 160/500\n",
            "85/85 [==============================] - 3s 38ms/step - loss: 0.5280 - accuracy: 0.7586 - recall_1: 0.8218 - precision_1: 0.7249 - val_loss: 0.5381 - val_accuracy: 0.7534 - val_recall_1: 0.8485 - val_precision_1: 0.6973\n",
            "Epoch 161/500\n",
            "85/85 [==============================] - 3s 37ms/step - loss: 0.5277 - accuracy: 0.7568 - recall_1: 0.8371 - precision_1: 0.7212 - val_loss: 0.5369 - val_accuracy: 0.7500 - val_recall_1: 0.7935 - val_precision_1: 0.7376\n",
            "Epoch 162/500\n",
            "85/85 [==============================] - 3s 40ms/step - loss: 0.5256 - accuracy: 0.7597 - recall_1: 0.8276 - precision_1: 0.7240 - val_loss: 0.5395 - val_accuracy: 0.7552 - val_recall_1: 0.8262 - val_precision_1: 0.7090\n",
            "Epoch 163/500\n",
            "85/85 [==============================] - 3s 38ms/step - loss: 0.5281 - accuracy: 0.7575 - recall_1: 0.8210 - precision_1: 0.7242 - val_loss: 0.5347 - val_accuracy: 0.7577 - val_recall_1: 0.8262 - val_precision_1: 0.7240\n",
            "Epoch 164/500\n",
            "85/85 [==============================] - 3s 39ms/step - loss: 0.5235 - accuracy: 0.7579 - recall_1: 0.8254 - precision_1: 0.7220 - val_loss: 0.5356 - val_accuracy: 0.7474 - val_recall_1: 0.8072 - val_precision_1: 0.7340\n",
            "Epoch 165/500\n",
            "85/85 [==============================] - 3s 39ms/step - loss: 0.5287 - accuracy: 0.7568 - recall_1: 0.8305 - precision_1: 0.7187 - val_loss: 0.5296 - val_accuracy: 0.7534 - val_recall_1: 0.7986 - val_precision_1: 0.7472\n",
            "Epoch 166/500\n",
            "85/85 [==============================] - 3s 38ms/step - loss: 0.5286 - accuracy: 0.7553 - recall_1: 0.8247 - precision_1: 0.7279 - val_loss: 0.5385 - val_accuracy: 0.7517 - val_recall_1: 0.8313 - val_precision_1: 0.7072\n",
            "Epoch 167/500\n",
            "85/85 [==============================] - 3s 38ms/step - loss: 0.5247 - accuracy: 0.7586 - recall_1: 0.8320 - precision_1: 0.7259 - val_loss: 0.5335 - val_accuracy: 0.7517 - val_recall_1: 0.8210 - val_precision_1: 0.7271\n",
            "Epoch 168/500\n",
            "85/85 [==============================] - 3s 38ms/step - loss: 0.5216 - accuracy: 0.7627 - recall_1: 0.8371 - precision_1: 0.7212 - val_loss: 0.5356 - val_accuracy: 0.7517 - val_recall_1: 0.8038 - val_precision_1: 0.7354\n",
            "Epoch 169/500\n",
            "85/85 [==============================] - 3s 41ms/step - loss: 0.5301 - accuracy: 0.7535 - recall_1: 0.8276 - precision_1: 0.7235 - val_loss: 0.5363 - val_accuracy: 0.7577 - val_recall_1: 0.8399 - val_precision_1: 0.7011\n",
            "Epoch 170/500\n",
            "85/85 [==============================] - 3s 39ms/step - loss: 0.5278 - accuracy: 0.7583 - recall_1: 0.8262 - precision_1: 0.7181 - val_loss: 0.5330 - val_accuracy: 0.7603 - val_recall_1: 0.8313 - val_precision_1: 0.7166\n",
            "Epoch 171/500\n",
            "85/85 [==============================] - 3s 39ms/step - loss: 0.5278 - accuracy: 0.7609 - recall_1: 0.8262 - precision_1: 0.7176 - val_loss: 0.5365 - val_accuracy: 0.7534 - val_recall_1: 0.8313 - val_precision_1: 0.7188\n",
            "Epoch 172/500\n",
            "85/85 [==============================] - 3s 38ms/step - loss: 0.5274 - accuracy: 0.7631 - recall_1: 0.8364 - precision_1: 0.7210 - val_loss: 0.5329 - val_accuracy: 0.7509 - val_recall_1: 0.8348 - val_precision_1: 0.7080\n",
            "Epoch 173/500\n",
            "85/85 [==============================] - 3s 38ms/step - loss: 0.5245 - accuracy: 0.7550 - recall_1: 0.8364 - precision_1: 0.7233 - val_loss: 0.5372 - val_accuracy: 0.7483 - val_recall_1: 0.8313 - val_precision_1: 0.7000\n",
            "Epoch 174/500\n",
            "85/85 [==============================] - 3s 38ms/step - loss: 0.5218 - accuracy: 0.7517 - recall_1: 0.8254 - precision_1: 0.7094 - val_loss: 0.5332 - val_accuracy: 0.7483 - val_recall_1: 0.7900 - val_precision_1: 0.7415\n",
            "Epoch 175/500\n",
            "85/85 [==============================] - 3s 38ms/step - loss: 0.5202 - accuracy: 0.7609 - recall_1: 0.8247 - precision_1: 0.7214 - val_loss: 0.5355 - val_accuracy: 0.7509 - val_recall_1: 0.8279 - val_precision_1: 0.7158\n",
            "Epoch 176/500\n",
            "85/85 [==============================] - 3s 40ms/step - loss: 0.5323 - accuracy: 0.7520 - recall_1: 0.8356 - precision_1: 0.7186 - val_loss: 0.5309 - val_accuracy: 0.7552 - val_recall_1: 0.8021 - val_precision_1: 0.7327\n",
            "Epoch 177/500\n",
            "85/85 [==============================] - 3s 41ms/step - loss: 0.5238 - accuracy: 0.7627 - recall_1: 0.8247 - precision_1: 0.7274 - val_loss: 0.5332 - val_accuracy: 0.7500 - val_recall_1: 0.7883 - val_precision_1: 0.7375\n",
            "Epoch 178/500\n",
            "85/85 [==============================] - 3s 38ms/step - loss: 0.5201 - accuracy: 0.7597 - recall_1: 0.8342 - precision_1: 0.7246 - val_loss: 0.5310 - val_accuracy: 0.7509 - val_recall_1: 0.8072 - val_precision_1: 0.7363\n",
            "Epoch 179/500\n",
            "85/85 [==============================] - 3s 39ms/step - loss: 0.5263 - accuracy: 0.7634 - recall_1: 0.8262 - precision_1: 0.7163 - val_loss: 0.5329 - val_accuracy: 0.7517 - val_recall_1: 0.8090 - val_precision_1: 0.7264\n",
            "Epoch 180/500\n",
            "85/85 [==============================] - 3s 39ms/step - loss: 0.5217 - accuracy: 0.7550 - recall_1: 0.8269 - precision_1: 0.7229 - val_loss: 0.5329 - val_accuracy: 0.7577 - val_recall_1: 0.8055 - val_precision_1: 0.7393\n",
            "Epoch 181/500\n",
            "85/85 [==============================] - 3s 39ms/step - loss: 0.5231 - accuracy: 0.7553 - recall_1: 0.8218 - precision_1: 0.7249 - val_loss: 0.5433 - val_accuracy: 0.7569 - val_recall_1: 0.8537 - val_precision_1: 0.6767\n",
            "Epoch 182/500\n",
            "85/85 [==============================] - 3s 39ms/step - loss: 0.5255 - accuracy: 0.7586 - recall_1: 0.8378 - precision_1: 0.7178 - val_loss: 0.5316 - val_accuracy: 0.7466 - val_recall_1: 0.8072 - val_precision_1: 0.7480\n",
            "Epoch 183/500\n",
            "85/85 [==============================] - 3s 38ms/step - loss: 0.5264 - accuracy: 0.7568 - recall_1: 0.8196 - precision_1: 0.7248 - val_loss: 0.5357 - val_accuracy: 0.7543 - val_recall_1: 0.8124 - val_precision_1: 0.7130\n",
            "Epoch 184/500\n",
            "85/85 [==============================] - 3s 38ms/step - loss: 0.5223 - accuracy: 0.7671 - recall_1: 0.8313 - precision_1: 0.7221 - val_loss: 0.5358 - val_accuracy: 0.7466 - val_recall_1: 0.8124 - val_precision_1: 0.7387\n",
            "Epoch 185/500\n",
            "85/85 [==============================] - 3s 39ms/step - loss: 0.5212 - accuracy: 0.7590 - recall_1: 0.8342 - precision_1: 0.7210 - val_loss: 0.5326 - val_accuracy: 0.7534 - val_recall_1: 0.8055 - val_precision_1: 0.7324\n",
            "Epoch 186/500\n",
            "85/85 [==============================] - 3s 38ms/step - loss: 0.5263 - accuracy: 0.7594 - recall_1: 0.8203 - precision_1: 0.7231 - val_loss: 0.5290 - val_accuracy: 0.7586 - val_recall_1: 0.7986 - val_precision_1: 0.7389\n",
            "Epoch 187/500\n",
            "85/85 [==============================] - 4s 45ms/step - loss: 0.5242 - accuracy: 0.7616 - recall_1: 0.8313 - precision_1: 0.7225 - val_loss: 0.5352 - val_accuracy: 0.7543 - val_recall_1: 0.7711 - val_precision_1: 0.7504\n",
            "Epoch 188/500\n",
            "85/85 [==============================] - 3s 38ms/step - loss: 0.5225 - accuracy: 0.7539 - recall_1: 0.8152 - precision_1: 0.7266 - val_loss: 0.5335 - val_accuracy: 0.7517 - val_recall_1: 0.8141 - val_precision_1: 0.7299\n",
            "Epoch 189/500\n",
            "85/85 [==============================] - 3s 39ms/step - loss: 0.5215 - accuracy: 0.7612 - recall_1: 0.8313 - precision_1: 0.7148 - val_loss: 0.5340 - val_accuracy: 0.7483 - val_recall_1: 0.7780 - val_precision_1: 0.7446\n",
            "Epoch 190/500\n",
            "85/85 [==============================] - 3s 40ms/step - loss: 0.5266 - accuracy: 0.7616 - recall_1: 0.8225 - precision_1: 0.7241 - val_loss: 0.5348 - val_accuracy: 0.7543 - val_recall_1: 0.8090 - val_precision_1: 0.7264\n",
            "Epoch 191/500\n",
            "85/85 [==============================] - 3s 39ms/step - loss: 0.5271 - accuracy: 0.7583 - recall_1: 0.8210 - precision_1: 0.7275 - val_loss: 0.5361 - val_accuracy: 0.7543 - val_recall_1: 0.8451 - val_precision_1: 0.6906\n",
            "Epoch 192/500\n",
            "85/85 [==============================] - 3s 39ms/step - loss: 0.5236 - accuracy: 0.7601 - recall_1: 0.8327 - precision_1: 0.7206 - val_loss: 0.5334 - val_accuracy: 0.7526 - val_recall_1: 0.8313 - val_precision_1: 0.7072\n",
            "Epoch 193/500\n",
            "85/85 [==============================] - 3s 39ms/step - loss: 0.5223 - accuracy: 0.7634 - recall_1: 0.8298 - precision_1: 0.7190 - val_loss: 0.5333 - val_accuracy: 0.7500 - val_recall_1: 0.8072 - val_precision_1: 0.7328\n",
            "Epoch 194/500\n",
            "85/85 [==============================] - 3s 41ms/step - loss: 0.5231 - accuracy: 0.7649 - recall_1: 0.8262 - precision_1: 0.7259 - val_loss: 0.5391 - val_accuracy: 0.7629 - val_recall_1: 0.8795 - val_precision_1: 0.6741\n",
            "Epoch 195/500\n",
            "85/85 [==============================] - 3s 39ms/step - loss: 0.5296 - accuracy: 0.7517 - recall_1: 0.8313 - precision_1: 0.7162 - val_loss: 0.5323 - val_accuracy: 0.7534 - val_recall_1: 0.8107 - val_precision_1: 0.7269\n",
            "Epoch 196/500\n",
            "85/85 [==============================] - 3s 39ms/step - loss: 0.5237 - accuracy: 0.7568 - recall_1: 0.8262 - precision_1: 0.7213 - val_loss: 0.5350 - val_accuracy: 0.7483 - val_recall_1: 0.7849 - val_precision_1: 0.7391\n",
            "Epoch 197/500\n",
            "85/85 [==============================] - 3s 39ms/step - loss: 0.5205 - accuracy: 0.7597 - recall_1: 0.8313 - precision_1: 0.7276 - val_loss: 0.5316 - val_accuracy: 0.7483 - val_recall_1: 0.8158 - val_precision_1: 0.7315\n",
            "Epoch 198/500\n",
            "85/85 [==============================] - 3s 38ms/step - loss: 0.5218 - accuracy: 0.7616 - recall_1: 0.8342 - precision_1: 0.7237 - val_loss: 0.5321 - val_accuracy: 0.7560 - val_recall_1: 0.8055 - val_precision_1: 0.7370\n",
            "Epoch 199/500\n",
            "85/85 [==============================] - 3s 39ms/step - loss: 0.5219 - accuracy: 0.7572 - recall_1: 0.8240 - precision_1: 0.7189 - val_loss: 0.5351 - val_accuracy: 0.7552 - val_recall_1: 0.8365 - val_precision_1: 0.7043\n",
            "Epoch 200/500\n",
            "85/85 [==============================] - 3s 38ms/step - loss: 0.5250 - accuracy: 0.7609 - recall_1: 0.8364 - precision_1: 0.7210 - val_loss: 0.5335 - val_accuracy: 0.7483 - val_recall_1: 0.7797 - val_precision_1: 0.7512\n",
            "Epoch 201/500\n",
            "85/85 [==============================] - 3s 39ms/step - loss: 0.5176 - accuracy: 0.7597 - recall_1: 0.8276 - precision_1: 0.7296 - val_loss: 0.5353 - val_accuracy: 0.7595 - val_recall_1: 0.8382 - val_precision_1: 0.6967\n",
            "Epoch 202/500\n",
            "85/85 [==============================] - 3s 38ms/step - loss: 0.5229 - accuracy: 0.7645 - recall_1: 0.8305 - precision_1: 0.7214 - val_loss: 0.5345 - val_accuracy: 0.7517 - val_recall_1: 0.8176 - val_precision_1: 0.7230\n",
            "Epoch 203/500\n",
            "85/85 [==============================] - 3s 39ms/step - loss: 0.5187 - accuracy: 0.7616 - recall_1: 0.8305 - precision_1: 0.7256 - val_loss: 0.5289 - val_accuracy: 0.7569 - val_recall_1: 0.8193 - val_precision_1: 0.7301\n",
            "Epoch 204/500\n",
            "85/85 [==============================] - 3s 38ms/step - loss: 0.5226 - accuracy: 0.7597 - recall_1: 0.8276 - precision_1: 0.7296 - val_loss: 0.5297 - val_accuracy: 0.7526 - val_recall_1: 0.8417 - val_precision_1: 0.7026\n",
            "Epoch 205/500\n",
            "85/85 [==============================] - 3s 39ms/step - loss: 0.5253 - accuracy: 0.7586 - recall_1: 0.8364 - precision_1: 0.7247 - val_loss: 0.5297 - val_accuracy: 0.7526 - val_recall_1: 0.8021 - val_precision_1: 0.7339\n",
            "Epoch 206/500\n",
            "85/85 [==============================] - 3s 39ms/step - loss: 0.5212 - accuracy: 0.7594 - recall_1: 0.8247 - precision_1: 0.7242 - val_loss: 0.5406 - val_accuracy: 0.7526 - val_recall_1: 0.8571 - val_precision_1: 0.6803\n",
            "Epoch 207/500\n",
            "85/85 [==============================] - 3s 39ms/step - loss: 0.5237 - accuracy: 0.7597 - recall_1: 0.8386 - precision_1: 0.7247 - val_loss: 0.5362 - val_accuracy: 0.7534 - val_recall_1: 0.8399 - val_precision_1: 0.6912\n",
            "Epoch 208/500\n",
            "85/85 [==============================] - 3s 38ms/step - loss: 0.5214 - accuracy: 0.7645 - recall_1: 0.8356 - precision_1: 0.7209 - val_loss: 0.5323 - val_accuracy: 0.7603 - val_recall_1: 0.8176 - val_precision_1: 0.7068\n",
            "Epoch 209/500\n",
            "85/85 [==============================] - 3s 38ms/step - loss: 0.5171 - accuracy: 0.7597 - recall_1: 0.8371 - precision_1: 0.7258 - val_loss: 0.5291 - val_accuracy: 0.7543 - val_recall_1: 0.8072 - val_precision_1: 0.7328\n",
            "Epoch 210/500\n",
            "85/85 [==============================] - 3s 38ms/step - loss: 0.5215 - accuracy: 0.7612 - recall_1: 0.8327 - precision_1: 0.7238 - val_loss: 0.5305 - val_accuracy: 0.7595 - val_recall_1: 0.7866 - val_precision_1: 0.7395\n",
            "Epoch 211/500\n",
            "85/85 [==============================] - 3s 39ms/step - loss: 0.5260 - accuracy: 0.7620 - recall_1: 0.8342 - precision_1: 0.7182 - val_loss: 0.5264 - val_accuracy: 0.7620 - val_recall_1: 0.8193 - val_precision_1: 0.7334\n",
            "Epoch 212/500\n",
            "85/85 [==============================] - 3s 38ms/step - loss: 0.5227 - accuracy: 0.7609 - recall_1: 0.8335 - precision_1: 0.7240 - val_loss: 0.5317 - val_accuracy: 0.7552 - val_recall_1: 0.8141 - val_precision_1: 0.7266\n",
            "Epoch 213/500\n",
            "85/85 [==============================] - 3s 38ms/step - loss: 0.5167 - accuracy: 0.7627 - recall_1: 0.8232 - precision_1: 0.7178 - val_loss: 0.5309 - val_accuracy: 0.7569 - val_recall_1: 0.8227 - val_precision_1: 0.7145\n",
            "Epoch 214/500\n",
            "85/85 [==============================] - 3s 39ms/step - loss: 0.5196 - accuracy: 0.7542 - recall_1: 0.8225 - precision_1: 0.7293 - val_loss: 0.5285 - val_accuracy: 0.7552 - val_recall_1: 0.8262 - val_precision_1: 0.7164\n",
            "Epoch 215/500\n",
            "85/85 [==============================] - 3s 39ms/step - loss: 0.5189 - accuracy: 0.7656 - recall_1: 0.8298 - precision_1: 0.7226 - val_loss: 0.5326 - val_accuracy: 0.7534 - val_recall_1: 0.8330 - val_precision_1: 0.7097\n",
            "Epoch 216/500\n",
            "85/85 [==============================] - 3s 39ms/step - loss: 0.5226 - accuracy: 0.7634 - recall_1: 0.8349 - precision_1: 0.7220 - val_loss: 0.5309 - val_accuracy: 0.7552 - val_recall_1: 0.8193 - val_precision_1: 0.7201\n",
            "Epoch 217/500\n",
            "85/85 [==============================] - 3s 38ms/step - loss: 0.5243 - accuracy: 0.7594 - recall_1: 0.8327 - precision_1: 0.7289 - val_loss: 0.5277 - val_accuracy: 0.7586 - val_recall_1: 0.8158 - val_precision_1: 0.7304\n",
            "Epoch 218/500\n",
            "85/85 [==============================] - 3s 38ms/step - loss: 0.5219 - accuracy: 0.7605 - recall_1: 0.8262 - precision_1: 0.7278 - val_loss: 0.5326 - val_accuracy: 0.7569 - val_recall_1: 0.8330 - val_precision_1: 0.7128\n",
            "Epoch 219/500\n",
            "85/85 [==============================] - 3s 39ms/step - loss: 0.5189 - accuracy: 0.7609 - recall_1: 0.8291 - precision_1: 0.7161 - val_loss: 0.5292 - val_accuracy: 0.7569 - val_recall_1: 0.8262 - val_precision_1: 0.7207\n",
            "Epoch 220/500\n",
            "85/85 [==============================] - 3s 39ms/step - loss: 0.5255 - accuracy: 0.7564 - recall_1: 0.8203 - precision_1: 0.7208 - val_loss: 0.5356 - val_accuracy: 0.7620 - val_recall_1: 0.8365 - val_precision_1: 0.6963\n",
            "Epoch 221/500\n",
            "85/85 [==============================] - 3s 39ms/step - loss: 0.5195 - accuracy: 0.7605 - recall_1: 0.8283 - precision_1: 0.7274 - val_loss: 0.5304 - val_accuracy: 0.7543 - val_recall_1: 0.8193 - val_precision_1: 0.7190\n",
            "Epoch 222/500\n",
            "85/85 [==============================] - 3s 40ms/step - loss: 0.5210 - accuracy: 0.7594 - recall_1: 0.8320 - precision_1: 0.7227 - val_loss: 0.5273 - val_accuracy: 0.7560 - val_recall_1: 0.8124 - val_precision_1: 0.7329\n",
            "Epoch 223/500\n",
            "85/85 [==============================] - 3s 38ms/step - loss: 0.5161 - accuracy: 0.7645 - recall_1: 0.8240 - precision_1: 0.7310 - val_loss: 0.5296 - val_accuracy: 0.7483 - val_recall_1: 0.8244 - val_precision_1: 0.7214\n",
            "Epoch 224/500\n",
            "85/85 [==============================] - 3s 39ms/step - loss: 0.5211 - accuracy: 0.7627 - recall_1: 0.8218 - precision_1: 0.7207 - val_loss: 0.5306 - val_accuracy: 0.7603 - val_recall_1: 0.8210 - val_precision_1: 0.7173\n",
            "Epoch 225/500\n",
            "85/85 [==============================] - 3s 40ms/step - loss: 0.5203 - accuracy: 0.7609 - recall_1: 0.8393 - precision_1: 0.7286 - val_loss: 0.5333 - val_accuracy: 0.7509 - val_recall_1: 0.8158 - val_precision_1: 0.7182\n",
            "Epoch 226/500\n",
            "85/85 [==============================] - 3s 40ms/step - loss: 0.5183 - accuracy: 0.7597 - recall_1: 0.8313 - precision_1: 0.7332 - val_loss: 0.5327 - val_accuracy: 0.7577 - val_recall_1: 0.8330 - val_precision_1: 0.7014\n",
            "Epoch 227/500\n",
            "85/85 [==============================] - 3s 38ms/step - loss: 0.5177 - accuracy: 0.7631 - recall_1: 0.8298 - precision_1: 0.7296 - val_loss: 0.5292 - val_accuracy: 0.7560 - val_recall_1: 0.8296 - val_precision_1: 0.7130\n",
            "Epoch 228/500\n",
            "85/85 [==============================] - 3s 39ms/step - loss: 0.5196 - accuracy: 0.7561 - recall_1: 0.8283 - precision_1: 0.7269 - val_loss: 0.5284 - val_accuracy: 0.7569 - val_recall_1: 0.8210 - val_precision_1: 0.7305\n",
            "Epoch 229/500\n",
            "85/85 [==============================] - 3s 39ms/step - loss: 0.5145 - accuracy: 0.7660 - recall_1: 0.8415 - precision_1: 0.7250 - val_loss: 0.5267 - val_accuracy: 0.7500 - val_recall_1: 0.7814 - val_precision_1: 0.7430\n",
            "Epoch 230/500\n",
            "85/85 [==============================] - 3s 39ms/step - loss: 0.5204 - accuracy: 0.7638 - recall_1: 0.8305 - precision_1: 0.7237 - val_loss: 0.5279 - val_accuracy: 0.7552 - val_recall_1: 0.8090 - val_precision_1: 0.7332\n",
            "Epoch 231/500\n",
            "85/85 [==============================] - 3s 39ms/step - loss: 0.5190 - accuracy: 0.7609 - recall_1: 0.8400 - precision_1: 0.7251 - val_loss: 0.5275 - val_accuracy: 0.7543 - val_recall_1: 0.8382 - val_precision_1: 0.7120\n",
            "Epoch 232/500\n",
            "85/85 [==============================] - 4s 41ms/step - loss: 0.5235 - accuracy: 0.7653 - recall_1: 0.8335 - precision_1: 0.7212 - val_loss: 0.5260 - val_accuracy: 0.7534 - val_recall_1: 0.8158 - val_precision_1: 0.7337\n",
            "Epoch 233/500\n",
            "85/85 [==============================] - 3s 40ms/step - loss: 0.5143 - accuracy: 0.7594 - recall_1: 0.8335 - precision_1: 0.7199 - val_loss: 0.5342 - val_accuracy: 0.7543 - val_recall_1: 0.8296 - val_precision_1: 0.7088\n",
            "Epoch 234/500\n",
            "85/85 [==============================] - 3s 39ms/step - loss: 0.5188 - accuracy: 0.7620 - recall_1: 0.8240 - precision_1: 0.7180 - val_loss: 0.5324 - val_accuracy: 0.7448 - val_recall_1: 0.7659 - val_precision_1: 0.7530\n",
            "Epoch 235/500\n",
            "85/85 [==============================] - 3s 41ms/step - loss: 0.5201 - accuracy: 0.7609 - recall_1: 0.8247 - precision_1: 0.7260 - val_loss: 0.5291 - val_accuracy: 0.7552 - val_recall_1: 0.8451 - val_precision_1: 0.6974\n",
            "Epoch 236/500\n",
            "85/85 [==============================] - 3s 40ms/step - loss: 0.5207 - accuracy: 0.7616 - recall_1: 0.8400 - precision_1: 0.7274 - val_loss: 0.5259 - val_accuracy: 0.7577 - val_recall_1: 0.8003 - val_precision_1: 0.7311\n",
            "Epoch 237/500\n",
            "85/85 [==============================] - 3s 39ms/step - loss: 0.5169 - accuracy: 0.7605 - recall_1: 0.8269 - precision_1: 0.7270 - val_loss: 0.5280 - val_accuracy: 0.7577 - val_recall_1: 0.7986 - val_precision_1: 0.7353\n",
            "Epoch 238/500\n",
            "85/85 [==============================] - 3s 38ms/step - loss: 0.5182 - accuracy: 0.7642 - recall_1: 0.8327 - precision_1: 0.7224 - val_loss: 0.5360 - val_accuracy: 0.7534 - val_recall_1: 0.8417 - val_precision_1: 0.6878\n",
            "Epoch 239/500\n",
            "85/85 [==============================] - 3s 40ms/step - loss: 0.5228 - accuracy: 0.7601 - recall_1: 0.8313 - precision_1: 0.7212 - val_loss: 0.5289 - val_accuracy: 0.7603 - val_recall_1: 0.8193 - val_precision_1: 0.7245\n",
            "Epoch 240/500\n",
            "85/85 [==============================] - 3s 39ms/step - loss: 0.5173 - accuracy: 0.7642 - recall_1: 0.8320 - precision_1: 0.7255 - val_loss: 0.5291 - val_accuracy: 0.7586 - val_recall_1: 0.8399 - val_precision_1: 0.7032\n",
            "Epoch 241/500\n",
            "85/85 [==============================] - 3s 39ms/step - loss: 0.5146 - accuracy: 0.7583 - recall_1: 0.8356 - precision_1: 0.7241 - val_loss: 0.5279 - val_accuracy: 0.7534 - val_recall_1: 0.8107 - val_precision_1: 0.7336\n",
            "Epoch 242/500\n",
            "85/85 [==============================] - 3s 38ms/step - loss: 0.5156 - accuracy: 0.7586 - recall_1: 0.8320 - precision_1: 0.7311 - val_loss: 0.5294 - val_accuracy: 0.7552 - val_recall_1: 0.8210 - val_precision_1: 0.7098\n",
            "Epoch 243/500\n",
            "85/85 [==============================] - 3s 40ms/step - loss: 0.5194 - accuracy: 0.7623 - recall_1: 0.8342 - precision_1: 0.7210 - val_loss: 0.5304 - val_accuracy: 0.7560 - val_recall_1: 0.8176 - val_precision_1: 0.7263\n",
            "Epoch 244/500\n",
            "85/85 [==============================] - 3s 39ms/step - loss: 0.5180 - accuracy: 0.7620 - recall_1: 0.8305 - precision_1: 0.7317 - val_loss: 0.5256 - val_accuracy: 0.7569 - val_recall_1: 0.8296 - val_precision_1: 0.7270\n",
            "Epoch 245/500\n",
            "85/85 [==============================] - 3s 39ms/step - loss: 0.5181 - accuracy: 0.7590 - recall_1: 0.8327 - precision_1: 0.7247 - val_loss: 0.5311 - val_accuracy: 0.7500 - val_recall_1: 0.7969 - val_precision_1: 0.7338\n",
            "Epoch 246/500\n",
            "85/85 [==============================] - 3s 39ms/step - loss: 0.5148 - accuracy: 0.7601 - recall_1: 0.8305 - precision_1: 0.7270 - val_loss: 0.5274 - val_accuracy: 0.7595 - val_recall_1: 0.8124 - val_precision_1: 0.7318\n",
            "Epoch 247/500\n",
            "85/85 [==============================] - 3s 39ms/step - loss: 0.5145 - accuracy: 0.7627 - recall_1: 0.8378 - precision_1: 0.7301 - val_loss: 0.5281 - val_accuracy: 0.7560 - val_recall_1: 0.8072 - val_precision_1: 0.7305\n",
            "Epoch 248/500\n",
            "85/85 [==============================] - 3s 39ms/step - loss: 0.5181 - accuracy: 0.7678 - recall_1: 0.8305 - precision_1: 0.7331 - val_loss: 0.5274 - val_accuracy: 0.7466 - val_recall_1: 0.8141 - val_precision_1: 0.7232\n",
            "Epoch 249/500\n",
            "85/85 [==============================] - 3s 39ms/step - loss: 0.5179 - accuracy: 0.7557 - recall_1: 0.8335 - precision_1: 0.7172 - val_loss: 0.5281 - val_accuracy: 0.7534 - val_recall_1: 0.8124 - val_precision_1: 0.7262\n",
            "Epoch 250/500\n",
            "85/85 [==============================] - 3s 39ms/step - loss: 0.5172 - accuracy: 0.7594 - recall_1: 0.8283 - precision_1: 0.7260 - val_loss: 0.5250 - val_accuracy: 0.7560 - val_recall_1: 0.8244 - val_precision_1: 0.7269\n",
            "Epoch 251/500\n",
            "85/85 [==============================] - 3s 40ms/step - loss: 0.5175 - accuracy: 0.7664 - recall_1: 0.8298 - precision_1: 0.7222 - val_loss: 0.5306 - val_accuracy: 0.7603 - val_recall_1: 0.8210 - val_precision_1: 0.7184\n",
            "Epoch 252/500\n",
            "85/85 [==============================] - 3s 39ms/step - loss: 0.5158 - accuracy: 0.7649 - recall_1: 0.8422 - precision_1: 0.7316 - val_loss: 0.5307 - val_accuracy: 0.7560 - val_recall_1: 0.7952 - val_precision_1: 0.7428\n",
            "Epoch 253/500\n",
            "85/85 [==============================] - 3s 38ms/step - loss: 0.5172 - accuracy: 0.7612 - recall_1: 0.8159 - precision_1: 0.7244 - val_loss: 0.5293 - val_accuracy: 0.7526 - val_recall_1: 0.8279 - val_precision_1: 0.7074\n",
            "Epoch 254/500\n",
            "85/85 [==============================] - 3s 39ms/step - loss: 0.5173 - accuracy: 0.7575 - recall_1: 0.8283 - precision_1: 0.7214 - val_loss: 0.5256 - val_accuracy: 0.7577 - val_recall_1: 0.8417 - val_precision_1: 0.7202\n",
            "Epoch 255/500\n",
            "85/85 [==============================] - 3s 39ms/step - loss: 0.5132 - accuracy: 0.7623 - recall_1: 0.8276 - precision_1: 0.7324 - val_loss: 0.5323 - val_accuracy: 0.7543 - val_recall_1: 0.8554 - val_precision_1: 0.7020\n",
            "Epoch 256/500\n",
            "85/85 [==============================] - 3s 40ms/step - loss: 0.5194 - accuracy: 0.7642 - recall_1: 0.8335 - precision_1: 0.7244 - val_loss: 0.5304 - val_accuracy: 0.7466 - val_recall_1: 0.8262 - val_precision_1: 0.7207\n",
            "Epoch 257/500\n",
            "85/85 [==============================] - 4s 42ms/step - loss: 0.5148 - accuracy: 0.7620 - recall_1: 0.8408 - precision_1: 0.7276 - val_loss: 0.5252 - val_accuracy: 0.7517 - val_recall_1: 0.8176 - val_precision_1: 0.7364\n",
            "Epoch 258/500\n",
            "85/85 [==============================] - 4s 42ms/step - loss: 0.5143 - accuracy: 0.7550 - recall_1: 0.8305 - precision_1: 0.7247 - val_loss: 0.5231 - val_accuracy: 0.7577 - val_recall_1: 0.8244 - val_precision_1: 0.7181\n",
            "Epoch 259/500\n",
            "85/85 [==============================] - 3s 39ms/step - loss: 0.5184 - accuracy: 0.7678 - recall_1: 0.8327 - precision_1: 0.7266 - val_loss: 0.5247 - val_accuracy: 0.7483 - val_recall_1: 0.8021 - val_precision_1: 0.7373\n",
            "Epoch 260/500\n",
            "85/85 [==============================] - 3s 39ms/step - loss: 0.5134 - accuracy: 0.7631 - recall_1: 0.8298 - precision_1: 0.7348 - val_loss: 0.5292 - val_accuracy: 0.7543 - val_recall_1: 0.8330 - val_precision_1: 0.7097\n",
            "Epoch 261/500\n",
            "85/85 [==============================] - 3s 40ms/step - loss: 0.5143 - accuracy: 0.7612 - recall_1: 0.8313 - precision_1: 0.7258 - val_loss: 0.5293 - val_accuracy: 0.7543 - val_recall_1: 0.8090 - val_precision_1: 0.7253\n",
            "Epoch 262/500\n",
            "85/85 [==============================] - 3s 39ms/step - loss: 0.5179 - accuracy: 0.7627 - recall_1: 0.8327 - precision_1: 0.7284 - val_loss: 0.5233 - val_accuracy: 0.7560 - val_recall_1: 0.8090 - val_precision_1: 0.7425\n",
            "Epoch 263/500\n",
            "85/85 [==============================] - 3s 39ms/step - loss: 0.5161 - accuracy: 0.7601 - recall_1: 0.8225 - precision_1: 0.7265 - val_loss: 0.5284 - val_accuracy: 0.7543 - val_recall_1: 0.8382 - val_precision_1: 0.6987\n",
            "Epoch 264/500\n",
            "85/85 [==============================] - 3s 40ms/step - loss: 0.5171 - accuracy: 0.7645 - recall_1: 0.8371 - precision_1: 0.7299 - val_loss: 0.5262 - val_accuracy: 0.7543 - val_recall_1: 0.8399 - val_precision_1: 0.7114\n",
            "Epoch 265/500\n",
            "85/85 [==============================] - 3s 39ms/step - loss: 0.5193 - accuracy: 0.7631 - recall_1: 0.8269 - precision_1: 0.7233 - val_loss: 0.5259 - val_accuracy: 0.7517 - val_recall_1: 0.8158 - val_precision_1: 0.7292\n",
            "Epoch 266/500\n",
            "85/85 [==============================] - 3s 39ms/step - loss: 0.5157 - accuracy: 0.7561 - recall_1: 0.8262 - precision_1: 0.7255 - val_loss: 0.5268 - val_accuracy: 0.7586 - val_recall_1: 0.8021 - val_precision_1: 0.7468\n",
            "Epoch 267/500\n",
            "85/85 [==============================] - 3s 40ms/step - loss: 0.5154 - accuracy: 0.7623 - recall_1: 0.8320 - precision_1: 0.7236 - val_loss: 0.5226 - val_accuracy: 0.7655 - val_recall_1: 0.8176 - val_precision_1: 0.7364\n",
            "Epoch 268/500\n",
            "85/85 [==============================] - 3s 40ms/step - loss: 0.5191 - accuracy: 0.7634 - recall_1: 0.8240 - precision_1: 0.7148 - val_loss: 0.5280 - val_accuracy: 0.7577 - val_recall_1: 0.8468 - val_precision_1: 0.6989\n",
            "Epoch 269/500\n",
            "85/85 [==============================] - 3s 39ms/step - loss: 0.5145 - accuracy: 0.7660 - recall_1: 0.8305 - precision_1: 0.7288 - val_loss: 0.5329 - val_accuracy: 0.7595 - val_recall_1: 0.8417 - val_precision_1: 0.6917\n",
            "Epoch 270/500\n",
            "85/85 [==============================] - 3s 40ms/step - loss: 0.5186 - accuracy: 0.7664 - recall_1: 0.8283 - precision_1: 0.7209 - val_loss: 0.5259 - val_accuracy: 0.7560 - val_recall_1: 0.7952 - val_precision_1: 0.7368\n",
            "Epoch 271/500\n",
            "85/85 [==============================] - 3s 39ms/step - loss: 0.5176 - accuracy: 0.7627 - recall_1: 0.8276 - precision_1: 0.7281 - val_loss: 0.5264 - val_accuracy: 0.7552 - val_recall_1: 0.8348 - val_precision_1: 0.7080\n",
            "Epoch 272/500\n",
            "85/85 [==============================] - 3s 39ms/step - loss: 0.5135 - accuracy: 0.7586 - recall_1: 0.8356 - precision_1: 0.7213 - val_loss: 0.5318 - val_accuracy: 0.7491 - val_recall_1: 0.8399 - val_precision_1: 0.6971\n",
            "Epoch 273/500\n",
            "85/85 [==============================] - 3s 40ms/step - loss: 0.5118 - accuracy: 0.7631 - recall_1: 0.8254 - precision_1: 0.7286 - val_loss: 0.5296 - val_accuracy: 0.7483 - val_recall_1: 0.8296 - val_precision_1: 0.7016\n",
            "Epoch 274/500\n",
            "85/85 [==============================] - 3s 41ms/step - loss: 0.5142 - accuracy: 0.7620 - recall_1: 0.8305 - precision_1: 0.7219 - val_loss: 0.5261 - val_accuracy: 0.7543 - val_recall_1: 0.8021 - val_precision_1: 0.7373\n",
            "Epoch 275/500\n",
            "85/85 [==============================] - 3s 40ms/step - loss: 0.5156 - accuracy: 0.7623 - recall_1: 0.8335 - precision_1: 0.7338 - val_loss: 0.5230 - val_accuracy: 0.7526 - val_recall_1: 0.8176 - val_precision_1: 0.7274\n",
            "Epoch 276/500\n",
            "85/85 [==============================] - 3s 39ms/step - loss: 0.5144 - accuracy: 0.7664 - recall_1: 0.8313 - precision_1: 0.7180 - val_loss: 0.5255 - val_accuracy: 0.7577 - val_recall_1: 0.8090 - val_precision_1: 0.7209\n",
            "Epoch 277/500\n",
            "85/85 [==============================] - 3s 39ms/step - loss: 0.5137 - accuracy: 0.7642 - recall_1: 0.8262 - precision_1: 0.7264 - val_loss: 0.5334 - val_accuracy: 0.7543 - val_recall_1: 0.8571 - val_precision_1: 0.6926\n",
            "Epoch 278/500\n",
            "85/85 [==============================] - 3s 39ms/step - loss: 0.5209 - accuracy: 0.7616 - recall_1: 0.8276 - precision_1: 0.7207 - val_loss: 0.5223 - val_accuracy: 0.7603 - val_recall_1: 0.8227 - val_precision_1: 0.7298\n",
            "Epoch 279/500\n",
            "85/85 [==============================] - 3s 39ms/step - loss: 0.5179 - accuracy: 0.7642 - recall_1: 0.8262 - precision_1: 0.7250 - val_loss: 0.5320 - val_accuracy: 0.7586 - val_recall_1: 0.8210 - val_precision_1: 0.7141\n",
            "Epoch 280/500\n",
            "85/85 [==============================] - 3s 39ms/step - loss: 0.5194 - accuracy: 0.7631 - recall_1: 0.8393 - precision_1: 0.7342 - val_loss: 0.5248 - val_accuracy: 0.7560 - val_recall_1: 0.8055 - val_precision_1: 0.7290\n",
            "Epoch 281/500\n",
            "85/85 [==============================] - 3s 39ms/step - loss: 0.5183 - accuracy: 0.7664 - recall_1: 0.8327 - precision_1: 0.7261 - val_loss: 0.5257 - val_accuracy: 0.7586 - val_recall_1: 0.8158 - val_precision_1: 0.7204\n",
            "Epoch 282/500\n",
            "85/85 [==============================] - 3s 40ms/step - loss: 0.5127 - accuracy: 0.7653 - recall_1: 0.8320 - precision_1: 0.7301 - val_loss: 0.5215 - val_accuracy: 0.7595 - val_recall_1: 0.8158 - val_precision_1: 0.7259\n",
            "Epoch 283/500\n",
            "85/85 [==============================] - 3s 41ms/step - loss: 0.5169 - accuracy: 0.7653 - recall_1: 0.8283 - precision_1: 0.7228 - val_loss: 0.5255 - val_accuracy: 0.7509 - val_recall_1: 0.8003 - val_precision_1: 0.7300\n",
            "Epoch 284/500\n",
            "85/85 [==============================] - 3s 39ms/step - loss: 0.5146 - accuracy: 0.7609 - recall_1: 0.8262 - precision_1: 0.7311 - val_loss: 0.5267 - val_accuracy: 0.7569 - val_recall_1: 0.8279 - val_precision_1: 0.7190\n",
            "Epoch 285/500\n",
            "85/85 [==============================] - 3s 40ms/step - loss: 0.5136 - accuracy: 0.7642 - recall_1: 0.8305 - precision_1: 0.7219 - val_loss: 0.5250 - val_accuracy: 0.7526 - val_recall_1: 0.8244 - val_precision_1: 0.7203\n",
            "Epoch 286/500\n",
            "85/85 [==============================] - 3s 39ms/step - loss: 0.5093 - accuracy: 0.7609 - recall_1: 0.8356 - precision_1: 0.7291 - val_loss: 0.5232 - val_accuracy: 0.7543 - val_recall_1: 0.8003 - val_precision_1: 0.7323\n",
            "Epoch 287/500\n",
            "85/85 [==============================] - 3s 39ms/step - loss: 0.5114 - accuracy: 0.7609 - recall_1: 0.8327 - precision_1: 0.7266 - val_loss: 0.5300 - val_accuracy: 0.7483 - val_recall_1: 0.7745 - val_precision_1: 0.7513\n",
            "Epoch 288/500\n",
            "85/85 [==============================] - 3s 40ms/step - loss: 0.5164 - accuracy: 0.7586 - recall_1: 0.8240 - precision_1: 0.7282 - val_loss: 0.5277 - val_accuracy: 0.7569 - val_recall_1: 0.8072 - val_precision_1: 0.7294\n",
            "Epoch 289/500\n",
            "85/85 [==============================] - 3s 39ms/step - loss: 0.5116 - accuracy: 0.7678 - recall_1: 0.8356 - precision_1: 0.7273 - val_loss: 0.5256 - val_accuracy: 0.7577 - val_recall_1: 0.8158 - val_precision_1: 0.7182\n",
            "Epoch 290/500\n",
            "85/85 [==============================] - 3s 40ms/step - loss: 0.5113 - accuracy: 0.7605 - recall_1: 0.8269 - precision_1: 0.7289 - val_loss: 0.5247 - val_accuracy: 0.7569 - val_recall_1: 0.8330 - val_precision_1: 0.7170\n",
            "Epoch 291/500\n",
            "85/85 [==============================] - 3s 40ms/step - loss: 0.5141 - accuracy: 0.7653 - recall_1: 0.8291 - precision_1: 0.7290 - val_loss: 0.5347 - val_accuracy: 0.7595 - val_recall_1: 0.8537 - val_precision_1: 0.6757\n",
            "Epoch 292/500\n",
            "85/85 [==============================] - 3s 39ms/step - loss: 0.5147 - accuracy: 0.7616 - recall_1: 0.8386 - precision_1: 0.7238 - val_loss: 0.5246 - val_accuracy: 0.7560 - val_recall_1: 0.8038 - val_precision_1: 0.7297\n",
            "Epoch 293/500\n",
            "85/85 [==============================] - 3s 39ms/step - loss: 0.5140 - accuracy: 0.7601 - recall_1: 0.8335 - precision_1: 0.7268 - val_loss: 0.5299 - val_accuracy: 0.7603 - val_recall_1: 0.8503 - val_precision_1: 0.6948\n",
            "Epoch 294/500\n",
            "85/85 [==============================] - 3s 40ms/step - loss: 0.5090 - accuracy: 0.7689 - recall_1: 0.8393 - precision_1: 0.7159 - val_loss: 0.5278 - val_accuracy: 0.7543 - val_recall_1: 0.7831 - val_precision_1: 0.7546\n",
            "Epoch 295/500\n",
            "85/85 [==============================] - 3s 39ms/step - loss: 0.5151 - accuracy: 0.7605 - recall_1: 0.8269 - precision_1: 0.7275 - val_loss: 0.5203 - val_accuracy: 0.7595 - val_recall_1: 0.8399 - val_precision_1: 0.7114\n",
            "Epoch 296/500\n",
            "85/85 [==============================] - 3s 39ms/step - loss: 0.5156 - accuracy: 0.7572 - recall_1: 0.8400 - precision_1: 0.7260 - val_loss: 0.5223 - val_accuracy: 0.7543 - val_recall_1: 0.8090 - val_precision_1: 0.7448\n",
            "Epoch 297/500\n",
            "85/85 [==============================] - 3s 39ms/step - loss: 0.5115 - accuracy: 0.7671 - recall_1: 0.8247 - precision_1: 0.7256 - val_loss: 0.5212 - val_accuracy: 0.7612 - val_recall_1: 0.8176 - val_precision_1: 0.7296\n",
            "Epoch 298/500\n",
            "85/85 [==============================] - 3s 39ms/step - loss: 0.5134 - accuracy: 0.7638 - recall_1: 0.8269 - precision_1: 0.7294 - val_loss: 0.5220 - val_accuracy: 0.7569 - val_recall_1: 0.8382 - val_precision_1: 0.7162\n",
            "Epoch 299/500\n",
            "85/85 [==============================] - 3s 38ms/step - loss: 0.5115 - accuracy: 0.7664 - recall_1: 0.8371 - precision_1: 0.7235 - val_loss: 0.5251 - val_accuracy: 0.7603 - val_recall_1: 0.8227 - val_precision_1: 0.7287\n",
            "Epoch 300/500\n",
            "85/85 [==============================] - 3s 39ms/step - loss: 0.5103 - accuracy: 0.7675 - recall_1: 0.8371 - precision_1: 0.7276 - val_loss: 0.5220 - val_accuracy: 0.7577 - val_recall_1: 0.8141 - val_precision_1: 0.7391\n",
            "Epoch 301/500\n",
            "85/85 [==============================] - 3s 40ms/step - loss: 0.5060 - accuracy: 0.7664 - recall_1: 0.8291 - precision_1: 0.7304 - val_loss: 0.5259 - val_accuracy: 0.7612 - val_recall_1: 0.8262 - val_precision_1: 0.7143\n",
            "Epoch 302/500\n",
            "85/85 [==============================] - 3s 40ms/step - loss: 0.5142 - accuracy: 0.7734 - recall_1: 0.8342 - precision_1: 0.7330 - val_loss: 0.5269 - val_accuracy: 0.7586 - val_recall_1: 0.8227 - val_precision_1: 0.7081\n",
            "Epoch 303/500\n",
            "85/85 [==============================] - 3s 41ms/step - loss: 0.5103 - accuracy: 0.7686 - recall_1: 0.8188 - precision_1: 0.7284 - val_loss: 0.5218 - val_accuracy: 0.7543 - val_recall_1: 0.8296 - val_precision_1: 0.7183\n",
            "Epoch 304/500\n",
            "85/85 [==============================] - 3s 40ms/step - loss: 0.5086 - accuracy: 0.7653 - recall_1: 0.8254 - precision_1: 0.7304 - val_loss: 0.5265 - val_accuracy: 0.7646 - val_recall_1: 0.8072 - val_precision_1: 0.7340\n",
            "Epoch 305/500\n",
            "85/85 [==============================] - 3s 40ms/step - loss: 0.5107 - accuracy: 0.7678 - recall_1: 0.8305 - precision_1: 0.7303 - val_loss: 0.5213 - val_accuracy: 0.7577 - val_recall_1: 0.8227 - val_precision_1: 0.7221\n",
            "Epoch 306/500\n",
            "85/85 [==============================] - 3s 40ms/step - loss: 0.5106 - accuracy: 0.7656 - recall_1: 0.8276 - precision_1: 0.7310 - val_loss: 0.5232 - val_accuracy: 0.7637 - val_recall_1: 0.8296 - val_precision_1: 0.7109\n",
            "Epoch 307/500\n",
            "85/85 [==============================] - 3s 41ms/step - loss: 0.5141 - accuracy: 0.7616 - recall_1: 0.8371 - precision_1: 0.7323 - val_loss: 0.5273 - val_accuracy: 0.7517 - val_recall_1: 0.7814 - val_precision_1: 0.7479\n",
            "Epoch 308/500\n",
            "85/85 [==============================] - 3s 40ms/step - loss: 0.5111 - accuracy: 0.7638 - recall_1: 0.8218 - precision_1: 0.7277 - val_loss: 0.5222 - val_accuracy: 0.7603 - val_recall_1: 0.8124 - val_precision_1: 0.7387\n",
            "Epoch 309/500\n",
            "85/85 [==============================] - 3s 40ms/step - loss: 0.5098 - accuracy: 0.7642 - recall_1: 0.8320 - precision_1: 0.7218 - val_loss: 0.5239 - val_accuracy: 0.7586 - val_recall_1: 0.8021 - val_precision_1: 0.7373\n",
            "Epoch 310/500\n",
            "85/85 [==============================] - 3s 40ms/step - loss: 0.5171 - accuracy: 0.7675 - recall_1: 0.8320 - precision_1: 0.7232 - val_loss: 0.5218 - val_accuracy: 0.7646 - val_recall_1: 0.8055 - val_precision_1: 0.7278\n",
            "Epoch 311/500\n",
            "85/85 [==============================] - 3s 40ms/step - loss: 0.5180 - accuracy: 0.7631 - recall_1: 0.8305 - precision_1: 0.7326 - val_loss: 0.5245 - val_accuracy: 0.7603 - val_recall_1: 0.8434 - val_precision_1: 0.7101\n",
            "Epoch 312/500\n",
            "85/85 [==============================] - 3s 41ms/step - loss: 0.5189 - accuracy: 0.7678 - recall_1: 0.8283 - precision_1: 0.7265 - val_loss: 0.5232 - val_accuracy: 0.7509 - val_recall_1: 0.7952 - val_precision_1: 0.7380\n",
            "Epoch 313/500\n",
            "85/85 [==============================] - 3s 39ms/step - loss: 0.5099 - accuracy: 0.7623 - recall_1: 0.8320 - precision_1: 0.7363 - val_loss: 0.5232 - val_accuracy: 0.7552 - val_recall_1: 0.8399 - val_precision_1: 0.7072\n",
            "Epoch 314/500\n",
            "85/85 [==============================] - 3s 40ms/step - loss: 0.5173 - accuracy: 0.7623 - recall_1: 0.8291 - precision_1: 0.7239 - val_loss: 0.5228 - val_accuracy: 0.7620 - val_recall_1: 0.8279 - val_precision_1: 0.7233\n",
            "Epoch 315/500\n",
            "85/85 [==============================] - 3s 41ms/step - loss: 0.5120 - accuracy: 0.7682 - recall_1: 0.8378 - precision_1: 0.7269 - val_loss: 0.5218 - val_accuracy: 0.7595 - val_recall_1: 0.8193 - val_precision_1: 0.7256\n",
            "Epoch 316/500\n",
            "85/85 [==============================] - 3s 40ms/step - loss: 0.5068 - accuracy: 0.7664 - recall_1: 0.8298 - precision_1: 0.7320 - val_loss: 0.5323 - val_accuracy: 0.7637 - val_recall_1: 0.8537 - val_precision_1: 0.6918\n",
            "Epoch 317/500\n",
            "85/85 [==============================] - 3s 41ms/step - loss: 0.5124 - accuracy: 0.7660 - recall_1: 0.8459 - precision_1: 0.7274 - val_loss: 0.5190 - val_accuracy: 0.7543 - val_recall_1: 0.8296 - val_precision_1: 0.7183\n",
            "Epoch 318/500\n",
            "85/85 [==============================] - 3s 40ms/step - loss: 0.5089 - accuracy: 0.7627 - recall_1: 0.8400 - precision_1: 0.7306 - val_loss: 0.5262 - val_accuracy: 0.7526 - val_recall_1: 0.7866 - val_precision_1: 0.7443\n",
            "Epoch 319/500\n",
            "85/85 [==============================] - 3s 40ms/step - loss: 0.5075 - accuracy: 0.7656 - recall_1: 0.8232 - precision_1: 0.7361 - val_loss: 0.5246 - val_accuracy: 0.7637 - val_recall_1: 0.8193 - val_precision_1: 0.7234\n",
            "Epoch 320/500\n",
            "85/85 [==============================] - 4s 42ms/step - loss: 0.5110 - accuracy: 0.7575 - recall_1: 0.8400 - precision_1: 0.7348 - val_loss: 0.5186 - val_accuracy: 0.7586 - val_recall_1: 0.8176 - val_precision_1: 0.7175\n",
            "Epoch 321/500\n",
            "85/85 [==============================] - 3s 41ms/step - loss: 0.5110 - accuracy: 0.7649 - recall_1: 0.8283 - precision_1: 0.7359 - val_loss: 0.5237 - val_accuracy: 0.7569 - val_recall_1: 0.8090 - val_precision_1: 0.7344\n",
            "Epoch 322/500\n",
            "85/85 [==============================] - 3s 41ms/step - loss: 0.5075 - accuracy: 0.7634 - recall_1: 0.8262 - precision_1: 0.7358 - val_loss: 0.5226 - val_accuracy: 0.7586 - val_recall_1: 0.8417 - val_precision_1: 0.7118\n",
            "Epoch 323/500\n",
            "85/85 [==============================] - 3s 41ms/step - loss: 0.5099 - accuracy: 0.7642 - recall_1: 0.8349 - precision_1: 0.7276 - val_loss: 0.5225 - val_accuracy: 0.7586 - val_recall_1: 0.8141 - val_precision_1: 0.7356\n",
            "Epoch 324/500\n",
            "85/85 [==============================] - 3s 41ms/step - loss: 0.5084 - accuracy: 0.7642 - recall_1: 0.8291 - precision_1: 0.7239 - val_loss: 0.5231 - val_accuracy: 0.7612 - val_recall_1: 0.8330 - val_precision_1: 0.7128\n",
            "Epoch 325/500\n",
            "85/85 [==============================] - 3s 39ms/step - loss: 0.5108 - accuracy: 0.7671 - recall_1: 0.8327 - precision_1: 0.7289 - val_loss: 0.5229 - val_accuracy: 0.7586 - val_recall_1: 0.8090 - val_precision_1: 0.7344\n",
            "Epoch 326/500\n",
            "85/85 [==============================] - 4s 41ms/step - loss: 0.5101 - accuracy: 0.7612 - recall_1: 0.8276 - precision_1: 0.7314 - val_loss: 0.5224 - val_accuracy: 0.7646 - val_recall_1: 0.8296 - val_precision_1: 0.7216\n",
            "Epoch 327/500\n",
            "85/85 [==============================] - 4s 42ms/step - loss: 0.5129 - accuracy: 0.7649 - recall_1: 0.8349 - precision_1: 0.7207 - val_loss: 0.5236 - val_accuracy: 0.7612 - val_recall_1: 0.8021 - val_precision_1: 0.7350\n",
            "Epoch 328/500\n",
            "85/85 [==============================] - 4s 42ms/step - loss: 0.5098 - accuracy: 0.7653 - recall_1: 0.8356 - precision_1: 0.7352 - val_loss: 0.5233 - val_accuracy: 0.7595 - val_recall_1: 0.8038 - val_precision_1: 0.7331\n",
            "Epoch 329/500\n",
            "85/85 [==============================] - 3s 41ms/step - loss: 0.5111 - accuracy: 0.7642 - recall_1: 0.8313 - precision_1: 0.7314 - val_loss: 0.5267 - val_accuracy: 0.7655 - val_recall_1: 0.8468 - val_precision_1: 0.7039\n",
            "Epoch 330/500\n",
            "85/85 [==============================] - 4s 42ms/step - loss: 0.5077 - accuracy: 0.7627 - recall_1: 0.8364 - precision_1: 0.7238 - val_loss: 0.5240 - val_accuracy: 0.7552 - val_recall_1: 0.8210 - val_precision_1: 0.7294\n",
            "Epoch 331/500\n",
            "85/85 [==============================] - 4s 42ms/step - loss: 0.5041 - accuracy: 0.7693 - recall_1: 0.8364 - precision_1: 0.7288 - val_loss: 0.5224 - val_accuracy: 0.7595 - val_recall_1: 0.8072 - val_precision_1: 0.7249\n",
            "Epoch 332/500\n",
            "85/85 [==============================] - 3s 40ms/step - loss: 0.5047 - accuracy: 0.7634 - recall_1: 0.8283 - precision_1: 0.7326 - val_loss: 0.5238 - val_accuracy: 0.7629 - val_recall_1: 0.8330 - val_precision_1: 0.7235\n",
            "Epoch 333/500\n",
            "85/85 [==============================] - 3s 40ms/step - loss: 0.5050 - accuracy: 0.7631 - recall_1: 0.8371 - precision_1: 0.7258 - val_loss: 0.5265 - val_accuracy: 0.7543 - val_recall_1: 0.8262 - val_precision_1: 0.7154\n",
            "Epoch 334/500\n",
            "85/85 [==============================] - 3s 40ms/step - loss: 0.5108 - accuracy: 0.7645 - recall_1: 0.8356 - precision_1: 0.7254 - val_loss: 0.5243 - val_accuracy: 0.7620 - val_recall_1: 0.8038 - val_precision_1: 0.7389\n",
            "Epoch 335/500\n",
            "85/85 [==============================] - 4s 41ms/step - loss: 0.5153 - accuracy: 0.7631 - recall_1: 0.8254 - precision_1: 0.7197 - val_loss: 0.5168 - val_accuracy: 0.7603 - val_recall_1: 0.8244 - val_precision_1: 0.7381\n",
            "Epoch 336/500\n",
            "85/85 [==============================] - 3s 40ms/step - loss: 0.5114 - accuracy: 0.7627 - recall_1: 0.8320 - precision_1: 0.7259 - val_loss: 0.5222 - val_accuracy: 0.7569 - val_recall_1: 0.8313 - val_precision_1: 0.7082\n",
            "Epoch 337/500\n",
            "85/85 [==============================] - 3s 41ms/step - loss: 0.5135 - accuracy: 0.7682 - recall_1: 0.8356 - precision_1: 0.7213 - val_loss: 0.5202 - val_accuracy: 0.7603 - val_recall_1: 0.8227 - val_precision_1: 0.7331\n",
            "Epoch 338/500\n",
            "85/85 [==============================] - 3s 41ms/step - loss: 0.5124 - accuracy: 0.7612 - recall_1: 0.8313 - precision_1: 0.7304 - val_loss: 0.5191 - val_accuracy: 0.7509 - val_recall_1: 0.8107 - val_precision_1: 0.7291\n",
            "Epoch 339/500\n",
            "85/85 [==============================] - 3s 41ms/step - loss: 0.5143 - accuracy: 0.7642 - recall_1: 0.8327 - precision_1: 0.7345 - val_loss: 0.5227 - val_accuracy: 0.7517 - val_recall_1: 0.8141 - val_precision_1: 0.7288\n",
            "Epoch 340/500\n",
            "85/85 [==============================] - 4s 42ms/step - loss: 0.5101 - accuracy: 0.7660 - recall_1: 0.8386 - precision_1: 0.7345 - val_loss: 0.5239 - val_accuracy: 0.7603 - val_recall_1: 0.8365 - val_precision_1: 0.7147\n",
            "Epoch 341/500\n",
            "85/85 [==============================] - 3s 40ms/step - loss: 0.5073 - accuracy: 0.7693 - recall_1: 0.8335 - precision_1: 0.7286 - val_loss: 0.5205 - val_accuracy: 0.7526 - val_recall_1: 0.8176 - val_precision_1: 0.7274\n",
            "Epoch 342/500\n",
            "85/85 [==============================] - 4s 43ms/step - loss: 0.5086 - accuracy: 0.7697 - recall_1: 0.8364 - precision_1: 0.7321 - val_loss: 0.5192 - val_accuracy: 0.7543 - val_recall_1: 0.8227 - val_precision_1: 0.7309\n",
            "Epoch 343/500\n",
            "85/85 [==============================] - 3s 40ms/step - loss: 0.5040 - accuracy: 0.7678 - recall_1: 0.8386 - precision_1: 0.7326 - val_loss: 0.5216 - val_accuracy: 0.7560 - val_recall_1: 0.8365 - val_precision_1: 0.7064\n",
            "Epoch 344/500\n",
            "85/85 [==============================] - 3s 40ms/step - loss: 0.5074 - accuracy: 0.7671 - recall_1: 0.8400 - precision_1: 0.7256 - val_loss: 0.5208 - val_accuracy: 0.7586 - val_recall_1: 0.8176 - val_precision_1: 0.7230\n",
            "Epoch 345/500\n",
            "85/85 [==============================] - 3s 40ms/step - loss: 0.5102 - accuracy: 0.7656 - recall_1: 0.8371 - precision_1: 0.7299 - val_loss: 0.5194 - val_accuracy: 0.7569 - val_recall_1: 0.8090 - val_precision_1: 0.7209\n",
            "Epoch 346/500\n",
            "85/85 [==============================] - 3s 41ms/step - loss: 0.5111 - accuracy: 0.7638 - recall_1: 0.8283 - precision_1: 0.7321 - val_loss: 0.5181 - val_accuracy: 0.7655 - val_recall_1: 0.8330 - val_precision_1: 0.7118\n",
            "Epoch 347/500\n",
            "85/85 [==============================] - 3s 41ms/step - loss: 0.5085 - accuracy: 0.7597 - recall_1: 0.8320 - precision_1: 0.7283 - val_loss: 0.5242 - val_accuracy: 0.7586 - val_recall_1: 0.8537 - val_precision_1: 0.6966\n",
            "Epoch 348/500\n",
            "85/85 [==============================] - 3s 41ms/step - loss: 0.5136 - accuracy: 0.7653 - recall_1: 0.8320 - precision_1: 0.7269 - val_loss: 0.5184 - val_accuracy: 0.7560 - val_recall_1: 0.8210 - val_precision_1: 0.7271\n",
            "Epoch 349/500\n",
            "85/85 [==============================] - 3s 39ms/step - loss: 0.5088 - accuracy: 0.7697 - recall_1: 0.8342 - precision_1: 0.7306 - val_loss: 0.5212 - val_accuracy: 0.7577 - val_recall_1: 0.8176 - val_precision_1: 0.7308\n",
            "Epoch 350/500\n",
            "85/85 [==============================] - 3s 40ms/step - loss: 0.5063 - accuracy: 0.7689 - recall_1: 0.8327 - precision_1: 0.7355 - val_loss: 0.5281 - val_accuracy: 0.7552 - val_recall_1: 0.8262 - val_precision_1: 0.7059\n",
            "Epoch 351/500\n",
            "85/85 [==============================] - 3s 40ms/step - loss: 0.5094 - accuracy: 0.7704 - recall_1: 0.8342 - precision_1: 0.7335 - val_loss: 0.5261 - val_accuracy: 0.7483 - val_recall_1: 0.7711 - val_precision_1: 0.7529\n",
            "Epoch 352/500\n",
            "85/85 [==============================] - 3s 41ms/step - loss: 0.5136 - accuracy: 0.7649 - recall_1: 0.8305 - precision_1: 0.7288 - val_loss: 0.5163 - val_accuracy: 0.7629 - val_recall_1: 0.8124 - val_precision_1: 0.7387\n",
            "Epoch 353/500\n",
            "85/85 [==============================] - 4s 42ms/step - loss: 0.5076 - accuracy: 0.7678 - recall_1: 0.8349 - precision_1: 0.7308 - val_loss: 0.5178 - val_accuracy: 0.7629 - val_recall_1: 0.8090 - val_precision_1: 0.7508\n",
            "Epoch 354/500\n",
            "85/85 [==============================] - 4s 41ms/step - loss: 0.5100 - accuracy: 0.7645 - recall_1: 0.8313 - precision_1: 0.7309 - val_loss: 0.5270 - val_accuracy: 0.7612 - val_recall_1: 0.8399 - val_precision_1: 0.7022\n",
            "Epoch 355/500\n",
            "85/85 [==============================] - 4s 42ms/step - loss: 0.5064 - accuracy: 0.7660 - recall_1: 0.8356 - precision_1: 0.7357 - val_loss: 0.5199 - val_accuracy: 0.7543 - val_recall_1: 0.8090 - val_precision_1: 0.7437\n",
            "Epoch 356/500\n",
            "85/85 [==============================] - 4s 41ms/step - loss: 0.5104 - accuracy: 0.7642 - recall_1: 0.8283 - precision_1: 0.7223 - val_loss: 0.5196 - val_accuracy: 0.7595 - val_recall_1: 0.8244 - val_precision_1: 0.7214\n",
            "Epoch 357/500\n",
            "85/85 [==============================] - 3s 41ms/step - loss: 0.5108 - accuracy: 0.7682 - recall_1: 0.8356 - precision_1: 0.7296 - val_loss: 0.5207 - val_accuracy: 0.7603 - val_recall_1: 0.8090 - val_precision_1: 0.7253\n",
            "Epoch 358/500\n",
            "85/85 [==============================] - 4s 41ms/step - loss: 0.5077 - accuracy: 0.7634 - recall_1: 0.8305 - precision_1: 0.7293 - val_loss: 0.5232 - val_accuracy: 0.7629 - val_recall_1: 0.8055 - val_precision_1: 0.7382\n",
            "Epoch 359/500\n",
            "85/85 [==============================] - 3s 41ms/step - loss: 0.5072 - accuracy: 0.7660 - recall_1: 0.8240 - precision_1: 0.7263 - val_loss: 0.5207 - val_accuracy: 0.7586 - val_recall_1: 0.8158 - val_precision_1: 0.7226\n",
            "Epoch 360/500\n",
            "85/85 [==============================] - 3s 41ms/step - loss: 0.5050 - accuracy: 0.7671 - recall_1: 0.8320 - precision_1: 0.7325 - val_loss: 0.5173 - val_accuracy: 0.7620 - val_recall_1: 0.8227 - val_precision_1: 0.7320\n",
            "Epoch 361/500\n",
            "85/85 [==============================] - 4s 41ms/step - loss: 0.5095 - accuracy: 0.7693 - recall_1: 0.8320 - precision_1: 0.7269 - val_loss: 0.5244 - val_accuracy: 0.7595 - val_recall_1: 0.8468 - val_precision_1: 0.6930\n",
            "Epoch 362/500\n",
            "85/85 [==============================] - 3s 40ms/step - loss: 0.5094 - accuracy: 0.7689 - recall_1: 0.8342 - precision_1: 0.7297 - val_loss: 0.5205 - val_accuracy: 0.7603 - val_recall_1: 0.8262 - val_precision_1: 0.7164\n",
            "Epoch 363/500\n",
            "85/85 [==============================] - 3s 41ms/step - loss: 0.5084 - accuracy: 0.7667 - recall_1: 0.8342 - precision_1: 0.7316 - val_loss: 0.5222 - val_accuracy: 0.7637 - val_recall_1: 0.8227 - val_precision_1: 0.7264\n",
            "Epoch 364/500\n",
            "85/85 [==============================] - 3s 41ms/step - loss: 0.5109 - accuracy: 0.7704 - recall_1: 0.8408 - precision_1: 0.7248 - val_loss: 0.5179 - val_accuracy: 0.7595 - val_recall_1: 0.8141 - val_precision_1: 0.7368\n",
            "Epoch 365/500\n",
            "85/85 [==============================] - 3s 40ms/step - loss: 0.5112 - accuracy: 0.7627 - recall_1: 0.8262 - precision_1: 0.7227 - val_loss: 0.5183 - val_accuracy: 0.7569 - val_recall_1: 0.8365 - val_precision_1: 0.7137\n",
            "Epoch 366/500\n",
            "85/85 [==============================] - 3s 41ms/step - loss: 0.5139 - accuracy: 0.7682 - recall_1: 0.8262 - precision_1: 0.7264 - val_loss: 0.5230 - val_accuracy: 0.7577 - val_recall_1: 0.8262 - val_precision_1: 0.7207\n",
            "Epoch 367/500\n",
            "85/85 [==============================] - 4s 42ms/step - loss: 0.5103 - accuracy: 0.7675 - recall_1: 0.8364 - precision_1: 0.7215 - val_loss: 0.5158 - val_accuracy: 0.7620 - val_recall_1: 0.8176 - val_precision_1: 0.7308\n",
            "Epoch 368/500\n",
            "85/85 [==============================] - 3s 41ms/step - loss: 0.5076 - accuracy: 0.7645 - recall_1: 0.8327 - precision_1: 0.7275 - val_loss: 0.5189 - val_accuracy: 0.7560 - val_recall_1: 0.8158 - val_precision_1: 0.7270\n",
            "Epoch 369/500\n",
            "85/85 [==============================] - 3s 40ms/step - loss: 0.5074 - accuracy: 0.7689 - recall_1: 0.8283 - precision_1: 0.7330 - val_loss: 0.5220 - val_accuracy: 0.7672 - val_recall_1: 0.8313 - val_precision_1: 0.7177\n",
            "Epoch 370/500\n",
            "85/85 [==============================] - 3s 41ms/step - loss: 0.5071 - accuracy: 0.7653 - recall_1: 0.8335 - precision_1: 0.7319 - val_loss: 0.5195 - val_accuracy: 0.7552 - val_recall_1: 0.7969 - val_precision_1: 0.7384\n",
            "Epoch 371/500\n",
            "85/85 [==============================] - 3s 40ms/step - loss: 0.5080 - accuracy: 0.7689 - recall_1: 0.8305 - precision_1: 0.7369 - val_loss: 0.5321 - val_accuracy: 0.7543 - val_recall_1: 0.8795 - val_precision_1: 0.6759\n",
            "Epoch 372/500\n",
            "85/85 [==============================] - 3s 40ms/step - loss: 0.5053 - accuracy: 0.7682 - recall_1: 0.8327 - precision_1: 0.7326 - val_loss: 0.5241 - val_accuracy: 0.7534 - val_recall_1: 0.8417 - val_precision_1: 0.6996\n",
            "Epoch 373/500\n",
            "85/85 [==============================] - 3s 40ms/step - loss: 0.5052 - accuracy: 0.7656 - recall_1: 0.8313 - precision_1: 0.7309 - val_loss: 0.5203 - val_accuracy: 0.7586 - val_recall_1: 0.8313 - val_precision_1: 0.7241\n",
            "Epoch 374/500\n",
            "85/85 [==============================] - 3s 41ms/step - loss: 0.5111 - accuracy: 0.7682 - recall_1: 0.8364 - precision_1: 0.7293 - val_loss: 0.5175 - val_accuracy: 0.7586 - val_recall_1: 0.8141 - val_precision_1: 0.7277\n",
            "Epoch 375/500\n",
            "85/85 [==============================] - 4s 42ms/step - loss: 0.5067 - accuracy: 0.7712 - recall_1: 0.8335 - precision_1: 0.7203 - val_loss: 0.5164 - val_accuracy: 0.7689 - val_recall_1: 0.8227 - val_precision_1: 0.7309\n",
            "Epoch 376/500\n",
            "85/85 [==============================] - 3s 41ms/step - loss: 0.5081 - accuracy: 0.7682 - recall_1: 0.8378 - precision_1: 0.7187 - val_loss: 0.5216 - val_accuracy: 0.7595 - val_recall_1: 0.7745 - val_precision_1: 0.7500\n",
            "Epoch 377/500\n",
            "85/85 [==============================] - 3s 41ms/step - loss: 0.5110 - accuracy: 0.7612 - recall_1: 0.8262 - precision_1: 0.7383 - val_loss: 0.5186 - val_accuracy: 0.7629 - val_recall_1: 0.8176 - val_precision_1: 0.7319\n",
            "Epoch 378/500\n",
            "85/85 [==============================] - 4s 41ms/step - loss: 0.5097 - accuracy: 0.7638 - recall_1: 0.8313 - precision_1: 0.7258 - val_loss: 0.5171 - val_accuracy: 0.7569 - val_recall_1: 0.8090 - val_precision_1: 0.7378\n",
            "Epoch 379/500\n",
            "85/85 [==============================] - 3s 40ms/step - loss: 0.5069 - accuracy: 0.7704 - recall_1: 0.8327 - precision_1: 0.7312 - val_loss: 0.5187 - val_accuracy: 0.7595 - val_recall_1: 0.8021 - val_precision_1: 0.7339\n",
            "Epoch 380/500\n",
            "85/85 [==============================] - 3s 40ms/step - loss: 0.5060 - accuracy: 0.7653 - recall_1: 0.8327 - precision_1: 0.7322 - val_loss: 0.5248 - val_accuracy: 0.7552 - val_recall_1: 0.8434 - val_precision_1: 0.6990\n",
            "Epoch 381/500\n",
            "85/85 [==============================] - 3s 40ms/step - loss: 0.5067 - accuracy: 0.7649 - recall_1: 0.8393 - precision_1: 0.7240 - val_loss: 0.5220 - val_accuracy: 0.7552 - val_recall_1: 0.8141 - val_precision_1: 0.7277\n",
            "Epoch 382/500\n",
            "85/85 [==============================] - 3s 41ms/step - loss: 0.5034 - accuracy: 0.7686 - recall_1: 0.8298 - precision_1: 0.7301 - val_loss: 0.5164 - val_accuracy: 0.7560 - val_recall_1: 0.8090 - val_precision_1: 0.7402\n",
            "Epoch 383/500\n",
            "85/85 [==============================] - 3s 40ms/step - loss: 0.5060 - accuracy: 0.7678 - recall_1: 0.8291 - precision_1: 0.7290 - val_loss: 0.5165 - val_accuracy: 0.7603 - val_recall_1: 0.8090 - val_precision_1: 0.7425\n",
            "Epoch 384/500\n",
            "85/85 [==============================] - 3s 40ms/step - loss: 0.5051 - accuracy: 0.7623 - recall_1: 0.8269 - precision_1: 0.7308 - val_loss: 0.5171 - val_accuracy: 0.7577 - val_recall_1: 0.8348 - val_precision_1: 0.7271\n",
            "Epoch 385/500\n",
            "85/85 [==============================] - 3s 41ms/step - loss: 0.5071 - accuracy: 0.7675 - recall_1: 0.8335 - precision_1: 0.7361 - val_loss: 0.5191 - val_accuracy: 0.7698 - val_recall_1: 0.8451 - val_precision_1: 0.7095\n",
            "Epoch 386/500\n",
            "85/85 [==============================] - 3s 41ms/step - loss: 0.5049 - accuracy: 0.7642 - recall_1: 0.8342 - precision_1: 0.7321 - val_loss: 0.5232 - val_accuracy: 0.7552 - val_recall_1: 0.8571 - val_precision_1: 0.6985\n",
            "Epoch 387/500\n",
            "85/85 [==============================] - 3s 40ms/step - loss: 0.5054 - accuracy: 0.7682 - recall_1: 0.8327 - precision_1: 0.7322 - val_loss: 0.5206 - val_accuracy: 0.7560 - val_recall_1: 0.8434 - val_precision_1: 0.7164\n",
            "Epoch 388/500\n",
            "85/85 [==============================] - 3s 41ms/step - loss: 0.5069 - accuracy: 0.7697 - recall_1: 0.8291 - precision_1: 0.7266 - val_loss: 0.5215 - val_accuracy: 0.7552 - val_recall_1: 0.8330 - val_precision_1: 0.7139\n",
            "Epoch 389/500\n",
            "85/85 [==============================] - 3s 41ms/step - loss: 0.5103 - accuracy: 0.7675 - recall_1: 0.8283 - precision_1: 0.7269 - val_loss: 0.5187 - val_accuracy: 0.7612 - val_recall_1: 0.8365 - val_precision_1: 0.7147\n",
            "Epoch 390/500\n",
            "85/85 [==============================] - 4s 42ms/step - loss: 0.5040 - accuracy: 0.7667 - recall_1: 0.8364 - precision_1: 0.7321 - val_loss: 0.5188 - val_accuracy: 0.7560 - val_recall_1: 0.8330 - val_precision_1: 0.7118\n",
            "Epoch 391/500\n",
            "85/85 [==============================] - 4s 42ms/step - loss: 0.5085 - accuracy: 0.7616 - recall_1: 0.8247 - precision_1: 0.7168 - val_loss: 0.5195 - val_accuracy: 0.7586 - val_recall_1: 0.8107 - val_precision_1: 0.7314\n",
            "Epoch 392/500\n",
            "85/85 [==============================] - 4s 41ms/step - loss: 0.5047 - accuracy: 0.7697 - recall_1: 0.8378 - precision_1: 0.7371 - val_loss: 0.5184 - val_accuracy: 0.7620 - val_recall_1: 0.8227 - val_precision_1: 0.7177\n",
            "Epoch 393/500\n",
            "85/85 [==============================] - 3s 41ms/step - loss: 0.5093 - accuracy: 0.7660 - recall_1: 0.8262 - precision_1: 0.7241 - val_loss: 0.5161 - val_accuracy: 0.7637 - val_recall_1: 0.8210 - val_precision_1: 0.7350\n",
            "Epoch 394/500\n",
            "85/85 [==============================] - 3s 41ms/step - loss: 0.5081 - accuracy: 0.7620 - recall_1: 0.8313 - precision_1: 0.7309 - val_loss: 0.5179 - val_accuracy: 0.7603 - val_recall_1: 0.8434 - val_precision_1: 0.7112\n",
            "Epoch 395/500\n",
            "85/85 [==============================] - 4s 41ms/step - loss: 0.5059 - accuracy: 0.7675 - recall_1: 0.8356 - precision_1: 0.7263 - val_loss: 0.5187 - val_accuracy: 0.7543 - val_recall_1: 0.7986 - val_precision_1: 0.7460\n",
            "Epoch 396/500\n",
            "85/85 [==============================] - 3s 41ms/step - loss: 0.5044 - accuracy: 0.7660 - recall_1: 0.8313 - precision_1: 0.7258 - val_loss: 0.5168 - val_accuracy: 0.7629 - val_recall_1: 0.8313 - val_precision_1: 0.7198\n",
            "Epoch 397/500\n",
            "85/85 [==============================] - 3s 40ms/step - loss: 0.5056 - accuracy: 0.7653 - recall_1: 0.8371 - precision_1: 0.7276 - val_loss: 0.5243 - val_accuracy: 0.7526 - val_recall_1: 0.7762 - val_precision_1: 0.7393\n",
            "Epoch 398/500\n",
            "85/85 [==============================] - 3s 40ms/step - loss: 0.5047 - accuracy: 0.7723 - recall_1: 0.8210 - precision_1: 0.7356 - val_loss: 0.5260 - val_accuracy: 0.7577 - val_recall_1: 0.8434 - val_precision_1: 0.7020\n",
            "Epoch 399/500\n",
            "85/85 [==============================] - 4s 41ms/step - loss: 0.5081 - accuracy: 0.7642 - recall_1: 0.8371 - precision_1: 0.7295 - val_loss: 0.5233 - val_accuracy: 0.7552 - val_recall_1: 0.8675 - val_precision_1: 0.6961\n",
            "Epoch 400/500\n",
            "85/85 [==============================] - 3s 41ms/step - loss: 0.5048 - accuracy: 0.7704 - recall_1: 0.8430 - precision_1: 0.7240 - val_loss: 0.5161 - val_accuracy: 0.7526 - val_recall_1: 0.8193 - val_precision_1: 0.7334\n",
            "Epoch 401/500\n",
            "85/85 [==============================] - 3s 41ms/step - loss: 0.5088 - accuracy: 0.7623 - recall_1: 0.8349 - precision_1: 0.7299 - val_loss: 0.5170 - val_accuracy: 0.7620 - val_recall_1: 0.8434 - val_precision_1: 0.7206\n",
            "Epoch 402/500\n",
            "85/85 [==============================] - 3s 41ms/step - loss: 0.5049 - accuracy: 0.7748 - recall_1: 0.8437 - precision_1: 0.7278 - val_loss: 0.5168 - val_accuracy: 0.7569 - val_recall_1: 0.8107 - val_precision_1: 0.7406\n",
            "Epoch 403/500\n",
            "85/85 [==============================] - 3s 41ms/step - loss: 0.5069 - accuracy: 0.7675 - recall_1: 0.8349 - precision_1: 0.7299 - val_loss: 0.5220 - val_accuracy: 0.7612 - val_recall_1: 0.7900 - val_precision_1: 0.7356\n",
            "Epoch 404/500\n",
            "85/85 [==============================] - 3s 41ms/step - loss: 0.5075 - accuracy: 0.7638 - recall_1: 0.8225 - precision_1: 0.7293 - val_loss: 0.5148 - val_accuracy: 0.7595 - val_recall_1: 0.8313 - val_precision_1: 0.7241\n",
            "Epoch 405/500\n",
            "85/85 [==============================] - 4s 42ms/step - loss: 0.5009 - accuracy: 0.7693 - recall_1: 0.8393 - precision_1: 0.7305 - val_loss: 0.5191 - val_accuracy: 0.7577 - val_recall_1: 0.8141 - val_precision_1: 0.7322\n",
            "Epoch 406/500\n",
            "85/85 [==============================] - 4s 42ms/step - loss: 0.5063 - accuracy: 0.7667 - recall_1: 0.8371 - precision_1: 0.7272 - val_loss: 0.5144 - val_accuracy: 0.7612 - val_recall_1: 0.8003 - val_precision_1: 0.7346\n",
            "Epoch 407/500\n",
            "85/85 [==============================] - 3s 41ms/step - loss: 0.5052 - accuracy: 0.7682 - recall_1: 0.8335 - precision_1: 0.7319 - val_loss: 0.5210 - val_accuracy: 0.7629 - val_recall_1: 0.8417 - val_precision_1: 0.7016\n",
            "Epoch 408/500\n",
            "85/85 [==============================] - 4s 42ms/step - loss: 0.5015 - accuracy: 0.7686 - recall_1: 0.8430 - precision_1: 0.7290 - val_loss: 0.5163 - val_accuracy: 0.7603 - val_recall_1: 0.8003 - val_precision_1: 0.7369\n",
            "Epoch 409/500\n",
            "85/85 [==============================] - 4s 42ms/step - loss: 0.5070 - accuracy: 0.7697 - recall_1: 0.8313 - precision_1: 0.7347 - val_loss: 0.5160 - val_accuracy: 0.7595 - val_recall_1: 0.8244 - val_precision_1: 0.7291\n",
            "Epoch 410/500\n",
            "85/85 [==============================] - 3s 41ms/step - loss: 0.5043 - accuracy: 0.7653 - recall_1: 0.8320 - precision_1: 0.7306 - val_loss: 0.5177 - val_accuracy: 0.7637 - val_recall_1: 0.8330 - val_precision_1: 0.7139\n",
            "Epoch 411/500\n",
            "85/85 [==============================] - 3s 41ms/step - loss: 0.5106 - accuracy: 0.7664 - recall_1: 0.8356 - precision_1: 0.7227 - val_loss: 0.5186 - val_accuracy: 0.7629 - val_recall_1: 0.8365 - val_precision_1: 0.7254\n",
            "Epoch 412/500\n",
            "85/85 [==============================] - 3s 41ms/step - loss: 0.5063 - accuracy: 0.7656 - recall_1: 0.8364 - precision_1: 0.7265 - val_loss: 0.5198 - val_accuracy: 0.7577 - val_recall_1: 0.8124 - val_precision_1: 0.7262\n",
            "Epoch 413/500\n",
            "85/85 [==============================] - 3s 41ms/step - loss: 0.5069 - accuracy: 0.7678 - recall_1: 0.8422 - precision_1: 0.7358 - val_loss: 0.5187 - val_accuracy: 0.7663 - val_recall_1: 0.8399 - val_precision_1: 0.7052\n",
            "Epoch 414/500\n",
            "85/85 [==============================] - 3s 41ms/step - loss: 0.5056 - accuracy: 0.7634 - recall_1: 0.8356 - precision_1: 0.7277 - val_loss: 0.5153 - val_accuracy: 0.7595 - val_recall_1: 0.8485 - val_precision_1: 0.7166\n",
            "Epoch 415/500\n",
            "85/85 [==============================] - 3s 41ms/step - loss: 0.5072 - accuracy: 0.7671 - recall_1: 0.8356 - precision_1: 0.7273 - val_loss: 0.5190 - val_accuracy: 0.7595 - val_recall_1: 0.8262 - val_precision_1: 0.7273\n",
            "Epoch 416/500\n",
            "85/85 [==============================] - 3s 41ms/step - loss: 0.5025 - accuracy: 0.7689 - recall_1: 0.8335 - precision_1: 0.7347 - val_loss: 0.5136 - val_accuracy: 0.7534 - val_recall_1: 0.8124 - val_precision_1: 0.7250\n",
            "Epoch 417/500\n",
            "85/85 [==============================] - 4s 42ms/step - loss: 0.5029 - accuracy: 0.7712 - recall_1: 0.8349 - precision_1: 0.7243 - val_loss: 0.5236 - val_accuracy: 0.7595 - val_recall_1: 0.8107 - val_precision_1: 0.7246\n",
            "Epoch 418/500\n",
            "85/85 [==============================] - 4s 41ms/step - loss: 0.5060 - accuracy: 0.7660 - recall_1: 0.8342 - precision_1: 0.7251 - val_loss: 0.5140 - val_accuracy: 0.7637 - val_recall_1: 0.8348 - val_precision_1: 0.7207\n",
            "Epoch 419/500\n",
            "85/85 [==============================] - 3s 41ms/step - loss: 0.5037 - accuracy: 0.7745 - recall_1: 0.8371 - precision_1: 0.7253 - val_loss: 0.5222 - val_accuracy: 0.7517 - val_recall_1: 0.8296 - val_precision_1: 0.7099\n",
            "Epoch 420/500\n",
            "85/85 [==============================] - 4s 44ms/step - loss: 0.5009 - accuracy: 0.7664 - recall_1: 0.8356 - precision_1: 0.7296 - val_loss: 0.5156 - val_accuracy: 0.7586 - val_recall_1: 0.8382 - val_precision_1: 0.7162\n",
            "Epoch 421/500\n",
            "85/85 [==============================] - 3s 41ms/step - loss: 0.5018 - accuracy: 0.7686 - recall_1: 0.8408 - precision_1: 0.7289 - val_loss: 0.5162 - val_accuracy: 0.7612 - val_recall_1: 0.8262 - val_precision_1: 0.7240\n",
            "Epoch 422/500\n",
            "85/85 [==============================] - 3s 40ms/step - loss: 0.5020 - accuracy: 0.7649 - recall_1: 0.8247 - precision_1: 0.7256 - val_loss: 0.5218 - val_accuracy: 0.7637 - val_recall_1: 0.8451 - val_precision_1: 0.6984\n",
            "Epoch 423/500\n",
            "85/85 [==============================] - 4s 42ms/step - loss: 0.5024 - accuracy: 0.7689 - recall_1: 0.8422 - precision_1: 0.7233 - val_loss: 0.5131 - val_accuracy: 0.7620 - val_recall_1: 0.8227 - val_precision_1: 0.7445\n",
            "Epoch 424/500\n",
            "85/85 [==============================] - 3s 41ms/step - loss: 0.5005 - accuracy: 0.7708 - recall_1: 0.8349 - precision_1: 0.7294 - val_loss: 0.5133 - val_accuracy: 0.7603 - val_recall_1: 0.8244 - val_precision_1: 0.7302\n",
            "Epoch 425/500\n",
            "85/85 [==============================] - 3s 41ms/step - loss: 0.5087 - accuracy: 0.7664 - recall_1: 0.8356 - precision_1: 0.7231 - val_loss: 0.5159 - val_accuracy: 0.7603 - val_recall_1: 0.8193 - val_precision_1: 0.7212\n",
            "Epoch 426/500\n",
            "85/85 [==============================] - 4s 42ms/step - loss: 0.5055 - accuracy: 0.7689 - recall_1: 0.8313 - precision_1: 0.7225 - val_loss: 0.5159 - val_accuracy: 0.7612 - val_recall_1: 0.8348 - val_precision_1: 0.7070\n",
            "Epoch 427/500\n",
            "85/85 [==============================] - 4s 41ms/step - loss: 0.4962 - accuracy: 0.7697 - recall_1: 0.8408 - precision_1: 0.7285 - val_loss: 0.5168 - val_accuracy: 0.7560 - val_recall_1: 0.8055 - val_precision_1: 0.7358\n",
            "Epoch 428/500\n",
            "85/85 [==============================] - 3s 41ms/step - loss: 0.5020 - accuracy: 0.7686 - recall_1: 0.8349 - precision_1: 0.7294 - val_loss: 0.5209 - val_accuracy: 0.7577 - val_recall_1: 0.8330 - val_precision_1: 0.7224\n",
            "Epoch 429/500\n",
            "85/85 [==============================] - 3s 40ms/step - loss: 0.5091 - accuracy: 0.7660 - recall_1: 0.8269 - precision_1: 0.7294 - val_loss: 0.5198 - val_accuracy: 0.7552 - val_recall_1: 0.8399 - val_precision_1: 0.7208\n",
            "Epoch 430/500\n",
            "85/85 [==============================] - 3s 41ms/step - loss: 0.5028 - accuracy: 0.7675 - recall_1: 0.8313 - precision_1: 0.7337 - val_loss: 0.5127 - val_accuracy: 0.7629 - val_recall_1: 0.8141 - val_precision_1: 0.7414\n",
            "Epoch 431/500\n",
            "85/85 [==============================] - 4s 42ms/step - loss: 0.5023 - accuracy: 0.7671 - recall_1: 0.8291 - precision_1: 0.7262 - val_loss: 0.5115 - val_accuracy: 0.7646 - val_recall_1: 0.8330 - val_precision_1: 0.7192\n",
            "Epoch 432/500\n",
            "85/85 [==============================] - 3s 41ms/step - loss: 0.5089 - accuracy: 0.7682 - recall_1: 0.8371 - precision_1: 0.7351 - val_loss: 0.5148 - val_accuracy: 0.7620 - val_recall_1: 0.8399 - val_precision_1: 0.7114\n",
            "Epoch 433/500\n",
            "85/85 [==============================] - 4s 41ms/step - loss: 0.4988 - accuracy: 0.7701 - recall_1: 0.8356 - precision_1: 0.7291 - val_loss: 0.5168 - val_accuracy: 0.7603 - val_recall_1: 0.7917 - val_precision_1: 0.7541\n",
            "Epoch 434/500\n",
            "85/85 [==============================] - 4s 42ms/step - loss: 0.5064 - accuracy: 0.7697 - recall_1: 0.8247 - precision_1: 0.7326 - val_loss: 0.5147 - val_accuracy: 0.7560 - val_recall_1: 0.8313 - val_precision_1: 0.7285\n",
            "Epoch 435/500\n",
            "85/85 [==============================] - 3s 41ms/step - loss: 0.5048 - accuracy: 0.7701 - recall_1: 0.8356 - precision_1: 0.7329 - val_loss: 0.5210 - val_accuracy: 0.7577 - val_recall_1: 0.7814 - val_precision_1: 0.7394\n",
            "Epoch 436/500\n",
            "85/85 [==============================] - 3s 41ms/step - loss: 0.5049 - accuracy: 0.7678 - recall_1: 0.8240 - precision_1: 0.7325 - val_loss: 0.5339 - val_accuracy: 0.7466 - val_recall_1: 0.8692 - val_precision_1: 0.6760\n",
            "Epoch 437/500\n",
            "85/85 [==============================] - 4s 42ms/step - loss: 0.5028 - accuracy: 0.7671 - recall_1: 0.8422 - precision_1: 0.7335 - val_loss: 0.5184 - val_accuracy: 0.7586 - val_recall_1: 0.8434 - val_precision_1: 0.7061\n",
            "Epoch 438/500\n",
            "85/85 [==============================] - 3s 41ms/step - loss: 0.5022 - accuracy: 0.7675 - recall_1: 0.8422 - precision_1: 0.7274 - val_loss: 0.5181 - val_accuracy: 0.7526 - val_recall_1: 0.7659 - val_precision_1: 0.7542\n",
            "Epoch 439/500\n",
            "85/85 [==============================] - 3s 41ms/step - loss: 0.5050 - accuracy: 0.7642 - recall_1: 0.8269 - precision_1: 0.7317 - val_loss: 0.5220 - val_accuracy: 0.7629 - val_recall_1: 0.8158 - val_precision_1: 0.7193\n",
            "Epoch 440/500\n",
            "85/85 [==============================] - 3s 41ms/step - loss: 0.5014 - accuracy: 0.7678 - recall_1: 0.8342 - precision_1: 0.7279 - val_loss: 0.5172 - val_accuracy: 0.7603 - val_recall_1: 0.7986 - val_precision_1: 0.7448\n",
            "Epoch 441/500\n",
            "85/85 [==============================] - 3s 41ms/step - loss: 0.5064 - accuracy: 0.7638 - recall_1: 0.8262 - precision_1: 0.7325 - val_loss: 0.5142 - val_accuracy: 0.7655 - val_recall_1: 0.8244 - val_precision_1: 0.7291\n",
            "Epoch 442/500\n",
            "85/85 [==============================] - 3s 40ms/step - loss: 0.5014 - accuracy: 0.7726 - recall_1: 0.8342 - precision_1: 0.7377 - val_loss: 0.5126 - val_accuracy: 0.7629 - val_recall_1: 0.8348 - val_precision_1: 0.7091\n",
            "Epoch 443/500\n",
            "85/85 [==============================] - 4s 41ms/step - loss: 0.5053 - accuracy: 0.7631 - recall_1: 0.8430 - precision_1: 0.7318 - val_loss: 0.5131 - val_accuracy: 0.7569 - val_recall_1: 0.8124 - val_precision_1: 0.7262\n",
            "Epoch 444/500\n",
            "85/85 [==============================] - 3s 40ms/step - loss: 0.4996 - accuracy: 0.7704 - recall_1: 0.8349 - precision_1: 0.7412 - val_loss: 0.5182 - val_accuracy: 0.7517 - val_recall_1: 0.8141 - val_precision_1: 0.7255\n",
            "Epoch 445/500\n",
            "85/85 [==============================] - 3s 41ms/step - loss: 0.5051 - accuracy: 0.7689 - recall_1: 0.8356 - precision_1: 0.7287 - val_loss: 0.5218 - val_accuracy: 0.7603 - val_recall_1: 0.8451 - val_precision_1: 0.6994\n",
            "Epoch 446/500\n",
            "85/85 [==============================] - 3s 41ms/step - loss: 0.5067 - accuracy: 0.7693 - recall_1: 0.8320 - precision_1: 0.7344 - val_loss: 0.5203 - val_accuracy: 0.7526 - val_recall_1: 0.8158 - val_precision_1: 0.7315\n",
            "Epoch 447/500\n",
            "85/85 [==============================] - 3s 41ms/step - loss: 0.4989 - accuracy: 0.7719 - recall_1: 0.8356 - precision_1: 0.7301 - val_loss: 0.5150 - val_accuracy: 0.7552 - val_recall_1: 0.8296 - val_precision_1: 0.7130\n",
            "Epoch 448/500\n",
            "85/85 [==============================] - 3s 40ms/step - loss: 0.5078 - accuracy: 0.7678 - recall_1: 0.8335 - precision_1: 0.7244 - val_loss: 0.5155 - val_accuracy: 0.7655 - val_recall_1: 0.8038 - val_precision_1: 0.7401\n",
            "Epoch 449/500\n",
            "85/85 [==============================] - 3s 41ms/step - loss: 0.5074 - accuracy: 0.7686 - recall_1: 0.8298 - precision_1: 0.7254 - val_loss: 0.5197 - val_accuracy: 0.7560 - val_recall_1: 0.7952 - val_precision_1: 0.7452\n",
            "Epoch 450/500\n",
            "85/85 [==============================] - 3s 40ms/step - loss: 0.5002 - accuracy: 0.7642 - recall_1: 0.8313 - precision_1: 0.7309 - val_loss: 0.5172 - val_accuracy: 0.7552 - val_recall_1: 0.8296 - val_precision_1: 0.7162\n",
            "Epoch 451/500\n",
            "85/85 [==============================] - 3s 41ms/step - loss: 0.5029 - accuracy: 0.7689 - recall_1: 0.8313 - precision_1: 0.7258 - val_loss: 0.5210 - val_accuracy: 0.7543 - val_recall_1: 0.8193 - val_precision_1: 0.7201\n",
            "Epoch 452/500\n",
            "85/85 [==============================] - 4s 42ms/step - loss: 0.5010 - accuracy: 0.7660 - recall_1: 0.8430 - precision_1: 0.7267 - val_loss: 0.5141 - val_accuracy: 0.7620 - val_recall_1: 0.8003 - val_precision_1: 0.7488\n",
            "Epoch 453/500\n",
            "85/85 [==============================] - 4s 42ms/step - loss: 0.5084 - accuracy: 0.7627 - recall_1: 0.8356 - precision_1: 0.7343 - val_loss: 0.5161 - val_accuracy: 0.7552 - val_recall_1: 0.8399 - val_precision_1: 0.7072\n",
            "Epoch 454/500\n",
            "85/85 [==============================] - 3s 41ms/step - loss: 0.5057 - accuracy: 0.7745 - recall_1: 0.8430 - precision_1: 0.7295 - val_loss: 0.5141 - val_accuracy: 0.7637 - val_recall_1: 0.8382 - val_precision_1: 0.7236\n",
            "Epoch 455/500\n",
            "85/85 [==============================] - 4s 42ms/step - loss: 0.5030 - accuracy: 0.7723 - recall_1: 0.8349 - precision_1: 0.7350 - val_loss: 0.5148 - val_accuracy: 0.7620 - val_recall_1: 0.8279 - val_precision_1: 0.7179\n",
            "Epoch 456/500\n",
            "85/85 [==============================] - 4s 41ms/step - loss: 0.5058 - accuracy: 0.7612 - recall_1: 0.8313 - precision_1: 0.7399 - val_loss: 0.5176 - val_accuracy: 0.7620 - val_recall_1: 0.8365 - val_precision_1: 0.7116\n",
            "Epoch 457/500\n",
            "85/85 [==============================] - 3s 41ms/step - loss: 0.5009 - accuracy: 0.7682 - recall_1: 0.8408 - precision_1: 0.7388 - val_loss: 0.5155 - val_accuracy: 0.7603 - val_recall_1: 0.8296 - val_precision_1: 0.7205\n",
            "Epoch 458/500\n",
            "85/85 [==============================] - 3s 41ms/step - loss: 0.5005 - accuracy: 0.7704 - recall_1: 0.8232 - precision_1: 0.7309 - val_loss: 0.5190 - val_accuracy: 0.7595 - val_recall_1: 0.8244 - val_precision_1: 0.7225\n",
            "Epoch 459/500\n",
            "85/85 [==============================] - 3s 41ms/step - loss: 0.5026 - accuracy: 0.7686 - recall_1: 0.8400 - precision_1: 0.7367 - val_loss: 0.5217 - val_accuracy: 0.7491 - val_recall_1: 0.8451 - val_precision_1: 0.7004\n",
            "Epoch 460/500\n",
            "85/85 [==============================] - 4s 42ms/step - loss: 0.5013 - accuracy: 0.7697 - recall_1: 0.8335 - precision_1: 0.7314 - val_loss: 0.5159 - val_accuracy: 0.7560 - val_recall_1: 0.8382 - val_precision_1: 0.7099\n",
            "Epoch 461/500\n",
            "85/85 [==============================] - 4s 42ms/step - loss: 0.4984 - accuracy: 0.7759 - recall_1: 0.8378 - precision_1: 0.7278 - val_loss: 0.5189 - val_accuracy: 0.7595 - val_recall_1: 0.8640 - val_precision_1: 0.6905\n",
            "Epoch 462/500\n",
            "85/85 [==============================] - 3s 41ms/step - loss: 0.5014 - accuracy: 0.7719 - recall_1: 0.8305 - precision_1: 0.7251 - val_loss: 0.5207 - val_accuracy: 0.7569 - val_recall_1: 0.8503 - val_precision_1: 0.7159\n",
            "Epoch 463/500\n",
            "85/85 [==============================] - 3s 41ms/step - loss: 0.5036 - accuracy: 0.7656 - recall_1: 0.8298 - precision_1: 0.7301 - val_loss: 0.5129 - val_accuracy: 0.7663 - val_recall_1: 0.8434 - val_precision_1: 0.7153\n",
            "Epoch 464/500\n",
            "85/85 [==============================] - 4s 42ms/step - loss: 0.5008 - accuracy: 0.7734 - recall_1: 0.8378 - precision_1: 0.7259 - val_loss: 0.5169 - val_accuracy: 0.7577 - val_recall_1: 0.8124 - val_precision_1: 0.7352\n",
            "Epoch 465/500\n",
            "85/85 [==============================] - 3s 41ms/step - loss: 0.5055 - accuracy: 0.7671 - recall_1: 0.8305 - precision_1: 0.7326 - val_loss: 0.5130 - val_accuracy: 0.7586 - val_recall_1: 0.8262 - val_precision_1: 0.7306\n",
            "Epoch 466/500\n",
            "85/85 [==============================] - 3s 41ms/step - loss: 0.5022 - accuracy: 0.7712 - recall_1: 0.8291 - precision_1: 0.7313 - val_loss: 0.5139 - val_accuracy: 0.7612 - val_recall_1: 0.8296 - val_precision_1: 0.7270\n",
            "Epoch 467/500\n",
            "85/85 [==============================] - 4s 41ms/step - loss: 0.5032 - accuracy: 0.7686 - recall_1: 0.8276 - precision_1: 0.7329 - val_loss: 0.5144 - val_accuracy: 0.7569 - val_recall_1: 0.8434 - val_precision_1: 0.7153\n",
            "Epoch 468/500\n",
            "85/85 [==============================] - 4s 43ms/step - loss: 0.5089 - accuracy: 0.7667 - recall_1: 0.8335 - precision_1: 0.7217 - val_loss: 0.5148 - val_accuracy: 0.7577 - val_recall_1: 0.8348 - val_precision_1: 0.7228\n",
            "Epoch 469/500\n",
            "85/85 [==============================] - 4s 42ms/step - loss: 0.5007 - accuracy: 0.7645 - recall_1: 0.8364 - precision_1: 0.7330 - val_loss: 0.5179 - val_accuracy: 0.7560 - val_recall_1: 0.7780 - val_precision_1: 0.7483\n",
            "Epoch 470/500\n",
            "85/85 [==============================] - 4s 42ms/step - loss: 0.4981 - accuracy: 0.7671 - recall_1: 0.8422 - precision_1: 0.7367 - val_loss: 0.5180 - val_accuracy: 0.7603 - val_recall_1: 0.8055 - val_precision_1: 0.7476\n",
            "Epoch 471/500\n",
            "85/85 [==============================] - 4s 41ms/step - loss: 0.5009 - accuracy: 0.7697 - recall_1: 0.8400 - precision_1: 0.7265 - val_loss: 0.5193 - val_accuracy: 0.7595 - val_recall_1: 0.7642 - val_precision_1: 0.7564\n",
            "Epoch 472/500\n",
            "85/85 [==============================] - 4s 42ms/step - loss: 0.4999 - accuracy: 0.7686 - recall_1: 0.8240 - precision_1: 0.7310 - val_loss: 0.5132 - val_accuracy: 0.7629 - val_recall_1: 0.8296 - val_precision_1: 0.7216\n",
            "Epoch 473/500\n",
            "85/85 [==============================] - 4s 42ms/step - loss: 0.4999 - accuracy: 0.7682 - recall_1: 0.8313 - precision_1: 0.7295 - val_loss: 0.5211 - val_accuracy: 0.7483 - val_recall_1: 0.8399 - val_precision_1: 0.7155\n",
            "Epoch 474/500\n",
            "85/85 [==============================] - 4s 42ms/step - loss: 0.5069 - accuracy: 0.7682 - recall_1: 0.8342 - precision_1: 0.7279 - val_loss: 0.5099 - val_accuracy: 0.7595 - val_recall_1: 0.8348 - val_precision_1: 0.7228\n",
            "Epoch 475/500\n",
            "85/85 [==============================] - 4s 42ms/step - loss: 0.5052 - accuracy: 0.7704 - recall_1: 0.8364 - precision_1: 0.7279 - val_loss: 0.5159 - val_accuracy: 0.7577 - val_recall_1: 0.7866 - val_precision_1: 0.7492\n",
            "Epoch 476/500\n",
            "85/85 [==============================] - 4s 42ms/step - loss: 0.4994 - accuracy: 0.7693 - recall_1: 0.8327 - precision_1: 0.7336 - val_loss: 0.5142 - val_accuracy: 0.7663 - val_recall_1: 0.8227 - val_precision_1: 0.7210\n",
            "Epoch 477/500\n",
            "85/85 [==============================] - 4s 42ms/step - loss: 0.5045 - accuracy: 0.7653 - recall_1: 0.8327 - precision_1: 0.7308 - val_loss: 0.5176 - val_accuracy: 0.7595 - val_recall_1: 0.8348 - val_precision_1: 0.7260\n",
            "Epoch 478/500\n",
            "85/85 [==============================] - 4s 42ms/step - loss: 0.5054 - accuracy: 0.7704 - recall_1: 0.8349 - precision_1: 0.7299 - val_loss: 0.5161 - val_accuracy: 0.7543 - val_recall_1: 0.8330 - val_precision_1: 0.7235\n",
            "Epoch 479/500\n",
            "85/85 [==============================] - 4s 42ms/step - loss: 0.5028 - accuracy: 0.7645 - recall_1: 0.8400 - precision_1: 0.7288 - val_loss: 0.5170 - val_accuracy: 0.7603 - val_recall_1: 0.8141 - val_precision_1: 0.7508\n",
            "Epoch 480/500\n",
            "85/85 [==============================] - 4s 42ms/step - loss: 0.5017 - accuracy: 0.7686 - recall_1: 0.8276 - precision_1: 0.7249 - val_loss: 0.5141 - val_accuracy: 0.7620 - val_recall_1: 0.8348 - val_precision_1: 0.7143\n",
            "Epoch 481/500\n",
            "85/85 [==============================] - 4s 42ms/step - loss: 0.5044 - accuracy: 0.7689 - recall_1: 0.8298 - precision_1: 0.7263 - val_loss: 0.5148 - val_accuracy: 0.7637 - val_recall_1: 0.8107 - val_precision_1: 0.7417\n",
            "Epoch 482/500\n",
            "85/85 [==============================] - 4s 43ms/step - loss: 0.4991 - accuracy: 0.7737 - recall_1: 0.8291 - precision_1: 0.7290 - val_loss: 0.5178 - val_accuracy: 0.7569 - val_recall_1: 0.8003 - val_precision_1: 0.7369\n",
            "Epoch 483/500\n",
            "85/85 [==============================] - 4s 43ms/step - loss: 0.4985 - accuracy: 0.7686 - recall_1: 0.8430 - precision_1: 0.7388 - val_loss: 0.5192 - val_accuracy: 0.7526 - val_recall_1: 0.8038 - val_precision_1: 0.7331\n",
            "Epoch 484/500\n",
            "85/85 [==============================] - 4s 44ms/step - loss: 0.5009 - accuracy: 0.7664 - recall_1: 0.8254 - precision_1: 0.7366 - val_loss: 0.5129 - val_accuracy: 0.7577 - val_recall_1: 0.8330 - val_precision_1: 0.7246\n",
            "Epoch 485/500\n",
            "85/85 [==============================] - 4s 44ms/step - loss: 0.5000 - accuracy: 0.7682 - recall_1: 0.8291 - precision_1: 0.7327 - val_loss: 0.5108 - val_accuracy: 0.7569 - val_recall_1: 0.8090 - val_precision_1: 0.7508\n",
            "Epoch 486/500\n",
            "85/85 [==============================] - 4s 43ms/step - loss: 0.5044 - accuracy: 0.7649 - recall_1: 0.8291 - precision_1: 0.7266 - val_loss: 0.5123 - val_accuracy: 0.7646 - val_recall_1: 0.8107 - val_precision_1: 0.7382\n",
            "Epoch 487/500\n",
            "85/85 [==============================] - 4s 43ms/step - loss: 0.5003 - accuracy: 0.7726 - recall_1: 0.8466 - precision_1: 0.7262 - val_loss: 0.5139 - val_accuracy: 0.7543 - val_recall_1: 0.7986 - val_precision_1: 0.7545\n",
            "Epoch 488/500\n",
            "85/85 [==============================] - 4s 43ms/step - loss: 0.5039 - accuracy: 0.7638 - recall_1: 0.8364 - precision_1: 0.7284 - val_loss: 0.5196 - val_accuracy: 0.7715 - val_recall_1: 0.8296 - val_precision_1: 0.7194\n",
            "Epoch 489/500\n",
            "85/85 [==============================] - 4s 42ms/step - loss: 0.5038 - accuracy: 0.7701 - recall_1: 0.8371 - precision_1: 0.7356 - val_loss: 0.5200 - val_accuracy: 0.7603 - val_recall_1: 0.8434 - val_precision_1: 0.7020\n",
            "Epoch 490/500\n",
            "85/85 [==============================] - 4s 42ms/step - loss: 0.5009 - accuracy: 0.7682 - recall_1: 0.8356 - precision_1: 0.7338 - val_loss: 0.5129 - val_accuracy: 0.7629 - val_recall_1: 0.8520 - val_precision_1: 0.7041\n",
            "Epoch 491/500\n",
            "85/85 [==============================] - 4s 43ms/step - loss: 0.5058 - accuracy: 0.7649 - recall_1: 0.8371 - precision_1: 0.7318 - val_loss: 0.5085 - val_accuracy: 0.7715 - val_recall_1: 0.8417 - val_precision_1: 0.7160\n",
            "Epoch 492/500\n",
            "85/85 [==============================] - 4s 42ms/step - loss: 0.4997 - accuracy: 0.7756 - recall_1: 0.8371 - precision_1: 0.7309 - val_loss: 0.5133 - val_accuracy: 0.7629 - val_recall_1: 0.8210 - val_precision_1: 0.7361\n",
            "Epoch 493/500\n",
            "85/85 [==============================] - 4s 42ms/step - loss: 0.5034 - accuracy: 0.7708 - recall_1: 0.8291 - precision_1: 0.7308 - val_loss: 0.5132 - val_accuracy: 0.7595 - val_recall_1: 0.8210 - val_precision_1: 0.7361\n",
            "Epoch 494/500\n",
            "85/85 [==============================] - 4s 42ms/step - loss: 0.5008 - accuracy: 0.7645 - recall_1: 0.8356 - precision_1: 0.7245 - val_loss: 0.5124 - val_accuracy: 0.7646 - val_recall_1: 0.8262 - val_precision_1: 0.7373\n",
            "Epoch 495/500\n",
            "85/85 [==============================] - 4s 43ms/step - loss: 0.5005 - accuracy: 0.7645 - recall_1: 0.8349 - precision_1: 0.7202 - val_loss: 0.5145 - val_accuracy: 0.7620 - val_recall_1: 0.8262 - val_precision_1: 0.7351\n",
            "Epoch 496/500\n",
            "85/85 [==============================] - 4s 42ms/step - loss: 0.4995 - accuracy: 0.7689 - recall_1: 0.8371 - precision_1: 0.7360 - val_loss: 0.5136 - val_accuracy: 0.7629 - val_recall_1: 0.8485 - val_precision_1: 0.7083\n",
            "Epoch 497/500\n",
            "85/85 [==============================] - 4s 42ms/step - loss: 0.4994 - accuracy: 0.7712 - recall_1: 0.8364 - precision_1: 0.7251 - val_loss: 0.5158 - val_accuracy: 0.7569 - val_recall_1: 0.8434 - val_precision_1: 0.7206\n",
            "Epoch 498/500\n",
            "85/85 [==============================] - 4s 47ms/step - loss: 0.5055 - accuracy: 0.7660 - recall_1: 0.8444 - precision_1: 0.7225 - val_loss: 0.5146 - val_accuracy: 0.7577 - val_recall_1: 0.8021 - val_precision_1: 0.7480\n",
            "Epoch 499/500\n",
            "85/85 [==============================] - 4s 42ms/step - loss: 0.5011 - accuracy: 0.7678 - recall_1: 0.8269 - precision_1: 0.7346 - val_loss: 0.5151 - val_accuracy: 0.7569 - val_recall_1: 0.8434 - val_precision_1: 0.7112\n",
            "Epoch 500/500\n",
            "85/85 [==============================] - 3s 41ms/step - loss: 0.4994 - accuracy: 0.7701 - recall_1: 0.8437 - precision_1: 0.7282 - val_loss: 0.5106 - val_accuracy: 0.7629 - val_recall_1: 0.8210 - val_precision_1: 0.7338\n"
          ]
        }
      ]
    },
    {
      "cell_type": "code",
      "metadata": {
        "colab": {
          "base_uri": "https://localhost:8080/"
        },
        "id": "zUltJL6je5Ce",
        "outputId": "9b928bb8-c17e-4c1c-a4fa-93f9868b8c6e"
      },
      "source": [
        "y_pred = model2.predict(X_test)\n",
        "model2.evaluate(X_test, y_test)"
      ],
      "execution_count": 35,
      "outputs": [
        {
          "output_type": "stream",
          "name": "stdout",
          "text": [
            "53/53 [==============================] - 0s 4ms/step - loss: 0.5041 - accuracy: 0.7652 - recall_1: 0.8878 - precision_1: 0.6979\n"
          ]
        },
        {
          "output_type": "execute_result",
          "data": {
            "text/plain": [
              "[0.5040940642356873,\n",
              " 0.7651651501655579,\n",
              " 0.8878281712532043,\n",
              " 0.6979362368583679]"
            ]
          },
          "metadata": {},
          "execution_count": 35
        }
      ]
    },
    {
      "cell_type": "code",
      "metadata": {
        "colab": {
          "base_uri": "https://localhost:8080/",
          "height": 282
        },
        "id": "bWXrZnv9XPVM",
        "outputId": "27bdbdb3-20e6-4177-f867-8db5531dd472"
      },
      "source": [
        "plt.plot(history.history['recall_1'], label='recall')\n",
        "plt.plot(history.history['val_recall_1'], label='val_recall')\n",
        "plt.legend()"
      ],
      "execution_count": 16,
      "outputs": [
        {
          "output_type": "execute_result",
          "data": {
            "text/plain": [
              "<matplotlib.legend.Legend at 0x7f06e67b4490>"
            ]
          },
          "metadata": {},
          "execution_count": 16
        },
        {
          "output_type": "display_data",
          "data": {
            "image/png": "[encoded data removed]",
            "text/plain": [
              "<Figure size 432x288 with 1 Axes>"
            ]
          },
          "metadata": {
            "needs_background": "light"
          }
        }
      ]
    },
    {
      "cell_type": "code",
      "metadata": {
        "colab": {
          "base_uri": "https://localhost:8080/",
          "height": 286
        },
        "id": "We61eQl8X7qN",
        "outputId": "7102a5e1-e6f2-418e-9ef1-9dbf760a4a56"
      },
      "source": [
        "plt.plot(history.history['loss'], label='loss')\n",
        "plt.plot(history.history['val_loss'], label='val_loss')\n",
        "plt.legend()"
      ],
      "execution_count": 17,
      "outputs": [
        {
          "output_type": "execute_result",
          "data": {
            "text/plain": [
              "<matplotlib.legend.Legend at 0x7f06e67e6050>"
            ]
          },
          "metadata": {},
          "execution_count": 17
        },
        {
          "output_type": "display_data",
          "data": {
            "image/png": "[encoded data removed]",
            "text/plain": [
              "<Figure size 432x288 with 1 Axes>"
            ]
          },
          "metadata": {
            "needs_background": "light"
          }
        }
      ]
    },
    {
      "cell_type": "markdown",
      "metadata": {
        "id": "63HyZ98TJzzH"
      },
      "source": [
        "Precision Recall Curve"
      ]
    },
    {
      "cell_type": "code",
      "metadata": {
        "colab": {
          "base_uri": "https://localhost:8080/"
        },
        "id": "tcptdSSHKWdU",
        "outputId": "001c3953-166a-4329-ecba-28b90a7e7a2c"
      },
      "source": [
        "precision, recall, threshold = precision_recall_curve(y_test, y_pred) \n",
        "\n",
        "print(f'precision- {precision[:5]}')\n",
        "print(f'recall- {recall[:5]}')\n",
        "print(f'threshold- {threshold[:5]}')"
      ],
      "execution_count": 36,
      "outputs": [
        {
          "output_type": "stream",
          "name": "stdout",
          "text": [
            "precision- [0.51035323 0.51005484 0.51036585 0.51067724 0.51098901]\n",
            "recall- [1.         0.99880668 0.99880668 0.99880668 0.99880668]\n",
            "threshold- [0.09811398 0.09870974 0.1003089  0.10176153 0.10179463]\n"
          ]
        }
      ]
    },
    {
      "cell_type": "code",
      "metadata": {
        "colab": {
          "base_uri": "https://localhost:8080/",
          "height": 206
        },
        "id": "8ClkwKDVMvHN",
        "outputId": "bd997b3f-004e-4756-cc9c-83f2eaf1921c"
      },
      "source": [
        "scores = pd.DataFrame({'threshold':threshold,\n",
        "                       'precision': precision[:-1],\n",
        "                       'recall':recall[:-1]})\n",
        "scores.head()"
      ],
      "execution_count": 37,
      "outputs": [
        {
          "output_type": "execute_result",
          "data": {
            "text/html": [
              "<div>\n",
              "<style scoped>\n",
              "    .dataframe tbody tr th:only-of-type {\n",
              "        vertical-align: middle;\n",
              "    }\n",
              "\n",
              "    .dataframe tbody tr th {\n",
              "        vertical-align: top;\n",
              "    }\n",
              "\n",
              "    .dataframe thead th {\n",
              "        text-align: right;\n",
              "    }\n",
              "</style>\n",
              "<table border=\"1\" class=\"dataframe\">\n",
              "  <thead>\n",
              "    <tr style=\"text-align: right;\">\n",
              "      <th></th>\n",
              "      <th>threshold</th>\n",
              "      <th>precision</th>\n",
              "      <th>recall</th>\n",
              "    </tr>\n",
              "  </thead>\n",
              "  <tbody>\n",
              "    <tr>\n",
              "      <th>0</th>\n",
              "      <td>0.098114</td>\n",
              "      <td>0.510353</td>\n",
              "      <td>1.000000</td>\n",
              "    </tr>\n",
              "    <tr>\n",
              "      <th>1</th>\n",
              "      <td>0.098710</td>\n",
              "      <td>0.510055</td>\n",
              "      <td>0.998807</td>\n",
              "    </tr>\n",
              "    <tr>\n",
              "      <th>2</th>\n",
              "      <td>0.100309</td>\n",
              "      <td>0.510366</td>\n",
              "      <td>0.998807</td>\n",
              "    </tr>\n",
              "    <tr>\n",
              "      <th>3</th>\n",
              "      <td>0.101762</td>\n",
              "      <td>0.510677</td>\n",
              "      <td>0.998807</td>\n",
              "    </tr>\n",
              "    <tr>\n",
              "      <th>4</th>\n",
              "      <td>0.101795</td>\n",
              "      <td>0.510989</td>\n",
              "      <td>0.998807</td>\n",
              "    </tr>\n",
              "  </tbody>\n",
              "</table>\n",
              "</div>"
            ],
            "text/plain": [
              "   threshold  precision    recall\n",
              "0   0.098114   0.510353  1.000000\n",
              "1   0.098710   0.510055  0.998807\n",
              "2   0.100309   0.510366  0.998807\n",
              "3   0.101762   0.510677  0.998807\n",
              "4   0.101795   0.510989  0.998807"
            ]
          },
          "metadata": {},
          "execution_count": 37
        }
      ]
    },
    {
      "cell_type": "code",
      "metadata": {
        "colab": {
          "base_uri": "https://localhost:8080/",
          "height": 296
        },
        "id": "zaxkGtl9MyEd",
        "outputId": "0e2de5a1-2636-422f-bd70-541ef228491a"
      },
      "source": [
        "plt.plot(scores['recall'],scores['precision'])\n",
        "plt.ylabel('precision')\n",
        "plt.xlabel('recall')"
      ],
      "execution_count": 38,
      "outputs": [
        {
          "output_type": "execute_result",
          "data": {
            "text/plain": [
              "Text(0.5, 0, 'recall')"
            ]
          },
          "metadata": {},
          "execution_count": 38
        },
        {
          "output_type": "display_data",
          "data": {
            "image/png": "[encoded data removed]",
            "text/plain": [
              "<Figure size 432x288 with 1 Axes>"
            ]
          },
          "metadata": {
            "needs_background": "light"
          }
        }
      ]
    },
    {
      "cell_type": "code",
      "metadata": {
        "colab": {
          "base_uri": "https://localhost:8080/"
        },
        "id": "OOMT2oWfM5KQ",
        "outputId": "03b8a00e-55b7-4b43-aa8b-52e2dc49fa99"
      },
      "source": [
        "# Find threshold that guarantees 0.8 recall score\n",
        "threshold = scores[scores['recall'] >= 0.85].threshold.max()\n",
        "threshold"
      ],
      "execution_count": 39,
      "outputs": [
        {
          "output_type": "execute_result",
          "data": {
            "text/plain": [
              "0.4640745520591736"
            ]
          },
          "metadata": {},
          "execution_count": 39
        }
      ]
    },
    {
      "cell_type": "markdown",
      "metadata": {
        "id": "Gh861cOQeZXD"
      },
      "source": [
        "Predict using test data"
      ]
    },
    {
      "cell_type": "code",
      "metadata": {
        "id": "VQ5LwoPAc3SU"
      },
      "source": [
        "from sklearn.metrics import balanced_accuracy_score"
      ],
      "execution_count": 24,
      "outputs": []
    },
    {
      "cell_type": "code",
      "metadata": {
        "colab": {
          "base_uri": "https://localhost:8080/"
        },
        "id": "y0SyoQi7prOe",
        "outputId": "60d1f647-00d2-4dc8-968d-3f33f64a4c22"
      },
      "source": [
        "def binary_predict(y_pred, custom_threshold=0.41):\n",
        "    return (y_pred > custom_threshold).astype(int)\n",
        "\n",
        "updated_preds = binary_predict(y_pred, custom_threshold=threshold)\n",
        "\n",
        "print(f'Recall:             {recall_score(y_test, updated_preds)}')\n",
        "print(f'Precision:          {precision_score(y_test, updated_preds)}')\n",
        "print(f'F1 score:           {f1_score(y_test, updated_preds)}')\n",
        "print(f'Balanced Accuracy:  {balanced_accuracy_score(y_test, updated_preds)}')"
      ],
      "execution_count": 40,
      "outputs": [
        {
          "output_type": "stream",
          "name": "stdout",
          "text": [
            "Recall:             0.8496420047732697\n",
            "Precision:          0.7295081967213115\n",
            "F1 score:           0.7850055126791621\n",
            "Balanced Accuracy:  0.7652079431363326\n"
          ]
        }
      ]
    },
    {
      "cell_type": "markdown",
      "metadata": {
        "id": "EN3ylXBeqCln"
      },
      "source": [
        "Creating a report"
      ]
    },
    {
      "cell_type": "code",
      "metadata": {
        "id": "Oiczj0coqH94"
      },
      "source": [
        "def model_diagnosis(y_pred):\n",
        "    mean_prob = np.mean(y_pred)\n",
        "    if mean_prob >= 0.7:\n",
        "        return 'High IDC probability'\n",
        "    elif mean_prob >= 0.4:\n",
        "        return 'Medium IDC probability'\n",
        "    else:\n",
        "      return 'Low IDC probability'"
      ],
      "execution_count": null,
      "outputs": []
    },
    {
      "cell_type": "code",
      "metadata": {
        "id": "X9EwxUGxxVaV"
      },
      "source": [
        "def generate_report(X_scaled, y_pred):\n",
        "    # Remove the top 10% whitest images from predictions\n",
        "    white_threshold = max([image.mean() for image in X_scaled]) * 0.90\n",
        "    remove_white_mask = [image.mean() <= white_threshold for image in X_scaled]\n",
        "    X_non_white = X_scaled[remove_white_mask]\n",
        "    y_pred = y_pred[remove_white_mask]\n",
        "\n",
        "    # Generate report using non-white images\n",
        "    report = {}\n",
        "    y_binary = binary_predict(y_pred)\n",
        "    report['sum_positive'] = sum(y_binary)[0]\n",
        "    report['percent_positive'] = round((report['sum_positive']/y_pred.shape[0])*100, 2)\n",
        "    report['mean_probability'] = round(np.mean(y_pred)*100, 2)\n",
        "    report['model_diagnosis'] = model_diagnosis(y_pred)\n",
        "    return report"
      ],
      "execution_count": null,
      "outputs": []
    },
    {
      "cell_type": "code",
      "metadata": {
        "colab": {
          "base_uri": "https://localhost:8080/"
        },
        "id": "CQ4FJsxC20mK",
        "outputId": "d3cad709-c088-4963-fe40-5735e593e585"
      },
      "source": [
        "a = generate_report(X_test, y_pred)\n",
        "a"
      ],
      "execution_count": null,
      "outputs": [
        {
          "output_type": "execute_result",
          "data": {
            "text/plain": [
              "{'mean_probability': 58.4,\n",
              " 'model_diagnosis': 'Medium IDC probability',\n",
              " 'percent_positive': 68.14,\n",
              " 'sum_positive': 586}"
            ]
          },
          "metadata": {},
          "execution_count": 78
        }
      ]
    },
    {
      "cell_type": "markdown",
      "metadata": {
        "id": "4OScIbSyJ6Ex"
      },
      "source": [
        "Save and load model"
      ]
    },
    {
      "cell_type": "code",
      "metadata": {
        "id": "-MevFjEUGOE1"
      },
      "source": [
        "###################################\n",
        "#   RENAME YOUR MODEL EVERY TIME  #\n",
        "#     AVOID OVERWRITING MODELS    #\n",
        "###################################\n",
        "\n",
        "# From Elizabeth's Colab Notebook\n",
        "model.save('/content/drive/MyDrive/Colab Notebooks/MODEL_NAME_HERE.h5')\n",
        "\n",
        "# Local save\n",
        "#model.save('../models/model2.h5')"
      ],
      "execution_count": 23,
      "outputs": []
    },
    {
      "cell_type": "code",
      "metadata": {
        "id": "mjVMuGtI83Tu",
        "colab": {
          "base_uri": "https://localhost:8080/"
        },
        "outputId": "37dcf9a1-5e48-46a4-ec1d-845c787030eb"
      },
      "source": [
        "model2 = load_model('/content/drive/MyDrive/Colab Notebooks/MODEL_NAME_HERE.h5')\n",
        "model2.summary()"
      ],
      "execution_count": 34,
      "outputs": [
        {
          "output_type": "stream",
          "name": "stdout",
          "text": [
            "Model: \"sequential_1\"\n",
            "_________________________________________________________________\n",
            " Layer (type)                Output Shape              Param #   \n",
            "=================================================================\n",
            " conv2d_2 (Conv2D)           (None, 49, 49, 100)       1300      \n",
            "                                                                 \n",
            " max_pooling2d_2 (MaxPooling  (None, 24, 24, 100)      0         \n",
            " 2D)                                                             \n",
            "                                                                 \n",
            " conv2d_3 (Conv2D)           (None, 23, 23, 200)       80200     \n",
            "                                                                 \n",
            " max_pooling2d_3 (MaxPooling  (None, 11, 11, 200)      0         \n",
            " 2D)                                                             \n",
            "                                                                 \n",
            " flatten_1 (Flatten)         (None, 24200)             0         \n",
            "                                                                 \n",
            " dense_2 (Dense)             (None, 16)                387216    \n",
            "                                                                 \n",
            " dropout_1 (Dropout)         (None, 16)                0         \n",
            "                                                                 \n",
            " dense_3 (Dense)             (None, 1)                 17        \n",
            "                                                                 \n",
            "=================================================================\n",
            "Total params: 468,733\n",
            "Trainable params: 468,733\n",
            "Non-trainable params: 0\n",
            "_________________________________________________________________\n"
          ]
        }
      ]
    },
    {
      "cell_type": "code",
      "metadata": {
        "id": "ft3cmvDKGZ3Y"
      },
      "source": [
        ""
      ],
      "execution_count": null,
      "outputs": []
    }
  ]
}