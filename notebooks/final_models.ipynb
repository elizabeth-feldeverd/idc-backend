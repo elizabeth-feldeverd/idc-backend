{
  "nbformat": 4,
  "nbformat_minor": 0,
  "metadata": {
    "colab": {
      "name": "elizabeth_idc_2 (6).ipynb",
      "provenance": [],
      "collapsed_sections": []
    },
    "interpreter": {
      "hash": "1bcec20e031856e66832f97f5e73e129e97f9f232cab5408328b23f1e3c89823"
    },
    "kernelspec": {
      "display_name": "Python 3 (ipykernel)",
      "language": "python",
      "name": "python3"
    },
    "language_info": {
      "codemirror_mode": {
        "name": "ipython",
        "version": 3
      },
      "file_extension": ".py",
      "mimetype": "text/x-python",
      "name": "python",
      "nbconvert_exporter": "python",
      "pygments_lexer": "ipython3",
      "version": "3.8.12"
    },
    "toc": {
      "base_numbering": 1,
      "nav_menu": {},
      "number_sections": true,
      "sideBar": true,
      "skip_h1_title": false,
      "title_cell": "Table of Contents",
      "title_sidebar": "Contents",
      "toc_cell": false,
      "toc_position": {},
      "toc_section_display": true,
      "toc_window_display": false
    }
  },
  "cells": [
    {
      "cell_type": "markdown",
      "metadata": {
        "id": "pqgvHbpcGOEu"
      },
      "source": [
        "# Invasive Ductal Cancer"
      ]
    },
    {
      "cell_type": "code",
      "metadata": {
        "colab": {
          "base_uri": "https://localhost:8080/"
        },
        "id": "WubWNvJFGcaP",
        "outputId": "51fdf1d6-d8ae-4e38-fee2-0350582fc629"
      },
      "source": [
        "from google.colab import drive\n",
        "drive.mount('/content/drive')"
      ],
      "execution_count": null,
      "outputs": [
        {
          "output_type": "stream",
          "name": "stdout",
          "text": [
            "Mounted at /content/drive\n"
          ]
        }
      ]
    },
    {
      "cell_type": "code",
      "metadata": {
        "id": "oWpgoha_GOEw"
      },
      "source": [
        "import numpy as np\n",
        "import pandas as pd\n",
        "import matplotlib.pyplot as plt\n",
        "from PIL import Image\n",
        "from tensorflow.keras.optimizers import Adam, Adagrad\n",
        "from tensorflow.keras import models\n",
        "from tensorflow.keras import Sequential, layers\n",
        "from tensorflow.keras.metrics import Recall, Precision\n",
        "from tensorflow.keras.callbacks import EarlyStopping, ModelCheckpoint\n",
        "from sklearn.model_selection import train_test_split\n",
        "from sklearn.metrics import precision_recall_curve\n",
        "from sklearn.metrics import recall_score, precision_score, f1_score\n",
        "from keras.wrappers.scikit_learn import KerasClassifier\n",
        "from sklearn.model_selection import GridSearchCV\n",
        "from keras.models import load_model"
      ],
      "execution_count": null,
      "outputs": []
    },
    {
      "cell_type": "code",
      "metadata": {
        "id": "V-xfZxl9GOEx"
      },
      "source": [
        "# Running locally\n",
        "# X = np.load('../idc/data/X.npy')\n",
        "# y = np.load('../idc/data/Y.npy')"
      ],
      "execution_count": null,
      "outputs": []
    },
    {
      "cell_type": "code",
      "metadata": {
        "id": "H4EsAsPhHkSk"
      },
      "source": [
        "# Running in Colab\n",
        "X = np.load('/content/drive/MyDrive/Colab Notebooks/data/X.npy')\n",
        "y = np.load('/content/drive/MyDrive/Colab Notebooks/data/Y.npy')"
      ],
      "execution_count": 5,
      "outputs": []
    },
    {
      "cell_type": "code",
      "metadata": {
        "colab": {
          "base_uri": "https://localhost:8080/"
        },
        "id": "DJQvisqoGOEx",
        "outputId": "bf9a6015-32ec-43e7-beb4-9d8c7f814f73"
      },
      "source": [
        "X.shape"
      ],
      "execution_count": 6,
      "outputs": [
        {
          "output_type": "execute_result",
          "data": {
            "text/plain": [
              "(5547, 50, 50, 3)"
            ]
          },
          "metadata": {},
          "execution_count": 6
        }
      ]
    },
    {
      "cell_type": "code",
      "metadata": {
        "colab": {
          "base_uri": "https://localhost:8080/"
        },
        "id": "BNtE-PI-GOEy",
        "outputId": "1f5fbc8c-dd36-4be3-d96b-ec8ad4656129"
      },
      "source": [
        "y.shape"
      ],
      "execution_count": 7,
      "outputs": [
        {
          "output_type": "execute_result",
          "data": {
            "text/plain": [
              "(5547,)"
            ]
          },
          "metadata": {},
          "execution_count": 7
        }
      ]
    },
    {
      "cell_type": "markdown",
      "metadata": {
        "id": "phIRGpKj_q79"
      },
      "source": [
        "## Data augmentation"
      ]
    },
    {
      "cell_type": "code",
      "metadata": {
        "id": "Y7O3r9Jc_qdn"
      },
      "source": [
        "from keras.preprocessing.image import ImageDataGenerator\n",
        "\n",
        "X_scaled = X/255\n",
        "X_train, X_test, y_train, y_test = train_test_split(X_scaled, y, test_size=0.3, random_state=1)\n",
        "\n",
        "# Instantiate image data generator\n",
        "datagen = ImageDataGenerator(rotation_range=90, validation_split=0.3)\n",
        "\n",
        "# Creates iterators for training images\n",
        "val_images = datagen.flow(X_train, y_train, subset='validation', batch_size=32)\n",
        "images = datagen.flow(X_train, y_train, subset='training', batch_size=32)\n",
        "\n",
        "# Generates a fixed number of augmented images\n",
        "# images, labels = next(datagen.flow(X_train, y_train, batch_size=X_train.shape[0]))\n",
        "\n",
        "# # Merge original X_train with augmented images\n",
        "# X_train = np.row_stack((X_train, images))\n",
        "# X_train.shape\n",
        "# \n",
        "# # Merge original y_train with augmented image labels\n",
        "# y_train = np.hstack((y_train, labels))\n",
        "# y_train.shape"
      ],
      "execution_count": 11,
      "outputs": []
    },
    {
      "cell_type": "markdown",
      "metadata": {
        "id": "XI7WSW3oGOEz"
      },
      "source": [
        "## CNN Model Evaluation"
      ]
    },
    {
      "cell_type": "code",
      "metadata": {
        "id": "PjTg6SglGOEz"
      },
      "source": [
        "# Run only if you're not using data augmentation\n",
        "# X_scaled = X/255\n",
        "# X_train, X_test, y_train, y_test = train_test_split(X_scaled, y, test_size=0.3, random_state=1)"
      ],
      "execution_count": null,
      "outputs": []
    },
    {
      "cell_type": "code",
      "metadata": {
        "id": "fz9cQ3CTOV6Y"
      },
      "source": [
        "# Final Model 1 (Based on Janowczyk and Madabhushi 2016)\n",
        "# Recall:             0.849642\n",
        "# Precision:          0.713426\n",
        "# F1 score:           0.775599\n",
        "# Balanced Accuracy:  0.751906\n",
        "\n",
        "def init_model1(learning_rate=0.001):\n",
        "  model = models.Sequential()\n",
        "  model.add(layers.Conv2D(32, kernel_size=(2,2), input_shape=(50, 50, 3), activation=\"relu\"))\n",
        "  model.add(layers.MaxPooling2D(pool_size=(2,2)))\n",
        "  model.add(layers.Conv2D(32, kernel_size=(2,2), activation=\"relu\"))\n",
        "  model.add(layers.MaxPooling2D(pool_size=(2,2)))\n",
        "  model.add(layers.Conv2D(64, kernel_size=(2,2), activation=\"relu\"))\n",
        "  model.add(layers.MaxPooling2D(pool_size=(2,2)))\n",
        "  model.add(layers.Flatten())\n",
        "  model.add(layers.Dense(64))\n",
        "  model.add(layers.Dropout(0.4))\n",
        "  model.add(layers.Dense(16))\n",
        "  model.add(layers.Dropout(0.4))\n",
        "  model.add(layers.Dense(1, activation='sigmoid'))\n",
        "  optimizer = Adagrad(learning_rate=learning_rate)\n",
        "  model.compile(loss='binary_crossentropy',\n",
        "              optimizer=optimizer,\n",
        "              metrics=['accuracy', Recall(thresholds=0.35), Precision(thresholds=0.35)])\n",
        " \n",
        "  return model"
      ],
      "execution_count": null,
      "outputs": []
    },
    {
      "cell_type": "code",
      "metadata": {
        "id": "odo6c9uNSLXu"
      },
      "source": [
        "# Final Model 2 (Elizabeth's version)\n",
        "# Recall:             0.849642\n",
        "# Precision:          0.729508\n",
        "# F1 score:           0.785005\n",
        "# Balanced Accuracy:  0.765207\n",
        "\n",
        "def init_model2(learning_rate=0.001):\n",
        "  model = models.Sequential()\n",
        "  model.add(layers.Conv2D(100, kernel_size=(3,3), input_shape=(50, 50, 3), activation=\"relu\"))\n",
        "  model.add(layers.MaxPooling2D(pool_size=(2,2)))\n",
        "  model.add(layers.Conv2D(200, kernel_size=(3,3), activation=\"relu\"))\n",
        "  model.add(layers.MaxPooling2D(pool_size=(2,2)))\n",
        "  model.add(layers.Flatten())\n",
        "  model.add(layers.Dense(16))\n",
        "  model.add(layers.Dropout(0.4))\n",
        "  model.add(layers.Dense(1, activation='sigmoid'))\n",
        "  optimizer = Adagrad(learning_rate=learning_rate)\n",
        "  model.compile(loss='binary_crossentropy',\n",
        "              optimizer=optimizer,\n",
        "              metrics=['accuracy', Recall(thresholds=0.45), Precision(thresholds=0.45)])\n",
        " \n",
        "  return model"
      ],
      "execution_count": null,
      "outputs": []
    },
    {
      "cell_type": "code",
      "metadata": {
        "colab": {
          "base_uri": "https://localhost:8080/"
        },
        "id": "SIPrXv4oHnIi",
        "outputId": "508b1f02-2d9d-49ba-b3b0-b59b1520b798"
      },
      "source": [
        "model = init_model2()\n",
        "model.summary()"
      ],
      "execution_count": null,
      "outputs": [
        {
          "output_type": "stream",
          "name": "stdout",
          "text": [
            "Model: \"sequential\"\n",
            "_________________________________________________________________\n",
            " Layer (type)                Output Shape              Param #   \n",
            "=================================================================\n",
            " conv2d (Conv2D)             (None, 48, 48, 100)       2800      \n",
            "                                                                 \n",
            " max_pooling2d (MaxPooling2D  (None, 24, 24, 100)      0         \n",
            " )                                                               \n",
            "                                                                 \n",
            " conv2d_1 (Conv2D)           (None, 22, 22, 200)       180200    \n",
            "                                                                 \n",
            " max_pooling2d_1 (MaxPooling  (None, 11, 11, 200)      0         \n",
            " 2D)                                                             \n",
            "                                                                 \n",
            " flatten (Flatten)           (None, 24200)             0         \n",
            "                                                                 \n",
            " dense (Dense)               (None, 16)                387216    \n",
            "                                                                 \n",
            " dropout (Dropout)           (None, 16)                0         \n",
            "                                                                 \n",
            " dense_1 (Dense)             (None, 1)                 17        \n",
            "                                                                 \n",
            "=================================================================\n",
            "Total params: 570,233\n",
            "Trainable params: 570,233\n",
            "Non-trainable params: 0\n",
            "_________________________________________________________________\n"
          ]
        }
      ]
    },
    {
      "cell_type": "code",
      "metadata": {
        "colab": {
          "base_uri": "https://localhost:8080/",
          "height": 1000
        },
        "id": "OtwJBvz6japV",
        "outputId": "7bb90d08-c3c2-4e97-94ce-0da0f7c0daa4"
      },
      "source": [
        "model = init_model2()\n",
        "mc = ModelCheckpoint(filepath='/content/drive/MyDrive/Colab Notebooks/model.{epoch:02d}-{val_loss:.2f}.h5', \n",
        "                     monitor='val_loss', mode='min', save_best_only=True)\n",
        "history = model.fit(images,\n",
        "          validation_data=val_images,\n",
        "          epochs=1000,\n",
        "          batch_size=64, \n",
        "          verbose=1,\n",
        "          callbacks=mc)"
      ],
      "execution_count": null,
      "outputs": [
        {
          "output_type": "stream",
          "name": "stdout",
          "text": [
            "Epoch 1/1000\n",
            "85/85 [==============================] - 4s 39ms/step - loss: 0.6931 - accuracy: 0.5475 - recall_2: 0.8174 - precision_2: 0.5352 - val_loss: 0.6916 - val_accuracy: 0.4991 - val_recall_2: 1.0000 - val_precision_2: 0.4991\n",
            "Epoch 2/1000\n",
            "85/85 [==============================] - 3s 36ms/step - loss: 0.6585 - accuracy: 0.5890 - recall_2: 0.8532 - precision_2: 0.5615 - val_loss: 0.6304 - val_accuracy: 0.6684 - val_recall_2: 0.6988 - val_precision_2: 0.6722\n",
            "Epoch 3/1000\n",
            "85/85 [==============================] - 3s 35ms/step - loss: 0.6448 - accuracy: 0.6442 - recall_2: 0.7348 - precision_2: 0.6164 - val_loss: 0.5964 - val_accuracy: 0.6985 - val_recall_2: 0.8107 - val_precision_2: 0.6681\n",
            "Epoch 4/1000\n",
            "85/85 [==============================] - 3s 35ms/step - loss: 0.5940 - accuracy: 0.6990 - recall_2: 0.7516 - precision_2: 0.6783 - val_loss: 0.5911 - val_accuracy: 0.7234 - val_recall_2: 0.7831 - val_precision_2: 0.6873\n",
            "Epoch 5/1000\n",
            "85/85 [==============================] - 3s 37ms/step - loss: 0.5709 - accuracy: 0.7182 - recall_2: 0.7991 - precision_2: 0.6778 - val_loss: 0.5488 - val_accuracy: 0.7534 - val_recall_2: 0.8262 - val_precision_2: 0.7038\n",
            "Epoch 6/1000\n",
            "85/85 [==============================] - 3s 36ms/step - loss: 0.5681 - accuracy: 0.7233 - recall_2: 0.7641 - precision_2: 0.6978 - val_loss: 0.5395 - val_accuracy: 0.7586 - val_recall_2: 0.8417 - val_precision_2: 0.6986\n",
            "Epoch 7/1000\n",
            "85/85 [==============================] - 3s 36ms/step - loss: 0.5453 - accuracy: 0.7384 - recall_2: 0.7721 - precision_2: 0.7210 - val_loss: 0.5426 - val_accuracy: 0.7320 - val_recall_2: 0.7177 - val_precision_2: 0.7637\n",
            "Epoch 8/1000\n",
            "85/85 [==============================] - 3s 35ms/step - loss: 0.5483 - accuracy: 0.7498 - recall_2: 0.7962 - precision_2: 0.7291 - val_loss: 0.6179 - val_accuracy: 0.6881 - val_recall_2: 0.5318 - val_precision_2: 0.8005\n",
            "Epoch 9/1000\n",
            "85/85 [==============================] - 3s 36ms/step - loss: 0.5458 - accuracy: 0.7303 - recall_2: 0.7597 - precision_2: 0.7268 - val_loss: 0.5258 - val_accuracy: 0.7595 - val_recall_2: 0.7762 - val_precision_2: 0.7517\n",
            "Epoch 10/1000\n",
            "85/85 [==============================] - 3s 35ms/step - loss: 0.5550 - accuracy: 0.7311 - recall_2: 0.7626 - precision_2: 0.7136 - val_loss: 0.5486 - val_accuracy: 0.7268 - val_recall_2: 0.6678 - val_precision_2: 0.7683\n",
            "Epoch 11/1000\n",
            "85/85 [==============================] - 3s 35ms/step - loss: 0.5391 - accuracy: 0.7333 - recall_2: 0.7560 - precision_2: 0.7314 - val_loss: 0.5820 - val_accuracy: 0.7242 - val_recall_2: 0.9432 - val_precision_2: 0.6277\n",
            "Epoch 12/1000\n",
            "85/85 [==============================] - 3s 34ms/step - loss: 0.5274 - accuracy: 0.7491 - recall_2: 0.7852 - precision_2: 0.7323 - val_loss: 0.5362 - val_accuracy: 0.7560 - val_recall_2: 0.8709 - val_precision_2: 0.6941\n",
            "Epoch 13/1000\n",
            "85/85 [==============================] - 3s 35ms/step - loss: 0.5266 - accuracy: 0.7454 - recall_2: 0.7787 - precision_2: 0.7271 - val_loss: 0.5103 - val_accuracy: 0.7603 - val_recall_2: 0.8141 - val_precision_2: 0.7333\n",
            "Epoch 14/1000\n",
            "85/85 [==============================] - 3s 35ms/step - loss: 0.5410 - accuracy: 0.7454 - recall_2: 0.7728 - precision_2: 0.7312 - val_loss: 0.5195 - val_accuracy: 0.7577 - val_recall_2: 0.7728 - val_precision_2: 0.7534\n",
            "Epoch 15/1000\n",
            "85/85 [==============================] - 3s 35ms/step - loss: 0.5380 - accuracy: 0.7458 - recall_2: 0.7604 - precision_2: 0.7310 - val_loss: 0.5271 - val_accuracy: 0.7423 - val_recall_2: 0.7040 - val_precision_2: 0.7835\n",
            "Epoch 16/1000\n",
            "85/85 [==============================] - 3s 35ms/step - loss: 0.5196 - accuracy: 0.7487 - recall_2: 0.7750 - precision_2: 0.7368 - val_loss: 0.5276 - val_accuracy: 0.7646 - val_recall_2: 0.8606 - val_precision_2: 0.7205\n",
            "Epoch 17/1000\n",
            "85/85 [==============================] - 3s 35ms/step - loss: 0.5148 - accuracy: 0.7550 - recall_2: 0.7809 - precision_2: 0.7352 - val_loss: 0.5648 - val_accuracy: 0.7543 - val_recall_2: 0.9139 - val_precision_2: 0.6671\n",
            "Epoch 18/1000\n",
            "85/85 [==============================] - 3s 36ms/step - loss: 0.5119 - accuracy: 0.7583 - recall_2: 0.7947 - precision_2: 0.7509 - val_loss: 0.5027 - val_accuracy: 0.7646 - val_recall_2: 0.8003 - val_precision_2: 0.7488\n",
            "Epoch 19/1000\n",
            "85/85 [==============================] - 3s 35ms/step - loss: 0.5133 - accuracy: 0.7649 - recall_2: 0.7852 - precision_2: 0.7608 - val_loss: 0.5137 - val_accuracy: 0.7603 - val_recall_2: 0.7418 - val_precision_2: 0.7710\n",
            "Epoch 20/1000\n",
            "85/85 [==============================] - 3s 35ms/step - loss: 0.5315 - accuracy: 0.7583 - recall_2: 0.7772 - precision_2: 0.7420 - val_loss: 0.5400 - val_accuracy: 0.7354 - val_recall_2: 0.6919 - val_precision_2: 0.7976\n",
            "Epoch 21/1000\n",
            "85/85 [==============================] - 3s 35ms/step - loss: 0.5183 - accuracy: 0.7561 - recall_2: 0.7663 - precision_2: 0.7579 - val_loss: 0.5317 - val_accuracy: 0.7620 - val_recall_2: 0.8778 - val_precision_2: 0.6958\n",
            "Epoch 22/1000\n",
            "85/85 [==============================] - 3s 35ms/step - loss: 0.5221 - accuracy: 0.7564 - recall_2: 0.7772 - precision_2: 0.7441 - val_loss: 0.5190 - val_accuracy: 0.7741 - val_recall_2: 0.8657 - val_precision_2: 0.7186\n",
            "Epoch 23/1000\n",
            "85/85 [==============================] - 3s 35ms/step - loss: 0.5275 - accuracy: 0.7542 - recall_2: 0.7736 - precision_2: 0.7339 - val_loss: 0.5445 - val_accuracy: 0.7655 - val_recall_2: 0.8761 - val_precision_2: 0.7040\n",
            "Epoch 24/1000\n",
            "85/85 [==============================] - 3s 35ms/step - loss: 0.5284 - accuracy: 0.7517 - recall_2: 0.7772 - precision_2: 0.7441 - val_loss: 0.5532 - val_accuracy: 0.7242 - val_recall_2: 0.6265 - val_precision_2: 0.8071\n",
            "Epoch 25/1000\n",
            "85/85 [==============================] - 3s 35ms/step - loss: 0.5360 - accuracy: 0.7509 - recall_2: 0.7706 - precision_2: 0.7342 - val_loss: 0.5213 - val_accuracy: 0.7552 - val_recall_2: 0.7263 - val_precision_2: 0.7829\n",
            "Epoch 26/1000\n",
            "85/85 [==============================] - 3s 35ms/step - loss: 0.4997 - accuracy: 0.7719 - recall_2: 0.7882 - precision_2: 0.7718 - val_loss: 0.5248 - val_accuracy: 0.7637 - val_recall_2: 0.8657 - val_precision_2: 0.6976\n",
            "Epoch 27/1000\n",
            "85/85 [==============================] - 3s 36ms/step - loss: 0.5366 - accuracy: 0.7498 - recall_2: 0.7831 - precision_2: 0.7293 - val_loss: 0.5188 - val_accuracy: 0.7405 - val_recall_2: 0.7005 - val_precision_2: 0.7797\n",
            "Epoch 28/1000\n",
            "85/85 [==============================] - 3s 35ms/step - loss: 0.5168 - accuracy: 0.7506 - recall_2: 0.7787 - precision_2: 0.7481 - val_loss: 0.5115 - val_accuracy: 0.7646 - val_recall_2: 0.7642 - val_precision_2: 0.7682\n",
            "Epoch 29/1000\n",
            "85/85 [==============================] - 3s 35ms/step - loss: 0.5340 - accuracy: 0.7439 - recall_2: 0.7743 - precision_2: 0.7250 - val_loss: 0.5640 - val_accuracy: 0.7251 - val_recall_2: 0.6351 - val_precision_2: 0.7935\n",
            "Epoch 30/1000\n",
            "85/85 [==============================] - 3s 35ms/step - loss: 0.5054 - accuracy: 0.7645 - recall_2: 0.7845 - precision_2: 0.7569 - val_loss: 0.5813 - val_accuracy: 0.7354 - val_recall_2: 0.6351 - val_precision_2: 0.8128\n",
            "Epoch 31/1000\n",
            "85/85 [==============================] - 3s 35ms/step - loss: 0.5147 - accuracy: 0.7649 - recall_2: 0.7787 - precision_2: 0.7664 - val_loss: 0.5484 - val_accuracy: 0.7655 - val_recall_2: 0.8417 - val_precision_2: 0.7320\n",
            "Epoch 32/1000\n",
            "85/85 [==============================] - 3s 34ms/step - loss: 0.5055 - accuracy: 0.7634 - recall_2: 0.7911 - precision_2: 0.7521 - val_loss: 0.5123 - val_accuracy: 0.7749 - val_recall_2: 0.8158 - val_precision_2: 0.7441\n",
            "Epoch 33/1000\n",
            "85/85 [==============================] - 3s 35ms/step - loss: 0.5084 - accuracy: 0.7664 - recall_2: 0.7816 - precision_2: 0.7621 - val_loss: 0.5064 - val_accuracy: 0.7680 - val_recall_2: 0.7762 - val_precision_2: 0.7580\n",
            "Epoch 34/1000\n",
            "85/85 [==============================] - 3s 35ms/step - loss: 0.5155 - accuracy: 0.7590 - recall_2: 0.7882 - precision_2: 0.7519 - val_loss: 0.5244 - val_accuracy: 0.7457 - val_recall_2: 0.7194 - val_precision_2: 0.7784\n",
            "Epoch 35/1000\n",
            "85/85 [==============================] - 3s 35ms/step - loss: 0.5097 - accuracy: 0.7601 - recall_2: 0.7706 - precision_2: 0.7574 - val_loss: 0.5184 - val_accuracy: 0.7586 - val_recall_2: 0.7349 - val_precision_2: 0.7878\n",
            "Epoch 36/1000\n",
            "85/85 [==============================] - 3s 40ms/step - loss: 0.4981 - accuracy: 0.7759 - recall_2: 0.7969 - precision_2: 0.7656 - val_loss: 0.5520 - val_accuracy: 0.7414 - val_recall_2: 0.9208 - val_precision_2: 0.6646\n",
            "Epoch 37/1000\n",
            "85/85 [==============================] - 3s 35ms/step - loss: 0.5134 - accuracy: 0.7660 - recall_2: 0.7874 - precision_2: 0.7507 - val_loss: 0.5088 - val_accuracy: 0.7603 - val_recall_2: 0.7659 - val_precision_2: 0.7712\n",
            "Epoch 38/1000\n",
            "85/85 [==============================] - 3s 36ms/step - loss: 0.4985 - accuracy: 0.7693 - recall_2: 0.8020 - precision_2: 0.7636 - val_loss: 0.5281 - val_accuracy: 0.7595 - val_recall_2: 0.8967 - val_precision_2: 0.6901\n",
            "Epoch 39/1000\n",
            "85/85 [==============================] - 3s 35ms/step - loss: 0.4958 - accuracy: 0.7748 - recall_2: 0.7991 - precision_2: 0.7624 - val_loss: 0.5059 - val_accuracy: 0.7663 - val_recall_2: 0.8296 - val_precision_2: 0.7336\n",
            "Epoch 40/1000\n",
            "85/85 [==============================] - 3s 35ms/step - loss: 0.4992 - accuracy: 0.7623 - recall_2: 0.7918 - precision_2: 0.7523 - val_loss: 0.5186 - val_accuracy: 0.7663 - val_recall_2: 0.7849 - val_precision_2: 0.7587\n",
            "Epoch 41/1000\n",
            "85/85 [==============================] - 3s 35ms/step - loss: 0.5107 - accuracy: 0.7631 - recall_2: 0.7955 - precision_2: 0.7500 - val_loss: 0.5096 - val_accuracy: 0.7784 - val_recall_2: 0.8244 - val_precision_2: 0.7324\n",
            "Epoch 42/1000\n",
            "85/85 [==============================] - 3s 37ms/step - loss: 0.4949 - accuracy: 0.7620 - recall_2: 0.7867 - precision_2: 0.7579 - val_loss: 0.5061 - val_accuracy: 0.7560 - val_recall_2: 0.7298 - val_precision_2: 0.7866\n",
            "Epoch 43/1000\n",
            "85/85 [==============================] - 3s 37ms/step - loss: 0.5014 - accuracy: 0.7745 - recall_2: 0.7947 - precision_2: 0.7700 - val_loss: 0.5003 - val_accuracy: 0.7689 - val_recall_2: 0.7487 - val_precision_2: 0.7838\n",
            "Epoch 44/1000\n",
            "85/85 [==============================] - 3s 36ms/step - loss: 0.5065 - accuracy: 0.7645 - recall_2: 0.7911 - precision_2: 0.7584 - val_loss: 0.5050 - val_accuracy: 0.7766 - val_recall_2: 0.7952 - val_precision_2: 0.7687\n",
            "Epoch 45/1000\n",
            "85/85 [==============================] - 3s 36ms/step - loss: 0.4940 - accuracy: 0.7701 - recall_2: 0.7852 - precision_2: 0.7651 - val_loss: 0.5004 - val_accuracy: 0.7552 - val_recall_2: 0.7866 - val_precision_2: 0.7617\n",
            "Epoch 46/1000\n",
            "85/85 [==============================] - 3s 35ms/step - loss: 0.5008 - accuracy: 0.7667 - recall_2: 0.7977 - precision_2: 0.7547 - val_loss: 0.5231 - val_accuracy: 0.7517 - val_recall_2: 0.7074 - val_precision_2: 0.7829\n",
            "Epoch 47/1000\n",
            "85/85 [==============================] - 3s 36ms/step - loss: 0.5016 - accuracy: 0.7612 - recall_2: 0.7801 - precision_2: 0.7553 - val_loss: 0.5184 - val_accuracy: 0.7629 - val_recall_2: 0.7642 - val_precision_2: 0.7735\n",
            "Epoch 48/1000\n",
            "85/85 [==============================] - 3s 35ms/step - loss: 0.4853 - accuracy: 0.7811 - recall_2: 0.8006 - precision_2: 0.7697 - val_loss: 0.5034 - val_accuracy: 0.7672 - val_recall_2: 0.7349 - val_precision_2: 0.7996\n",
            "Epoch 49/1000\n",
            "85/85 [==============================] - 3s 36ms/step - loss: 0.4966 - accuracy: 0.7745 - recall_2: 0.8042 - precision_2: 0.7683 - val_loss: 0.5016 - val_accuracy: 0.7620 - val_recall_2: 0.7590 - val_precision_2: 0.7551\n",
            "Epoch 50/1000\n",
            "85/85 [==============================] - 3s 36ms/step - loss: 0.4936 - accuracy: 0.7678 - recall_2: 0.7984 - precision_2: 0.7596 - val_loss: 0.4990 - val_accuracy: 0.7689 - val_recall_2: 0.8279 - val_precision_2: 0.7366\n",
            "Epoch 51/1000\n",
            "85/85 [==============================] - 3s 35ms/step - loss: 0.4975 - accuracy: 0.7741 - recall_2: 0.8079 - precision_2: 0.7617 - val_loss: 0.5087 - val_accuracy: 0.7741 - val_recall_2: 0.8399 - val_precision_2: 0.7405\n",
            "Epoch 52/1000\n",
            "85/85 [==============================] - 3s 37ms/step - loss: 0.4990 - accuracy: 0.7693 - recall_2: 0.7816 - precision_2: 0.7583 - val_loss: 0.4981 - val_accuracy: 0.7706 - val_recall_2: 0.7694 - val_precision_2: 0.7801\n",
            "Epoch 53/1000\n",
            "85/85 [==============================] - 3s 37ms/step - loss: 0.4954 - accuracy: 0.7689 - recall_2: 0.7867 - precision_2: 0.7579 - val_loss: 0.5244 - val_accuracy: 0.7517 - val_recall_2: 0.6730 - val_precision_2: 0.8095\n",
            "Epoch 54/1000\n",
            "85/85 [==============================] - 3s 37ms/step - loss: 0.4942 - accuracy: 0.7737 - recall_2: 0.7962 - precision_2: 0.7687 - val_loss: 0.5083 - val_accuracy: 0.7586 - val_recall_2: 0.7108 - val_precision_2: 0.7927\n",
            "Epoch 55/1000\n",
            "85/85 [==============================] - 3s 37ms/step - loss: 0.4890 - accuracy: 0.7759 - recall_2: 0.7947 - precision_2: 0.7678 - val_loss: 0.4987 - val_accuracy: 0.7689 - val_recall_2: 0.7814 - val_precision_2: 0.7695\n",
            "Epoch 56/1000\n",
            "85/85 [==============================] - 3s 35ms/step - loss: 0.5032 - accuracy: 0.7675 - recall_2: 0.7852 - precision_2: 0.7491 - val_loss: 0.5154 - val_accuracy: 0.7483 - val_recall_2: 0.7143 - val_precision_2: 0.7875\n",
            "Epoch 57/1000\n",
            "85/85 [==============================] - 3s 35ms/step - loss: 0.5059 - accuracy: 0.7664 - recall_2: 0.7838 - precision_2: 0.7540 - val_loss: 0.5123 - val_accuracy: 0.7637 - val_recall_2: 0.8176 - val_precision_2: 0.7387\n",
            "Epoch 58/1000\n",
            "85/85 [==============================] - 3s 35ms/step - loss: 0.5043 - accuracy: 0.7689 - recall_2: 0.7845 - precision_2: 0.7585 - val_loss: 0.5270 - val_accuracy: 0.7637 - val_recall_2: 0.7831 - val_precision_2: 0.7339\n",
            "Epoch 59/1000\n",
            "85/85 [==============================] - 3s 36ms/step - loss: 0.5045 - accuracy: 0.7649 - recall_2: 0.7889 - precision_2: 0.7574 - val_loss: 0.5047 - val_accuracy: 0.7612 - val_recall_2: 0.8503 - val_precision_2: 0.7417\n",
            "Epoch 60/1000\n",
            "85/85 [==============================] - 3s 35ms/step - loss: 0.4958 - accuracy: 0.7770 - recall_2: 0.8057 - precision_2: 0.7612 - val_loss: 0.5112 - val_accuracy: 0.7586 - val_recall_2: 0.8399 - val_precision_2: 0.7114\n",
            "Epoch 61/1000\n",
            "85/85 [==============================] - 3s 35ms/step - loss: 0.4950 - accuracy: 0.7642 - recall_2: 0.7933 - precision_2: 0.7605 - val_loss: 0.5013 - val_accuracy: 0.7723 - val_recall_2: 0.8296 - val_precision_2: 0.7404\n",
            "Epoch 62/1000\n",
            "85/85 [==============================] - 3s 35ms/step - loss: 0.4860 - accuracy: 0.7763 - recall_2: 0.8020 - precision_2: 0.7620 - val_loss: 0.5442 - val_accuracy: 0.7655 - val_recall_2: 0.8881 - val_precision_2: 0.7040\n",
            "Epoch 63/1000\n",
            "85/85 [==============================] - 3s 35ms/step - loss: 0.4959 - accuracy: 0.7741 - recall_2: 0.7984 - precision_2: 0.7681 - val_loss: 0.5107 - val_accuracy: 0.7552 - val_recall_2: 0.7126 - val_precision_2: 0.7931\n",
            "Epoch 64/1000\n",
            "85/85 [==============================] - 3s 35ms/step - loss: 0.5125 - accuracy: 0.7575 - recall_2: 0.7852 - precision_2: 0.7554 - val_loss: 0.5293 - val_accuracy: 0.7500 - val_recall_2: 0.9036 - val_precision_2: 0.6739\n",
            "Epoch 65/1000\n",
            "85/85 [==============================] - 3s 35ms/step - loss: 0.4871 - accuracy: 0.7763 - recall_2: 0.7984 - precision_2: 0.7676 - val_loss: 0.5349 - val_accuracy: 0.7491 - val_recall_2: 0.9019 - val_precision_2: 0.6805\n",
            "Epoch 66/1000\n",
            "85/85 [==============================] - 3s 35ms/step - loss: 0.4903 - accuracy: 0.7763 - recall_2: 0.8196 - precision_2: 0.7653 - val_loss: 0.5105 - val_accuracy: 0.7655 - val_recall_2: 0.7298 - val_precision_2: 0.8076\n",
            "Epoch 67/1000\n",
            "85/85 [==============================] - 3s 35ms/step - loss: 0.4843 - accuracy: 0.7796 - recall_2: 0.7896 - precision_2: 0.7640 - val_loss: 0.5230 - val_accuracy: 0.7466 - val_recall_2: 0.6885 - val_precision_2: 0.7890\n",
            "Epoch 68/1000\n",
            "85/85 [==============================] - 3s 34ms/step - loss: 0.4811 - accuracy: 0.7748 - recall_2: 0.7947 - precision_2: 0.7640 - val_loss: 0.5043 - val_accuracy: 0.7723 - val_recall_2: 0.8107 - val_precision_2: 0.7500\n",
            "Epoch 69/1000\n",
            "85/85 [==============================] - 3s 35ms/step - loss: 0.4876 - accuracy: 0.7759 - recall_2: 0.7918 - precision_2: 0.7715 - val_loss: 0.5509 - val_accuracy: 0.7354 - val_recall_2: 0.8830 - val_precision_2: 0.6611\n",
            "Epoch 70/1000\n",
            "85/85 [==============================] - 3s 36ms/step - loss: 0.4934 - accuracy: 0.7781 - recall_2: 0.8013 - precision_2: 0.7650 - val_loss: 0.4963 - val_accuracy: 0.7706 - val_recall_2: 0.7969 - val_precision_2: 0.7640\n",
            "Epoch 71/1000\n",
            "85/85 [==============================] - 3s 36ms/step - loss: 0.4848 - accuracy: 0.7829 - recall_2: 0.8013 - precision_2: 0.7693 - val_loss: 0.5019 - val_accuracy: 0.7732 - val_recall_2: 0.8279 - val_precision_2: 0.7389\n",
            "Epoch 72/1000\n",
            "85/85 [==============================] - 3s 36ms/step - loss: 0.4875 - accuracy: 0.7767 - recall_2: 0.8028 - precision_2: 0.7696 - val_loss: 0.5023 - val_accuracy: 0.7706 - val_recall_2: 0.7435 - val_precision_2: 0.7970\n",
            "Epoch 73/1000\n",
            "85/85 [==============================] - 3s 36ms/step - loss: 0.4889 - accuracy: 0.7737 - recall_2: 0.7969 - precision_2: 0.7699 - val_loss: 0.5066 - val_accuracy: 0.7741 - val_recall_2: 0.8158 - val_precision_2: 0.7512\n",
            "Epoch 74/1000\n",
            "85/85 [==============================] - 3s 36ms/step - loss: 0.4798 - accuracy: 0.7844 - recall_2: 0.8203 - precision_2: 0.7687 - val_loss: 0.5454 - val_accuracy: 0.7320 - val_recall_2: 0.6420 - val_precision_2: 0.8074\n",
            "Epoch 75/1000\n",
            "85/85 [==============================] - 3s 36ms/step - loss: 0.5020 - accuracy: 0.7748 - recall_2: 0.7933 - precision_2: 0.7719 - val_loss: 0.5031 - val_accuracy: 0.7723 - val_recall_2: 0.8313 - val_precision_2: 0.7374\n",
            "Epoch 76/1000\n",
            "85/85 [==============================] - 3s 35ms/step - loss: 0.4769 - accuracy: 0.7756 - recall_2: 0.8020 - precision_2: 0.7743 - val_loss: 0.5130 - val_accuracy: 0.7577 - val_recall_2: 0.8589 - val_precision_2: 0.7068\n",
            "Epoch 77/1000\n",
            "85/85 [==============================] - 3s 36ms/step - loss: 0.4924 - accuracy: 0.7756 - recall_2: 0.7955 - precision_2: 0.7696 - val_loss: 0.4948 - val_accuracy: 0.7766 - val_recall_2: 0.8227 - val_precision_2: 0.7648\n",
            "Epoch 78/1000\n",
            "85/85 [==============================] - 3s 35ms/step - loss: 0.4861 - accuracy: 0.7723 - recall_2: 0.8035 - precision_2: 0.7571 - val_loss: 0.5160 - val_accuracy: 0.7466 - val_recall_2: 0.6954 - val_precision_2: 0.8000\n",
            "Epoch 79/1000\n",
            "85/85 [==============================] - 3s 35ms/step - loss: 0.4917 - accuracy: 0.7737 - recall_2: 0.8006 - precision_2: 0.7611 - val_loss: 0.5144 - val_accuracy: 0.7741 - val_recall_2: 0.8830 - val_precision_2: 0.7056\n",
            "Epoch 80/1000\n",
            "85/85 [==============================] - 3s 36ms/step - loss: 0.4909 - accuracy: 0.7745 - recall_2: 0.8079 - precision_2: 0.7691 - val_loss: 0.5185 - val_accuracy: 0.7732 - val_recall_2: 0.8623 - val_precision_2: 0.7198\n",
            "Epoch 81/1000\n",
            "85/85 [==============================] - 3s 36ms/step - loss: 0.4935 - accuracy: 0.7667 - recall_2: 0.7882 - precision_2: 0.7636 - val_loss: 0.5021 - val_accuracy: 0.7680 - val_recall_2: 0.7590 - val_precision_2: 0.7710\n",
            "Epoch 82/1000\n",
            "85/85 [==============================] - 3s 36ms/step - loss: 0.4845 - accuracy: 0.7752 - recall_2: 0.8013 - precision_2: 0.7650 - val_loss: 0.5217 - val_accuracy: 0.7569 - val_recall_2: 0.7263 - val_precision_2: 0.7962\n",
            "Epoch 83/1000\n",
            "85/85 [==============================] - 3s 35ms/step - loss: 0.4987 - accuracy: 0.7741 - recall_2: 0.7977 - precision_2: 0.7583 - val_loss: 0.5075 - val_accuracy: 0.7655 - val_recall_2: 0.7522 - val_precision_2: 0.7846\n",
            "Epoch 84/1000\n",
            "85/85 [==============================] - 3s 35ms/step - loss: 0.4879 - accuracy: 0.7815 - recall_2: 0.8020 - precision_2: 0.7705 - val_loss: 0.5034 - val_accuracy: 0.7758 - val_recall_2: 0.8348 - val_precision_2: 0.7416\n",
            "Epoch 85/1000\n",
            "85/85 [==============================] - 3s 35ms/step - loss: 0.4777 - accuracy: 0.7866 - recall_2: 0.8093 - precision_2: 0.7641 - val_loss: 0.4951 - val_accuracy: 0.7637 - val_recall_2: 0.8038 - val_precision_2: 0.7544\n",
            "Epoch 86/1000\n",
            "85/85 [==============================] - 3s 35ms/step - loss: 0.4917 - accuracy: 0.7792 - recall_2: 0.7999 - precision_2: 0.7673 - val_loss: 0.5030 - val_accuracy: 0.7612 - val_recall_2: 0.8417 - val_precision_2: 0.7255\n",
            "Epoch 87/1000\n",
            "85/85 [==============================] - 3s 35ms/step - loss: 0.4735 - accuracy: 0.7848 - recall_2: 0.7999 - precision_2: 0.7849 - val_loss: 0.5068 - val_accuracy: 0.7758 - val_recall_2: 0.8640 - val_precision_2: 0.7254\n",
            "Epoch 88/1000\n",
            "85/85 [==============================] - 3s 35ms/step - loss: 0.4725 - accuracy: 0.7848 - recall_2: 0.8101 - precision_2: 0.7691 - val_loss: 0.5038 - val_accuracy: 0.7741 - val_recall_2: 0.8141 - val_precision_2: 0.7592\n",
            "Epoch 89/1000\n",
            "85/85 [==============================] - 3s 35ms/step - loss: 0.4754 - accuracy: 0.7752 - recall_2: 0.7962 - precision_2: 0.7633 - val_loss: 0.5079 - val_accuracy: 0.7655 - val_recall_2: 0.7194 - val_precision_2: 0.7962\n",
            "Epoch 90/1000\n",
            "85/85 [==============================] - 3s 36ms/step - loss: 0.4848 - accuracy: 0.7789 - recall_2: 0.7874 - precision_2: 0.7722 - val_loss: 0.4983 - val_accuracy: 0.7741 - val_recall_2: 0.8279 - val_precision_2: 0.7481\n",
            "Epoch 91/1000\n",
            "85/85 [==============================] - 3s 36ms/step - loss: 0.4889 - accuracy: 0.7781 - recall_2: 0.7999 - precision_2: 0.7690 - val_loss: 0.5002 - val_accuracy: 0.7637 - val_recall_2: 0.7608 - val_precision_2: 0.7687\n",
            "Epoch 92/1000\n",
            "85/85 [==============================] - 3s 35ms/step - loss: 0.4818 - accuracy: 0.7752 - recall_2: 0.8042 - precision_2: 0.7651 - val_loss: 0.5037 - val_accuracy: 0.7680 - val_recall_2: 0.8107 - val_precision_2: 0.7476\n",
            "Epoch 93/1000\n",
            "85/85 [==============================] - 3s 35ms/step - loss: 0.4887 - accuracy: 0.7678 - recall_2: 0.8013 - precision_2: 0.7671 - val_loss: 0.4991 - val_accuracy: 0.7749 - val_recall_2: 0.8176 - val_precision_2: 0.7564\n",
            "Epoch 94/1000\n",
            "85/85 [==============================] - 3s 35ms/step - loss: 0.4843 - accuracy: 0.7789 - recall_2: 0.8020 - precision_2: 0.7738 - val_loss: 0.5080 - val_accuracy: 0.7680 - val_recall_2: 0.7866 - val_precision_2: 0.7529\n",
            "Epoch 95/1000\n",
            "85/85 [==============================] - 3s 36ms/step - loss: 0.4724 - accuracy: 0.7826 - recall_2: 0.8050 - precision_2: 0.7766 - val_loss: 0.5022 - val_accuracy: 0.7775 - val_recall_2: 0.8003 - val_precision_2: 0.7711\n",
            "Epoch 96/1000\n",
            "85/85 [==============================] - 3s 37ms/step - loss: 0.4811 - accuracy: 0.7778 - recall_2: 0.7991 - precision_2: 0.7721 - val_loss: 0.4911 - val_accuracy: 0.7818 - val_recall_2: 0.8090 - val_precision_2: 0.7556\n",
            "Epoch 97/1000\n",
            "85/85 [==============================] - 3s 36ms/step - loss: 0.4808 - accuracy: 0.7734 - recall_2: 0.8072 - precision_2: 0.7605 - val_loss: 0.5331 - val_accuracy: 0.7517 - val_recall_2: 0.8898 - val_precision_2: 0.6866\n",
            "Epoch 98/1000\n",
            "85/85 [==============================] - 3s 36ms/step - loss: 0.4643 - accuracy: 0.7870 - recall_2: 0.8072 - precision_2: 0.7744 - val_loss: 0.5194 - val_accuracy: 0.7448 - val_recall_2: 0.7900 - val_precision_2: 0.7228\n",
            "Epoch 99/1000\n",
            "85/85 [==============================] - 3s 36ms/step - loss: 0.4697 - accuracy: 0.7829 - recall_2: 0.8079 - precision_2: 0.7723 - val_loss: 0.5566 - val_accuracy: 0.7371 - val_recall_2: 0.9071 - val_precision_2: 0.6604\n",
            "Epoch 100/1000\n",
            "85/85 [==============================] - 3s 36ms/step - loss: 0.4763 - accuracy: 0.7807 - recall_2: 0.8079 - precision_2: 0.7751 - val_loss: 0.5067 - val_accuracy: 0.7766 - val_recall_2: 0.8675 - val_precision_2: 0.7390\n",
            "Epoch 101/1000\n",
            "85/85 [==============================] - 3s 35ms/step - loss: 0.4813 - accuracy: 0.7840 - recall_2: 0.8050 - precision_2: 0.7701 - val_loss: 0.4928 - val_accuracy: 0.7612 - val_recall_2: 0.7676 - val_precision_2: 0.7624\n",
            "Epoch 102/1000\n",
            "85/85 [==============================] - 3s 35ms/step - loss: 0.4743 - accuracy: 0.7829 - recall_2: 0.8079 - precision_2: 0.7729 - val_loss: 0.5155 - val_accuracy: 0.7620 - val_recall_2: 0.8744 - val_precision_2: 0.7036\n",
            "Epoch 103/1000\n",
            "85/85 [==============================] - 3s 36ms/step - loss: 0.4798 - accuracy: 0.7807 - recall_2: 0.7984 - precision_2: 0.7746 - val_loss: 0.4849 - val_accuracy: 0.7784 - val_recall_2: 0.8038 - val_precision_2: 0.7643\n",
            "Epoch 104/1000\n",
            "85/85 [==============================] - 3s 35ms/step - loss: 0.4738 - accuracy: 0.7851 - recall_2: 0.8196 - precision_2: 0.7711 - val_loss: 0.5074 - val_accuracy: 0.7612 - val_recall_2: 0.7762 - val_precision_2: 0.7789\n",
            "Epoch 105/1000\n",
            "85/85 [==============================] - 3s 36ms/step - loss: 0.4618 - accuracy: 0.7873 - recall_2: 0.8174 - precision_2: 0.7765 - val_loss: 0.5021 - val_accuracy: 0.7560 - val_recall_2: 0.8227 - val_precision_2: 0.7354\n",
            "Epoch 106/1000\n",
            "85/85 [==============================] - 3s 36ms/step - loss: 0.4758 - accuracy: 0.7851 - recall_2: 0.8035 - precision_2: 0.7703 - val_loss: 0.5053 - val_accuracy: 0.7509 - val_recall_2: 0.8055 - val_precision_2: 0.7156\n",
            "Epoch 107/1000\n",
            "85/85 [==============================] - 3s 36ms/step - loss: 0.4697 - accuracy: 0.7862 - recall_2: 0.8210 - precision_2: 0.7678 - val_loss: 0.4860 - val_accuracy: 0.7818 - val_recall_2: 0.8417 - val_precision_2: 0.7477\n",
            "Epoch 108/1000\n",
            "85/85 [==============================] - 3s 36ms/step - loss: 0.4765 - accuracy: 0.7826 - recall_2: 0.8145 - precision_2: 0.7786 - val_loss: 0.5403 - val_accuracy: 0.7612 - val_recall_2: 0.8933 - val_precision_2: 0.6948\n",
            "Epoch 109/1000\n",
            "85/85 [==============================] - 3s 35ms/step - loss: 0.4723 - accuracy: 0.7837 - recall_2: 0.8130 - precision_2: 0.7697 - val_loss: 0.4921 - val_accuracy: 0.7784 - val_recall_2: 0.8141 - val_precision_2: 0.7641\n",
            "Epoch 110/1000\n",
            "85/85 [==============================] - 3s 35ms/step - loss: 0.4692 - accuracy: 0.7829 - recall_2: 0.8152 - precision_2: 0.7665 - val_loss: 0.4991 - val_accuracy: 0.7620 - val_recall_2: 0.7332 - val_precision_2: 0.7831\n",
            "Epoch 111/1000\n",
            "85/85 [==============================] - 3s 36ms/step - loss: 0.4698 - accuracy: 0.7899 - recall_2: 0.8086 - precision_2: 0.7785 - val_loss: 0.4987 - val_accuracy: 0.7741 - val_recall_2: 0.8330 - val_precision_2: 0.7435\n",
            "Epoch 112/1000\n",
            "85/85 [==============================] - 3s 36ms/step - loss: 0.4750 - accuracy: 0.7807 - recall_2: 0.8006 - precision_2: 0.7686 - val_loss: 0.4970 - val_accuracy: 0.7758 - val_recall_2: 0.7676 - val_precision_2: 0.7894\n",
            "Epoch 113/1000\n",
            "85/85 [==============================] - 3s 36ms/step - loss: 0.4756 - accuracy: 0.7792 - recall_2: 0.7999 - precision_2: 0.7679 - val_loss: 0.5061 - val_accuracy: 0.7560 - val_recall_2: 0.7298 - val_precision_2: 0.7970\n",
            "Epoch 114/1000\n",
            "85/85 [==============================] - 3s 35ms/step - loss: 0.4734 - accuracy: 0.7818 - recall_2: 0.8079 - precision_2: 0.7665 - val_loss: 0.4876 - val_accuracy: 0.7723 - val_recall_2: 0.7969 - val_precision_2: 0.7653\n",
            "Epoch 115/1000\n",
            "85/85 [==============================] - 3s 36ms/step - loss: 0.4637 - accuracy: 0.7899 - recall_2: 0.8079 - precision_2: 0.7767 - val_loss: 0.5291 - val_accuracy: 0.7637 - val_recall_2: 0.8744 - val_precision_2: 0.6997\n",
            "Epoch 116/1000\n",
            "85/85 [==============================] - 3s 36ms/step - loss: 0.4704 - accuracy: 0.7822 - recall_2: 0.8013 - precision_2: 0.7753 - val_loss: 0.5124 - val_accuracy: 0.7706 - val_recall_2: 0.8606 - val_precision_2: 0.7163\n",
            "Epoch 117/1000\n",
            "85/85 [==============================] - 3s 36ms/step - loss: 0.4765 - accuracy: 0.7763 - recall_2: 0.8093 - precision_2: 0.7689 - val_loss: 0.4970 - val_accuracy: 0.7766 - val_recall_2: 0.8520 - val_precision_2: 0.7269\n",
            "Epoch 118/1000\n",
            "85/85 [==============================] - 3s 36ms/step - loss: 0.4705 - accuracy: 0.7833 - recall_2: 0.8137 - precision_2: 0.7720 - val_loss: 0.4932 - val_accuracy: 0.7680 - val_recall_2: 0.7676 - val_precision_2: 0.7770\n",
            "Epoch 119/1000\n",
            "85/85 [==============================] - 3s 35ms/step - loss: 0.4782 - accuracy: 0.7792 - recall_2: 0.8086 - precision_2: 0.7650 - val_loss: 0.4922 - val_accuracy: 0.7869 - val_recall_2: 0.8571 - val_precision_2: 0.7367\n",
            "Epoch 120/1000\n",
            "85/85 [==============================] - 3s 36ms/step - loss: 0.4783 - accuracy: 0.7848 - recall_2: 0.8152 - precision_2: 0.7810 - val_loss: 0.5026 - val_accuracy: 0.7792 - val_recall_2: 0.7642 - val_precision_2: 0.7900\n",
            "Epoch 121/1000\n",
            "85/85 [==============================] - 3s 36ms/step - loss: 0.4682 - accuracy: 0.7848 - recall_2: 0.8145 - precision_2: 0.7711 - val_loss: 0.4930 - val_accuracy: 0.7723 - val_recall_2: 0.7676 - val_precision_2: 0.7852\n",
            "Epoch 122/1000\n",
            "85/85 [==============================] - 3s 37ms/step - loss: 0.4640 - accuracy: 0.7884 - recall_2: 0.8232 - precision_2: 0.7730 - val_loss: 0.5030 - val_accuracy: 0.7732 - val_recall_2: 0.7814 - val_precision_2: 0.7841\n",
            "Epoch 123/1000\n",
            "85/85 [==============================] - 3s 36ms/step - loss: 0.4693 - accuracy: 0.7767 - recall_2: 0.8093 - precision_2: 0.7605 - val_loss: 0.5129 - val_accuracy: 0.7577 - val_recall_2: 0.7453 - val_precision_2: 0.7802\n",
            "Epoch 124/1000\n",
            "85/85 [==============================] - 3s 36ms/step - loss: 0.4642 - accuracy: 0.7829 - recall_2: 0.8137 - precision_2: 0.7741 - val_loss: 0.5207 - val_accuracy: 0.7448 - val_recall_2: 0.8623 - val_precision_2: 0.7127\n",
            "Epoch 125/1000\n",
            "85/85 [==============================] - 3s 35ms/step - loss: 0.4668 - accuracy: 0.7866 - recall_2: 0.8137 - precision_2: 0.7818 - val_loss: 0.5071 - val_accuracy: 0.7620 - val_recall_2: 0.8657 - val_precision_2: 0.7135\n",
            "Epoch 126/1000\n",
            "85/85 [==============================] - 3s 36ms/step - loss: 0.4747 - accuracy: 0.7785 - recall_2: 0.8057 - precision_2: 0.7670 - val_loss: 0.5063 - val_accuracy: 0.7655 - val_recall_2: 0.7556 - val_precision_2: 0.7798\n",
            "Epoch 127/1000\n",
            "85/85 [==============================] - 3s 36ms/step - loss: 0.4716 - accuracy: 0.7826 - recall_2: 0.8093 - precision_2: 0.7721 - val_loss: 0.4931 - val_accuracy: 0.7887 - val_recall_2: 0.8210 - val_precision_2: 0.7769\n",
            "Epoch 128/1000\n",
            "85/85 [==============================] - 3s 36ms/step - loss: 0.4618 - accuracy: 0.7940 - recall_2: 0.8093 - precision_2: 0.7847 - val_loss: 0.5039 - val_accuracy: 0.7732 - val_recall_2: 0.7659 - val_precision_2: 0.7848\n",
            "Epoch 129/1000\n",
            "85/85 [==============================] - 3s 35ms/step - loss: 0.4734 - accuracy: 0.7759 - recall_2: 0.8115 - precision_2: 0.7604 - val_loss: 0.5297 - val_accuracy: 0.7354 - val_recall_2: 0.6747 - val_precision_2: 0.8049\n",
            "Epoch 130/1000\n",
            "85/85 [==============================] - 3s 35ms/step - loss: 0.4645 - accuracy: 0.7958 - recall_2: 0.8167 - precision_2: 0.7769 - val_loss: 0.4996 - val_accuracy: 0.7552 - val_recall_2: 0.8124 - val_precision_2: 0.7307\n",
            "Epoch 131/1000\n",
            "85/85 [==============================] - 3s 36ms/step - loss: 0.4700 - accuracy: 0.7840 - recall_2: 0.8093 - precision_2: 0.7652 - val_loss: 0.5570 - val_accuracy: 0.7405 - val_recall_2: 0.6661 - val_precision_2: 0.8130\n",
            "Epoch 132/1000\n",
            "85/85 [==============================] - 3s 36ms/step - loss: 0.4648 - accuracy: 0.7855 - recall_2: 0.8093 - precision_2: 0.7652 - val_loss: 0.5145 - val_accuracy: 0.7732 - val_recall_2: 0.8864 - val_precision_2: 0.7183\n",
            "Epoch 133/1000\n",
            "85/85 [==============================] - 3s 35ms/step - loss: 0.4667 - accuracy: 0.7921 - recall_2: 0.8050 - precision_2: 0.7883 - val_loss: 0.5141 - val_accuracy: 0.7887 - val_recall_2: 0.8881 - val_precision_2: 0.7157\n",
            "Epoch 134/1000\n",
            "85/85 [==============================] - 3s 35ms/step - loss: 0.4771 - accuracy: 0.7859 - recall_2: 0.8174 - precision_2: 0.7696 - val_loss: 0.5160 - val_accuracy: 0.7680 - val_recall_2: 0.9002 - val_precision_2: 0.7058\n",
            "Epoch 135/1000\n",
            "85/85 [==============================] - 3s 36ms/step - loss: 0.4638 - accuracy: 0.7873 - recall_2: 0.8232 - precision_2: 0.7714 - val_loss: 0.5037 - val_accuracy: 0.7534 - val_recall_2: 0.7659 - val_precision_2: 0.7807\n",
            "Epoch 136/1000\n",
            "85/85 [==============================] - 3s 36ms/step - loss: 0.4601 - accuracy: 0.7888 - recall_2: 0.8064 - precision_2: 0.7797 - val_loss: 0.4964 - val_accuracy: 0.7698 - val_recall_2: 0.8313 - val_precision_2: 0.7209\n",
            "Epoch 137/1000\n",
            "85/85 [==============================] - 3s 36ms/step - loss: 0.4553 - accuracy: 0.7914 - recall_2: 0.8283 - precision_2: 0.7859 - val_loss: 0.4883 - val_accuracy: 0.7758 - val_recall_2: 0.7935 - val_precision_2: 0.7607\n",
            "Epoch 138/1000\n",
            "85/85 [==============================] - 3s 36ms/step - loss: 0.4634 - accuracy: 0.7851 - recall_2: 0.8181 - precision_2: 0.7729 - val_loss: 0.4940 - val_accuracy: 0.7861 - val_recall_2: 0.8554 - val_precision_2: 0.7440\n",
            "Epoch 139/1000\n",
            "85/85 [==============================] - 3s 36ms/step - loss: 0.4675 - accuracy: 0.7815 - recall_2: 0.8072 - precision_2: 0.7636 - val_loss: 0.4863 - val_accuracy: 0.7895 - val_recall_2: 0.8451 - val_precision_2: 0.7542\n",
            "Epoch 140/1000\n",
            "85/85 [==============================] - 3s 36ms/step - loss: 0.4687 - accuracy: 0.7829 - recall_2: 0.8123 - precision_2: 0.7690 - val_loss: 0.4969 - val_accuracy: 0.7741 - val_recall_2: 0.7694 - val_precision_2: 0.7828\n",
            "Epoch 141/1000\n",
            "85/85 [==============================] - 3s 36ms/step - loss: 0.4573 - accuracy: 0.7921 - recall_2: 0.8225 - precision_2: 0.7819 - val_loss: 0.4910 - val_accuracy: 0.7741 - val_recall_2: 0.8038 - val_precision_2: 0.7606\n",
            "Epoch 142/1000\n",
            "85/85 [==============================] - 3s 36ms/step - loss: 0.4744 - accuracy: 0.7818 - recall_2: 0.8086 - precision_2: 0.7656 - val_loss: 0.5005 - val_accuracy: 0.7698 - val_recall_2: 0.8657 - val_precision_2: 0.7135\n",
            "Epoch 143/1000\n",
            "85/85 [==============================] - 3s 36ms/step - loss: 0.4571 - accuracy: 0.7888 - recall_2: 0.8232 - precision_2: 0.7794 - val_loss: 0.4903 - val_accuracy: 0.7741 - val_recall_2: 0.8176 - val_precision_2: 0.7457\n",
            "Epoch 144/1000\n",
            "85/85 [==============================] - 3s 36ms/step - loss: 0.4689 - accuracy: 0.7866 - recall_2: 0.8152 - precision_2: 0.7729 - val_loss: 0.4931 - val_accuracy: 0.7723 - val_recall_2: 0.7762 - val_precision_2: 0.7723\n",
            "Epoch 145/1000\n",
            "85/85 [==============================] - 3s 36ms/step - loss: 0.4617 - accuracy: 0.7918 - recall_2: 0.8232 - precision_2: 0.7805 - val_loss: 0.5037 - val_accuracy: 0.7612 - val_recall_2: 0.7126 - val_precision_2: 0.8023\n",
            "Epoch 146/1000\n",
            "85/85 [==============================] - 3s 36ms/step - loss: 0.4613 - accuracy: 0.7884 - recall_2: 0.8152 - precision_2: 0.7782 - val_loss: 0.4965 - val_accuracy: 0.7672 - val_recall_2: 0.7625 - val_precision_2: 0.8011\n",
            "Epoch 147/1000\n",
            "85/85 [==============================] - 3s 36ms/step - loss: 0.4618 - accuracy: 0.7866 - recall_2: 0.8072 - precision_2: 0.7776 - val_loss: 0.5010 - val_accuracy: 0.7543 - val_recall_2: 0.7229 - val_precision_2: 0.7706\n",
            "Epoch 148/1000\n",
            "85/85 [==============================] - 3s 37ms/step - loss: 0.4635 - accuracy: 0.7873 - recall_2: 0.8174 - precision_2: 0.7701 - val_loss: 0.4942 - val_accuracy: 0.7715 - val_recall_2: 0.7935 - val_precision_2: 0.7607\n",
            "Epoch 149/1000\n",
            "85/85 [==============================] - 3s 36ms/step - loss: 0.4646 - accuracy: 0.7848 - recall_2: 0.8145 - precision_2: 0.7711 - val_loss: 0.5218 - val_accuracy: 0.7509 - val_recall_2: 0.8606 - val_precision_2: 0.6944\n",
            "Epoch 150/1000\n",
            "85/85 [==============================] - 3s 36ms/step - loss: 0.4516 - accuracy: 0.7899 - recall_2: 0.8218 - precision_2: 0.7775 - val_loss: 0.5034 - val_accuracy: 0.7637 - val_recall_2: 0.8176 - val_precision_2: 0.7319\n",
            "Epoch 151/1000\n",
            "85/85 [==============================] - 3s 36ms/step - loss: 0.4564 - accuracy: 0.7925 - recall_2: 0.8086 - precision_2: 0.7862 - val_loss: 0.4989 - val_accuracy: 0.7818 - val_recall_2: 0.8468 - val_precision_2: 0.7455\n",
            "Epoch 152/1000\n",
            "85/85 [==============================] - 3s 36ms/step - loss: 0.4613 - accuracy: 0.7907 - recall_2: 0.8276 - precision_2: 0.7771 - val_loss: 0.5165 - val_accuracy: 0.7741 - val_recall_2: 0.8399 - val_precision_2: 0.7273\n",
            "Epoch 153/1000\n",
            "85/85 [==============================] - 3s 36ms/step - loss: 0.4631 - accuracy: 0.7907 - recall_2: 0.8174 - precision_2: 0.7670 - val_loss: 0.4947 - val_accuracy: 0.7698 - val_recall_2: 0.8365 - val_precision_2: 0.7352\n",
            "Epoch 154/1000\n",
            "85/85 [==============================] - 3s 36ms/step - loss: 0.4574 - accuracy: 0.7899 - recall_2: 0.8152 - precision_2: 0.7734 - val_loss: 0.4941 - val_accuracy: 0.7775 - val_recall_2: 0.8623 - val_precision_2: 0.7314\n",
            "Epoch 155/1000\n",
            "85/85 [==============================] - 3s 36ms/step - loss: 0.4549 - accuracy: 0.7980 - recall_2: 0.8298 - precision_2: 0.7808 - val_loss: 0.5416 - val_accuracy: 0.7517 - val_recall_2: 0.9053 - val_precision_2: 0.6840\n",
            "Epoch 156/1000\n",
            "85/85 [==============================] - 3s 36ms/step - loss: 0.4465 - accuracy: 0.8006 - recall_2: 0.8232 - precision_2: 0.7799 - val_loss: 0.4914 - val_accuracy: 0.7784 - val_recall_2: 0.8210 - val_precision_2: 0.7430\n",
            "Epoch 157/1000\n",
            "85/85 [==============================] - 3s 35ms/step - loss: 0.4575 - accuracy: 0.7884 - recall_2: 0.8167 - precision_2: 0.7786 - val_loss: 0.5191 - val_accuracy: 0.7526 - val_recall_2: 0.8916 - val_precision_2: 0.6897\n",
            "Epoch 158/1000\n",
            "85/85 [==============================] - 3s 36ms/step - loss: 0.4736 - accuracy: 0.7870 - recall_2: 0.8145 - precision_2: 0.7759 - val_loss: 0.5188 - val_accuracy: 0.7371 - val_recall_2: 0.8606 - val_precision_2: 0.6775\n",
            "Epoch 159/1000\n",
            "85/85 [==============================] - 3s 36ms/step - loss: 0.4520 - accuracy: 0.7896 - recall_2: 0.8203 - precision_2: 0.7729 - val_loss: 0.5072 - val_accuracy: 0.7586 - val_recall_2: 0.8038 - val_precision_2: 0.7366\n",
            "Epoch 160/1000\n",
            "85/85 [==============================] - 3s 38ms/step - loss: 0.4477 - accuracy: 0.7903 - recall_2: 0.8174 - precision_2: 0.7803 - val_loss: 0.4814 - val_accuracy: 0.7878 - val_recall_2: 0.8365 - val_precision_2: 0.7547\n",
            "Epoch 161/1000\n",
            "85/85 [==============================] - 3s 36ms/step - loss: 0.4517 - accuracy: 0.7987 - recall_2: 0.8188 - precision_2: 0.7856 - val_loss: 0.5025 - val_accuracy: 0.7534 - val_recall_2: 0.8709 - val_precision_2: 0.7018\n",
            "Epoch 162/1000\n",
            "85/85 [==============================] - 3s 37ms/step - loss: 0.4623 - accuracy: 0.7855 - recall_2: 0.8159 - precision_2: 0.7714 - val_loss: 0.4898 - val_accuracy: 0.7775 - val_recall_2: 0.8038 - val_precision_2: 0.7631\n",
            "Epoch 163/1000\n",
            "85/85 [==============================] - 3s 37ms/step - loss: 0.4584 - accuracy: 0.7947 - recall_2: 0.8320 - precision_2: 0.7796 - val_loss: 0.5026 - val_accuracy: 0.7775 - val_recall_2: 0.8141 - val_precision_2: 0.7666\n",
            "Epoch 164/1000\n",
            "85/85 [==============================] - 3s 37ms/step - loss: 0.4690 - accuracy: 0.7822 - recall_2: 0.8050 - precision_2: 0.7722 - val_loss: 0.4917 - val_accuracy: 0.7826 - val_recall_2: 0.7797 - val_precision_2: 0.7744\n",
            "Epoch 165/1000\n",
            "85/85 [==============================] - 3s 36ms/step - loss: 0.4585 - accuracy: 0.7862 - recall_2: 0.8269 - precision_2: 0.7769 - val_loss: 0.5047 - val_accuracy: 0.7723 - val_recall_2: 0.8262 - val_precision_2: 0.7430\n",
            "Epoch 166/1000\n",
            "85/85 [==============================] - 3s 36ms/step - loss: 0.4582 - accuracy: 0.7899 - recall_2: 0.8298 - precision_2: 0.7797 - val_loss: 0.4954 - val_accuracy: 0.7758 - val_recall_2: 0.8158 - val_precision_2: 0.7548\n",
            "Epoch 167/1000\n",
            "85/85 [==============================] - 3s 36ms/step - loss: 0.4545 - accuracy: 0.7980 - recall_2: 0.8298 - precision_2: 0.7824 - val_loss: 0.5129 - val_accuracy: 0.7595 - val_recall_2: 0.7332 - val_precision_2: 0.7817\n",
            "Epoch 168/1000\n",
            "85/85 [==============================] - 3s 37ms/step - loss: 0.4519 - accuracy: 0.7914 - recall_2: 0.8145 - precision_2: 0.7775 - val_loss: 0.4755 - val_accuracy: 0.7775 - val_recall_2: 0.8210 - val_precision_2: 0.7524\n",
            "Epoch 169/1000\n",
            "85/85 [==============================] - 3s 37ms/step - loss: 0.4561 - accuracy: 0.7958 - recall_2: 0.8269 - precision_2: 0.7812 - val_loss: 0.5025 - val_accuracy: 0.7646 - val_recall_2: 0.8640 - val_precision_2: 0.7121\n",
            "Epoch 170/1000\n",
            "85/85 [==============================] - 3s 36ms/step - loss: 0.4461 - accuracy: 0.7962 - recall_2: 0.8283 - precision_2: 0.7837 - val_loss: 0.5111 - val_accuracy: 0.7577 - val_recall_2: 0.7143 - val_precision_2: 0.8074\n",
            "Epoch 171/1000\n",
            "85/85 [==============================] - 3s 37ms/step - loss: 0.4615 - accuracy: 0.7844 - recall_2: 0.8247 - precision_2: 0.7696 - val_loss: 0.5021 - val_accuracy: 0.7826 - val_recall_2: 0.7676 - val_precision_2: 0.7936\n",
            "Epoch 172/1000\n",
            "85/85 [==============================] - 3s 37ms/step - loss: 0.4492 - accuracy: 0.7925 - recall_2: 0.8291 - precision_2: 0.7811 - val_loss: 0.4897 - val_accuracy: 0.7878 - val_recall_2: 0.8244 - val_precision_2: 0.7640\n",
            "Epoch 173/1000\n",
            "85/85 [==============================] - 3s 37ms/step - loss: 0.4561 - accuracy: 0.7969 - recall_2: 0.8218 - precision_2: 0.7873 - val_loss: 0.4964 - val_accuracy: 0.7775 - val_recall_2: 0.7900 - val_precision_2: 0.7793\n",
            "Epoch 174/1000\n",
            "85/85 [==============================] - 3s 38ms/step - loss: 0.4591 - accuracy: 0.7877 - recall_2: 0.8218 - precision_2: 0.7737 - val_loss: 0.4900 - val_accuracy: 0.7723 - val_recall_2: 0.8141 - val_precision_2: 0.7425\n",
            "Epoch 175/1000\n",
            "85/85 [==============================] - 3s 37ms/step - loss: 0.4353 - accuracy: 0.8087 - recall_2: 0.8364 - precision_2: 0.7848 - val_loss: 0.5295 - val_accuracy: 0.7672 - val_recall_2: 0.8881 - val_precision_2: 0.7059\n",
            "Epoch 176/1000\n",
            "85/85 [==============================] - 3s 37ms/step - loss: 0.4604 - accuracy: 0.7965 - recall_2: 0.8276 - precision_2: 0.7787 - val_loss: 0.5245 - val_accuracy: 0.7500 - val_recall_2: 0.6713 - val_precision_2: 0.8108\n",
            "Epoch 177/1000\n",
            "85/85 [==============================] - 3s 36ms/step - loss: 0.4626 - accuracy: 0.7833 - recall_2: 0.8123 - precision_2: 0.7733 - val_loss: 0.5086 - val_accuracy: 0.7629 - val_recall_2: 0.8537 - val_precision_2: 0.7025\n",
            "Epoch 178/1000\n",
            "85/85 [==============================] - 3s 37ms/step - loss: 0.4458 - accuracy: 0.7903 - recall_2: 0.8349 - precision_2: 0.7754 - val_loss: 0.5069 - val_accuracy: 0.7715 - val_recall_2: 0.8451 - val_precision_2: 0.7395\n",
            "Epoch 179/1000\n",
            "85/85 [==============================] - 3s 37ms/step - loss: 0.4607 - accuracy: 0.7870 - recall_2: 0.8145 - precision_2: 0.7819 - val_loss: 0.4775 - val_accuracy: 0.7758 - val_recall_2: 0.8038 - val_precision_2: 0.7706\n",
            "Epoch 180/1000\n",
            "85/85 [==============================] - 3s 37ms/step - loss: 0.4452 - accuracy: 0.7936 - recall_2: 0.8188 - precision_2: 0.7812 - val_loss: 0.4775 - val_accuracy: 0.7801 - val_recall_2: 0.7883 - val_precision_2: 0.7750\n",
            "Epoch 181/1000\n",
            "85/85 [==============================] - 3s 37ms/step - loss: 0.4467 - accuracy: 0.8010 - recall_2: 0.8232 - precision_2: 0.7816 - val_loss: 0.5028 - val_accuracy: 0.7672 - val_recall_2: 0.7608 - val_precision_2: 0.7809\n",
            "Epoch 182/1000\n",
            "85/85 [==============================] - 3s 37ms/step - loss: 0.4418 - accuracy: 0.7987 - recall_2: 0.8225 - precision_2: 0.7891 - val_loss: 0.4990 - val_accuracy: 0.7689 - val_recall_2: 0.8193 - val_precision_2: 0.7357\n",
            "Epoch 183/1000\n",
            "85/85 [==============================] - 3s 36ms/step - loss: 0.4572 - accuracy: 0.7943 - recall_2: 0.8225 - precision_2: 0.7728 - val_loss: 0.4974 - val_accuracy: 0.7603 - val_recall_2: 0.7814 - val_precision_2: 0.7761\n",
            "Epoch 184/1000\n",
            "85/85 [==============================] - 3s 37ms/step - loss: 0.4528 - accuracy: 0.7929 - recall_2: 0.8349 - precision_2: 0.7718 - val_loss: 0.5016 - val_accuracy: 0.7672 - val_recall_2: 0.7556 - val_precision_2: 0.7853\n",
            "Epoch 185/1000\n",
            "85/85 [==============================] - 3s 37ms/step - loss: 0.4361 - accuracy: 0.7999 - recall_2: 0.8320 - precision_2: 0.7948 - val_loss: 0.4800 - val_accuracy: 0.7766 - val_recall_2: 0.7917 - val_precision_2: 0.7616\n",
            "Epoch 186/1000\n",
            "85/85 [==============================] - 3s 37ms/step - loss: 0.4510 - accuracy: 0.7962 - recall_2: 0.8218 - precision_2: 0.7851 - val_loss: 0.4968 - val_accuracy: 0.7663 - val_recall_2: 0.8485 - val_precision_2: 0.7315\n",
            "Epoch 187/1000\n",
            "85/85 [==============================] - 3s 37ms/step - loss: 0.4511 - accuracy: 0.7987 - recall_2: 0.8298 - precision_2: 0.7851 - val_loss: 0.5096 - val_accuracy: 0.7732 - val_recall_2: 0.8124 - val_precision_2: 0.7625\n",
            "Epoch 188/1000\n",
            "85/85 [==============================] - 3s 37ms/step - loss: 0.4462 - accuracy: 0.7984 - recall_2: 0.8240 - precision_2: 0.7883 - val_loss: 0.4865 - val_accuracy: 0.7758 - val_recall_2: 0.7797 - val_precision_2: 0.7730\n",
            "Epoch 189/1000\n",
            "85/85 [==============================] - 3s 37ms/step - loss: 0.4464 - accuracy: 0.7962 - recall_2: 0.8305 - precision_2: 0.7841 - val_loss: 0.5249 - val_accuracy: 0.7612 - val_recall_2: 0.8795 - val_precision_2: 0.7019\n",
            "Epoch 190/1000\n",
            "85/85 [==============================] - 3s 37ms/step - loss: 0.4606 - accuracy: 0.7896 - recall_2: 0.8086 - precision_2: 0.7768 - val_loss: 0.5201 - val_accuracy: 0.7637 - val_recall_2: 0.8657 - val_precision_2: 0.6996\n",
            "Epoch 191/1000\n",
            "85/85 [==============================] - 3s 38ms/step - loss: 0.4381 - accuracy: 0.8043 - recall_2: 0.8283 - precision_2: 0.7853 - val_loss: 0.5283 - val_accuracy: 0.7620 - val_recall_2: 0.8778 - val_precision_2: 0.7093\n",
            "Epoch 192/1000\n",
            "85/85 [==============================] - 3s 38ms/step - loss: 0.4450 - accuracy: 0.7965 - recall_2: 0.8327 - precision_2: 0.7776 - val_loss: 0.5070 - val_accuracy: 0.7818 - val_recall_2: 0.7935 - val_precision_2: 0.7774\n",
            "Epoch 193/1000\n",
            "85/85 [==============================] - 3s 37ms/step - loss: 0.4472 - accuracy: 0.7991 - recall_2: 0.8218 - precision_2: 0.7856 - val_loss: 0.4940 - val_accuracy: 0.7792 - val_recall_2: 0.8279 - val_precision_2: 0.7481\n",
            "Epoch 194/1000\n",
            "85/85 [==============================] - 3s 37ms/step - loss: 0.4352 - accuracy: 0.8006 - recall_2: 0.8386 - precision_2: 0.7901 - val_loss: 0.5504 - val_accuracy: 0.7715 - val_recall_2: 0.8881 - val_precision_2: 0.7078\n",
            "Epoch 195/1000\n",
            "85/85 [==============================] - 3s 38ms/step - loss: 0.4545 - accuracy: 0.7973 - recall_2: 0.8356 - precision_2: 0.7719 - val_loss: 0.4957 - val_accuracy: 0.7741 - val_recall_2: 0.7797 - val_precision_2: 0.7717\n",
            "Epoch 196/1000\n",
            "85/85 [==============================] - 3s 38ms/step - loss: 0.4487 - accuracy: 0.8021 - recall_2: 0.8298 - precision_2: 0.7878 - val_loss: 0.4990 - val_accuracy: 0.7844 - val_recall_2: 0.8090 - val_precision_2: 0.7718\n",
            "Epoch 197/1000\n",
            "85/85 [==============================] - 3s 37ms/step - loss: 0.4544 - accuracy: 0.7914 - recall_2: 0.8101 - precision_2: 0.7777 - val_loss: 0.5420 - val_accuracy: 0.7646 - val_recall_2: 0.8812 - val_precision_2: 0.7043\n",
            "Epoch 198/1000\n",
            "85/85 [==============================] - 3s 37ms/step - loss: 0.4397 - accuracy: 0.8013 - recall_2: 0.8313 - precision_2: 0.7837 - val_loss: 0.5048 - val_accuracy: 0.7766 - val_recall_2: 0.7866 - val_precision_2: 0.7746\n",
            "Epoch 199/1000\n",
            "85/85 [==============================] - 3s 37ms/step - loss: 0.4361 - accuracy: 0.7999 - recall_2: 0.8247 - precision_2: 0.7840 - val_loss: 0.4731 - val_accuracy: 0.7861 - val_recall_2: 0.7986 - val_precision_2: 0.7708\n",
            "Epoch 200/1000\n",
            "85/85 [==============================] - 3s 37ms/step - loss: 0.4446 - accuracy: 0.8091 - recall_2: 0.8378 - precision_2: 0.7932 - val_loss: 0.5153 - val_accuracy: 0.7440 - val_recall_2: 0.8365 - val_precision_2: 0.6953\n",
            "Epoch 201/1000\n",
            "85/85 [==============================] - 3s 36ms/step - loss: 0.4365 - accuracy: 0.8068 - recall_2: 0.8364 - precision_2: 0.7907 - val_loss: 0.5066 - val_accuracy: 0.7706 - val_recall_2: 0.8382 - val_precision_2: 0.7290\n",
            "Epoch 202/1000\n",
            "85/85 [==============================] - 3s 38ms/step - loss: 0.4463 - accuracy: 0.8010 - recall_2: 0.8393 - precision_2: 0.7827 - val_loss: 0.5032 - val_accuracy: 0.7809 - val_recall_2: 0.8038 - val_precision_2: 0.7557\n",
            "Epoch 203/1000\n",
            "85/85 [==============================] - 3s 37ms/step - loss: 0.4453 - accuracy: 0.7943 - recall_2: 0.8298 - precision_2: 0.7786 - val_loss: 0.4993 - val_accuracy: 0.7646 - val_recall_2: 0.7935 - val_precision_2: 0.7484\n",
            "Epoch 204/1000\n",
            "85/85 [==============================] - 3s 37ms/step - loss: 0.4323 - accuracy: 0.8113 - recall_2: 0.8451 - precision_2: 0.7963 - val_loss: 0.4983 - val_accuracy: 0.7680 - val_recall_2: 0.7866 - val_precision_2: 0.7467\n",
            "Epoch 205/1000\n",
            "85/85 [==============================] - 3s 37ms/step - loss: 0.4410 - accuracy: 0.8065 - recall_2: 0.8298 - precision_2: 0.7889 - val_loss: 0.5041 - val_accuracy: 0.7620 - val_recall_2: 0.7659 - val_precision_2: 0.7594\n",
            "Epoch 206/1000\n",
            "85/85 [==============================] - 3s 37ms/step - loss: 0.4394 - accuracy: 0.7987 - recall_2: 0.8269 - precision_2: 0.7823 - val_loss: 0.5667 - val_accuracy: 0.7371 - val_recall_2: 0.6265 - val_precision_2: 0.8254\n",
            "Epoch 207/1000\n",
            "85/85 [==============================] - 3s 37ms/step - loss: 0.4525 - accuracy: 0.7884 - recall_2: 0.8159 - precision_2: 0.7839 - val_loss: 0.4889 - val_accuracy: 0.7775 - val_recall_2: 0.7900 - val_precision_2: 0.7766\n",
            "Epoch 208/1000\n",
            "85/85 [==============================] - 3s 37ms/step - loss: 0.4384 - accuracy: 0.8017 - recall_2: 0.8364 - precision_2: 0.7805 - val_loss: 0.5128 - val_accuracy: 0.7758 - val_recall_2: 0.7745 - val_precision_2: 0.7772\n",
            "Epoch 209/1000\n",
            "85/85 [==============================] - 3s 37ms/step - loss: 0.4411 - accuracy: 0.7991 - recall_2: 0.8283 - precision_2: 0.7837 - val_loss: 0.5095 - val_accuracy: 0.7749 - val_recall_2: 0.8348 - val_precision_2: 0.7450\n",
            "Epoch 210/1000\n",
            "85/85 [==============================] - 3s 37ms/step - loss: 0.4243 - accuracy: 0.8068 - recall_2: 0.8371 - precision_2: 0.7909 - val_loss: 0.5107 - val_accuracy: 0.7586 - val_recall_2: 0.8640 - val_precision_2: 0.7021\n",
            "Epoch 211/1000\n",
            "85/85 [==============================] - 3s 37ms/step - loss: 0.4371 - accuracy: 0.8021 - recall_2: 0.8335 - precision_2: 0.7913 - val_loss: 0.4952 - val_accuracy: 0.7689 - val_recall_2: 0.7745 - val_precision_2: 0.7719\n",
            "Epoch 212/1000\n",
            "85/85 [==============================] - 3s 37ms/step - loss: 0.4432 - accuracy: 0.8083 - recall_2: 0.8349 - precision_2: 0.7905 - val_loss: 0.4916 - val_accuracy: 0.7784 - val_recall_2: 0.8021 - val_precision_2: 0.7565\n",
            "Epoch 213/1000\n",
            "85/85 [==============================] - 3s 37ms/step - loss: 0.4382 - accuracy: 0.8017 - recall_2: 0.8327 - precision_2: 0.7835 - val_loss: 0.5276 - val_accuracy: 0.7612 - val_recall_2: 0.8244 - val_precision_2: 0.7236\n",
            "Epoch 214/1000\n",
            "85/85 [==============================] - 3s 37ms/step - loss: 0.4304 - accuracy: 0.8065 - recall_2: 0.8481 - precision_2: 0.7877 - val_loss: 0.5073 - val_accuracy: 0.7663 - val_recall_2: 0.8227 - val_precision_2: 0.7354\n",
            "Epoch 215/1000\n",
            "85/85 [==============================] - 3s 36ms/step - loss: 0.4423 - accuracy: 0.8010 - recall_2: 0.8393 - precision_2: 0.7816 - val_loss: 0.5007 - val_accuracy: 0.7663 - val_recall_2: 0.7917 - val_precision_2: 0.7480\n",
            "Epoch 216/1000\n",
            "85/85 [==============================] - 3s 37ms/step - loss: 0.4319 - accuracy: 0.8032 - recall_2: 0.8408 - precision_2: 0.7900 - val_loss: 0.4907 - val_accuracy: 0.7723 - val_recall_2: 0.7849 - val_precision_2: 0.7690\n",
            "Epoch 217/1000\n",
            "85/85 [==============================] - 3s 37ms/step - loss: 0.4367 - accuracy: 0.7976 - recall_2: 0.8247 - precision_2: 0.7857 - val_loss: 0.5150 - val_accuracy: 0.7457 - val_recall_2: 0.6988 - val_precision_2: 0.7914\n",
            "Epoch 218/1000\n",
            "85/85 [==============================] - 3s 38ms/step - loss: 0.4340 - accuracy: 0.7984 - recall_2: 0.8254 - precision_2: 0.7836 - val_loss: 0.5298 - val_accuracy: 0.7646 - val_recall_2: 0.8795 - val_precision_2: 0.6943\n",
            "Epoch 219/1000\n",
            "85/85 [==============================] - 3s 37ms/step - loss: 0.4326 - accuracy: 0.8043 - recall_2: 0.8349 - precision_2: 0.7877 - val_loss: 0.5357 - val_accuracy: 0.7345 - val_recall_2: 0.8657 - val_precision_2: 0.6825\n",
            "Epoch 220/1000\n",
            "85/85 [==============================] - 3s 38ms/step - loss: 0.4324 - accuracy: 0.7980 - recall_2: 0.8291 - precision_2: 0.7844 - val_loss: 0.4908 - val_accuracy: 0.7715 - val_recall_2: 0.7849 - val_precision_2: 0.7664\n",
            "Epoch 221/1000\n",
            "85/85 [==============================] - 3s 38ms/step - loss: 0.4352 - accuracy: 0.7932 - recall_2: 0.8320 - precision_2: 0.7817 - val_loss: 0.4964 - val_accuracy: 0.7655 - val_recall_2: 0.7504 - val_precision_2: 0.7744\n",
            "Epoch 222/1000\n",
            "85/85 [==============================] - 3s 37ms/step - loss: 0.4328 - accuracy: 0.8021 - recall_2: 0.8254 - precision_2: 0.7869 - val_loss: 0.5024 - val_accuracy: 0.7766 - val_recall_2: 0.7952 - val_precision_2: 0.7561\n",
            "Epoch 223/1000\n",
            "85/85 [==============================] - 3s 37ms/step - loss: 0.4411 - accuracy: 0.8054 - recall_2: 0.8349 - precision_2: 0.7845 - val_loss: 0.5187 - val_accuracy: 0.7517 - val_recall_2: 0.7435 - val_precision_2: 0.7826\n",
            "Epoch 224/1000\n",
            "85/85 [==============================] - 3s 37ms/step - loss: 0.4355 - accuracy: 0.8057 - recall_2: 0.8342 - precision_2: 0.7870 - val_loss: 0.5278 - val_accuracy: 0.7534 - val_recall_2: 0.8795 - val_precision_2: 0.7039\n",
            "Epoch 225/1000\n",
            "85/85 [==============================] - 3s 37ms/step - loss: 0.4392 - accuracy: 0.8013 - recall_2: 0.8371 - precision_2: 0.7849 - val_loss: 0.5058 - val_accuracy: 0.7784 - val_recall_2: 0.8176 - val_precision_2: 0.7600\n",
            "Epoch 226/1000\n",
            "85/85 [==============================] - 3s 37ms/step - loss: 0.4614 - accuracy: 0.7822 - recall_2: 0.8064 - precision_2: 0.7747 - val_loss: 0.5322 - val_accuracy: 0.7689 - val_recall_2: 0.8623 - val_precision_2: 0.7096\n",
            "Epoch 227/1000\n",
            "85/85 [==============================] - 3s 38ms/step - loss: 0.4318 - accuracy: 0.8057 - recall_2: 0.8378 - precision_2: 0.7883 - val_loss: 0.4979 - val_accuracy: 0.7706 - val_recall_2: 0.7263 - val_precision_2: 0.7992\n",
            "Epoch 228/1000\n",
            "85/85 [==============================] - 3s 37ms/step - loss: 0.4365 - accuracy: 0.8065 - recall_2: 0.8313 - precision_2: 0.7958 - val_loss: 0.4777 - val_accuracy: 0.7895 - val_recall_2: 0.8365 - val_precision_2: 0.7630\n",
            "Epoch 229/1000\n",
            "85/85 [==============================] - 3s 37ms/step - loss: 0.4370 - accuracy: 0.8072 - recall_2: 0.8422 - precision_2: 0.7914 - val_loss: 0.5527 - val_accuracy: 0.7397 - val_recall_2: 0.8761 - val_precision_2: 0.6662\n",
            "Epoch 230/1000\n",
            "85/85 [==============================] - 3s 37ms/step - loss: 0.4271 - accuracy: 0.8113 - recall_2: 0.8437 - precision_2: 0.8049 - val_loss: 0.4829 - val_accuracy: 0.7930 - val_recall_2: 0.8417 - val_precision_2: 0.7581\n",
            "Epoch 231/1000\n",
            "85/85 [==============================] - 3s 38ms/step - loss: 0.4352 - accuracy: 0.7973 - recall_2: 0.8320 - precision_2: 0.7839 - val_loss: 0.5256 - val_accuracy: 0.7577 - val_recall_2: 0.8485 - val_precision_2: 0.7063\n",
            "Epoch 232/1000\n",
            "85/85 [==============================] - 3s 38ms/step - loss: 0.4381 - accuracy: 0.8002 - recall_2: 0.8262 - precision_2: 0.7909 - val_loss: 0.4989 - val_accuracy: 0.7792 - val_recall_2: 0.8417 - val_precision_2: 0.7432\n",
            "Epoch 233/1000\n",
            "85/85 [==============================] - 3s 37ms/step - loss: 0.4378 - accuracy: 0.7980 - recall_2: 0.8174 - precision_2: 0.7853 - val_loss: 0.5504 - val_accuracy: 0.7457 - val_recall_2: 0.8778 - val_precision_2: 0.6818\n",
            "Epoch 234/1000\n",
            "85/85 [==============================] - 3s 37ms/step - loss: 0.4414 - accuracy: 0.7995 - recall_2: 0.8313 - precision_2: 0.7805 - val_loss: 0.4957 - val_accuracy: 0.7646 - val_recall_2: 0.8055 - val_precision_2: 0.7440\n",
            "Epoch 235/1000\n",
            "85/85 [==============================] - 3s 37ms/step - loss: 0.4334 - accuracy: 0.8079 - recall_2: 0.8422 - precision_2: 0.7963 - val_loss: 0.5145 - val_accuracy: 0.7637 - val_recall_2: 0.8382 - val_precision_2: 0.7068\n",
            "Epoch 236/1000\n",
            "85/85 [==============================] - 3s 38ms/step - loss: 0.4291 - accuracy: 0.8102 - recall_2: 0.8422 - precision_2: 0.7952 - val_loss: 0.4715 - val_accuracy: 0.7844 - val_recall_2: 0.8107 - val_precision_2: 0.7747\n",
            "Epoch 237/1000\n",
            "85/85 [==============================] - 3s 37ms/step - loss: 0.4329 - accuracy: 0.8079 - recall_2: 0.8291 - precision_2: 0.7976 - val_loss: 0.5129 - val_accuracy: 0.7543 - val_recall_2: 0.8330 - val_precision_2: 0.7213\n",
            "Epoch 238/1000\n",
            "85/85 [==============================] - 3s 37ms/step - loss: 0.4448 - accuracy: 0.8028 - recall_2: 0.8378 - precision_2: 0.7938 - val_loss: 0.4940 - val_accuracy: 0.7801 - val_recall_2: 0.8055 - val_precision_2: 0.7660\n",
            "Epoch 239/1000\n",
            "85/85 [==============================] - 3s 37ms/step - loss: 0.4399 - accuracy: 0.8017 - recall_2: 0.8327 - precision_2: 0.7840 - val_loss: 0.5007 - val_accuracy: 0.7672 - val_recall_2: 0.8606 - val_precision_2: 0.7184\n",
            "Epoch 240/1000\n",
            "85/85 [==============================] - 3s 37ms/step - loss: 0.4197 - accuracy: 0.8083 - recall_2: 0.8532 - precision_2: 0.7967 - val_loss: 0.5098 - val_accuracy: 0.7792 - val_recall_2: 0.8124 - val_precision_2: 0.7398\n",
            "Epoch 241/1000\n",
            "85/85 [==============================] - 3s 38ms/step - loss: 0.4332 - accuracy: 0.8083 - recall_2: 0.8335 - precision_2: 0.7918 - val_loss: 0.5385 - val_accuracy: 0.7491 - val_recall_2: 0.6644 - val_precision_2: 0.8178\n",
            "Epoch 242/1000\n",
            "85/85 [==============================] - 3s 37ms/step - loss: 0.4266 - accuracy: 0.8138 - recall_2: 0.8364 - precision_2: 0.8058 - val_loss: 0.5063 - val_accuracy: 0.7655 - val_recall_2: 0.7711 - val_precision_2: 0.7606\n",
            "Epoch 243/1000\n",
            "85/85 [==============================] - 3s 38ms/step - loss: 0.4337 - accuracy: 0.8109 - recall_2: 0.8356 - precision_2: 0.7928 - val_loss: 0.5140 - val_accuracy: 0.7784 - val_recall_2: 0.8021 - val_precision_2: 0.7528\n",
            "Epoch 244/1000\n",
            "85/85 [==============================] - 3s 38ms/step - loss: 0.4410 - accuracy: 0.8035 - recall_2: 0.8240 - precision_2: 0.7927 - val_loss: 0.5380 - val_accuracy: 0.7749 - val_recall_2: 0.8348 - val_precision_2: 0.7393\n",
            "Epoch 245/1000\n",
            "85/85 [==============================] - 3s 38ms/step - loss: 0.4500 - accuracy: 0.7965 - recall_2: 0.8232 - precision_2: 0.7789 - val_loss: 0.4950 - val_accuracy: 0.7818 - val_recall_2: 0.8090 - val_precision_2: 0.7520\n",
            "Epoch 246/1000\n",
            "85/85 [==============================] - 3s 38ms/step - loss: 0.4385 - accuracy: 0.8017 - recall_2: 0.8283 - precision_2: 0.7799 - val_loss: 0.5491 - val_accuracy: 0.7655 - val_recall_2: 0.8830 - val_precision_2: 0.7066\n",
            "Epoch 247/1000\n",
            "85/85 [==============================] - 3s 38ms/step - loss: 0.4397 - accuracy: 0.7958 - recall_2: 0.8225 - precision_2: 0.7858 - val_loss: 0.4994 - val_accuracy: 0.7680 - val_recall_2: 0.8313 - val_precision_2: 0.7352\n",
            "Epoch 248/1000\n",
            "85/85 [==============================] - 3s 38ms/step - loss: 0.4359 - accuracy: 0.8083 - recall_2: 0.8422 - precision_2: 0.7941 - val_loss: 0.5135 - val_accuracy: 0.7586 - val_recall_2: 0.8365 - val_precision_2: 0.7064\n",
            "Epoch 249/1000\n",
            "85/85 [==============================] - 3s 38ms/step - loss: 0.4345 - accuracy: 0.8142 - recall_2: 0.8364 - precision_2: 0.7891 - val_loss: 0.5154 - val_accuracy: 0.7741 - val_recall_2: 0.7608 - val_precision_2: 0.7782\n",
            "Epoch 250/1000\n",
            "85/85 [==============================] - 3s 37ms/step - loss: 0.4291 - accuracy: 0.8043 - recall_2: 0.8320 - precision_2: 0.7943 - val_loss: 0.5035 - val_accuracy: 0.7715 - val_recall_2: 0.8537 - val_precision_2: 0.7262\n",
            "Epoch 251/1000\n",
            "85/85 [==============================] - 3s 38ms/step - loss: 0.4213 - accuracy: 0.8057 - recall_2: 0.8400 - precision_2: 0.7893 - val_loss: 0.4943 - val_accuracy: 0.7723 - val_recall_2: 0.7797 - val_precision_2: 0.7704\n",
            "Epoch 252/1000\n",
            "85/85 [==============================] - 3s 37ms/step - loss: 0.4286 - accuracy: 0.8190 - recall_2: 0.8400 - precision_2: 0.8008 - val_loss: 0.5107 - val_accuracy: 0.7706 - val_recall_2: 0.7900 - val_precision_2: 0.7688\n",
            "Epoch 253/1000\n",
            "85/85 [==============================] - 3s 38ms/step - loss: 0.4445 - accuracy: 0.7999 - recall_2: 0.8298 - precision_2: 0.7894 - val_loss: 0.5545 - val_accuracy: 0.7500 - val_recall_2: 0.8744 - val_precision_2: 0.6940\n",
            "Epoch 254/1000\n",
            "85/85 [==============================] - 3s 38ms/step - loss: 0.4317 - accuracy: 0.8072 - recall_2: 0.8364 - precision_2: 0.7962 - val_loss: 0.5330 - val_accuracy: 0.7629 - val_recall_2: 0.8795 - val_precision_2: 0.7039\n",
            "Epoch 255/1000\n",
            "85/85 [==============================] - 3s 37ms/step - loss: 0.4331 - accuracy: 0.8002 - recall_2: 0.8276 - precision_2: 0.7863 - val_loss: 0.5071 - val_accuracy: 0.7715 - val_recall_2: 0.8176 - val_precision_2: 0.7445\n",
            "Epoch 256/1000\n",
            "85/85 [==============================] - 3s 38ms/step - loss: 0.4274 - accuracy: 0.8035 - recall_2: 0.8356 - precision_2: 0.7950 - val_loss: 0.5013 - val_accuracy: 0.7818 - val_recall_2: 0.7797 - val_precision_2: 0.7837\n",
            "Epoch 257/1000\n",
            "85/85 [==============================] - 3s 38ms/step - loss: 0.4305 - accuracy: 0.8057 - recall_2: 0.8364 - precision_2: 0.7902 - val_loss: 0.5012 - val_accuracy: 0.7852 - val_recall_2: 0.8244 - val_precision_2: 0.7381\n",
            "Epoch 258/1000\n",
            "85/85 [==============================] - 3s 38ms/step - loss: 0.4382 - accuracy: 0.8021 - recall_2: 0.8291 - precision_2: 0.7806 - val_loss: 0.5111 - val_accuracy: 0.7706 - val_recall_2: 0.7332 - val_precision_2: 0.7860\n",
            "Epoch 259/1000\n",
            "85/85 [==============================] - 3s 38ms/step - loss: 0.4170 - accuracy: 0.8179 - recall_2: 0.8503 - precision_2: 0.7984 - val_loss: 0.5060 - val_accuracy: 0.7741 - val_recall_2: 0.8330 - val_precision_2: 0.7423\n",
            "Epoch 260/1000\n",
            "85/85 [==============================] - 3s 38ms/step - loss: 0.4204 - accuracy: 0.8072 - recall_2: 0.8400 - precision_2: 0.7937 - val_loss: 0.5111 - val_accuracy: 0.7706 - val_recall_2: 0.8330 - val_precision_2: 0.7322\n",
            "Epoch 261/1000\n",
            "85/85 [==============================] - 3s 37ms/step - loss: 0.4262 - accuracy: 0.8168 - recall_2: 0.8408 - precision_2: 0.7988 - val_loss: 0.5252 - val_accuracy: 0.7689 - val_recall_2: 0.7298 - val_precision_2: 0.7910\n",
            "Epoch 262/1000\n",
            "85/85 [==============================] - 3s 39ms/step - loss: 0.4361 - accuracy: 0.7984 - recall_2: 0.8393 - precision_2: 0.7832 - val_loss: 0.5136 - val_accuracy: 0.7543 - val_recall_2: 0.7263 - val_precision_2: 0.8008\n",
            "Epoch 263/1000\n",
            "85/85 [==============================] - 3s 38ms/step - loss: 0.4284 - accuracy: 0.8087 - recall_2: 0.8327 - precision_2: 0.7955 - val_loss: 0.5000 - val_accuracy: 0.7612 - val_recall_2: 0.8434 - val_precision_2: 0.7313\n",
            "Epoch 264/1000\n",
            "85/85 [==============================] - 3s 37ms/step - loss: 0.4178 - accuracy: 0.8068 - recall_2: 0.8488 - precision_2: 0.7981 - val_loss: 0.5308 - val_accuracy: 0.7620 - val_recall_2: 0.7281 - val_precision_2: 0.7921\n",
            "Epoch 265/1000\n",
            "85/85 [==============================] - 3s 38ms/step - loss: 0.4191 - accuracy: 0.8135 - recall_2: 0.8378 - precision_2: 0.8032 - val_loss: 0.5138 - val_accuracy: 0.7680 - val_recall_2: 0.7831 - val_precision_2: 0.7660\n",
            "Epoch 266/1000\n",
            "85/85 [==============================] - 3s 39ms/step - loss: 0.4240 - accuracy: 0.8109 - recall_2: 0.8415 - precision_2: 0.7956 - val_loss: 0.5169 - val_accuracy: 0.7509 - val_recall_2: 0.7659 - val_precision_2: 0.7355\n",
            "Epoch 267/1000\n",
            "85/85 [==============================] - 3s 39ms/step - loss: 0.4329 - accuracy: 0.8079 - recall_2: 0.8320 - precision_2: 0.7926 - val_loss: 0.5183 - val_accuracy: 0.7689 - val_recall_2: 0.8176 - val_precision_2: 0.7353\n",
            "Epoch 268/1000\n",
            "85/85 [==============================] - 3s 38ms/step - loss: 0.4168 - accuracy: 0.8102 - recall_2: 0.8378 - precision_2: 0.7982 - val_loss: 0.5177 - val_accuracy: 0.7586 - val_recall_2: 0.8468 - val_precision_2: 0.7089\n",
            "Epoch 269/1000\n",
            "85/85 [==============================] - 3s 38ms/step - loss: 0.4090 - accuracy: 0.8216 - recall_2: 0.8524 - precision_2: 0.7993 - val_loss: 0.5208 - val_accuracy: 0.7792 - val_recall_2: 0.7935 - val_precision_2: 0.7748\n",
            "Epoch 270/1000\n",
            "85/85 [==============================] - 3s 39ms/step - loss: 0.4099 - accuracy: 0.8146 - recall_2: 0.8386 - precision_2: 0.8045 - val_loss: 0.5355 - val_accuracy: 0.7603 - val_recall_2: 0.7642 - val_precision_2: 0.7655\n",
            "Epoch 271/1000\n",
            "85/85 [==============================] - 3s 38ms/step - loss: 0.4257 - accuracy: 0.8098 - recall_2: 0.8408 - precision_2: 0.7960 - val_loss: 0.5633 - val_accuracy: 0.7552 - val_recall_2: 0.8933 - val_precision_2: 0.6902\n",
            "Epoch 272/1000\n",
            "85/85 [==============================] - 3s 37ms/step - loss: 0.4147 - accuracy: 0.8131 - recall_2: 0.8378 - precision_2: 0.8027 - val_loss: 0.5246 - val_accuracy: 0.7663 - val_recall_2: 0.7952 - val_precision_2: 0.7561\n",
            "Epoch 273/1000\n",
            "85/85 [==============================] - 3s 38ms/step - loss: 0.4327 - accuracy: 0.8087 - recall_2: 0.8342 - precision_2: 0.7914 - val_loss: 0.5196 - val_accuracy: 0.7603 - val_recall_2: 0.7659 - val_precision_2: 0.7766\n",
            "Epoch 274/1000\n",
            "85/85 [==============================] - 3s 38ms/step - loss: 0.4119 - accuracy: 0.8138 - recall_2: 0.8495 - precision_2: 0.8037 - val_loss: 0.5222 - val_accuracy: 0.7698 - val_recall_2: 0.7470 - val_precision_2: 0.7862\n",
            "Epoch 275/1000\n",
            "85/85 [==============================] - 3s 38ms/step - loss: 0.4155 - accuracy: 0.8153 - recall_2: 0.8437 - precision_2: 0.8010 - val_loss: 0.4978 - val_accuracy: 0.7852 - val_recall_2: 0.8313 - val_precision_2: 0.7559\n",
            "Epoch 276/1000\n",
            "85/85 [==============================] - 3s 38ms/step - loss: 0.4124 - accuracy: 0.8171 - recall_2: 0.8561 - precision_2: 0.7978 - val_loss: 0.5449 - val_accuracy: 0.7517 - val_recall_2: 0.7298 - val_precision_2: 0.7667\n",
            "Epoch 277/1000\n",
            "85/85 [==============================] - 3s 38ms/step - loss: 0.4192 - accuracy: 0.8046 - recall_2: 0.8342 - precision_2: 0.7964 - val_loss: 0.5004 - val_accuracy: 0.7835 - val_recall_2: 0.7814 - val_precision_2: 0.7855\n",
            "Epoch 278/1000\n",
            "85/85 [==============================] - 3s 38ms/step - loss: 0.4190 - accuracy: 0.8124 - recall_2: 0.8400 - precision_2: 0.7964 - val_loss: 0.5203 - val_accuracy: 0.7629 - val_recall_2: 0.7435 - val_precision_2: 0.7770\n",
            "Epoch 279/1000\n",
            "85/85 [==============================] - 3s 38ms/step - loss: 0.4172 - accuracy: 0.8171 - recall_2: 0.8393 - precision_2: 0.8024 - val_loss: 0.5411 - val_accuracy: 0.7706 - val_recall_2: 0.8296 - val_precision_2: 0.7381\n",
            "Epoch 280/1000\n",
            "85/85 [==============================] - 3s 38ms/step - loss: 0.4067 - accuracy: 0.8212 - recall_2: 0.8546 - precision_2: 0.8069 - val_loss: 0.5248 - val_accuracy: 0.7680 - val_recall_2: 0.7849 - val_precision_2: 0.7537\n",
            "Epoch 281/1000\n",
            "85/85 [==============================] - 3s 38ms/step - loss: 0.4145 - accuracy: 0.8153 - recall_2: 0.8364 - precision_2: 0.7968 - val_loss: 0.5176 - val_accuracy: 0.7784 - val_recall_2: 0.8692 - val_precision_2: 0.7204\n",
            "Epoch 282/1000\n",
            "85/85 [==============================] - 3s 38ms/step - loss: 0.4130 - accuracy: 0.8190 - recall_2: 0.8495 - precision_2: 0.8037 - val_loss: 0.5308 - val_accuracy: 0.7775 - val_recall_2: 0.8434 - val_precision_2: 0.7380\n",
            "Epoch 283/1000\n",
            "85/85 [==============================] - 3s 38ms/step - loss: 0.4099 - accuracy: 0.8208 - recall_2: 0.8503 - precision_2: 0.8033 - val_loss: 0.5463 - val_accuracy: 0.7577 - val_recall_2: 0.8778 - val_precision_2: 0.6996\n",
            "Epoch 284/1000\n",
            "85/85 [==============================] - 3s 38ms/step - loss: 0.4300 - accuracy: 0.8146 - recall_2: 0.8510 - precision_2: 0.7888 - val_loss: 0.4945 - val_accuracy: 0.7655 - val_recall_2: 0.7866 - val_precision_2: 0.7733\n",
            "Epoch 285/1000\n",
            "85/85 [==============================] - 3s 38ms/step - loss: 0.4199 - accuracy: 0.8149 - recall_2: 0.8349 - precision_2: 0.8044 - val_loss: 0.4896 - val_accuracy: 0.7835 - val_recall_2: 0.7986 - val_precision_2: 0.7607\n",
            "Epoch 286/1000\n",
            "85/85 [==============================] - 3s 38ms/step - loss: 0.4112 - accuracy: 0.8135 - recall_2: 0.8400 - precision_2: 0.8036 - val_loss: 0.5218 - val_accuracy: 0.7603 - val_recall_2: 0.7177 - val_precision_2: 0.8145\n",
            "Epoch 287/1000\n",
            "85/85 [==============================] - 3s 38ms/step - loss: 0.4195 - accuracy: 0.8175 - recall_2: 0.8437 - precision_2: 0.8049 - val_loss: 0.5321 - val_accuracy: 0.7706 - val_recall_2: 0.8003 - val_precision_2: 0.7464\n",
            "Epoch 288/1000\n",
            "85/85 [==============================] - 3s 38ms/step - loss: 0.4013 - accuracy: 0.8300 - recall_2: 0.8641 - precision_2: 0.8064 - val_loss: 0.5110 - val_accuracy: 0.7749 - val_recall_2: 0.7349 - val_precision_2: 0.8087\n",
            "Epoch 289/1000\n",
            "85/85 [==============================] - 3s 38ms/step - loss: 0.4282 - accuracy: 0.8105 - recall_2: 0.8444 - precision_2: 0.7950 - val_loss: 0.5107 - val_accuracy: 0.7895 - val_recall_2: 0.7952 - val_precision_2: 0.7844\n",
            "Epoch 290/1000\n",
            "85/85 [==============================] - 3s 38ms/step - loss: 0.4162 - accuracy: 0.8238 - recall_2: 0.8437 - precision_2: 0.8021 - val_loss: 0.5738 - val_accuracy: 0.7577 - val_recall_2: 0.7281 - val_precision_2: 0.7761\n",
            "Epoch 291/1000\n",
            "85/85 [==============================] - 3s 39ms/step - loss: 0.4220 - accuracy: 0.8094 - recall_2: 0.8342 - precision_2: 0.7969 - val_loss: 0.5100 - val_accuracy: 0.7586 - val_recall_2: 0.8313 - val_precision_2: 0.7177\n",
            "Epoch 292/1000\n",
            "85/85 [==============================] - 3s 38ms/step - loss: 0.4078 - accuracy: 0.8197 - recall_2: 0.8473 - precision_2: 0.7962 - val_loss: 0.5079 - val_accuracy: 0.7835 - val_recall_2: 0.8107 - val_precision_2: 0.7671\n",
            "Epoch 293/1000\n",
            "85/85 [==============================] - 3s 38ms/step - loss: 0.4077 - accuracy: 0.8164 - recall_2: 0.8415 - precision_2: 0.7972 - val_loss: 0.5082 - val_accuracy: 0.7680 - val_recall_2: 0.7608 - val_precision_2: 0.7714\n",
            "Epoch 294/1000\n",
            "85/85 [==============================] - 3s 38ms/step - loss: 0.4158 - accuracy: 0.8098 - recall_2: 0.8393 - precision_2: 0.8024 - val_loss: 0.5375 - val_accuracy: 0.7758 - val_recall_2: 0.7435 - val_precision_2: 0.7869\n",
            "Epoch 295/1000\n",
            "85/85 [==============================] - 3s 38ms/step - loss: 0.4196 - accuracy: 0.8094 - recall_2: 0.8408 - precision_2: 0.8010 - val_loss: 0.5285 - val_accuracy: 0.7835 - val_recall_2: 0.8158 - val_precision_2: 0.7536\n",
            "Epoch 296/1000\n",
            "85/85 [==============================] - 3s 38ms/step - loss: 0.4115 - accuracy: 0.8127 - recall_2: 0.8408 - precision_2: 0.7911 - val_loss: 0.5148 - val_accuracy: 0.7732 - val_recall_2: 0.7556 - val_precision_2: 0.7996\n",
            "Epoch 297/1000\n",
            "85/85 [==============================] - 3s 38ms/step - loss: 0.4014 - accuracy: 0.8186 - recall_2: 0.8422 - precision_2: 0.8080 - val_loss: 0.5786 - val_accuracy: 0.7337 - val_recall_2: 0.8726 - val_precision_2: 0.6742\n",
            "Epoch 298/1000\n",
            "85/85 [==============================] - 3s 38ms/step - loss: 0.4061 - accuracy: 0.8120 - recall_2: 0.8524 - precision_2: 0.7869 - val_loss: 0.5450 - val_accuracy: 0.7732 - val_recall_2: 0.8399 - val_precision_2: 0.7383\n",
            "Epoch 299/1000\n",
            "85/85 [==============================] - 3s 39ms/step - loss: 0.4145 - accuracy: 0.8164 - recall_2: 0.8378 - precision_2: 0.8043 - val_loss: 0.4988 - val_accuracy: 0.7844 - val_recall_2: 0.7986 - val_precision_2: 0.7746\n",
            "Epoch 300/1000\n",
            "85/85 [==============================] - 3s 38ms/step - loss: 0.4160 - accuracy: 0.8131 - recall_2: 0.8451 - precision_2: 0.7892 - val_loss: 0.5335 - val_accuracy: 0.7672 - val_recall_2: 0.8107 - val_precision_2: 0.7453\n",
            "Epoch 301/1000\n",
            "85/85 [==============================] - 3s 38ms/step - loss: 0.4062 - accuracy: 0.8223 - recall_2: 0.8583 - precision_2: 0.8031 - val_loss: 0.5301 - val_accuracy: 0.7637 - val_recall_2: 0.8503 - val_precision_2: 0.7159\n",
            "Epoch 302/1000\n",
            "85/85 [==============================] - 3s 38ms/step - loss: 0.4101 - accuracy: 0.8197 - recall_2: 0.8524 - precision_2: 0.8032 - val_loss: 0.5158 - val_accuracy: 0.7852 - val_recall_2: 0.8021 - val_precision_2: 0.7741\n",
            "Epoch 303/1000\n",
            "85/85 [==============================] - 3s 38ms/step - loss: 0.4075 - accuracy: 0.8278 - recall_2: 0.8488 - precision_2: 0.8137 - val_loss: 0.5203 - val_accuracy: 0.7766 - val_recall_2: 0.7780 - val_precision_2: 0.7700\n",
            "Epoch 304/1000\n",
            "85/85 [==============================] - 3s 38ms/step - loss: 0.3974 - accuracy: 0.8274 - recall_2: 0.8510 - precision_2: 0.8102 - val_loss: 0.5076 - val_accuracy: 0.7698 - val_recall_2: 0.8090 - val_precision_2: 0.7532\n",
            "Epoch 305/1000\n",
            "85/85 [==============================] - 3s 38ms/step - loss: 0.4003 - accuracy: 0.8238 - recall_2: 0.8466 - precision_2: 0.8105 - val_loss: 0.5368 - val_accuracy: 0.7663 - val_recall_2: 0.8606 - val_precision_2: 0.7205\n",
            "Epoch 306/1000\n",
            "85/85 [==============================] - 3s 38ms/step - loss: 0.4161 - accuracy: 0.8079 - recall_2: 0.8371 - precision_2: 0.8025 - val_loss: 0.5294 - val_accuracy: 0.7672 - val_recall_2: 0.7917 - val_precision_2: 0.7553\n",
            "Epoch 307/1000\n",
            "85/85 [==============================] - 3s 38ms/step - loss: 0.4058 - accuracy: 0.8245 - recall_2: 0.8517 - precision_2: 0.8030 - val_loss: 0.5324 - val_accuracy: 0.7775 - val_recall_2: 0.8107 - val_precision_2: 0.7609\n",
            "Epoch 308/1000\n",
            "85/85 [==============================] - 3s 38ms/step - loss: 0.4174 - accuracy: 0.8223 - recall_2: 0.8400 - precision_2: 0.8031 - val_loss: 0.5323 - val_accuracy: 0.7646 - val_recall_2: 0.7883 - val_precision_2: 0.7508\n",
            "Epoch 309/1000\n",
            "85/85 [==============================] - 3s 39ms/step - loss: 0.4068 - accuracy: 0.8241 - recall_2: 0.8466 - precision_2: 0.8088 - val_loss: 0.5501 - val_accuracy: 0.7491 - val_recall_2: 0.8262 - val_precision_2: 0.7207\n",
            "Epoch 310/1000\n",
            "85/85 [==============================] - 3s 38ms/step - loss: 0.3985 - accuracy: 0.8274 - recall_2: 0.8561 - precision_2: 0.8055 - val_loss: 0.5470 - val_accuracy: 0.7637 - val_recall_2: 0.7263 - val_precision_2: 0.7844\n",
            "Epoch 311/1000\n",
            "85/85 [==============================] - 3s 38ms/step - loss: 0.4024 - accuracy: 0.8278 - recall_2: 0.8590 - precision_2: 0.8105 - val_loss: 0.5471 - val_accuracy: 0.7612 - val_recall_2: 0.6902 - val_precision_2: 0.8200\n",
            "Epoch 312/1000\n",
            "85/85 [==============================] - 3s 39ms/step - loss: 0.4184 - accuracy: 0.8120 - recall_2: 0.8335 - precision_2: 0.8075 - val_loss: 0.5462 - val_accuracy: 0.7818 - val_recall_2: 0.8158 - val_precision_2: 0.7670\n",
            "Epoch 313/1000\n",
            "85/85 [==============================] - 3s 38ms/step - loss: 0.3964 - accuracy: 0.8252 - recall_2: 0.8444 - precision_2: 0.8124 - val_loss: 0.5292 - val_accuracy: 0.7689 - val_recall_2: 0.8365 - val_precision_2: 0.7330\n",
            "Epoch 314/1000\n",
            "85/85 [==============================] - 3s 39ms/step - loss: 0.4115 - accuracy: 0.8138 - recall_2: 0.8437 - precision_2: 0.7955 - val_loss: 0.5492 - val_accuracy: 0.7689 - val_recall_2: 0.7332 - val_precision_2: 0.7963\n",
            "Epoch 315/1000\n",
            "85/85 [==============================] - 3s 39ms/step - loss: 0.4050 - accuracy: 0.8171 - recall_2: 0.8371 - precision_2: 0.8099 - val_loss: 0.5462 - val_accuracy: 0.7405 - val_recall_2: 0.8657 - val_precision_2: 0.6862\n",
            "Epoch 316/1000\n",
            "85/85 [==============================] - 3s 38ms/step - loss: 0.4082 - accuracy: 0.8138 - recall_2: 0.8510 - precision_2: 0.7958 - val_loss: 0.5475 - val_accuracy: 0.7620 - val_recall_2: 0.7814 - val_precision_2: 0.7554\n",
            "Epoch 317/1000\n",
            "85/85 [==============================] - 3s 38ms/step - loss: 0.4108 - accuracy: 0.8219 - recall_2: 0.8546 - precision_2: 0.8091 - val_loss: 0.5354 - val_accuracy: 0.7629 - val_recall_2: 0.7969 - val_precision_2: 0.7349\n",
            "Epoch 318/1000\n",
            "85/85 [==============================] - 3s 39ms/step - loss: 0.3987 - accuracy: 0.8289 - recall_2: 0.8576 - precision_2: 0.8113 - val_loss: 0.5311 - val_accuracy: 0.7835 - val_recall_2: 0.8055 - val_precision_2: 0.7826\n",
            "Epoch 319/1000\n",
            "85/85 [==============================] - 3s 39ms/step - loss: 0.4069 - accuracy: 0.8153 - recall_2: 0.8422 - precision_2: 0.8069 - val_loss: 0.5438 - val_accuracy: 0.7749 - val_recall_2: 0.8090 - val_precision_2: 0.7425\n",
            "Epoch 320/1000\n",
            "85/85 [==============================] - 3s 38ms/step - loss: 0.4049 - accuracy: 0.8234 - recall_2: 0.8400 - precision_2: 0.8121 - val_loss: 0.5727 - val_accuracy: 0.7603 - val_recall_2: 0.8778 - val_precision_2: 0.7015\n",
            "Epoch 321/1000\n",
            "85/85 [==============================] - 3s 38ms/step - loss: 0.4120 - accuracy: 0.8146 - recall_2: 0.8481 - precision_2: 0.7925 - val_loss: 0.5166 - val_accuracy: 0.7758 - val_recall_2: 0.8296 - val_precision_2: 0.7484\n",
            "Epoch 322/1000\n",
            "85/85 [==============================] - 3s 38ms/step - loss: 0.3904 - accuracy: 0.8249 - recall_2: 0.8539 - precision_2: 0.8152 - val_loss: 0.5460 - val_accuracy: 0.7620 - val_recall_2: 0.8657 - val_precision_2: 0.7125\n",
            "Epoch 323/1000\n",
            "85/85 [==============================] - 3s 38ms/step - loss: 0.3898 - accuracy: 0.8289 - recall_2: 0.8583 - precision_2: 0.8154 - val_loss: 0.5195 - val_accuracy: 0.7775 - val_recall_2: 0.7659 - val_precision_2: 0.7780\n",
            "Epoch 324/1000\n",
            "85/85 [==============================] - 3s 38ms/step - loss: 0.3937 - accuracy: 0.8271 - recall_2: 0.8598 - precision_2: 0.8112 - val_loss: 0.5315 - val_accuracy: 0.7775 - val_recall_2: 0.8417 - val_precision_2: 0.7558\n",
            "Epoch 325/1000\n",
            "85/85 [==============================] - 3s 38ms/step - loss: 0.4102 - accuracy: 0.8219 - recall_2: 0.8561 - precision_2: 0.7989 - val_loss: 0.5857 - val_accuracy: 0.7277 - val_recall_2: 0.6420 - val_precision_2: 0.8126\n",
            "Epoch 326/1000\n",
            "85/85 [==============================] - 3s 38ms/step - loss: 0.4063 - accuracy: 0.8197 - recall_2: 0.8517 - precision_2: 0.8114 - val_loss: 0.5209 - val_accuracy: 0.7663 - val_recall_2: 0.8330 - val_precision_2: 0.7289\n",
            "Epoch 327/1000\n",
            "85/85 [==============================] - 3s 38ms/step - loss: 0.3909 - accuracy: 0.8300 - recall_2: 0.8634 - precision_2: 0.8186 - val_loss: 0.5542 - val_accuracy: 0.7655 - val_recall_2: 0.7315 - val_precision_2: 0.7784\n",
            "Epoch 328/1000\n",
            "85/85 [==============================] - 3s 39ms/step - loss: 0.4080 - accuracy: 0.8120 - recall_2: 0.8408 - precision_2: 0.8015 - val_loss: 0.5289 - val_accuracy: 0.7749 - val_recall_2: 0.7625 - val_precision_2: 0.7869\n",
            "Epoch 329/1000\n",
            "85/85 [==============================] - 3s 38ms/step - loss: 0.3913 - accuracy: 0.8263 - recall_2: 0.8532 - precision_2: 0.8011 - val_loss: 0.5349 - val_accuracy: 0.7715 - val_recall_2: 0.8434 - val_precision_2: 0.7259\n",
            "Epoch 330/1000\n",
            "85/85 [==============================] - 3s 38ms/step - loss: 0.3918 - accuracy: 0.8216 - recall_2: 0.8481 - precision_2: 0.8147 - val_loss: 0.5574 - val_accuracy: 0.7749 - val_recall_2: 0.8399 - val_precision_2: 0.7349\n",
            "Epoch 331/1000\n",
            "85/85 [==============================] - 3s 38ms/step - loss: 0.4187 - accuracy: 0.8194 - recall_2: 0.8524 - precision_2: 0.8026 - val_loss: 0.5303 - val_accuracy: 0.7741 - val_recall_2: 0.7435 - val_precision_2: 0.7970\n",
            "Epoch 332/1000\n",
            "85/85 [==============================] - 3s 38ms/step - loss: 0.3959 - accuracy: 0.8175 - recall_2: 0.8430 - precision_2: 0.8087 - val_loss: 0.5357 - val_accuracy: 0.7655 - val_recall_2: 0.7694 - val_precision_2: 0.7694\n",
            "Epoch 333/1000\n",
            "85/85 [==============================] - 3s 38ms/step - loss: 0.4076 - accuracy: 0.8164 - recall_2: 0.8430 - precision_2: 0.8042 - val_loss: 0.5639 - val_accuracy: 0.7723 - val_recall_2: 0.8279 - val_precision_2: 0.7457\n",
            "Epoch 334/1000\n",
            "85/85 [==============================] - 3s 38ms/step - loss: 0.4075 - accuracy: 0.8289 - recall_2: 0.8576 - precision_2: 0.8136 - val_loss: 0.5280 - val_accuracy: 0.7749 - val_recall_2: 0.7883 - val_precision_2: 0.7736\n",
            "Epoch 335/1000\n",
            "85/85 [==============================] - 3s 38ms/step - loss: 0.4076 - accuracy: 0.8190 - recall_2: 0.8473 - precision_2: 0.8095 - val_loss: 0.5277 - val_accuracy: 0.7792 - val_recall_2: 0.8158 - val_precision_2: 0.7500\n",
            "Epoch 336/1000\n",
            "85/85 [==============================] - 3s 38ms/step - loss: 0.3917 - accuracy: 0.8289 - recall_2: 0.8692 - precision_2: 0.8106 - val_loss: 0.5386 - val_accuracy: 0.7706 - val_recall_2: 0.7917 - val_precision_2: 0.7603\n",
            "Epoch 337/1000\n",
            "85/85 [==============================] - 3s 39ms/step - loss: 0.3943 - accuracy: 0.8274 - recall_2: 0.8495 - precision_2: 0.8122 - val_loss: 0.5271 - val_accuracy: 0.7784 - val_recall_2: 0.8021 - val_precision_2: 0.7614\n",
            "Epoch 338/1000\n",
            "85/85 [==============================] - 3s 39ms/step - loss: 0.4013 - accuracy: 0.8308 - recall_2: 0.8612 - precision_2: 0.8098 - val_loss: 0.5282 - val_accuracy: 0.7715 - val_recall_2: 0.8021 - val_precision_2: 0.7614\n",
            "Epoch 339/1000\n",
            "85/85 [==============================] - 3s 39ms/step - loss: 0.3944 - accuracy: 0.8260 - recall_2: 0.8415 - precision_2: 0.8159 - val_loss: 0.6699 - val_accuracy: 0.7491 - val_recall_2: 0.9208 - val_precision_2: 0.6730\n",
            "Epoch 340/1000\n",
            "85/85 [==============================] - 3s 38ms/step - loss: 0.4145 - accuracy: 0.8105 - recall_2: 0.8437 - precision_2: 0.7955 - val_loss: 0.5622 - val_accuracy: 0.7612 - val_recall_2: 0.8589 - val_precision_2: 0.7159\n",
            "Epoch 341/1000\n",
            "85/85 [==============================] - 3s 38ms/step - loss: 0.3955 - accuracy: 0.8252 - recall_2: 0.8524 - precision_2: 0.8115 - val_loss: 0.5571 - val_accuracy: 0.7723 - val_recall_2: 0.8193 - val_precision_2: 0.7484\n",
            "Epoch 342/1000\n",
            "85/85 [==============================] - 3s 38ms/step - loss: 0.3930 - accuracy: 0.8322 - recall_2: 0.8583 - precision_2: 0.8182 - val_loss: 0.5505 - val_accuracy: 0.7706 - val_recall_2: 0.8193 - val_precision_2: 0.7414\n",
            "Epoch 343/1000\n",
            "85/85 [==============================] - 3s 38ms/step - loss: 0.4101 - accuracy: 0.8205 - recall_2: 0.8378 - precision_2: 0.8089 - val_loss: 0.5245 - val_accuracy: 0.7741 - val_recall_2: 0.8399 - val_precision_2: 0.7428\n",
            "Epoch 344/1000\n",
            "85/85 [==============================] - 3s 38ms/step - loss: 0.3870 - accuracy: 0.8293 - recall_2: 0.8524 - precision_2: 0.8161 - val_loss: 0.5550 - val_accuracy: 0.7749 - val_recall_2: 0.8107 - val_precision_2: 0.7488\n",
            "Epoch 345/1000\n",
            "85/85 [==============================] - 3s 38ms/step - loss: 0.3926 - accuracy: 0.8322 - recall_2: 0.8619 - precision_2: 0.8082 - val_loss: 0.5329 - val_accuracy: 0.7706 - val_recall_2: 0.8158 - val_precision_2: 0.7536\n",
            "Epoch 346/1000\n",
            "85/85 [==============================] - 3s 38ms/step - loss: 0.3913 - accuracy: 0.8230 - recall_2: 0.8634 - precision_2: 0.8063 - val_loss: 0.5523 - val_accuracy: 0.7766 - val_recall_2: 0.8279 - val_precision_2: 0.7481\n",
            "Epoch 347/1000\n",
            "85/85 [==============================] - 3s 38ms/step - loss: 0.3919 - accuracy: 0.8252 - recall_2: 0.8539 - precision_2: 0.8084 - val_loss: 0.5299 - val_accuracy: 0.7749 - val_recall_2: 0.8176 - val_precision_2: 0.7469\n",
            "Epoch 348/1000\n",
            "85/85 [==============================] - 3s 38ms/step - loss: 0.3949 - accuracy: 0.8205 - recall_2: 0.8517 - precision_2: 0.8103 - val_loss: 0.5084 - val_accuracy: 0.7706 - val_recall_2: 0.7143 - val_precision_2: 0.8218\n",
            "Epoch 349/1000\n",
            "85/85 [==============================] - 3s 38ms/step - loss: 0.3933 - accuracy: 0.8267 - recall_2: 0.8663 - precision_2: 0.8123 - val_loss: 0.5562 - val_accuracy: 0.7560 - val_recall_2: 0.7212 - val_precision_2: 0.7803\n",
            "Epoch 350/1000\n",
            "85/85 [==============================] - 3s 38ms/step - loss: 0.3900 - accuracy: 0.8267 - recall_2: 0.8524 - precision_2: 0.8161 - val_loss: 0.5327 - val_accuracy: 0.7844 - val_recall_2: 0.8021 - val_precision_2: 0.7702\n",
            "Epoch 351/1000\n",
            "85/85 [==============================] - 3s 38ms/step - loss: 0.3883 - accuracy: 0.8249 - recall_2: 0.8495 - precision_2: 0.8105 - val_loss: 0.5599 - val_accuracy: 0.7474 - val_recall_2: 0.7969 - val_precision_2: 0.7280\n",
            "Epoch 352/1000\n",
            "85/85 [==============================] - 3s 38ms/step - loss: 0.4090 - accuracy: 0.8197 - recall_2: 0.8386 - precision_2: 0.8056 - val_loss: 0.5485 - val_accuracy: 0.7715 - val_recall_2: 0.8503 - val_precision_2: 0.7297\n",
            "Epoch 353/1000\n",
            "85/85 [==============================] - 3s 38ms/step - loss: 0.3862 - accuracy: 0.8238 - recall_2: 0.8495 - precision_2: 0.8093 - val_loss: 0.5221 - val_accuracy: 0.7844 - val_recall_2: 0.7814 - val_precision_2: 0.7909\n",
            "Epoch 354/1000\n",
            "85/85 [==============================] - 3s 38ms/step - loss: 0.4006 - accuracy: 0.8219 - recall_2: 0.8532 - precision_2: 0.8055 - val_loss: 0.5876 - val_accuracy: 0.7517 - val_recall_2: 0.7212 - val_precision_2: 0.7577\n",
            "Epoch 355/1000\n",
            "85/85 [==============================] - 3s 39ms/step - loss: 0.4021 - accuracy: 0.8238 - recall_2: 0.8481 - precision_2: 0.8147 - val_loss: 0.5422 - val_accuracy: 0.7792 - val_recall_2: 0.7917 - val_precision_2: 0.7783\n",
            "Epoch 356/1000\n",
            "85/85 [==============================] - 3s 39ms/step - loss: 0.3983 - accuracy: 0.8241 - recall_2: 0.8378 - precision_2: 0.8100 - val_loss: 0.5390 - val_accuracy: 0.7577 - val_recall_2: 0.8124 - val_precision_2: 0.7375\n",
            "Epoch 357/1000\n",
            "85/85 [==============================] - 3s 39ms/step - loss: 0.3930 - accuracy: 0.8263 - recall_2: 0.8532 - precision_2: 0.8100 - val_loss: 0.5426 - val_accuracy: 0.7801 - val_recall_2: 0.7969 - val_precision_2: 0.7717\n",
            "Epoch 358/1000\n",
            "85/85 [==============================] - 3s 38ms/step - loss: 0.3957 - accuracy: 0.8319 - recall_2: 0.8576 - precision_2: 0.8130 - val_loss: 0.5492 - val_accuracy: 0.7749 - val_recall_2: 0.8038 - val_precision_2: 0.7581\n",
            "Epoch 359/1000\n",
            "85/85 [==============================] - 3s 38ms/step - loss: 0.3891 - accuracy: 0.8293 - recall_2: 0.8510 - precision_2: 0.8124 - val_loss: 0.5611 - val_accuracy: 0.7680 - val_recall_2: 0.8193 - val_precision_2: 0.7368\n",
            "Epoch 360/1000\n",
            "85/85 [==============================] - 3s 39ms/step - loss: 0.3904 - accuracy: 0.8260 - recall_2: 0.8517 - precision_2: 0.8165 - val_loss: 0.5851 - val_accuracy: 0.7715 - val_recall_2: 0.8262 - val_precision_2: 0.7453\n",
            "Epoch 361/1000\n",
            "85/85 [==============================] - 3s 39ms/step - loss: 0.3993 - accuracy: 0.8171 - recall_2: 0.8400 - precision_2: 0.8031 - val_loss: 0.5304 - val_accuracy: 0.7680 - val_recall_2: 0.7728 - val_precision_2: 0.7546\n",
            "Epoch 362/1000\n",
            "85/85 [==============================] - 3s 39ms/step - loss: 0.4027 - accuracy: 0.8197 - recall_2: 0.8524 - precision_2: 0.8004 - val_loss: 0.5288 - val_accuracy: 0.7680 - val_recall_2: 0.7642 - val_precision_2: 0.7831\n",
            "Epoch 363/1000\n",
            "85/85 [==============================] - 3s 39ms/step - loss: 0.4006 - accuracy: 0.8216 - recall_2: 0.8400 - precision_2: 0.8121 - val_loss: 0.5758 - val_accuracy: 0.7526 - val_recall_2: 0.8107 - val_precision_2: 0.7302\n",
            "Epoch 364/1000\n",
            "85/85 [==============================] - 3s 38ms/step - loss: 0.3941 - accuracy: 0.8293 - recall_2: 0.8466 - precision_2: 0.8133 - val_loss: 0.5417 - val_accuracy: 0.7715 - val_recall_2: 0.7694 - val_precision_2: 0.7707\n",
            "Epoch 365/1000\n",
            "85/85 [==============================] - 3s 39ms/step - loss: 0.3852 - accuracy: 0.8297 - recall_2: 0.8619 - precision_2: 0.8121 - val_loss: 0.5482 - val_accuracy: 0.7835 - val_recall_2: 0.8330 - val_precision_2: 0.7481\n",
            "Epoch 366/1000\n",
            "85/85 [==============================] - 3s 39ms/step - loss: 0.4050 - accuracy: 0.8208 - recall_2: 0.8517 - precision_2: 0.8075 - val_loss: 0.5437 - val_accuracy: 0.7749 - val_recall_2: 0.8554 - val_precision_2: 0.7245\n",
            "Epoch 367/1000\n",
            "85/85 [==============================] - 3s 38ms/step - loss: 0.3942 - accuracy: 0.8230 - recall_2: 0.8451 - precision_2: 0.8131 - val_loss: 0.5290 - val_accuracy: 0.7646 - val_recall_2: 0.8055 - val_precision_2: 0.7500\n",
            "Epoch 368/1000\n",
            "85/85 [==============================] - 3s 38ms/step - loss: 0.3833 - accuracy: 0.8267 - recall_2: 0.8554 - precision_2: 0.8177 - val_loss: 0.5289 - val_accuracy: 0.7904 - val_recall_2: 0.8038 - val_precision_2: 0.7719\n",
            "Epoch 369/1000\n",
            "85/85 [==============================] - 3s 39ms/step - loss: 0.3745 - accuracy: 0.8315 - recall_2: 0.8590 - precision_2: 0.8144 - val_loss: 0.5357 - val_accuracy: 0.7706 - val_recall_2: 0.7831 - val_precision_2: 0.7738\n",
            "Epoch 370/1000\n",
            "85/85 [==============================] - 3s 39ms/step - loss: 0.3978 - accuracy: 0.8300 - recall_2: 0.8649 - precision_2: 0.8132 - val_loss: 0.5618 - val_accuracy: 0.7698 - val_recall_2: 0.8365 - val_precision_2: 0.7254\n",
            "Epoch 371/1000\n",
            "85/85 [==============================] - 3s 39ms/step - loss: 0.3760 - accuracy: 0.8330 - recall_2: 0.8554 - precision_2: 0.8212 - val_loss: 0.6194 - val_accuracy: 0.7414 - val_recall_2: 0.8520 - val_precision_2: 0.6799\n",
            "Epoch 372/1000\n",
            "85/85 [==============================] - 3s 40ms/step - loss: 0.3983 - accuracy: 0.8286 - recall_2: 0.8532 - precision_2: 0.8128 - val_loss: 0.5430 - val_accuracy: 0.7741 - val_recall_2: 0.7762 - val_precision_2: 0.7657\n",
            "Epoch 373/1000\n",
            "85/85 [==============================] - 3s 40ms/step - loss: 0.3918 - accuracy: 0.8300 - recall_2: 0.8554 - precision_2: 0.8195 - val_loss: 0.5655 - val_accuracy: 0.7655 - val_recall_2: 0.8158 - val_precision_2: 0.7395\n",
            "Epoch 374/1000\n",
            "85/85 [==============================] - 3s 41ms/step - loss: 0.3883 - accuracy: 0.8315 - recall_2: 0.8568 - precision_2: 0.8249 - val_loss: 0.5328 - val_accuracy: 0.7672 - val_recall_2: 0.7711 - val_precision_2: 0.7698\n",
            "Epoch 375/1000\n",
            "85/85 [==============================] - 3s 40ms/step - loss: 0.3885 - accuracy: 0.8355 - recall_2: 0.8524 - precision_2: 0.8207 - val_loss: 0.5831 - val_accuracy: 0.7405 - val_recall_2: 0.8313 - val_precision_2: 0.6940\n",
            "Epoch 376/1000\n",
            "85/85 [==============================] - 3s 39ms/step - loss: 0.3799 - accuracy: 0.8374 - recall_2: 0.8612 - precision_2: 0.8245 - val_loss: 0.5788 - val_accuracy: 0.7663 - val_recall_2: 0.7108 - val_precision_2: 0.8066\n",
            "Epoch 377/1000\n",
            "85/85 [==============================] - 3s 39ms/step - loss: 0.3739 - accuracy: 0.8392 - recall_2: 0.8590 - precision_2: 0.8317 - val_loss: 0.6223 - val_accuracy: 0.7534 - val_recall_2: 0.6902 - val_precision_2: 0.8052\n",
            "Epoch 378/1000\n",
            "85/85 [==============================] - 3s 39ms/step - loss: 0.3929 - accuracy: 0.8278 - recall_2: 0.8510 - precision_2: 0.8073 - val_loss: 0.5779 - val_accuracy: 0.7509 - val_recall_2: 0.7831 - val_precision_2: 0.7327\n",
            "Epoch 379/1000\n",
            "85/85 [==============================] - 3s 38ms/step - loss: 0.3930 - accuracy: 0.8205 - recall_2: 0.8495 - precision_2: 0.8043 - val_loss: 0.5600 - val_accuracy: 0.7775 - val_recall_2: 0.7694 - val_precision_2: 0.7828\n",
            "Epoch 380/1000\n",
            "85/85 [==============================] - 3s 39ms/step - loss: 0.3986 - accuracy: 0.8274 - recall_2: 0.8590 - precision_2: 0.8150 - val_loss: 0.5760 - val_accuracy: 0.7560 - val_recall_2: 0.7418 - val_precision_2: 0.7822\n",
            "Epoch 381/1000\n",
            "85/85 [==============================] - 3s 39ms/step - loss: 0.3868 - accuracy: 0.8289 - recall_2: 0.8473 - precision_2: 0.8239 - val_loss: 0.5982 - val_accuracy: 0.7749 - val_recall_2: 0.8158 - val_precision_2: 0.7476\n",
            "Epoch 382/1000\n",
            "85/85 [==============================] - 3s 39ms/step - loss: 0.3832 - accuracy: 0.8341 - recall_2: 0.8671 - precision_2: 0.8091 - val_loss: 0.5687 - val_accuracy: 0.7543 - val_recall_2: 0.7263 - val_precision_2: 0.7962\n",
            "Epoch 383/1000\n",
            "85/85 [==============================] - 3s 39ms/step - loss: 0.3707 - accuracy: 0.8319 - recall_2: 0.8605 - precision_2: 0.8130 - val_loss: 0.5621 - val_accuracy: 0.7706 - val_recall_2: 0.7281 - val_precision_2: 0.8073\n",
            "Epoch 384/1000\n",
            "85/85 [==============================] - 3s 39ms/step - loss: 0.3941 - accuracy: 0.8311 - recall_2: 0.8561 - precision_2: 0.8094 - val_loss: 0.5498 - val_accuracy: 0.7869 - val_recall_2: 0.7814 - val_precision_2: 0.7923\n",
            "Epoch 385/1000\n",
            "85/85 [==============================] - 3s 38ms/step - loss: 0.3944 - accuracy: 0.8304 - recall_2: 0.8415 - precision_2: 0.8199 - val_loss: 0.5493 - val_accuracy: 0.7680 - val_recall_2: 0.8468 - val_precision_2: 0.7130\n",
            "Epoch 386/1000\n",
            "85/85 [==============================] - 3s 38ms/step - loss: 0.4020 - accuracy: 0.8256 - recall_2: 0.8605 - precision_2: 0.8119 - val_loss: 0.5597 - val_accuracy: 0.7715 - val_recall_2: 0.8657 - val_precision_2: 0.7279\n"
          ]
        },
        {
          "output_type": "error",
          "ename": "KeyboardInterrupt",
          "evalue": "ignored",
          "traceback": [
            "\u001b[0;31m---------------------------------------------------------------------------\u001b[0m",
            "\u001b[0;31mKeyboardInterrupt\u001b[0m                         Traceback (most recent call last)",
            "\u001b[0;32m<ipython-input-23-b4b5b9edb953>\u001b[0m in \u001b[0;36m<module>\u001b[0;34m()\u001b[0m\n\u001b[1;32m      7\u001b[0m           \u001b[0mbatch_size\u001b[0m\u001b[0;34m=\u001b[0m\u001b[0;36m64\u001b[0m\u001b[0;34m,\u001b[0m\u001b[0;34m\u001b[0m\u001b[0;34m\u001b[0m\u001b[0m\n\u001b[1;32m      8\u001b[0m           \u001b[0mverbose\u001b[0m\u001b[0;34m=\u001b[0m\u001b[0;36m1\u001b[0m\u001b[0;34m,\u001b[0m\u001b[0;34m\u001b[0m\u001b[0;34m\u001b[0m\u001b[0m\n\u001b[0;32m----> 9\u001b[0;31m           callbacks=mc)\n\u001b[0m",
            "\u001b[0;32m/usr/local/lib/python3.7/dist-packages/keras/utils/traceback_utils.py\u001b[0m in \u001b[0;36merror_handler\u001b[0;34m(*args, **kwargs)\u001b[0m\n\u001b[1;32m     62\u001b[0m     \u001b[0mfiltered_tb\u001b[0m \u001b[0;34m=\u001b[0m \u001b[0;32mNone\u001b[0m\u001b[0;34m\u001b[0m\u001b[0;34m\u001b[0m\u001b[0m\n\u001b[1;32m     63\u001b[0m     \u001b[0;32mtry\u001b[0m\u001b[0;34m:\u001b[0m\u001b[0;34m\u001b[0m\u001b[0;34m\u001b[0m\u001b[0m\n\u001b[0;32m---> 64\u001b[0;31m       \u001b[0;32mreturn\u001b[0m \u001b[0mfn\u001b[0m\u001b[0;34m(\u001b[0m\u001b[0;34m*\u001b[0m\u001b[0margs\u001b[0m\u001b[0;34m,\u001b[0m \u001b[0;34m**\u001b[0m\u001b[0mkwargs\u001b[0m\u001b[0;34m)\u001b[0m\u001b[0;34m\u001b[0m\u001b[0;34m\u001b[0m\u001b[0m\n\u001b[0m\u001b[1;32m     65\u001b[0m     \u001b[0;32mexcept\u001b[0m \u001b[0mException\u001b[0m \u001b[0;32mas\u001b[0m \u001b[0me\u001b[0m\u001b[0;34m:\u001b[0m  \u001b[0;31m# pylint: disable=broad-except\u001b[0m\u001b[0;34m\u001b[0m\u001b[0;34m\u001b[0m\u001b[0m\n\u001b[1;32m     66\u001b[0m       \u001b[0mfiltered_tb\u001b[0m \u001b[0;34m=\u001b[0m \u001b[0m_process_traceback_frames\u001b[0m\u001b[0;34m(\u001b[0m\u001b[0me\u001b[0m\u001b[0;34m.\u001b[0m\u001b[0m__traceback__\u001b[0m\u001b[0;34m)\u001b[0m\u001b[0;34m\u001b[0m\u001b[0;34m\u001b[0m\u001b[0m\n",
            "\u001b[0;32m/usr/local/lib/python3.7/dist-packages/keras/engine/training.py\u001b[0m in \u001b[0;36mfit\u001b[0;34m(self, x, y, batch_size, epochs, verbose, callbacks, validation_split, validation_data, shuffle, class_weight, sample_weight, initial_epoch, steps_per_epoch, validation_steps, validation_batch_size, validation_freq, max_queue_size, workers, use_multiprocessing)\u001b[0m\n\u001b[1;32m   1203\u001b[0m       \u001b[0mlogs\u001b[0m \u001b[0;34m=\u001b[0m \u001b[0;32mNone\u001b[0m\u001b[0;34m\u001b[0m\u001b[0;34m\u001b[0m\u001b[0m\n\u001b[1;32m   1204\u001b[0m       \u001b[0;32mfor\u001b[0m \u001b[0mepoch\u001b[0m\u001b[0;34m,\u001b[0m \u001b[0miterator\u001b[0m \u001b[0;32min\u001b[0m \u001b[0mdata_handler\u001b[0m\u001b[0;34m.\u001b[0m\u001b[0menumerate_epochs\u001b[0m\u001b[0;34m(\u001b[0m\u001b[0;34m)\u001b[0m\u001b[0;34m:\u001b[0m\u001b[0;34m\u001b[0m\u001b[0;34m\u001b[0m\u001b[0m\n\u001b[0;32m-> 1205\u001b[0;31m         \u001b[0mself\u001b[0m\u001b[0;34m.\u001b[0m\u001b[0mreset_metrics\u001b[0m\u001b[0;34m(\u001b[0m\u001b[0;34m)\u001b[0m\u001b[0;34m\u001b[0m\u001b[0;34m\u001b[0m\u001b[0m\n\u001b[0m\u001b[1;32m   1206\u001b[0m         \u001b[0mcallbacks\u001b[0m\u001b[0;34m.\u001b[0m\u001b[0mon_epoch_begin\u001b[0m\u001b[0;34m(\u001b[0m\u001b[0mepoch\u001b[0m\u001b[0;34m)\u001b[0m\u001b[0;34m\u001b[0m\u001b[0;34m\u001b[0m\u001b[0m\n\u001b[1;32m   1207\u001b[0m         \u001b[0;32mwith\u001b[0m \u001b[0mdata_handler\u001b[0m\u001b[0;34m.\u001b[0m\u001b[0mcatch_stop_iteration\u001b[0m\u001b[0;34m(\u001b[0m\u001b[0;34m)\u001b[0m\u001b[0;34m:\u001b[0m\u001b[0;34m\u001b[0m\u001b[0;34m\u001b[0m\u001b[0m\n",
            "\u001b[0;31mKeyboardInterrupt\u001b[0m: "
          ]
        }
      ]
    },
    {
      "cell_type": "code",
      "metadata": {
        "colab": {
          "base_uri": "https://localhost:8080/"
        },
        "id": "zUltJL6je5Ce",
        "outputId": "091803ee-6c08-4a4c-e7f7-779ecae1a94f"
      },
      "source": [
        "y_pred = model.predict(X_test)\n",
        "model.evaluate(X_test, y_test)"
      ],
      "execution_count": 33,
      "outputs": [
        {
          "output_type": "stream",
          "name": "stdout",
          "text": [
            "53/53 [==============================] - 6s 120ms/step - loss: 0.4862 - accuracy: 0.7730 - recall_1: 0.8974 - precision_1: 0.6861\n"
          ]
        },
        {
          "output_type": "execute_result",
          "data": {
            "text/plain": [
              "[0.4861617088317871, 0.7729730010032654, 0.89737468957901, 0.6861313581466675]"
            ]
          },
          "metadata": {},
          "execution_count": 33
        }
      ]
    },
    {
      "cell_type": "code",
      "metadata": {
        "colab": {
          "base_uri": "https://localhost:8080/",
          "height": 282
        },
        "id": "bWXrZnv9XPVM",
        "outputId": "dfbf9861-1eea-4ddf-d0bc-3443f47fe865"
      },
      "source": [
        "plt.plot(history.history['recall_1'], label='recall')\n",
        "plt.plot(history.history['val_recall_1'], label='val_recall')\n",
        "plt.legend()"
      ],
      "execution_count": null,
      "outputs": [
        {
          "output_type": "execute_result",
          "data": {
            "text/plain": [
              "<matplotlib.legend.Legend at 0x7f5faa106ad0>"
            ]
          },
          "metadata": {},
          "execution_count": 12
        },
        {
          "output_type": "display_data",
          "data": {
            "image/png": "[encoded data removed]",
            "text/plain": [
              "<Figure size 432x288 with 1 Axes>"
            ]
          },
          "metadata": {
            "needs_background": "light"
          }
        }
      ]
    },
    {
      "cell_type": "code",
      "metadata": {
        "colab": {
          "base_uri": "https://localhost:8080/",
          "height": 286
        },
        "id": "We61eQl8X7qN",
        "outputId": "afbc379f-3144-4b1d-85b3-c45edfd3e74e"
      },
      "source": [
        "plt.plot(history.history['loss'], label='loss')\n",
        "plt.plot(history.history['val_loss'], label='val_loss')\n",
        "plt.legend()"
      ],
      "execution_count": null,
      "outputs": [
        {
          "output_type": "execute_result",
          "data": {
            "text/plain": [
              "<matplotlib.legend.Legend at 0x7f5f94273b90>"
            ]
          },
          "metadata": {},
          "execution_count": 13
        },
        {
          "output_type": "display_data",
          "data": {
            "image/png": "[encoded data removed]",
            "text/plain": [
              "<Figure size 432x288 with 1 Axes>"
            ]
          },
          "metadata": {
            "needs_background": "light"
          }
        }
      ]
    },
    {
      "cell_type": "markdown",
      "metadata": {
        "id": "63HyZ98TJzzH"
      },
      "source": [
        "Precision Recall Curve"
      ]
    },
    {
      "cell_type": "code",
      "metadata": {
        "colab": {
          "base_uri": "https://localhost:8080/"
        },
        "id": "tcptdSSHKWdU",
        "outputId": "8671e63e-feea-4eac-d7dd-449d4583116d"
      },
      "source": [
        "precision, recall, threshold = precision_recall_curve(y_test, y_pred) \n",
        "\n",
        "print(f'precision- {precision[:5]}')\n",
        "print(f'recall- {recall[:5]}')\n",
        "print(f'threshold- {threshold[:5]}')"
      ],
      "execution_count": 34,
      "outputs": [
        {
          "output_type": "stream",
          "name": "stdout",
          "text": [
            "precision- [0.51505839 0.51476015 0.51507692 0.51539409 0.51571165]\n",
            "recall- [1.         0.99880668 0.99880668 0.99880668 0.99880668]\n",
            "threshold- [0.07750788 0.07837304 0.07916176 0.07949072 0.08222136]\n"
          ]
        }
      ]
    },
    {
      "cell_type": "code",
      "metadata": {
        "colab": {
          "base_uri": "https://localhost:8080/",
          "height": 206
        },
        "id": "8ClkwKDVMvHN",
        "outputId": "2a4b360c-f503-46ae-eae8-f21a436aefb5"
      },
      "source": [
        "scores = pd.DataFrame({'threshold':threshold,\n",
        "                       'precision': precision[:-1],\n",
        "                       'recall':recall[:-1]})\n",
        "scores.head()"
      ],
      "execution_count": 35,
      "outputs": [
        {
          "output_type": "execute_result",
          "data": {
            "text/html": [
              "<div>\n",
              "<style scoped>\n",
              "    .dataframe tbody tr th:only-of-type {\n",
              "        vertical-align: middle;\n",
              "    }\n",
              "\n",
              "    .dataframe tbody tr th {\n",
              "        vertical-align: top;\n",
              "    }\n",
              "\n",
              "    .dataframe thead th {\n",
              "        text-align: right;\n",
              "    }\n",
              "</style>\n",
              "<table border=\"1\" class=\"dataframe\">\n",
              "  <thead>\n",
              "    <tr style=\"text-align: right;\">\n",
              "      <th></th>\n",
              "      <th>threshold</th>\n",
              "      <th>precision</th>\n",
              "      <th>recall</th>\n",
              "    </tr>\n",
              "  </thead>\n",
              "  <tbody>\n",
              "    <tr>\n",
              "      <th>0</th>\n",
              "      <td>0.077508</td>\n",
              "      <td>0.515058</td>\n",
              "      <td>1.000000</td>\n",
              "    </tr>\n",
              "    <tr>\n",
              "      <th>1</th>\n",
              "      <td>0.078373</td>\n",
              "      <td>0.514760</td>\n",
              "      <td>0.998807</td>\n",
              "    </tr>\n",
              "    <tr>\n",
              "      <th>2</th>\n",
              "      <td>0.079162</td>\n",
              "      <td>0.515077</td>\n",
              "      <td>0.998807</td>\n",
              "    </tr>\n",
              "    <tr>\n",
              "      <th>3</th>\n",
              "      <td>0.079491</td>\n",
              "      <td>0.515394</td>\n",
              "      <td>0.998807</td>\n",
              "    </tr>\n",
              "    <tr>\n",
              "      <th>4</th>\n",
              "      <td>0.082221</td>\n",
              "      <td>0.515712</td>\n",
              "      <td>0.998807</td>\n",
              "    </tr>\n",
              "  </tbody>\n",
              "</table>\n",
              "</div>"
            ],
            "text/plain": [
              "   threshold  precision    recall\n",
              "0   0.077508   0.515058  1.000000\n",
              "1   0.078373   0.514760  0.998807\n",
              "2   0.079162   0.515077  0.998807\n",
              "3   0.079491   0.515394  0.998807\n",
              "4   0.082221   0.515712  0.998807"
            ]
          },
          "metadata": {},
          "execution_count": 35
        }
      ]
    },
    {
      "cell_type": "code",
      "metadata": {
        "colab": {
          "base_uri": "https://localhost:8080/",
          "height": 296
        },
        "id": "zaxkGtl9MyEd",
        "outputId": "96e71fef-5bf3-45cb-c083-758c8b7670b9"
      },
      "source": [
        "plt.plot(scores['recall'],scores['precision'])\n",
        "plt.ylabel('precision')\n",
        "plt.xlabel('recall')"
      ],
      "execution_count": 36,
      "outputs": [
        {
          "output_type": "execute_result",
          "data": {
            "text/plain": [
              "Text(0.5, 0, 'recall')"
            ]
          },
          "metadata": {},
          "execution_count": 36
        },
        {
          "output_type": "display_data",
          "data": {
            "image/png": "[encoded data removed]",
            "text/plain": [
              "<Figure size 432x288 with 1 Axes>"
            ]
          },
          "metadata": {
            "needs_background": "light"
          }
        }
      ]
    },
    {
      "cell_type": "code",
      "metadata": {
        "colab": {
          "base_uri": "https://localhost:8080/"
        },
        "id": "OOMT2oWfM5KQ",
        "outputId": "950976fc-1348-4f5f-faa8-5ff0b70a3d06"
      },
      "source": [
        "# Find threshold that guarantees 0.85 recall score\n",
        "threshold = scores[scores['recall'] >= 0.85].threshold.max()\n",
        "threshold"
      ],
      "execution_count": 37,
      "outputs": [
        {
          "output_type": "execute_result",
          "data": {
            "text/plain": [
              "0.5076203346252441"
            ]
          },
          "metadata": {},
          "execution_count": 37
        }
      ]
    },
    {
      "cell_type": "markdown",
      "metadata": {
        "id": "Gh861cOQeZXD"
      },
      "source": [
        "Predict using test data"
      ]
    },
    {
      "cell_type": "code",
      "metadata": {
        "id": "VQ5LwoPAc3SU"
      },
      "source": [
        "from sklearn.metrics import balanced_accuracy_score"
      ],
      "execution_count": 17,
      "outputs": []
    },
    {
      "cell_type": "code",
      "metadata": {
        "colab": {
          "base_uri": "https://localhost:8080/"
        },
        "id": "y0SyoQi7prOe",
        "outputId": "8894a35c-ee3f-4712-a1df-2311ba353232"
      },
      "source": [
        "def binary_predict(y_pred, custom_threshold=0.45):\n",
        "    return (y_pred > custom_threshold).astype(int)\n",
        "\n",
        "updated_preds = binary_predict(y_pred, custom_threshold=threshold)\n",
        "\n",
        "print(f'Recall:             {recall_score(y_test, updated_preds)}')\n",
        "print(f'Precision:          {precision_score(y_test, updated_preds)}')\n",
        "print(f'F1 score:           {f1_score(y_test, updated_preds)}')\n",
        "print(f'Balanced Accuracy:  {balanced_accuracy_score(y_test, updated_preds)}')"
      ],
      "execution_count": 38,
      "outputs": [
        {
          "output_type": "stream",
          "name": "stdout",
          "text": [
            "Recall:             0.8496420047732697\n",
            "Precision:          0.740894901144641\n",
            "F1 score:           0.791550861589772\n",
            "Balanced Accuracy:  0.7742768669573725\n"
          ]
        }
      ]
    },
    {
      "cell_type": "markdown",
      "metadata": {
        "id": "EN3ylXBeqCln"
      },
      "source": [
        "Creating a report"
      ]
    },
    {
      "cell_type": "code",
      "metadata": {
        "id": "ULUk5SqdDKxK"
      },
      "source": [
        "from numpy import asarray\n",
        "def create_img_array(image):\n",
        "    # Convert image to nparray\n",
        "    X = asarray(image)\n",
        "    # Get image dimensions\n",
        "    height = X.shape[0]\n",
        "    width = X.shape[1]\n",
        "    # Pad image with white so its dimensions are multiples of 50. Assumes an RGB image\n",
        "    pad_height = int(np.ceil(height/50))*50\n",
        "    pad_width = int(np.ceil(width/50))*50\n",
        "    pad = np.ones((pad_height,pad_width,3), dtype=np.uint8)*255\n",
        "    pad[:height, :width, :] = X\n",
        "    # Create an array of 50 x 50 images\n",
        "    img_array = np.zeros((int(pad_height/50) * int(pad_width/50), 50, 50, 3), dtype=np.uint8)\n",
        "    for h in range(int(pad_height/50)):\n",
        "        for w in range(int(pad_width/50)):\n",
        "            img_array[h*int(pad_width/50)+w,:,:,:] = pad[h*50:(h+1)*50, w*50:(w+1)*50, :]\n",
        "    return img_array"
      ],
      "execution_count": 110,
      "outputs": []
    },
    {
      "cell_type": "code",
      "metadata": {
        "id": "X9EwxUGxxVaV"
      },
      "source": [
        "def generate_report(X_test, y_pred):\n",
        "    # Remove the top 10% whitest images from predictions\n",
        "    # white_threshold = max([image.mean() for image in X_test]) * 0.90\n",
        "    # remove_white_mask = [image.mean() <= white_threshold for image in X_test]\n",
        "    # X_non_white = X_test[remove_white_mask]\n",
        "    # y_pred = y_pred[remove_white_mask]\n",
        "\n",
        "    # Generate report using non-white images\n",
        "    report = {}\n",
        "    y_binary = binary_predict(y_pred)\n",
        "    sum_positive = sum(y_binary)[0]\n",
        "    percent_positive = round((sum_positive/y_pred.shape[0])*100, 2)\n",
        "    report['Mean probability across whole slide'] = round(np.mean(y_pred)*100, 2)\n",
        "    report['Number of high IDC probability patches'] = sum(value == 'High IDC probability' for value in model_diagnosis(X_test,y_pred).values())\n",
        "    report['Number of medium IDC probability patches'] = sum(value == 'Medium IDC probability' for value in model_diagnosis(X_test,y_pred).values())\n",
        "    report['Number of low IDC probability patches'] = sum(value == 'Low IDC probability' for value in model_diagnosis(X_test,y_pred).values())\n",
        "    report['Number of no IDC patches'] = sum(value == 'No IDC' for value in model_diagnosis(X_test,y_pred).values())\n",
        "    return report"
      ],
      "execution_count": 102,
      "outputs": []
    },
    {
      "cell_type": "code",
      "metadata": {
        "id": "kw7pmCrU1z8f"
      },
      "source": [
        "def model_diagnosis(X_test, y_pred):\n",
        "    diagnosis = {}\n",
        "    for patch in range(len(X_test)):\n",
        "        if y_pred[patch] >= 0.9:\n",
        "            diagnosis[patch] = 'High IDC probability'\n",
        "        elif y_pred[patch] >= 0.6:\n",
        "            diagnosis[patch] = 'Medium IDC probability'\n",
        "        elif y_pred[patch] >= 0.3:\n",
        "            diagnosis[patch] = 'Low IDC probability'\n",
        "        else:\n",
        "            diagnosis[patch] = 'No IDC'\n",
        "    return diagnosis"
      ],
      "execution_count": 80,
      "outputs": []
    },
    {
      "cell_type": "code",
      "metadata": {
        "id": "Oiczj0coqH94",
        "colab": {
          "base_uri": "https://localhost:8080/"
        },
        "outputId": "82580efc-928f-4c1f-8fef-8cc572621d63"
      },
      "source": [
        "img = Image.open('/content/drive/MyDrive/Colab Notebooks/S10-24389 D21_201304241157.png')\n",
        "img_array = np.array(img)\n",
        "img_array.shape"
      ],
      "execution_count": 127,
      "outputs": [
        {
          "output_type": "execute_result",
          "data": {
            "text/plain": [
              "(2544, 3424, 3)"
            ]
          },
          "metadata": {},
          "execution_count": 127
        }
      ]
    },
    {
      "cell_type": "code",
      "metadata": {
        "colab": {
          "base_uri": "https://localhost:8080/",
          "height": 286
        },
        "id": "9dBUmRTpEriu",
        "outputId": "17e81e9d-33bd-40ca-ef26-47bdba9eb4b2"
      },
      "source": [
        "plt.imshow(img_array)"
      ],
      "execution_count": 128,
      "outputs": [
        {
          "output_type": "execute_result",
          "data": {
            "text/plain": [
              "<matplotlib.image.AxesImage at 0x7f4742cc7290>"
            ]
          },
          "metadata": {},
          "execution_count": 128
        },
        {
          "output_type": "display_data",
          "data": {
            "image/png": "[encoded data removed]",
            "text/plain": [
              "<Figure size 432x288 with 1 Axes>"
            ]
          },
          "metadata": {
            "needs_background": "light"
          }
        }
      ]
    },
    {
      "cell_type": "code",
      "metadata": {
        "colab": {
          "base_uri": "https://localhost:8080/",
          "height": 301
        },
        "id": "G5rOJAe9ERK0",
        "outputId": "1c014709-40e0-41cd-e873-4317c8019cd4"
      },
      "source": [
        "data = create_img_array(img)/255\n",
        "print(data.shape)\n",
        "plt.imshow(data[1500])"
      ],
      "execution_count": 141,
      "outputs": [
        {
          "output_type": "stream",
          "name": "stdout",
          "text": [
            "(3519, 50, 50, 3)\n"
          ]
        },
        {
          "output_type": "execute_result",
          "data": {
            "text/plain": [
              "<matplotlib.image.AxesImage at 0x7f474292cc10>"
            ]
          },
          "metadata": {},
          "execution_count": 141
        },
        {
          "output_type": "display_data",
          "data": {
            "image/png": "[encoded data removed]",
            "text/plain": [
              "<Figure size 432x288 with 1 Axes>"
            ]
          },
          "metadata": {
            "needs_background": "light"
          }
        }
      ]
    },
    {
      "cell_type": "code",
      "metadata": {
        "colab": {
          "base_uri": "https://localhost:8080/"
        },
        "id": "mwzbo4jGHUoQ",
        "outputId": "468a7b50-5a67-4213-ebd4-6fff03af4f96"
      },
      "source": [
        "y_pred_img = model.predict(data)\n",
        "generate_report(data, y_pred_img)"
      ],
      "execution_count": 142,
      "outputs": [
        {
          "output_type": "execute_result",
          "data": {
            "text/plain": [
              "{'Mean probability across whole slide': 26.05,\n",
              " 'Number of high IDC probability patches': 19,\n",
              " 'Number of low IDC probability patches': 824,\n",
              " 'Number of medium IDC probability patches': 330,\n",
              " 'Number of no IDC patches': 2346}"
            ]
          },
          "metadata": {},
          "execution_count": 142
        }
      ]
    },
    {
      "cell_type": "code",
      "metadata": {
        "colab": {
          "base_uri": "https://localhost:8080/"
        },
        "id": "VYajgB2uEwEq",
        "outputId": "1a0e7bf2-b6d7-431b-960c-034cae0d94c5"
      },
      "source": [
        "img2 = Image.open('/content/drive/MyDrive/Colab Notebooks/S10-22167 B5_201304241131.png')\n",
        "img_array2 = np.array(img)\n",
        "img_array2.shape"
      ],
      "execution_count": 124,
      "outputs": [
        {
          "output_type": "execute_result",
          "data": {
            "text/plain": [
              "(2616, 3080, 3)"
            ]
          },
          "metadata": {},
          "execution_count": 124
        }
      ]
    },
    {
      "cell_type": "code",
      "metadata": {
        "id": "bt47TMeSEwe9"
      },
      "source": [
        "data2 = create_img_array(img2)/255\n",
        "y_pred_img2 = model.predict(data2)"
      ],
      "execution_count": 143,
      "outputs": []
    },
    {
      "cell_type": "code",
      "metadata": {
        "colab": {
          "base_uri": "https://localhost:8080/"
        },
        "id": "ZVLOGeXcEwnl",
        "outputId": "97029f6b-b368-4d3c-a80c-09e870408ae0"
      },
      "source": [
        "generate_report(data2, y_pred_img2)"
      ],
      "execution_count": 144,
      "outputs": [
        {
          "output_type": "execute_result",
          "data": {
            "text/plain": [
              "{'Mean probability across whole slide': 29.32,\n",
              " 'Number of high IDC probability patches': 20,\n",
              " 'Number of low IDC probability patches': 792,\n",
              " 'Number of medium IDC probability patches': 455,\n",
              " 'Number of no IDC patches': 2019}"
            ]
          },
          "metadata": {},
          "execution_count": 144
        }
      ]
    },
    {
      "cell_type": "code",
      "metadata": {
        "colab": {
          "base_uri": "https://localhost:8080/"
        },
        "id": "CQ4FJsxC20mK",
        "outputId": "a0d751fe-6cb5-410e-a788-9eb409abf405"
      },
      "source": [
        "a = generate_report(X_test, y_pred)\n",
        "a"
      ],
      "execution_count": 103,
      "outputs": [
        {
          "output_type": "execute_result",
          "data": {
            "text/plain": [
              "{'Mean probability across whole slide': 57.45,\n",
              " 'Number of high IDC probability patches': 249,\n",
              " 'Number of low IDC probability patches': 426,\n",
              " 'Number of medium IDC probability patches': 593,\n",
              " 'Number of no IDC patches': 397}"
            ]
          },
          "metadata": {},
          "execution_count": 103
        }
      ]
    },
    {
      "cell_type": "code",
      "metadata": {
        "id": "T0zSYVNz3Y22"
      },
      "source": [
        "b = model_diagnosis(X_test, y_pred)"
      ],
      "execution_count": 91,
      "outputs": []
    },
    {
      "cell_type": "markdown",
      "metadata": {
        "id": "4OScIbSyJ6Ex"
      },
      "source": [
        "Save and load model"
      ]
    },
    {
      "cell_type": "code",
      "metadata": {
        "id": "-MevFjEUGOE1"
      },
      "source": [
        "###################################\n",
        "#   RENAME YOUR MODEL EVERY TIME  #\n",
        "#     AVOID OVERWRITING MODELS    #\n",
        "###################################\n",
        "\n",
        "# From Elizabeth's Colab Notebook\n",
        "model.save('/content/drive/MyDrive/Colab Notebooks/model_final3.h5')\n",
        "\n",
        "# Local save\n",
        "#model.save('../models/model2.h5')"
      ],
      "execution_count": null,
      "outputs": []
    },
    {
      "cell_type": "code",
      "metadata": {
        "id": "mjVMuGtI83Tu",
        "colab": {
          "base_uri": "https://localhost:8080/"
        },
        "outputId": "a8b27dfc-39af-4cfc-fdbd-2d6badb8c480"
      },
      "source": [
        "model = load_model('/content/drive/MyDrive/Colab Notebooks/3x3 Kernel models/model.987-0.48.h5')\n",
        "model.summary()"
      ],
      "execution_count": 123,
      "outputs": [
        {
          "output_type": "stream",
          "name": "stdout",
          "text": [
            "Model: \"sequential_1\"\n",
            "_________________________________________________________________\n",
            " Layer (type)                Output Shape              Param #   \n",
            "=================================================================\n",
            " conv2d_2 (Conv2D)           (None, 48, 48, 100)       2800      \n",
            "                                                                 \n",
            " max_pooling2d_2 (MaxPooling  (None, 24, 24, 100)      0         \n",
            " 2D)                                                             \n",
            "                                                                 \n",
            " conv2d_3 (Conv2D)           (None, 22, 22, 200)       180200    \n",
            "                                                                 \n",
            " max_pooling2d_3 (MaxPooling  (None, 11, 11, 200)      0         \n",
            " 2D)                                                             \n",
            "                                                                 \n",
            " flatten_1 (Flatten)         (None, 24200)             0         \n",
            "                                                                 \n",
            " dense_2 (Dense)             (None, 16)                387216    \n",
            "                                                                 \n",
            " dropout_1 (Dropout)         (None, 16)                0         \n",
            "                                                                 \n",
            " dense_3 (Dense)             (None, 1)                 17        \n",
            "                                                                 \n",
            "=================================================================\n",
            "Total params: 570,233\n",
            "Trainable params: 570,233\n",
            "Non-trainable params: 0\n",
            "_________________________________________________________________\n"
          ]
        }
      ]
    },
    {
      "cell_type": "code",
      "metadata": {
        "id": "ft3cmvDKGZ3Y",
        "colab": {
          "base_uri": "https://localhost:8080/"
        },
        "outputId": "177d4f1f-dc7c-4a4c-dc9a-4602e84adbbc"
      },
      "source": [
        "!pip install visualkeras\n",
        "import visualkeras"
      ],
      "execution_count": null,
      "outputs": [
        {
          "output_type": "stream",
          "name": "stdout",
          "text": [
            "Collecting visualkeras\n",
            "  Downloading visualkeras-0.0.2-py3-none-any.whl (12 kB)\n",
            "Collecting aggdraw>=1.3.11\n",
            "  Downloading aggdraw-1.3.12-cp37-cp37m-manylinux2010_x86_64.whl (795 kB)\n",
            "\u001b[K     |████████████████████████████████| 795 kB 5.1 MB/s \n",
            "\u001b[?25hRequirement already satisfied: numpy>=1.18.1 in /usr/local/lib/python3.7/dist-packages (from visualkeras) (1.19.5)\n",
            "Requirement already satisfied: pillow>=6.2.0 in /usr/local/lib/python3.7/dist-packages (from visualkeras) (7.1.2)\n",
            "Installing collected packages: aggdraw, visualkeras\n",
            "Successfully installed aggdraw-1.3.12 visualkeras-0.0.2\n"
          ]
        }
      ]
    },
    {
      "cell_type": "code",
      "metadata": {
        "id": "dyCMNIeFmMHA"
      },
      "source": [
        "# visualkeras.layered_view(model2).show() # display using your system viewer\n",
        "# visualkeras.layered_view(model, to_file='output.png') # write to disk\n",
        "visualkeras.layered_view(model2, to_file='/content/drive/MyDrive/Colab Notebooks/model_final2_img.png').show()"
      ],
      "execution_count": null,
      "outputs": []
    },
    {
      "cell_type": "code",
      "metadata": {
        "id": "hOLz7Is1mcBF"
      },
      "source": [
        ""
      ],
      "execution_count": null,
      "outputs": []
    }
  ]
}