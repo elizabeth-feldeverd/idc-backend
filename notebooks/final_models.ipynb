{
  "nbformat": 4,
  "nbformat_minor": 0,
  "metadata": {
    "colab": {
      "name": "elizabeth_idc_2 (6).ipynb",
      "provenance": [],
      "collapsed_sections": []
    },
    "interpreter": {
      "hash": "1bcec20e031856e66832f97f5e73e129e97f9f232cab5408328b23f1e3c89823"
    },
    "kernelspec": {
      "display_name": "Python 3 (ipykernel)",
      "language": "python",
      "name": "python3"
    },
    "language_info": {
      "codemirror_mode": {
        "name": "ipython",
        "version": 3
      },
      "file_extension": ".py",
      "mimetype": "text/x-python",
      "name": "python",
      "nbconvert_exporter": "python",
      "pygments_lexer": "ipython3",
      "version": "3.8.12"
    },
    "toc": {
      "base_numbering": 1,
      "nav_menu": {},
      "number_sections": true,
      "sideBar": true,
      "skip_h1_title": false,
      "title_cell": "Table of Contents",
      "title_sidebar": "Contents",
      "toc_cell": false,
      "toc_position": {},
      "toc_section_display": true,
      "toc_window_display": false
    }
  },
  "cells": [
    {
      "cell_type": "markdown",
      "metadata": {
        "id": "pqgvHbpcGOEu"
      },
      "source": [
        "# Invasive Ductal Cancer"
      ]
    },
    {
      "cell_type": "code",
      "metadata": {
        "colab": {
          "base_uri": "https://localhost:8080/"
        },
        "id": "WubWNvJFGcaP",
        "outputId": "14a08b7d-0d8c-4645-ab22-8af96f1c3ec3"
      },
      "source": [
        "from google.colab import drive\n",
        "drive.mount('/content/drive')"
      ],
      "execution_count": null,
      "outputs": [
        {
          "output_type": "stream",
          "name": "stdout",
          "text": [
            "Mounted at /content/drive\n"
          ]
        }
      ]
    },
    {
      "cell_type": "code",
      "metadata": {
        "id": "oWpgoha_GOEw"
      },
      "source": [
        "import numpy as np\n",
        "import pandas as pd\n",
        "import matplotlib.pyplot as plt\n",
        "from PIL import Image\n",
        "from tensorflow.keras.optimizers import Adam, Adagrad\n",
        "from tensorflow.keras import models\n",
        "from tensorflow.keras import Sequential, layers\n",
        "from tensorflow.keras.metrics import Recall, Precision\n",
        "from tensorflow.keras.callbacks import EarlyStopping, ModelCheckpoint\n",
        "from sklearn.model_selection import train_test_split\n",
        "from sklearn.metrics import precision_recall_curve\n",
        "from sklearn.metrics import recall_score, precision_score, f1_score\n",
        "from keras.wrappers.scikit_learn import KerasClassifier\n",
        "from sklearn.model_selection import GridSearchCV\n",
        "from keras.models import load_model"
      ],
      "execution_count": null,
      "outputs": []
    },
    {
      "cell_type": "code",
      "metadata": {
        "id": "V-xfZxl9GOEx"
      },
      "source": [
        "# Running locally\n",
        "X = np.load('../idc/data/X.npy')\n",
        "y = np.load('../idc/data/Y.npy')"
      ],
      "execution_count": null,
      "outputs": []
    },
    {
      "cell_type": "code",
      "metadata": {
        "id": "H4EsAsPhHkSk"
      },
      "source": [
        "# Running in Colab\n",
        "X = np.load('/content/drive/MyDrive/Colab Notebooks/data/X.npy')\n",
        "y = np.load('/content/drive/MyDrive/Colab Notebooks/data/Y.npy')"
      ],
      "execution_count": null,
      "outputs": []
    },
    {
      "cell_type": "code",
      "metadata": {
        "colab": {
          "base_uri": "https://localhost:8080/"
        },
        "id": "DJQvisqoGOEx",
        "outputId": "ee9e3a6c-1bec-4daf-868e-46fe167cba21"
      },
      "source": [
        "X.shape"
      ],
      "execution_count": null,
      "outputs": [
        {
          "output_type": "execute_result",
          "data": {
            "text/plain": [
              "(5547, 50, 50, 3)"
            ]
          },
          "metadata": {},
          "execution_count": 149
        }
      ]
    },
    {
      "cell_type": "code",
      "metadata": {
        "colab": {
          "base_uri": "https://localhost:8080/"
        },
        "id": "BNtE-PI-GOEy",
        "outputId": "9973ede7-ef54-450a-b9f9-7276671811f4"
      },
      "source": [
        "y.shape"
      ],
      "execution_count": null,
      "outputs": [
        {
          "output_type": "execute_result",
          "data": {
            "text/plain": [
              "(5547,)"
            ]
          },
          "metadata": {},
          "execution_count": 150
        }
      ]
    },
    {
      "cell_type": "markdown",
      "metadata": {
        "id": "phIRGpKj_q79"
      },
      "source": [
        "## Data augmentation"
      ]
    },
    {
      "cell_type": "code",
      "metadata": {
        "id": "Y7O3r9Jc_qdn"
      },
      "source": [
        "from keras.preprocessing.image import ImageDataGenerator\n",
        "\n",
        "X_scaled = X/255\n",
        "X_train, X_test, y_train, y_test = train_test_split(X_scaled, y, test_size=0.3, random_state=1)\n",
        "\n",
        "# Instantiate image data generator\n",
        "datagen = ImageDataGenerator(rotation_range=90, validation_split=0.3)\n",
        "\n",
        "# Creates iterators for training images\n",
        "val_images = datagen.flow(X_train, y_train, subset='validation', batch_size=32)\n",
        "images = datagen.flow(X_train, y_train, subset='training', batch_size=32)\n",
        "\n",
        "# Generates a fixed number of augmented images\n",
        "# images, labels = next(datagen.flow(X_train, y_train, batch_size=X_train.shape[0]))\n",
        "\n",
        "# # Merge original X_train with augmented images\n",
        "# X_train = np.row_stack((X_train, images))\n",
        "# X_train.shape\n",
        "# \n",
        "# # Merge original y_train with augmented image labels\n",
        "# y_train = np.hstack((y_train, labels))\n",
        "# y_train.shape"
      ],
      "execution_count": null,
      "outputs": []
    },
    {
      "cell_type": "markdown",
      "metadata": {
        "id": "XI7WSW3oGOEz"
      },
      "source": [
        "## CNN Model Evaluation"
      ]
    },
    {
      "cell_type": "code",
      "metadata": {
        "id": "PjTg6SglGOEz"
      },
      "source": [
        "# Run only if you're not using data augmentation\n",
        "# X_scaled = X/255\n",
        "# X_train, X_test, y_train, y_test = train_test_split(X_scaled, y, test_size=0.3, random_state=1)"
      ],
      "execution_count": null,
      "outputs": []
    },
    {
      "cell_type": "code",
      "metadata": {
        "id": "fz9cQ3CTOV6Y"
      },
      "source": [
        "# Final Model 1 (Based on Janowczyk and Madabhushi 2016)\n",
        "# Recall:             0.849642\n",
        "# Precision:          0.713426\n",
        "# F1 score:           0.775599\n",
        "# Balanced Accuracy:  0.751906\n",
        "\n",
        "def init_model1(learning_rate=0.001):\n",
        "  model = models.Sequential()\n",
        "  model.add(layers.Conv2D(32, kernel_size=(2,2), input_shape=(50, 50, 3), activation=\"relu\"))\n",
        "  model.add(layers.MaxPooling2D(pool_size=(2,2)))\n",
        "  model.add(layers.Conv2D(32, kernel_size=(2,2), activation=\"relu\"))\n",
        "  model.add(layers.MaxPooling2D(pool_size=(2,2)))\n",
        "  model.add(layers.Conv2D(64, kernel_size=(2,2), activation=\"relu\"))\n",
        "  model.add(layers.MaxPooling2D(pool_size=(2,2)))\n",
        "  model.add(layers.Flatten())\n",
        "  model.add(layers.Dense(64))\n",
        "  model.add(layers.Dropout(0.4))\n",
        "  model.add(layers.Dense(16))\n",
        "  model.add(layers.Dropout(0.4))\n",
        "  model.add(layers.Dense(1, activation='sigmoid'))\n",
        "  optimizer = Adagrad(learning_rate=learning_rate)\n",
        "  model.compile(loss='binary_crossentropy',\n",
        "              optimizer=optimizer,\n",
        "              metrics=['accuracy', Recall(thresholds=0.35), Precision(thresholds=0.35)])\n",
        " \n",
        "  return model"
      ],
      "execution_count": null,
      "outputs": []
    },
    {
      "cell_type": "code",
      "metadata": {
        "id": "odo6c9uNSLXu"
      },
      "source": [
        "# Final Model 3 (Elizabeth's version)\n",
        "# Recall:             0.849642\n",
        "# Precision:          0.729508\n",
        "# F1 score:           0.785005\n",
        "# Balanced Accuracy:  0.765207\n",
        "\n",
        "def init_model3(learning_rate=0.001):\n",
        "  model = models.Sequential()\n",
        "  model.add(layers.Conv2D(100, kernel_size=(3,3), input_shape=(50, 50, 3), activation=\"relu\"))\n",
        "  model.add(layers.MaxPooling2D(pool_size=(2,2)))\n",
        "  model.add(layers.Conv2D(200, kernel_size=(3,3), activation=\"relu\"))\n",
        "  model.add(layers.MaxPooling2D(pool_size=(2,2)))\n",
        "  model.add(layers.Flatten())\n",
        "  model.add(layers.Dense(16))\n",
        "  model.add(layers.Dropout(0.4))\n",
        "  model.add(layers.Dense(1, activation='sigmoid'))\n",
        "  optimizer = Adagrad(learning_rate=learning_rate)\n",
        "  model.compile(loss='binary_crossentropy',\n",
        "              optimizer=optimizer,\n",
        "              metrics=['accuracy', Recall(thresholds=0.45), Precision(thresholds=0.45)])\n",
        " \n",
        "  return model"
      ],
      "execution_count": null,
      "outputs": []
    },
    {
      "cell_type": "code",
      "metadata": {
        "colab": {
          "base_uri": "https://localhost:8080/"
        },
        "id": "SIPrXv4oHnIi",
        "outputId": "508b1f02-2d9d-49ba-b3b0-b59b1520b798"
      },
      "source": [
        "model = init_model3()\n",
        "model.summary()"
      ],
      "execution_count": null,
      "outputs": [
        {
          "output_type": "stream",
          "name": "stdout",
          "text": [
            "Model: \"sequential\"\n",
            "_________________________________________________________________\n",
            " Layer (type)                Output Shape              Param #   \n",
            "=================================================================\n",
            " conv2d (Conv2D)             (None, 48, 48, 100)       2800      \n",
            "                                                                 \n",
            " max_pooling2d (MaxPooling2D  (None, 24, 24, 100)      0         \n",
            " )                                                               \n",
            "                                                                 \n",
            " conv2d_1 (Conv2D)           (None, 22, 22, 200)       180200    \n",
            "                                                                 \n",
            " max_pooling2d_1 (MaxPooling  (None, 11, 11, 200)      0         \n",
            " 2D)                                                             \n",
            "                                                                 \n",
            " flatten (Flatten)           (None, 24200)             0         \n",
            "                                                                 \n",
            " dense (Dense)               (None, 16)                387216    \n",
            "                                                                 \n",
            " dropout (Dropout)           (None, 16)                0         \n",
            "                                                                 \n",
            " dense_1 (Dense)             (None, 1)                 17        \n",
            "                                                                 \n",
            "=================================================================\n",
            "Total params: 570,233\n",
            "Trainable params: 570,233\n",
            "Non-trainable params: 0\n",
            "_________________________________________________________________\n"
          ]
        }
      ]
    },
    {
      "cell_type": "code",
      "metadata": {
        "id": "OtwJBvz6japV"
      },
      "source": [
        "# Training\n",
        "# model = init_model3()\n",
        "# mc = ModelCheckpoint(filepath='/content/drive/MyDrive/Colab Notebooks/model.{epoch:02d}-{val_loss:.2f}.h5', \n",
        "#                      monitor='val_loss', mode='min', save_best_only=True)\n",
        "# history = model.fit(images,\n",
        "#           validation_data=val_images,\n",
        "#           epochs=1000,\n",
        "#           batch_size=64, \n",
        "#           verbose=1,\n",
        "#           callbacks=mc)"
      ],
      "execution_count": null,
      "outputs": []
    },
    {
      "cell_type": "code",
      "metadata": {
        "colab": {
          "base_uri": "https://localhost:8080/"
        },
        "id": "zUltJL6je5Ce",
        "outputId": "091803ee-6c08-4a4c-e7f7-779ecae1a94f"
      },
      "source": [
        "y_pred = model.predict(X_test)\n",
        "model.evaluate(X_test, y_test)"
      ],
      "execution_count": null,
      "outputs": [
        {
          "output_type": "stream",
          "name": "stdout",
          "text": [
            "53/53 [==============================] - 6s 120ms/step - loss: 0.4862 - accuracy: 0.7730 - recall_1: 0.8974 - precision_1: 0.6861\n"
          ]
        },
        {
          "output_type": "execute_result",
          "data": {
            "text/plain": [
              "[0.4861617088317871, 0.7729730010032654, 0.89737468957901, 0.6861313581466675]"
            ]
          },
          "metadata": {},
          "execution_count": 33
        }
      ]
    },
    {
      "cell_type": "code",
      "metadata": {
        "colab": {
          "base_uri": "https://localhost:8080/",
          "height": 282
        },
        "id": "bWXrZnv9XPVM",
        "outputId": "dfbf9861-1eea-4ddf-d0bc-3443f47fe865"
      },
      "source": [
        "plt.plot(history.history['recall'], label='recall')\n",
        "plt.plot(history.history['val_recall'], label='val_recall')\n",
        "plt.legend()"
      ],
      "execution_count": null,
      "outputs": [
        {
          "output_type": "execute_result",
          "data": {
            "text/plain": [
              "<matplotlib.legend.Legend at 0x7f5faa106ad0>"
            ]
          },
          "metadata": {},
          "execution_count": 12
        },
        {
          "output_type": "display_data",
          "data": {
            "image/png": "[encoded data removed]",
            "text/plain": [
              "<Figure size 432x288 with 1 Axes>"
            ]
          },
          "metadata": {
            "needs_background": "light"
          }
        }
      ]
    },
    {
      "cell_type": "code",
      "metadata": {
        "colab": {
          "base_uri": "https://localhost:8080/",
          "height": 286
        },
        "id": "We61eQl8X7qN",
        "outputId": "afbc379f-3144-4b1d-85b3-c45edfd3e74e"
      },
      "source": [
        "plt.plot(history.history['loss'], label='loss')\n",
        "plt.plot(history.history['val_loss'], label='val_loss')\n",
        "plt.legend()"
      ],
      "execution_count": null,
      "outputs": [
        {
          "output_type": "execute_result",
          "data": {
            "text/plain": [
              "<matplotlib.legend.Legend at 0x7f5f94273b90>"
            ]
          },
          "metadata": {},
          "execution_count": 13
        },
        {
          "output_type": "display_data",
          "data": {
            "image/png": "[encoded data removed]",
            "text/plain": [
              "<Figure size 432x288 with 1 Axes>"
            ]
          },
          "metadata": {
            "needs_background": "light"
          }
        }
      ]
    },
    {
      "cell_type": "markdown",
      "metadata": {
        "id": "63HyZ98TJzzH"
      },
      "source": [
        "Precision Recall Curve"
      ]
    },
    {
      "cell_type": "code",
      "metadata": {
        "colab": {
          "base_uri": "https://localhost:8080/"
        },
        "id": "tcptdSSHKWdU",
        "outputId": "8671e63e-feea-4eac-d7dd-449d4583116d"
      },
      "source": [
        "precision, recall, threshold = precision_recall_curve(y_test, y_pred) \n",
        "\n",
        "print(f'precision- {precision[:5]}')\n",
        "print(f'recall- {recall[:5]}')\n",
        "print(f'threshold- {threshold[:5]}')"
      ],
      "execution_count": null,
      "outputs": [
        {
          "output_type": "stream",
          "name": "stdout",
          "text": [
            "precision- [0.51505839 0.51476015 0.51507692 0.51539409 0.51571165]\n",
            "recall- [1.         0.99880668 0.99880668 0.99880668 0.99880668]\n",
            "threshold- [0.07750788 0.07837304 0.07916176 0.07949072 0.08222136]\n"
          ]
        }
      ]
    },
    {
      "cell_type": "code",
      "metadata": {
        "colab": {
          "base_uri": "https://localhost:8080/",
          "height": 206
        },
        "id": "8ClkwKDVMvHN",
        "outputId": "2a4b360c-f503-46ae-eae8-f21a436aefb5"
      },
      "source": [
        "scores = pd.DataFrame({'threshold':threshold,\n",
        "                       'precision': precision[:-1],\n",
        "                       'recall':recall[:-1]})\n",
        "scores.head()"
      ],
      "execution_count": null,
      "outputs": [
        {
          "output_type": "execute_result",
          "data": {
            "text/html": [
              "<div>\n",
              "<style scoped>\n",
              "    .dataframe tbody tr th:only-of-type {\n",
              "        vertical-align: middle;\n",
              "    }\n",
              "\n",
              "    .dataframe tbody tr th {\n",
              "        vertical-align: top;\n",
              "    }\n",
              "\n",
              "    .dataframe thead th {\n",
              "        text-align: right;\n",
              "    }\n",
              "</style>\n",
              "<table border=\"1\" class=\"dataframe\">\n",
              "  <thead>\n",
              "    <tr style=\"text-align: right;\">\n",
              "      <th></th>\n",
              "      <th>threshold</th>\n",
              "      <th>precision</th>\n",
              "      <th>recall</th>\n",
              "    </tr>\n",
              "  </thead>\n",
              "  <tbody>\n",
              "    <tr>\n",
              "      <th>0</th>\n",
              "      <td>0.077508</td>\n",
              "      <td>0.515058</td>\n",
              "      <td>1.000000</td>\n",
              "    </tr>\n",
              "    <tr>\n",
              "      <th>1</th>\n",
              "      <td>0.078373</td>\n",
              "      <td>0.514760</td>\n",
              "      <td>0.998807</td>\n",
              "    </tr>\n",
              "    <tr>\n",
              "      <th>2</th>\n",
              "      <td>0.079162</td>\n",
              "      <td>0.515077</td>\n",
              "      <td>0.998807</td>\n",
              "    </tr>\n",
              "    <tr>\n",
              "      <th>3</th>\n",
              "      <td>0.079491</td>\n",
              "      <td>0.515394</td>\n",
              "      <td>0.998807</td>\n",
              "    </tr>\n",
              "    <tr>\n",
              "      <th>4</th>\n",
              "      <td>0.082221</td>\n",
              "      <td>0.515712</td>\n",
              "      <td>0.998807</td>\n",
              "    </tr>\n",
              "  </tbody>\n",
              "</table>\n",
              "</div>"
            ],
            "text/plain": [
              "   threshold  precision    recall\n",
              "0   0.077508   0.515058  1.000000\n",
              "1   0.078373   0.514760  0.998807\n",
              "2   0.079162   0.515077  0.998807\n",
              "3   0.079491   0.515394  0.998807\n",
              "4   0.082221   0.515712  0.998807"
            ]
          },
          "metadata": {},
          "execution_count": 35
        }
      ]
    },
    {
      "cell_type": "code",
      "metadata": {
        "colab": {
          "base_uri": "https://localhost:8080/",
          "height": 296
        },
        "id": "zaxkGtl9MyEd",
        "outputId": "96e71fef-5bf3-45cb-c083-758c8b7670b9"
      },
      "source": [
        "plt.plot(scores['recall'],scores['precision'])\n",
        "plt.ylabel('precision')\n",
        "plt.xlabel('recall')"
      ],
      "execution_count": null,
      "outputs": [
        {
          "output_type": "execute_result",
          "data": {
            "text/plain": [
              "Text(0.5, 0, 'recall')"
            ]
          },
          "metadata": {},
          "execution_count": 36
        },
        {
          "output_type": "display_data",
          "data": {
            "image/png": "[encoded data removed]",
            "text/plain": [
              "<Figure size 432x288 with 1 Axes>"
            ]
          },
          "metadata": {
            "needs_background": "light"
          }
        }
      ]
    },
    {
      "cell_type": "code",
      "metadata": {
        "colab": {
          "base_uri": "https://localhost:8080/"
        },
        "id": "OOMT2oWfM5KQ",
        "outputId": "950976fc-1348-4f5f-faa8-5ff0b70a3d06"
      },
      "source": [
        "# Find threshold that guarantees 0.85 recall score\n",
        "threshold = scores[scores['recall'] >= 0.85].threshold.max()\n",
        "threshold"
      ],
      "execution_count": null,
      "outputs": [
        {
          "output_type": "execute_result",
          "data": {
            "text/plain": [
              "0.5076203346252441"
            ]
          },
          "metadata": {},
          "execution_count": 37
        }
      ]
    },
    {
      "cell_type": "markdown",
      "metadata": {
        "id": "Gh861cOQeZXD"
      },
      "source": [
        "Predict using test data"
      ]
    },
    {
      "cell_type": "code",
      "metadata": {
        "id": "VQ5LwoPAc3SU"
      },
      "source": [
        "from sklearn.metrics import balanced_accuracy_score"
      ],
      "execution_count": null,
      "outputs": []
    },
    {
      "cell_type": "code",
      "metadata": {
        "colab": {
          "base_uri": "https://localhost:8080/"
        },
        "id": "y0SyoQi7prOe",
        "outputId": "8894a35c-ee3f-4712-a1df-2311ba353232"
      },
      "source": [
        "def binary_predict(y_pred, custom_threshold=0.45):\n",
        "    return (y_pred > custom_threshold).astype(int)\n",
        "\n",
        "updated_preds = binary_predict(y_pred, custom_threshold=threshold)\n",
        "\n",
        "print(f'Recall:             {recall_score(y_test, updated_preds)}')\n",
        "print(f'Precision:          {precision_score(y_test, updated_preds)}')\n",
        "print(f'F1 score:           {f1_score(y_test, updated_preds)}')\n",
        "print(f'Balanced Accuracy:  {balanced_accuracy_score(y_test, updated_preds)}')"
      ],
      "execution_count": null,
      "outputs": [
        {
          "output_type": "stream",
          "name": "stdout",
          "text": [
            "Recall:             0.8496420047732697\n",
            "Precision:          0.740894901144641\n",
            "F1 score:           0.791550861589772\n",
            "Balanced Accuracy:  0.7742768669573725\n"
          ]
        }
      ]
    },
    {
      "cell_type": "markdown",
      "metadata": {
        "id": "4OScIbSyJ6Ex"
      },
      "source": [
        "Save and load model"
      ]
    },
    {
      "cell_type": "code",
      "metadata": {
        "id": "-MevFjEUGOE1"
      },
      "source": [
        "# From Elizabeth's Colab Notebook\n",
        "model.save('/content/drive/MyDrive/Colab Notebooks/model_final3.h5')\n",
        "\n",
        "# Local save\n",
        "# model.save('../models/model2.h5')"
      ],
      "execution_count": null,
      "outputs": []
    },
    {
      "cell_type": "code",
      "metadata": {
        "id": "mjVMuGtI83Tu",
        "colab": {
          "base_uri": "https://localhost:8080/"
        },
        "outputId": "7db1cec7-d662-4431-f71d-40b6582a2330"
      },
      "source": [
        "model = load_model('/content/drive/MyDrive/Colab Notebooks/model_final3.h5')\n",
        "model.summary()"
      ],
      "execution_count": null,
      "outputs": [
        {
          "output_type": "stream",
          "name": "stdout",
          "text": [
            "Model: \"sequential_1\"\n",
            "_________________________________________________________________\n",
            " Layer (type)                Output Shape              Param #   \n",
            "=================================================================\n",
            " conv2d_2 (Conv2D)           (None, 48, 48, 100)       2800      \n",
            "                                                                 \n",
            " max_pooling2d_2 (MaxPooling  (None, 24, 24, 100)      0         \n",
            " 2D)                                                             \n",
            "                                                                 \n",
            " conv2d_3 (Conv2D)           (None, 22, 22, 200)       180200    \n",
            "                                                                 \n",
            " max_pooling2d_3 (MaxPooling  (None, 11, 11, 200)      0         \n",
            " 2D)                                                             \n",
            "                                                                 \n",
            " flatten_1 (Flatten)         (None, 24200)             0         \n",
            "                                                                 \n",
            " dense_2 (Dense)             (None, 16)                387216    \n",
            "                                                                 \n",
            " dropout_1 (Dropout)         (None, 16)                0         \n",
            "                                                                 \n",
            " dense_3 (Dense)             (None, 1)                 17        \n",
            "                                                                 \n",
            "=================================================================\n",
            "Total params: 570,233\n",
            "Trainable params: 570,233\n",
            "Non-trainable params: 0\n",
            "_________________________________________________________________\n"
          ]
        }
      ]
    },
    {
      "cell_type": "markdown",
      "metadata": {
        "id": "1cn-QwI_M72i"
      },
      "source": [
        "Create model visualization"
      ]
    },
    {
      "cell_type": "code",
      "metadata": {
        "id": "ft3cmvDKGZ3Y",
        "colab": {
          "base_uri": "https://localhost:8080/"
        },
        "outputId": "177d4f1f-dc7c-4a4c-dc9a-4602e84adbbc"
      },
      "source": [
        "!pip install visualkeras\n",
        "import visualkeras"
      ],
      "execution_count": null,
      "outputs": [
        {
          "output_type": "stream",
          "name": "stdout",
          "text": [
            "Collecting visualkeras\n",
            "  Downloading visualkeras-0.0.2-py3-none-any.whl (12 kB)\n",
            "Collecting aggdraw>=1.3.11\n",
            "  Downloading aggdraw-1.3.12-cp37-cp37m-manylinux2010_x86_64.whl (795 kB)\n",
            "\u001b[K     |████████████████████████████████| 795 kB 5.1 MB/s \n",
            "\u001b[?25hRequirement already satisfied: numpy>=1.18.1 in /usr/local/lib/python3.7/dist-packages (from visualkeras) (1.19.5)\n",
            "Requirement already satisfied: pillow>=6.2.0 in /usr/local/lib/python3.7/dist-packages (from visualkeras) (7.1.2)\n",
            "Installing collected packages: aggdraw, visualkeras\n",
            "Successfully installed aggdraw-1.3.12 visualkeras-0.0.2\n"
          ]
        }
      ]
    },
    {
      "cell_type": "code",
      "metadata": {
        "id": "dyCMNIeFmMHA"
      },
      "source": [
        "visualkeras.layered_view(model2, to_file='/content/drive/MyDrive/Colab Notebooks/model_final2_img.png').show()"
      ],
      "execution_count": null,
      "outputs": []
    }
  ]
}